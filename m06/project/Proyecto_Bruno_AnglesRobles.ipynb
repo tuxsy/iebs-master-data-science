{
 "cells": [
  {
   "cell_type": "markdown",
   "metadata": {
    "id": "Wt8CRU2dPBKL"
   },
   "source": [
    "# Datos del alumno\n",
    "\n",
    "**Nombre**: Bruno\n",
    "\n",
    "\n",
    "**Apellidos**: Anglés Robles\n",
    "\n",
    "\n",
    "**Grupo:** B2"
   ]
  },
  {
   "cell_type": "markdown",
   "metadata": {
    "id": "TavneBS6aYu6"
   },
   "source": [
    "# Introducción\n",
    "\n",
    "Esta es la Fase 4 del proyecto que he venido desarrollando durante el curso de Aprendizaje Supervisado II.\n",
    "\n",
    "El objetivo de esta fase es mejorar los resultados del proyecto aplicando técnicas de búsqueda exhaustiva (Grid Search) o búsqueda aleatoria (Random Search), y estudio de la simplificación del modelo final elegido, utilizando la información que nos aporta la importancia de los atributos (feature_importance) de los algoritmos de tipo combinación de clasificadores (Ensembles).\n",
    "\n",
    "\n",
    "**En concreto se pide lo siguiente:**\n",
    "\n",
    "- Partiendo de la información obtenida en el sprint 3 sobre las variables más importantes para el modelo de conjunto elegido, re-entrenar dicho modelo utilizando las variables más importantes y discutir las diferencias apreciadas tanto en calidad de las predicciones como en velocidad de entrenamiento.\n",
    "- Definir el rango de valores posibles para al menos dos hiperparámetros del mejor modelo elegido de los sprints anteriores, y utilizar la clase GridSearchCV o RandomizedSearchCV para encontrar la combinación de los mismos que da el mejor resultado para la métrica de puntuación que se define.\n",
    "- Analizar, discutir y comparar los resultados obtenidos por las diferentes combinaciones de hiperparámetros y dejar reflejadas las conclusiones obtenidas en el cuaderno que se entregue.\n",
    "- Todas las conclusiones extraídas deben estar soportadas por métricas o visualizaciones (curva ROC, matriz de confusión, etc.) que justifican lo que se está defendiendo.\n",
    "- **Fase adicional:**  Probar alguna técnica de muestreo para el manejo del balanceo de las clases (under-sampling, over-sampling, etc.) y comprobar si mejoran o empeoran los resultados obtenidos por el mejor modelo seleccionado en los sprints anteriores.  \n",
    "\n",
    "\n",
    "Este cuaderno es una continuación del que se desarrolló en los sprints 1, 2 y 3\n",
    "\n",
    "- Enlace Google Colab: [Sprint 1](https://colab.research.google.com/drive/1E_PXauQA95SVK2Y19QILm8avfqGFdm9U?usp=sharing), [Sprint 2](https://colab.research.google.com/drive/1GAhs1dnr50ULcBYIsxMbl3vgw5CgRItz?usp=share_link), [Sprint 3](https://colab.research.google.com/drive/1GhukOPPthq9-DlBdi54ZX5F353Z11se9?usp=share_link)\n",
    "- Enlace Github: [Sprint 1](https://github.com/tuxsy/iebs-master-data-science/blob/main/m06/c1/sprint/Sprint1_Bruno_AnglesRobles.ipynb), [Sprint 2](https://github.com/tuxsy/iebs-master-data-science/blob/main/m06/c2/sprint/Sprint2_Bruno_Angl%C3%A9sRobles_ipynb.ipynb), [Sprint 3](https://github.com/tuxsy/iebs-master-data-science/blob/main/m06/c3/sprint/Sprint3_Bruno_AnglesRobles.ipynb)\n"
   ]
  },
  {
   "cell_type": "markdown",
   "metadata": {},
   "source": [
    "## Resumen de anteriores fases"
   ]
  },
  {
   "cell_type": "markdown",
   "metadata": {},
   "source": [
    "**FASE 1: Análisis descriptivo y entrenamiento de los dos primeros modelos**\n",
    "\n",
    "En esta primera fase realicé un análisis descriptivo de las variables, tanto individual como en conjunto, y entrené dos modelos diferentes\n",
    "\n",
    "- KNN\n",
    "- Regresión Logística\n",
    "\n",
    "Para comparar los dos modelos usamos las siguientes métricas\n",
    "\n",
    "- Accuracy\n",
    "- Curva ROC y AUC\n",
    "- F1-score de la lase positiva, ya que en este problema nos interesa que el modelo sea mejor prediciendo si el candidato Abandonará o no.\n",
    "- Recall de la clase positiva, ya que es preferible tener falsos positivos (el modelo predice abandono y se equivoca) que falsos negativos (el modelo predice que el candidato se queda y abandona)\n",
    "\n",
    "KNN resultó ser el mejor modelo en esta fase según todas las métricas.\n",
    "\n",
    "Enlaces: [Google Colab](https://colab.research.google.com/drive/1E_PXauQA95SVK2Y19QILm8avfqGFdm9U?usp=sharing), [Github](https://github.com/tuxsy/iebs-master-data-science/blob/main/m06/c1/sprint/Sprint1_Bruno_AnglesRobles.ipynb)"
   ]
  },
  {
   "cell_type": "code",
   "execution_count": 1,
   "metadata": {},
   "outputs": [],
   "source": [
    "metrics_summary = [\n",
    "    {\"sprint\": 1, \"model\": \"KNN\",\n",
    "    \"accuracy\":0.93, \"auc\": 0.96, \"f1-score\": 0.86, \"recall\": 0.88,\n",
    "    \"hyperparameters\": {\"n_neighbors\": 5}},\n",
    "    \n",
    "    {\"sprint\": 1, \"model\": \"Logistic Regression\",\n",
    "    \"accuracy\":0.79, \"auc\": 0.81, \"f1-score\": 0.43, \"recall\": 0.34,\n",
    "    \"hyperparameters\": dict(C=4, solver='lbfgs', tol=0.14, max_iter=260,fit_intercept=True)},\n",
    "]"
   ]
  },
  {
   "cell_type": "markdown",
   "metadata": {},
   "source": [
    "**FASE 2. Entrenar tres árboles de decisión**\n",
    "\n",
    "En esta fase se prioriza por la explicabilidad de los modelos y para ello entreno tres árboles de decisión, uno sin ningún criterio de poda y dos con distintos hiperparámetros.\n",
    "\n",
    "Para comparar el mejor modelo se usan las mismas métricas que en la Fase 1, pero además se analiza visualmente el árbol resultante priorizando por\n",
    "\n",
    "- una profundidad del árbol manejable, ya que queremos que sea simple de explicar\n",
    "- el número de muestras en las hojas, si este número es muy bajo indica que el árbol se ha sobreajustado\n",
    "\n",
    "Según este análisis el primer árbol (sin hiperparámetros) queda descartado ya que sufre de sobreajuste y de demasiada profundidad.\n",
    "\n",
    "Tras entrenar con distintos hiperparámetros se elige el segundo árbol y este resulta tener mayor capacidad predictiva que el KNN de la fase anterior.\n",
    "\n",
    "Enlaces: [Google Clolab](https://colab.research.google.com/drive/1GAhs1dnr50ULcBYIsxMbl3vgw5CgRItz?usp=share_link), [Github](https://github.com/tuxsy/iebs-master-data-science/blob/main/m06/c2/sprint/Sprint2_Bruno_Angl%C3%A9sRobles_ipynb.ipynb), "
   ]
  },
  {
   "cell_type": "code",
   "execution_count": 2,
   "metadata": {},
   "outputs": [],
   "source": [
    "metrics_summary.append({\"sprint\": 2, \"model\": \"Decission Tree #2\",\n",
    "    \"accuracy\":0.97, \"auc\": 0.97, \"f1-score\": 0.93, \"recall\": 0.93,\n",
    "    \"hyperparameters\": {\"max_depth\":4}})\n",
    "\n",
    "metrics_summary.append({\"sprint\": 2, \"model\": \"Decission Tree #3\",\n",
    "    \"accuracy\":0.96, \"auc\": 0.97, \"f1-score\": 0.93, \"recall\": 0.92,\n",
    "    \"hyperparameters\": {'max_depth': 4,'criterion': 'entropy', 'max_features': 16, \n",
    "                        'min_samples_leaf': 15, 'min_samples_split': 69}})"
   ]
  },
  {
   "cell_type": "markdown",
   "metadata": {},
   "source": [
    "**FASE 3: Entrenar 2 tipos diferentes de Ensembles**\n",
    "\n",
    "Llegados a esta fase el Cliente está satisfecho con los árboles de decisión y nos pide si podemos mejorar los modelos de algún modo. Para ello pruebo con un algoritmo de Bagging (Random Forest) y otro de Boosting(Gradient Boosting), probando distintos hiperparámetros para cada uno.\n",
    "\n",
    "Para buscar los mejores hiperparámetros me apoyo en una combinación de Random Search + Grid Search. Además se ha empleado la técnica de StratifyedKFold para realizar una validación cruzada.\n",
    "\n",
    "En esta ocasión el mejor poder de predicción lo conseguí con el primer modelo de Gradient Boosting.\n",
    "\n",
    "Como curiosidad, el primer algoritmo de Bagging entrenado (Random Forest #1) tuvo peores métricas que el peor de los árboles de decisión. Dado que Random Forest usa árboles de decisión como *weak learners* ¿cómo se pueden interpretar unas peores métricas?\n",
    "\n",
    "Probablemente sea a que los árboles de decisión de la segunda fase no fueran lo suficientemente robustos. Hay que tener en cuenta que en esta fase hemos empleado una validación cruzada adaptada a la naturaleza desbalanceada del dataset.\n",
    "\n",
    "Enlaces: [Google Colab](https://colab.research.google.com/drive/1GhukOPPthq9-DlBdi54ZX5F353Z11se9?usp=share_link), [Github](https://github.com/tuxsy/iebs-master-data-science/blob/main/m06/c3/sprint/Sprint3_Bruno_AnglesRobles.ipynb)"
   ]
  },
  {
   "cell_type": "code",
   "execution_count": 3,
   "metadata": {},
   "outputs": [],
   "source": [
    "metrics_summary.append({\"sprint\": 3, \"model\": \"Random Forest #1\",\n",
    "    \"accuracy\":0.92, \"auc\": 0.98, \"f1-score\": 0.80, \"recall\": 0.67,\n",
    "    \"hyperparameters\": dict(max_depth = 4,n_estimators=100)})\n",
    "\n",
    "metrics_summary.append({\"sprint\": 3, \"model\": \"Random Forest #2\",\n",
    "    \"accuracy\":0.98, \"auc\": 0.99, \"f1-score\": 0.96, \"recall\": 0.92,\n",
    "    \"hyperparameters\": {'bootstrap': False,\n",
    "                         'max_depth': 9,\n",
    "                         'max_features': 'sqrt',\n",
    "                         'min_samples_leaf': 1,\n",
    "                         'min_samples_split': 4,\n",
    "                         'n_estimators': 201}})\n",
    "\n",
    "metrics_summary.append({\"sprint\": 3, \"model\": \"Gradient Boosting #1\",\n",
    "    \"accuracy\":0.99, \"auc\": 0.99, \"f1-score\": 0.97, \"recall\": 0.96,\n",
    "    \"hyperparameters\": dict(\n",
    "        n_estimators=201,\n",
    "        max_depth=9,\n",
    "        max_features=\"sqrt\",\n",
    "        min_samples_leaf=1,\n",
    "        min_samples_split=4,\n",
    "        validation_fraction=0.2,\n",
    "        n_iter_no_change=5,\n",
    "        tol=0.001\n",
    "    )})\n",
    "\n",
    "metrics_summary.append({\"sprint\": 3, \"model\": \"Gradient Boosting #2\",\n",
    "    \"accuracy\":0.99, \"auc\": 0.99, \"f1-score\": 0.97, \"recall\": 0.96,\n",
    "    \"hyperparameters\": {\n",
    "        'learning_rate': 0.4,\n",
    "        'max_features': 17,\n",
    "        'min_samples_leaf': 3,\n",
    "        'min_samples_split': 9,\n",
    "        'n_estimators': 553 ,\n",
    "        'validation_fraction': 0.2,\n",
    "        'n_iter_no_change': 5,\n",
    "        'tol': 0.001\n",
    "    }})"
   ]
  },
  {
   "cell_type": "code",
   "execution_count": 4,
   "metadata": {},
   "outputs": [
    {
     "data": {
      "text/html": [
       "<div>\n",
       "<style scoped>\n",
       "    .dataframe tbody tr th:only-of-type {\n",
       "        vertical-align: middle;\n",
       "    }\n",
       "\n",
       "    .dataframe tbody tr th {\n",
       "        vertical-align: top;\n",
       "    }\n",
       "\n",
       "    .dataframe thead th {\n",
       "        text-align: right;\n",
       "    }\n",
       "</style>\n",
       "<table border=\"1\" class=\"dataframe\">\n",
       "  <thead>\n",
       "    <tr style=\"text-align: right;\">\n",
       "      <th></th>\n",
       "      <th>sprint</th>\n",
       "      <th>model</th>\n",
       "      <th>accuracy</th>\n",
       "      <th>auc</th>\n",
       "      <th>f1-score</th>\n",
       "      <th>recall</th>\n",
       "      <th>hyperparameters</th>\n",
       "    </tr>\n",
       "  </thead>\n",
       "  <tbody>\n",
       "    <tr>\n",
       "      <th>6</th>\n",
       "      <td>3</td>\n",
       "      <td>Gradient Boosting #1</td>\n",
       "      <td>0.99</td>\n",
       "      <td>0.99</td>\n",
       "      <td>0.97</td>\n",
       "      <td>0.96</td>\n",
       "      <td>{'n_estimators': 201, 'max_depth': 9, 'max_fea...</td>\n",
       "    </tr>\n",
       "    <tr>\n",
       "      <th>7</th>\n",
       "      <td>3</td>\n",
       "      <td>Gradient Boosting #2</td>\n",
       "      <td>0.99</td>\n",
       "      <td>0.99</td>\n",
       "      <td>0.97</td>\n",
       "      <td>0.96</td>\n",
       "      <td>{'learning_rate': 0.4, 'max_features': 17, 'mi...</td>\n",
       "    </tr>\n",
       "    <tr>\n",
       "      <th>5</th>\n",
       "      <td>3</td>\n",
       "      <td>Random Forest #2</td>\n",
       "      <td>0.98</td>\n",
       "      <td>0.99</td>\n",
       "      <td>0.96</td>\n",
       "      <td>0.92</td>\n",
       "      <td>{'bootstrap': False, 'max_depth': 9, 'max_feat...</td>\n",
       "    </tr>\n",
       "    <tr>\n",
       "      <th>2</th>\n",
       "      <td>2</td>\n",
       "      <td>Decission Tree #2</td>\n",
       "      <td>0.97</td>\n",
       "      <td>0.97</td>\n",
       "      <td>0.93</td>\n",
       "      <td>0.93</td>\n",
       "      <td>{'max_depth': 4}</td>\n",
       "    </tr>\n",
       "    <tr>\n",
       "      <th>3</th>\n",
       "      <td>2</td>\n",
       "      <td>Decission Tree #3</td>\n",
       "      <td>0.96</td>\n",
       "      <td>0.97</td>\n",
       "      <td>0.93</td>\n",
       "      <td>0.92</td>\n",
       "      <td>{'max_depth': 4, 'criterion': 'entropy', 'max_...</td>\n",
       "    </tr>\n",
       "    <tr>\n",
       "      <th>0</th>\n",
       "      <td>1</td>\n",
       "      <td>KNN</td>\n",
       "      <td>0.93</td>\n",
       "      <td>0.96</td>\n",
       "      <td>0.86</td>\n",
       "      <td>0.88</td>\n",
       "      <td>{'n_neighbors': 5}</td>\n",
       "    </tr>\n",
       "    <tr>\n",
       "      <th>4</th>\n",
       "      <td>3</td>\n",
       "      <td>Random Forest #1</td>\n",
       "      <td>0.92</td>\n",
       "      <td>0.98</td>\n",
       "      <td>0.80</td>\n",
       "      <td>0.67</td>\n",
       "      <td>{'max_depth': 4, 'n_estimators': 100}</td>\n",
       "    </tr>\n",
       "    <tr>\n",
       "      <th>1</th>\n",
       "      <td>1</td>\n",
       "      <td>Logistic Regression</td>\n",
       "      <td>0.79</td>\n",
       "      <td>0.81</td>\n",
       "      <td>0.43</td>\n",
       "      <td>0.34</td>\n",
       "      <td>{'C': 4, 'solver': 'lbfgs', 'tol': 0.14, 'max_...</td>\n",
       "    </tr>\n",
       "  </tbody>\n",
       "</table>\n",
       "</div>"
      ],
      "text/plain": [
       "   sprint                 model  accuracy   auc  f1-score  recall  \\\n",
       "6       3  Gradient Boosting #1      0.99  0.99      0.97    0.96   \n",
       "7       3  Gradient Boosting #2      0.99  0.99      0.97    0.96   \n",
       "5       3      Random Forest #2      0.98  0.99      0.96    0.92   \n",
       "2       2     Decission Tree #2      0.97  0.97      0.93    0.93   \n",
       "3       2     Decission Tree #3      0.96  0.97      0.93    0.92   \n",
       "0       1                   KNN      0.93  0.96      0.86    0.88   \n",
       "4       3      Random Forest #1      0.92  0.98      0.80    0.67   \n",
       "1       1   Logistic Regression      0.79  0.81      0.43    0.34   \n",
       "\n",
       "                                     hyperparameters  \n",
       "6  {'n_estimators': 201, 'max_depth': 9, 'max_fea...  \n",
       "7  {'learning_rate': 0.4, 'max_features': 17, 'mi...  \n",
       "5  {'bootstrap': False, 'max_depth': 9, 'max_feat...  \n",
       "2                                   {'max_depth': 4}  \n",
       "3  {'max_depth': 4, 'criterion': 'entropy', 'max_...  \n",
       "0                                 {'n_neighbors': 5}  \n",
       "4              {'max_depth': 4, 'n_estimators': 100}  \n",
       "1  {'C': 4, 'solver': 'lbfgs', 'tol': 0.14, 'max_...  "
      ]
     },
     "execution_count": 4,
     "metadata": {},
     "output_type": "execute_result"
    }
   ],
   "source": [
    "# RESUMEN DE LAS MÉTRICAS OBTENIDAS\n",
    "import pandas as pd\n",
    "\n",
    "df_metrics = pd.DataFrame(metrics_summary).sort_values(by=\"f1-score\", ascending=False)\n",
    "df_metrics"
   ]
  },
  {
   "cell_type": "markdown",
   "metadata": {},
   "source": [
    "Parece claro que el mejor modelo que hemos entrenado de momento es el **Gradient Boosting #1**.\n",
    "\n",
    "**¿Cómo podemos mejorar a partir de ahora?**\n",
    "\n",
    "El poder de predicción es realmente bueno, pero aún nos queda probar con alguna que otra técnica.\n",
    "\n",
    "- Si empleamos solo las variables más relevantes identificadas por el ensemble, ¿cómo se ve afectado el rendimiento del modelo? ¿Recomendarías quedarnos solo con esas variables?\n",
    "- ¿Cambian las métricas de evaluación del modelo si aplicamos alguna técnica que tenga en cuenta el desbalanceo de clases? En caso afirmativo indica en qué varía y porqué"
   ]
  },
  {
   "cell_type": "markdown",
   "metadata": {},
   "source": [
    "# Obtención de las variables más relevantes\n",
    "\n",
    "Voy a reptir el entrenamiento del mejor model que tenemos hasta ahora para obtener las variables más relevantes."
   ]
  },
  {
   "cell_type": "code",
   "execution_count": 5,
   "metadata": {
    "id": "oivcDAYNbSaf"
   },
   "outputs": [],
   "source": [
    "# IMPORTACIÓN DE LIBRERÍAS\n",
    "\n",
    "import pandas as pd\n",
    "import numpy as np\n",
    "from scipy import stats\n",
    "import matplotlib.pyplot as plt\n",
    "from mpl_toolkits.mplot3d import Axes3D\n",
    "import seaborn as sns\n",
    "from matplotlib import style\n",
    "from sklearn.model_selection import train_test_split # Importamos función train_test_split \n",
    "from sklearn import metrics #Importamos métricas del módulo de scikit-learn para calcular lel accuracy del modelo\n",
    "# style.use('ggplot') or plt.style.use('ggplot')\n",
    "from IPython.display import display\n",
    "import time\n",
    "import warnings\n",
    "warnings.filterwarnings('ignore')\n",
    "%matplotlib inline"
   ]
  },
  {
   "cell_type": "code",
   "execution_count": 6,
   "metadata": {
    "colab": {
     "base_uri": "https://localhost:8080/",
     "height": 521
    },
    "id": "ke6t4kLqbtyp",
    "outputId": "ef8616e0-d062-431e-b15e-9cdd00d7e834"
   },
   "outputs": [
    {
     "name": "stdout",
     "output_type": "stream",
     "text": [
      "--2023-03-01 22:22:39--  https://drive.google.com/uc?export=download&id=1ZwgdmI525zInDh1SQVm7FZt8kWxfrvOK\n",
      "Resolving drive.google.com (drive.google.com)... 142.250.200.142\n",
      "Conectando con drive.google.com (drive.google.com)[142.250.200.142]:443... connected.\n",
      "HTTP request sent, awaiting response... 303 See Other\n",
      "Location: https://doc-08-b0-docs.googleusercontent.com/docs/securesc/ha0ro937gcuc7l7deffksulhg5h7mbp1/ct96q4capr8q0fqa5b1th0d7qjit5hc7/1677705750000/14644984037434537262/*/1ZwgdmI525zInDh1SQVm7FZt8kWxfrvOK?e=download&uuid=268c7197-66bc-41fd-98b5-3929e78263c6 [following]\n",
      "Warning: wildcards not supported in HTTP.\n",
      "--2023-03-01 22:22:40--  https://doc-08-b0-docs.googleusercontent.com/docs/securesc/ha0ro937gcuc7l7deffksulhg5h7mbp1/ct96q4capr8q0fqa5b1th0d7qjit5hc7/1677705750000/14644984037434537262/*/1ZwgdmI525zInDh1SQVm7FZt8kWxfrvOK?e=download&uuid=268c7197-66bc-41fd-98b5-3929e78263c6\n",
      "Resolving doc-08-b0-docs.googleusercontent.com (doc-08-b0-docs.googleusercontent.com)... 142.250.184.1\n",
      "Conectando con doc-08-b0-docs.googleusercontent.com (doc-08-b0-docs.googleusercontent.com)[142.250.184.1]:443... connected.\n",
      "HTTP request sent, awaiting response... 200 OK\n",
      "Length: 551779 (539K) [text/csv]\n",
      "Grabando a: \"Rotacion_empleados.csv\"\n",
      "\n",
      "Rotacion_empleados. 100%[===================>] 538.85K  --.-KB/s    en 0.1s    \n",
      "\n",
      "2023-03-01 22:22:41 (3.90 MB/s) - \"Rotacion_empleados.csv\" guardado [551779/551779]\n",
      "\n"
     ]
    },
    {
     "data": {
      "text/html": [
       "<div>\n",
       "<style scoped>\n",
       "    .dataframe tbody tr th:only-of-type {\n",
       "        vertical-align: middle;\n",
       "    }\n",
       "\n",
       "    .dataframe tbody tr th {\n",
       "        vertical-align: top;\n",
       "    }\n",
       "\n",
       "    .dataframe thead th {\n",
       "        text-align: right;\n",
       "    }\n",
       "</style>\n",
       "<table border=\"1\" class=\"dataframe\">\n",
       "  <thead>\n",
       "    <tr style=\"text-align: right;\">\n",
       "      <th></th>\n",
       "      <th>satisfaction_level</th>\n",
       "      <th>last_evaluation</th>\n",
       "      <th>number_project</th>\n",
       "      <th>average_montly_hours</th>\n",
       "      <th>time_spend_company</th>\n",
       "      <th>Work_accident</th>\n",
       "      <th>left</th>\n",
       "      <th>promotion_last_5years</th>\n",
       "      <th>department</th>\n",
       "      <th>salary</th>\n",
       "    </tr>\n",
       "  </thead>\n",
       "  <tbody>\n",
       "    <tr>\n",
       "      <th>0</th>\n",
       "      <td>0.38</td>\n",
       "      <td>0.53</td>\n",
       "      <td>2</td>\n",
       "      <td>157</td>\n",
       "      <td>3</td>\n",
       "      <td>0</td>\n",
       "      <td>1</td>\n",
       "      <td>0</td>\n",
       "      <td>sales</td>\n",
       "      <td>low</td>\n",
       "    </tr>\n",
       "    <tr>\n",
       "      <th>1</th>\n",
       "      <td>0.80</td>\n",
       "      <td>0.86</td>\n",
       "      <td>5</td>\n",
       "      <td>262</td>\n",
       "      <td>6</td>\n",
       "      <td>0</td>\n",
       "      <td>1</td>\n",
       "      <td>0</td>\n",
       "      <td>sales</td>\n",
       "      <td>medium</td>\n",
       "    </tr>\n",
       "    <tr>\n",
       "      <th>2</th>\n",
       "      <td>0.11</td>\n",
       "      <td>0.88</td>\n",
       "      <td>7</td>\n",
       "      <td>272</td>\n",
       "      <td>4</td>\n",
       "      <td>0</td>\n",
       "      <td>1</td>\n",
       "      <td>0</td>\n",
       "      <td>sales</td>\n",
       "      <td>medium</td>\n",
       "    </tr>\n",
       "    <tr>\n",
       "      <th>3</th>\n",
       "      <td>0.72</td>\n",
       "      <td>0.87</td>\n",
       "      <td>5</td>\n",
       "      <td>223</td>\n",
       "      <td>5</td>\n",
       "      <td>0</td>\n",
       "      <td>1</td>\n",
       "      <td>0</td>\n",
       "      <td>sales</td>\n",
       "      <td>low</td>\n",
       "    </tr>\n",
       "    <tr>\n",
       "      <th>4</th>\n",
       "      <td>0.37</td>\n",
       "      <td>0.52</td>\n",
       "      <td>2</td>\n",
       "      <td>159</td>\n",
       "      <td>3</td>\n",
       "      <td>0</td>\n",
       "      <td>1</td>\n",
       "      <td>0</td>\n",
       "      <td>sales</td>\n",
       "      <td>low</td>\n",
       "    </tr>\n",
       "  </tbody>\n",
       "</table>\n",
       "</div>"
      ],
      "text/plain": [
       "   satisfaction_level  last_evaluation  number_project  average_montly_hours  \\\n",
       "0                0.38             0.53               2                   157   \n",
       "1                0.80             0.86               5                   262   \n",
       "2                0.11             0.88               7                   272   \n",
       "3                0.72             0.87               5                   223   \n",
       "4                0.37             0.52               2                   159   \n",
       "\n",
       "   time_spend_company  Work_accident  left  promotion_last_5years department  \\\n",
       "0                   3              0     1                      0      sales   \n",
       "1                   6              0     1                      0      sales   \n",
       "2                   4              0     1                      0      sales   \n",
       "3                   5              0     1                      0      sales   \n",
       "4                   3              0     1                      0      sales   \n",
       "\n",
       "   salary  \n",
       "0     low  \n",
       "1  medium  \n",
       "2  medium  \n",
       "3     low  \n",
       "4     low  "
      ]
     },
     "execution_count": 6,
     "metadata": {},
     "output_type": "execute_result"
    }
   ],
   "source": [
    "# CARGA DE DATOS\n",
    "!wget --no-check-certificate 'https://drive.google.com/uc?export=download&id=1ZwgdmI525zInDh1SQVm7FZt8kWxfrvOK' -O 'Rotacion_empleados.csv'\n",
    "datos = pd.read_csv(\"Rotacion_empleados.csv\")\n",
    "# El dataset contiene una varialbe llamada \"sales\" que debemos renombrar a \"department\"\n",
    "datos = datos.rename(columns={\"sales\": \"department\"})\n",
    "datos.head()"
   ]
  },
  {
   "cell_type": "code",
   "execution_count": 7,
   "metadata": {
    "id": "l55hjhNrLlP5"
   },
   "outputs": [],
   "source": [
    "# COPIA DE SEGURIDAD\n",
    "datos_orig = datos.loc[:,:]"
   ]
  },
  {
   "cell_type": "code",
   "execution_count": 8,
   "metadata": {
    "colab": {
     "base_uri": "https://localhost:8080/"
    },
    "id": "IUYTSaE5d6Mg",
    "outputId": "2aa8de94-bc72-4bc1-fb33-8b0a6b278221"
   },
   "outputs": [
    {
     "name": "stdout",
     "output_type": "stream",
     "text": [
      "Before: ['sales' 'sales' 'sales' 'sales' 'sales' 'sales' 'sales' 'sales' 'sales'\n",
      " 'sales' 'sales']\n",
      "After: [[0 0 0 0 0 0 0 1 0 0]\n",
      " [0 0 0 0 0 0 0 1 0 0]\n",
      " [0 0 0 0 0 0 0 1 0 0]\n",
      " [0 0 0 0 0 0 0 1 0 0]\n",
      " [0 0 0 0 0 0 0 1 0 0]\n",
      " [0 0 0 0 0 0 0 1 0 0]\n",
      " [0 0 0 0 0 0 0 1 0 0]\n",
      " [0 0 0 0 0 0 0 1 0 0]\n",
      " [0 0 0 0 0 0 0 1 0 0]\n",
      " [0 0 0 0 0 0 0 1 0 0]\n",
      " [0 0 0 0 0 0 0 1 0 0]]\n"
     ]
    }
   ],
   "source": [
    "# Transformación de la variable categórica \"department\"\n",
    "\n",
    "print(\"Before:\", datos.loc[:10, \"department\"].values)\n",
    "\n",
    "datos = (\n",
    "    pd.get_dummies(\n",
    "        datos, \n",
    "        columns=[\"department\"],\n",
    "        )\n",
    "    )\n",
    "\n",
    "print(\"After:\", datos.loc[:10, [c for c in datos.columns if \"department\" in c]].values)"
   ]
  },
  {
   "cell_type": "code",
   "execution_count": 9,
   "metadata": {
    "colab": {
     "base_uri": "https://localhost:8080/"
    },
    "id": "smNh9wc-evTE",
    "outputId": "7dc7835e-d48d-4ef8-8e11-9688a03e0896"
   },
   "outputs": [
    {
     "name": "stdout",
     "output_type": "stream",
     "text": [
      "Before: {'medium', 'high', 'low'}\n",
      "After: {1, 2, 3}\n"
     ]
    }
   ],
   "source": [
    "# Transformación de la variable categórica \"salary\"\n",
    "print(\"Before:\", set(datos.salary))\n",
    "datos.salary = datos.salary.map({\"low\": 1, \"medium\": 2, \"high\":3})\n",
    "print(\"After:\", set(datos.salary))"
   ]
  },
  {
   "cell_type": "code",
   "execution_count": 10,
   "metadata": {
    "id": "kS_p1lmIsFmE"
   },
   "outputs": [],
   "source": [
    "# Separamos el conjunto de datos en features (X) y target (y)\n",
    "features = list(datos.columns[datos.columns != \"left\"])\n",
    "X = datos.loc[:, datos.columns != \"left\"].values\n",
    "y = datos.loc[:, datos.columns == \"left\"].values.flatten()"
   ]
  },
  {
   "cell_type": "code",
   "execution_count": 11,
   "metadata": {
    "id": "TMLYYla5l4SJ"
   },
   "outputs": [],
   "source": [
    "# Instanca de StratifiedKFold que reutilizaremos a lo largo del cuaderno\n",
    "from sklearn.model_selection import StratifiedKFold, cross_val_predict, cross_val_score\n",
    "\n",
    "n_folds = 5\n",
    "skf = StratifiedKFold(n_splits=n_folds, shuffle = True, random_state = 42)"
   ]
  },
  {
   "cell_type": "code",
   "execution_count": 12,
   "metadata": {},
   "outputs": [
    {
     "name": "stdout",
     "output_type": "stream",
     "text": [
      "Hyperparameters: {'n_estimators': 201, 'max_depth': 9, 'max_features': 'sqrt', 'min_samples_leaf': 1, 'min_samples_split': 4, 'validation_fraction': 0.2, 'n_iter_no_change': 5, 'tol': 0.001}\n",
      "\n",
      "GradientBoostingClassifier #1 GradientBoostingClassifier(max_depth=9, max_features='sqrt',\n",
      "                           min_samples_split=4, n_estimators=201,\n",
      "                           n_iter_no_change=5, random_state=42, tol=0.001,\n",
      "                           validation_fraction=0.2)\n",
      "\n",
      "Tiempo empleado: 2.64 segundos\n",
      "\n",
      "Train score for GradientBoostingClassifier #1: mean=0.9942, std=0.001357\n",
      "Test score for GradientBoostingClassifier #1: mean=0.9869, std=0.002537\n",
      "\n",
      "Bias: 0.013\n",
      "Variance: 0.974\n",
      "\n",
      "Confussion Matrix:\n",
      "[[11386    42]\n",
      " [  155  3416]]\n",
      "\n",
      "Classification report:\n",
      "              precision    recall  f1-score   support\n",
      "\n",
      "           0       0.99      1.00      0.99     11428\n",
      "           1       0.99      0.96      0.97      3571\n",
      "\n",
      "    accuracy                           0.99     14999\n",
      "   macro avg       0.99      0.98      0.98     14999\n",
      "weighted avg       0.99      0.99      0.99     14999\n",
      "\n",
      "\n"
     ]
    }
   ],
   "source": [
    "# Encapsulo la lógica de entrenamiento en una función\n",
    "\n",
    "# Esta clase me sirve para almacenar el resutlado del entenamiento\n",
    "class ModelTraining:\n",
    "    def __init__(self):\n",
    "        self.name = None\n",
    "        self.model = None\n",
    "        self.time = None\n",
    "        self.acc_mean = None\n",
    "        self.acc_mean_train = None\n",
    "        self.y_pred = None\n",
    "        self.bias = None\n",
    "        self.variance = None\n",
    "        self.conf_matrix = None\n",
    "        self.clf_report = None\n",
    "        \n",
    "def train_model(name, model, X, y, features) -> ModelTraining:\n",
    "    mt = ModelTraining()\n",
    "    mt.name = name\n",
    "    mt.model = model\n",
    "    print(mt.name, mt.model)\n",
    "    print()\n",
    "\n",
    "    train_scores = []\n",
    "    test_scores = []\n",
    "\n",
    "    start = time.time()\n",
    "    for train_index, test_index in skf.split(X, y):\n",
    "        X_train = datos.iloc[train_index].loc[:, features]\n",
    "        X_test = datos.iloc[test_index].loc[:,features]\n",
    "        y_train = datos.iloc[train_index].loc[:,'left']\n",
    "        y_test = datos.loc[test_index].loc[:,'left']\n",
    "        \n",
    "        model.fit(X_train, y_train) #Training the model\n",
    "\n",
    "        # Save train / test scores\n",
    "        train_scores.append(model.score(X_train, y_train))\n",
    "        test_scores.append(model.score(X_test, y_test))\n",
    "    end = time.time()\n",
    "    mt.time = end - start\n",
    "    print(f\"Tiempo empleado: {mt.time:.2f} segundos\")\n",
    "    print()\n",
    "\n",
    "    mt.acc_mean = np.mean(test_scores)\n",
    "    mt.acc_mean_train = np.mean(train_scores)\n",
    "    print(f\"Train score for {name}: mean={mt.acc_mean_train:.4f}, std={np.std(train_scores):.6f}\")\n",
    "    print(f\"Test score for {name}: mean={mt.acc_mean:.4f}, std={np.std(test_scores):.6f}\")\n",
    "    print()\n",
    "\n",
    "    # Use cross_val_predict to get predicted labels\n",
    "    mt.y_pred = cross_val_predict(model, X, y, cv=skf)\n",
    "\n",
    "    # Calculate the bias and variance\n",
    "    mt.bias = np.abs(y - mt.y_pred).mean()\n",
    "    mt.variance = mt.acc_mean - mt.bias\n",
    "    print(\"Bias:\", \"%.3f\" % mt.bias)\n",
    "    print(\"Variance:\", \"%.3f\" % mt.variance)\n",
    "    print()\n",
    "\n",
    "    # Print confussion matrix\n",
    "    mt.conf_matrix = metrics.confusion_matrix(y_true=y, y_pred=mt.y_pred)\n",
    "    print(\"Confussion Matrix:\")\n",
    "    print(mt.conf_matrix)\n",
    "    print()\n",
    "\n",
    "    # Print classification report\n",
    "    mt.clf_report = metrics.classification_report(y_true=y, y_pred=mt.y_pred)\n",
    "    print(\"Classification report:\")\n",
    "    print(mt.clf_report)\n",
    "    print()\n",
    "    return mt\n",
    "    \n",
    "# ENTRENAMIENTO GRADIENT BOOSTING (SPRINT 3)\n",
    "from sklearn.ensemble import GradientBoostingClassifier\n",
    "\n",
    "hyper = df_metrics.nlargest(1, \"f1-score\").loc[:,\"hyperparameters\"].iloc[0]\n",
    "print(\"Hyperparameters:\", hyper)\n",
    "print()\n",
    "\n",
    "gbc_1 = train_model(name=\"GradientBoostingClassifier #1\", \n",
    "                   model=GradientBoostingClassifier(\n",
    "                            random_state=42,\n",
    "                            **hyper\n",
    "                    ),\n",
    "                   X=X,\n",
    "                   y=y,\n",
    "                   features=features\n",
    ")"
   ]
  },
  {
   "cell_type": "code",
   "execution_count": 13,
   "metadata": {
    "colab": {
     "base_uri": "https://localhost:8080/",
     "height": 513
    },
    "id": "2-S_GqIJLRjZ",
    "outputId": "32a30bc0-9960-4d0a-caf3-57d5726c1d75"
   },
   "outputs": [
    {
     "data": {
      "image/png": "[encoded data removed]",
      "text/plain": [
       "<Figure size 1000x800 with 1 Axes>"
      ]
     },
     "metadata": {},
     "output_type": "display_data"
    }
   ],
   "source": [
    "# VARIABLES MÁS RELEVANTES\n",
    "plt.figure(figsize=(10,8))\n",
    "\n",
    "feature_imp=pd.Series(gbc_1.model.feature_importances_,\n",
    "index=list(features)).sort_values(ascending=False)\n",
    "\n",
    "sns.barplot(x=feature_imp, y=feature_imp.index)\n",
    "plt.xlabel('Score de Feature Importance usando Decision Tree')\n",
    "plt.ylabel('Features')\n",
    "plt.title(\"Ranking de Feature Importance\")\n",
    "\n",
    "plt.show()"
   ]
  },
  {
   "cell_type": "markdown",
   "metadata": {},
   "source": [
    "Vemos que hay un salto importante en cuanto a la importancia a partir de `last_evaluation` por lo tanto nos quedamos con las 5 primeras variables"
   ]
  },
  {
   "cell_type": "code",
   "execution_count": 14,
   "metadata": {},
   "outputs": [
    {
     "name": "stdout",
     "output_type": "stream",
     "text": [
      "['satisfaction_level', 'time_spend_company', 'number_project', 'average_montly_hours', 'last_evaluation']\n"
     ]
    }
   ],
   "source": [
    "# SELECCIÓN DE LAS VARIABLES MÁS RELEVANTES\n",
    "most_important_features = list(feature_imp.iloc[:5].index)\n",
    "print(most_important_features)"
   ]
  },
  {
   "cell_type": "markdown",
   "metadata": {},
   "source": [
    "# Entrenar el mejor modelo con las variables más relevantes\n",
    "\n",
    "En ese apartado re-entrenaré tres modelos. Dos de ellos son *ensembles* basados en árboles de decisión\n",
    "- Gradient Boosting por ser el mejor modelo obtenido hasta el momento, pero que tiene poco margen de mejora.\n",
    "- Random Forest que es el peor modelo del Sprint 3 y con un margen de mejora mayor\n",
    "\n",
    "El tercer modelo es KNN que se basa en un algoritmo diferente.\n",
    "\n",
    "Con este ejercicio comprobaremos si la selección de las mejores caractrerísticas mejora los distintos modelos."
   ]
  },
  {
   "cell_type": "markdown",
   "metadata": {},
   "source": [
    "## Re-entrenar el mejor modelo con los mismos hiperparámetros"
   ]
  },
  {
   "cell_type": "code",
   "execution_count": 15,
   "metadata": {},
   "outputs": [
    {
     "name": "stdout",
     "output_type": "stream",
     "text": [
      "(14999, 5)\n"
     ]
    }
   ],
   "source": [
    "i_most_important = [features.index(f) for f in most_important_features]\n",
    "X_most_important = X[:,i_most_important]\n",
    "print(X_most_important.shape)"
   ]
  },
  {
   "cell_type": "code",
   "execution_count": 16,
   "metadata": {},
   "outputs": [
    {
     "name": "stdout",
     "output_type": "stream",
     "text": [
      "GradientBoosting #4a GradientBoostingClassifier(max_depth=9, max_features='sqrt',\n",
      "                           min_samples_split=4, n_estimators=201,\n",
      "                           n_iter_no_change=5, random_state=42, tol=0.001,\n",
      "                           validation_fraction=0.2)\n",
      "\n",
      "Tiempo empleado: 2.48 segundos\n",
      "\n",
      "Train score for GradientBoosting #4a: mean=0.9951, std=0.000641\n",
      "Test score for GradientBoosting #4a: mean=0.9887, std=0.001726\n",
      "\n",
      "Bias: 0.011\n",
      "Variance: 0.977\n",
      "\n",
      "Confussion Matrix:\n",
      "[[11399    29]\n",
      " [  141  3430]]\n",
      "\n",
      "Classification report:\n",
      "              precision    recall  f1-score   support\n",
      "\n",
      "           0       0.99      1.00      0.99     11428\n",
      "           1       0.99      0.96      0.98      3571\n",
      "\n",
      "    accuracy                           0.99     14999\n",
      "   macro avg       0.99      0.98      0.98     14999\n",
      "weighted avg       0.99      0.99      0.99     14999\n",
      "\n",
      "\n",
      "Métricas de referencia\n"
     ]
    },
    {
     "data": {
      "text/html": [
       "<div>\n",
       "<style scoped>\n",
       "    .dataframe tbody tr th:only-of-type {\n",
       "        vertical-align: middle;\n",
       "    }\n",
       "\n",
       "    .dataframe tbody tr th {\n",
       "        vertical-align: top;\n",
       "    }\n",
       "\n",
       "    .dataframe thead th {\n",
       "        text-align: right;\n",
       "    }\n",
       "</style>\n",
       "<table border=\"1\" class=\"dataframe\">\n",
       "  <thead>\n",
       "    <tr style=\"text-align: right;\">\n",
       "      <th></th>\n",
       "      <th>sprint</th>\n",
       "      <th>model</th>\n",
       "      <th>accuracy</th>\n",
       "      <th>auc</th>\n",
       "      <th>f1-score</th>\n",
       "      <th>recall</th>\n",
       "      <th>hyperparameters</th>\n",
       "    </tr>\n",
       "  </thead>\n",
       "  <tbody>\n",
       "    <tr>\n",
       "      <th>6</th>\n",
       "      <td>3</td>\n",
       "      <td>Gradient Boosting #1</td>\n",
       "      <td>0.99</td>\n",
       "      <td>0.99</td>\n",
       "      <td>0.97</td>\n",
       "      <td>0.96</td>\n",
       "      <td>{'n_estimators': 201, 'max_depth': 9, 'max_fea...</td>\n",
       "    </tr>\n",
       "  </tbody>\n",
       "</table>\n",
       "</div>"
      ],
      "text/plain": [
       "   sprint                 model  accuracy   auc  f1-score  recall  \\\n",
       "6       3  Gradient Boosting #1      0.99  0.99      0.97    0.96   \n",
       "\n",
       "                                     hyperparameters  \n",
       "6  {'n_estimators': 201, 'max_depth': 9, 'max_fea...  "
      ]
     },
     "execution_count": 16,
     "metadata": {},
     "output_type": "execute_result"
    }
   ],
   "source": [
    "gbc_4a = train_model(\n",
    "    name=\"GradientBoosting #4a\",\n",
    "    model=GradientBoostingClassifier(\n",
    "        random_state=42,\n",
    "        **hyper\n",
    "    ),\n",
    "    X=X_most_important,\n",
    "    y=y,\n",
    "    features=most_important_features\n",
    ")\n",
    "print(\"Métricas de referencia\")\n",
    "df_metrics.loc[df_metrics.model == \"Gradient Boosting #1\"]"
   ]
  },
  {
   "cell_type": "markdown",
   "metadata": {},
   "source": [
    "El *f1-score* ha mejorado un poco. Voy a echar un vistazo a las matrices de confusión"
   ]
  },
  {
   "cell_type": "code",
   "execution_count": 17,
   "metadata": {},
   "outputs": [],
   "source": [
    "# Guardamos las métricas\n",
    "df_metrics = pd.concat([df_metrics, pd.DataFrame(data=[{\"sprint\": 4, \"model\": gbc_4a.name,\n",
    "    \"accuracy\":0.99, \"auc\": None, \"f1-score\": 0.98, \"recall\": 0.96,\n",
    "    \"hyperparameters\": hyper}])]).reset_index(drop=True)"
   ]
  },
  {
   "cell_type": "code",
   "execution_count": 18,
   "metadata": {},
   "outputs": [
    {
     "data": {
      "image/png": "[encoded data removed]",
      "text/plain": [
       "<Figure size 1600x500 with 4 Axes>"
      ]
     },
     "metadata": {},
     "output_type": "display_data"
    }
   ],
   "source": [
    "# Comparo las matrices de confusión\n",
    "\n",
    "import itertools\n",
    "def plot_confusion_matrix(cm, classes=[\"No Abandona\", \"Abandona\"],\n",
    "                          normalize=False,\n",
    "                          title='Confusion matrix',\n",
    "                          cmap=plt.cm.Blues):\n",
    "    \"\"\"\n",
    "    Esta función imprime y representa la matriz de confusión\n",
    "    Puede aplicarse la normalización de la matriz con el parámetro `normalize=True`.\n",
    "    \"\"\"\n",
    "    # if normalize:\n",
    "    #     cm = cm.astype('float') / cm.sum(axis=1)[:, np.newaxis]\n",
    "    #     print(\"Matriz de confusión normalizada\")\n",
    "    # else:\n",
    "    #     print('Matriz de confusión sin normalización')\n",
    "\n",
    "    # print(cm)\n",
    "\n",
    "    plt.imshow(cm, interpolation='nearest', cmap=cmap)\n",
    "    plt.title(title)\n",
    "    plt.colorbar()\n",
    "    tick_marks = np.arange(len(classes))\n",
    "    plt.xticks(tick_marks, classes, rotation=45)\n",
    "    plt.yticks(tick_marks, classes)\n",
    "\n",
    "    fmt = '.2f' if normalize else 'd'\n",
    "    thresh = cm.max() / 2.\n",
    "    for i, j in itertools.product(range(cm.shape[0]), range(cm.shape[1])):\n",
    "        plt.text(j, i, format(cm[i, j], fmt),\n",
    "                 horizontalalignment=\"center\",\n",
    "                 color=\"white\" if cm[i, j] > thresh else \"black\")\n",
    "\n",
    "    plt.ylabel('Categoría verdadera')\n",
    "    plt.xlabel('Categoría predicha')\n",
    "    plt.tight_layout()\n",
    "\n",
    "plt.figure(figsize=(16, 5))\n",
    "plt.subplot(121)\n",
    "plot_confusion_matrix(gbc_1.conf_matrix, title=\"Gradient Boosting #1\")\n",
    "\n",
    "plt.subplot(122)\n",
    "plot_confusion_matrix(gbc_4a.conf_matrix, title=\"Gradient Boosting #4a\")"
   ]
  },
  {
   "cell_type": "markdown",
   "metadata": {},
   "source": [
    "Aquí vemos que la mejora es pequeña, pero el nuevo modelo (#4a) se equivoca ligeramente menos.\n",
    "\n",
    "Por una parte es normal que haya una mejora ya que hemos eliminado variables que podían estar añadiendo cierto ruído.\n",
    "\n",
    "Por otra parte es normal que la mejora sea pequeña, ya que partíamos de un *f1-score* muy alto.\n",
    "\n",
    "¿Qué pasaría si entrenamos con un modelo que funcionaba peor?"
   ]
  },
  {
   "cell_type": "markdown",
   "metadata": {},
   "source": [
    "## Re-entrenar el peor modelo del Sprint 3 (Random Forest)\n",
    "\n",
    "Vamos a ver cómo funciona otro tipo de ensemle, Bagging en este caso. Ahora partimos de un *f1-score* bastante mejorable."
   ]
  },
  {
   "cell_type": "code",
   "execution_count": 19,
   "metadata": {},
   "outputs": [
    {
     "data": {
      "text/html": [
       "<div>\n",
       "<style scoped>\n",
       "    .dataframe tbody tr th:only-of-type {\n",
       "        vertical-align: middle;\n",
       "    }\n",
       "\n",
       "    .dataframe tbody tr th {\n",
       "        vertical-align: top;\n",
       "    }\n",
       "\n",
       "    .dataframe thead th {\n",
       "        text-align: right;\n",
       "    }\n",
       "</style>\n",
       "<table border=\"1\" class=\"dataframe\">\n",
       "  <thead>\n",
       "    <tr style=\"text-align: right;\">\n",
       "      <th></th>\n",
       "      <th>sprint</th>\n",
       "      <th>model</th>\n",
       "      <th>accuracy</th>\n",
       "      <th>auc</th>\n",
       "      <th>f1-score</th>\n",
       "      <th>recall</th>\n",
       "      <th>hyperparameters</th>\n",
       "    </tr>\n",
       "  </thead>\n",
       "  <tbody>\n",
       "    <tr>\n",
       "      <th>6</th>\n",
       "      <td>3</td>\n",
       "      <td>Random Forest #1</td>\n",
       "      <td>0.92</td>\n",
       "      <td>0.98</td>\n",
       "      <td>0.8</td>\n",
       "      <td>0.67</td>\n",
       "      <td>{'max_depth': 4, 'n_estimators': 100}</td>\n",
       "    </tr>\n",
       "  </tbody>\n",
       "</table>\n",
       "</div>"
      ],
      "text/plain": [
       "   sprint             model  accuracy   auc  f1-score  recall  \\\n",
       "6       3  Random Forest #1      0.92  0.98       0.8    0.67   \n",
       "\n",
       "                         hyperparameters  \n",
       "6  {'max_depth': 4, 'n_estimators': 100}  "
      ]
     },
     "execution_count": 19,
     "metadata": {},
     "output_type": "execute_result"
    }
   ],
   "source": [
    "rf_metrics = df_metrics.loc[df_metrics.model == \"Random Forest #1\"]\n",
    "rf_metrics"
   ]
  },
  {
   "cell_type": "code",
   "execution_count": 20,
   "metadata": {},
   "outputs": [
    {
     "data": {
      "text/plain": [
       "{'max_depth': 4, 'n_estimators': 100}"
      ]
     },
     "execution_count": 20,
     "metadata": {},
     "output_type": "execute_result"
    }
   ],
   "source": [
    "rf_hyper = rf_metrics.loc[:,\"hyperparameters\"].iloc[0]\n",
    "rf_hyper"
   ]
  },
  {
   "cell_type": "code",
   "execution_count": 21,
   "metadata": {},
   "outputs": [
    {
     "name": "stdout",
     "output_type": "stream",
     "text": [
      "RandomForest #4a RandomForestClassifier(max_depth=4, n_jobs=-1, random_state=42)\n",
      "\n",
      "Tiempo empleado: 0.74 segundos\n",
      "\n",
      "Train score for RandomForest #4a: mean=0.9716, std=0.000256\n",
      "Test score for RandomForest #4a: mean=0.9715, std=0.002639\n",
      "\n",
      "Bias: 0.029\n",
      "Variance: 0.943\n",
      "\n",
      "Confussion Matrix:\n",
      "[[11341    87]\n",
      " [  341  3230]]\n",
      "\n",
      "Classification report:\n",
      "              precision    recall  f1-score   support\n",
      "\n",
      "           0       0.97      0.99      0.98     11428\n",
      "           1       0.97      0.90      0.94      3571\n",
      "\n",
      "    accuracy                           0.97     14999\n",
      "   macro avg       0.97      0.95      0.96     14999\n",
      "weighted avg       0.97      0.97      0.97     14999\n",
      "\n",
      "\n",
      "Métricas de referencia\n"
     ]
    },
    {
     "data": {
      "text/html": [
       "<div>\n",
       "<style scoped>\n",
       "    .dataframe tbody tr th:only-of-type {\n",
       "        vertical-align: middle;\n",
       "    }\n",
       "\n",
       "    .dataframe tbody tr th {\n",
       "        vertical-align: top;\n",
       "    }\n",
       "\n",
       "    .dataframe thead th {\n",
       "        text-align: right;\n",
       "    }\n",
       "</style>\n",
       "<table border=\"1\" class=\"dataframe\">\n",
       "  <thead>\n",
       "    <tr style=\"text-align: right;\">\n",
       "      <th></th>\n",
       "      <th>sprint</th>\n",
       "      <th>model</th>\n",
       "      <th>accuracy</th>\n",
       "      <th>auc</th>\n",
       "      <th>f1-score</th>\n",
       "      <th>recall</th>\n",
       "      <th>hyperparameters</th>\n",
       "    </tr>\n",
       "  </thead>\n",
       "  <tbody>\n",
       "    <tr>\n",
       "      <th>6</th>\n",
       "      <td>3</td>\n",
       "      <td>Random Forest #1</td>\n",
       "      <td>0.92</td>\n",
       "      <td>0.98</td>\n",
       "      <td>0.8</td>\n",
       "      <td>0.67</td>\n",
       "      <td>{'max_depth': 4, 'n_estimators': 100}</td>\n",
       "    </tr>\n",
       "  </tbody>\n",
       "</table>\n",
       "</div>"
      ],
      "text/plain": [
       "   sprint             model  accuracy   auc  f1-score  recall  \\\n",
       "6       3  Random Forest #1      0.92  0.98       0.8    0.67   \n",
       "\n",
       "                         hyperparameters  \n",
       "6  {'max_depth': 4, 'n_estimators': 100}  "
      ]
     },
     "execution_count": 21,
     "metadata": {},
     "output_type": "execute_result"
    }
   ],
   "source": [
    "# ENTRENAMOS DE NUEVO RANDOM FOREST\n",
    "from sklearn.ensemble import RandomForestClassifier\n",
    "\n",
    "\n",
    "rf_4a = train_model(\n",
    "    name=\"RandomForest #4a\",\n",
    "    model=RandomForestClassifier(\n",
    "        random_state=42, n_jobs=-1, **rf_hyper\n",
    "    ),\n",
    "    X=X_most_important,\n",
    "    y=y,\n",
    "    features=most_important_features\n",
    ")\n",
    "print(\"Métricas de referencia\")\n",
    "rf_metrics"
   ]
  },
  {
   "cell_type": "markdown",
   "metadata": {},
   "source": [
    "La mejora ha sido significativa. Efectivamente vemos que estas variables estaban añadiendo cierto ruído que afectaba a la predicción."
   ]
  },
  {
   "cell_type": "code",
   "execution_count": 22,
   "metadata": {},
   "outputs": [],
   "source": [
    "# Guardamos las métricas\n",
    "df_metrics = pd.concat([df_metrics, pd.DataFrame(data=[{\"sprint\": 4, \"model\": rf_4a.name,\n",
    "    \"accuracy\":0.97, \"auc\": None, \"f1-score\": 0.94, \"recall\": 0.90,\n",
    "    \"hyperparameters\": rf_hyper}])]).reset_index(drop=True)\n"
   ]
  },
  {
   "cell_type": "markdown",
   "metadata": {},
   "source": [
    "## Re-entrenar KNN"
   ]
  },
  {
   "cell_type": "code",
   "execution_count": 23,
   "metadata": {},
   "outputs": [
    {
     "name": "stdout",
     "output_type": "stream",
     "text": [
      "KNeighborsClassifier #4 KNeighborsClassifier()\n",
      "\n",
      "Tiempo empleado: 1.19 segundos\n",
      "\n",
      "Train score for KNeighborsClassifier #4: mean=0.9552, std=0.001231\n",
      "Test score for KNeighborsClassifier #4: mean=0.9361, std=0.002792\n",
      "\n",
      "Bias: 0.064\n",
      "Variance: 0.872\n",
      "\n",
      "Confussion Matrix:\n",
      "[[10745   683]\n",
      " [  276  3295]]\n",
      "\n",
      "Classification report:\n",
      "              precision    recall  f1-score   support\n",
      "\n",
      "           0       0.97      0.94      0.96     11428\n",
      "           1       0.83      0.92      0.87      3571\n",
      "\n",
      "    accuracy                           0.94     14999\n",
      "   macro avg       0.90      0.93      0.92     14999\n",
      "weighted avg       0.94      0.94      0.94     14999\n",
      "\n",
      "\n"
     ]
    }
   ],
   "source": [
    "# ENTRENAMOS KNN\n",
    "# Entrenamos primero con todas las características,\n",
    "#   ya que en el sprint 1 no usamos StratifyedKFold\n",
    "from sklearn.neighbors import KNeighborsClassifier\n",
    "\n",
    "knn_hyper = df_metrics.loc[df_metrics.model == \"KNN\", \"hyperparameters\"].iloc[0]\n",
    "\n",
    "knn_4 = train_model(\n",
    "    name=\"KNeighborsClassifier #4\",\n",
    "    model=KNeighborsClassifier(**knn_hyper),\n",
    "    X=X,\n",
    "    y=y,\n",
    "    features=features\n",
    ")"
   ]
  },
  {
   "cell_type": "code",
   "execution_count": 24,
   "metadata": {},
   "outputs": [],
   "source": [
    "# Guardamos las métricas\n",
    "df_metrics = pd.concat([df_metrics, pd.DataFrame(data=[{\"sprint\": 4, \"model\": \"KNN #4\",\n",
    "    \"accuracy\":0.94, \"auc\": None, \"f1-score\": 0.87, \"recall\": 0.92,\n",
    "    \"hyperparameters\": knn_hyper}])]).reset_index(drop=True)"
   ]
  },
  {
   "cell_type": "code",
   "execution_count": 25,
   "metadata": {},
   "outputs": [
    {
     "name": "stdout",
     "output_type": "stream",
     "text": [
      "KNeighborsClassifier #4a KNeighborsClassifier()\n",
      "\n",
      "Tiempo empleado: 0.75 segundos\n",
      "\n",
      "Train score for KNeighborsClassifier #4a: mean=0.9645, std=0.001104\n",
      "Test score for KNeighborsClassifier #4a: mean=0.9509, std=0.002545\n",
      "\n",
      "Bias: 0.049\n",
      "Variance: 0.902\n",
      "\n",
      "Confussion Matrix:\n",
      "[[10966   462]\n",
      " [  274  3297]]\n",
      "\n",
      "Classification report:\n",
      "              precision    recall  f1-score   support\n",
      "\n",
      "           0       0.98      0.96      0.97     11428\n",
      "           1       0.88      0.92      0.90      3571\n",
      "\n",
      "    accuracy                           0.95     14999\n",
      "   macro avg       0.93      0.94      0.93     14999\n",
      "weighted avg       0.95      0.95      0.95     14999\n",
      "\n",
      "\n",
      "Métricas de referencia\n",
      "\n"
     ]
    },
    {
     "data": {
      "image/png": "[encoded data removed]",
      "text/plain": [
       "<Figure size 1600x500 with 4 Axes>"
      ]
     },
     "metadata": {},
     "output_type": "display_data"
    }
   ],
   "source": [
    "# Entrenamos de nuevo filtrandoo por las características más relevantes.\n",
    "knn_4a = train_model(\n",
    "    name=\"KNeighborsClassifier #4a\",\n",
    "    model=KNeighborsClassifier(**knn_hyper),\n",
    "    X=X_most_important,\n",
    "    y=y,\n",
    "    features=most_important_features\n",
    ")\n",
    "print(\"Métricas de referencia\")\n",
    "df_metrics.loc[df_metrics.model == \"KNN #4\"]\n",
    "print()\n",
    "\n",
    "plt.figure(figsize=(16, 5))\n",
    "plt.subplot(121)\n",
    "plot_confusion_matrix(knn_4.conf_matrix, title=knn_4.name)\n",
    "\n",
    "plt.subplot(122)\n",
    "plot_confusion_matrix(knn_4a.conf_matrix, title=knn_4a.name)"
   ]
  },
  {
   "cell_type": "markdown",
   "metadata": {},
   "source": [
    "KNN también también ha mejorado con la selección de las mejores características"
   ]
  },
  {
   "cell_type": "code",
   "execution_count": 26,
   "metadata": {},
   "outputs": [],
   "source": [
    "# Guardamos las métricas\n",
    "df_metrics = pd.concat([df_metrics, pd.DataFrame(data=[{\"sprint\": 4, \"model\": \"KNN #4a\",\n",
    "    \"accuracy\":0.95, \"auc\": None, \"f1-score\": 0.90, \"recall\": 0.92,\n",
    "    \"hyperparameters\": knn_hyper}])]).reset_index(drop=True)"
   ]
  },
  {
   "cell_type": "markdown",
   "metadata": {},
   "source": [
    "## Conclusiones\n",
    "\n",
    "Con este ejercicio parece claro que los árboles de decisión son una buena herramienta de *feature engineering*.\n",
    "\n",
    "Esto lo hemos comprobado re-enrenando tres modelos diferentes, con los mismos hiperparámetros, pero sólo con las características más relevantes."
   ]
  },
  {
   "cell_type": "code",
   "execution_count": 27,
   "metadata": {},
   "outputs": [
    {
     "data": {
      "text/html": [
       "<div>\n",
       "<style scoped>\n",
       "    .dataframe tbody tr th:only-of-type {\n",
       "        vertical-align: middle;\n",
       "    }\n",
       "\n",
       "    .dataframe tbody tr th {\n",
       "        vertical-align: top;\n",
       "    }\n",
       "\n",
       "    .dataframe thead th {\n",
       "        text-align: right;\n",
       "    }\n",
       "</style>\n",
       "<table border=\"1\" class=\"dataframe\">\n",
       "  <thead>\n",
       "    <tr style=\"text-align: right;\">\n",
       "      <th></th>\n",
       "      <th>sprint</th>\n",
       "      <th>model</th>\n",
       "      <th>accuracy</th>\n",
       "      <th>auc</th>\n",
       "      <th>f1-score</th>\n",
       "      <th>recall</th>\n",
       "      <th>hyperparameters</th>\n",
       "    </tr>\n",
       "  </thead>\n",
       "  <tbody>\n",
       "    <tr>\n",
       "      <th>8</th>\n",
       "      <td>4</td>\n",
       "      <td>GradientBoosting #4a</td>\n",
       "      <td>0.99</td>\n",
       "      <td>None</td>\n",
       "      <td>0.98</td>\n",
       "      <td>0.96</td>\n",
       "      <td>{'n_estimators': 201, 'max_depth': 9, 'max_fea...</td>\n",
       "    </tr>\n",
       "    <tr>\n",
       "      <th>0</th>\n",
       "      <td>3</td>\n",
       "      <td>Gradient Boosting #1</td>\n",
       "      <td>0.99</td>\n",
       "      <td>0.99</td>\n",
       "      <td>0.97</td>\n",
       "      <td>0.96</td>\n",
       "      <td>{'n_estimators': 201, 'max_depth': 9, 'max_fea...</td>\n",
       "    </tr>\n",
       "    <tr>\n",
       "      <th>1</th>\n",
       "      <td>3</td>\n",
       "      <td>Gradient Boosting #2</td>\n",
       "      <td>0.99</td>\n",
       "      <td>0.99</td>\n",
       "      <td>0.97</td>\n",
       "      <td>0.96</td>\n",
       "      <td>{'learning_rate': 0.4, 'max_features': 17, 'mi...</td>\n",
       "    </tr>\n",
       "    <tr>\n",
       "      <th>2</th>\n",
       "      <td>3</td>\n",
       "      <td>Random Forest #2</td>\n",
       "      <td>0.98</td>\n",
       "      <td>0.99</td>\n",
       "      <td>0.96</td>\n",
       "      <td>0.92</td>\n",
       "      <td>{'bootstrap': False, 'max_depth': 9, 'max_feat...</td>\n",
       "    </tr>\n",
       "    <tr>\n",
       "      <th>9</th>\n",
       "      <td>4</td>\n",
       "      <td>RandomForest #4a</td>\n",
       "      <td>0.97</td>\n",
       "      <td>None</td>\n",
       "      <td>0.94</td>\n",
       "      <td>0.90</td>\n",
       "      <td>{'max_depth': 4, 'n_estimators': 100}</td>\n",
       "    </tr>\n",
       "    <tr>\n",
       "      <th>3</th>\n",
       "      <td>2</td>\n",
       "      <td>Decission Tree #2</td>\n",
       "      <td>0.97</td>\n",
       "      <td>0.97</td>\n",
       "      <td>0.93</td>\n",
       "      <td>0.93</td>\n",
       "      <td>{'max_depth': 4}</td>\n",
       "    </tr>\n",
       "    <tr>\n",
       "      <th>4</th>\n",
       "      <td>2</td>\n",
       "      <td>Decission Tree #3</td>\n",
       "      <td>0.96</td>\n",
       "      <td>0.97</td>\n",
       "      <td>0.93</td>\n",
       "      <td>0.92</td>\n",
       "      <td>{'max_depth': 4, 'criterion': 'entropy', 'max_...</td>\n",
       "    </tr>\n",
       "    <tr>\n",
       "      <th>11</th>\n",
       "      <td>4</td>\n",
       "      <td>KNN #4a</td>\n",
       "      <td>0.95</td>\n",
       "      <td>None</td>\n",
       "      <td>0.90</td>\n",
       "      <td>0.92</td>\n",
       "      <td>{'n_neighbors': 5}</td>\n",
       "    </tr>\n",
       "    <tr>\n",
       "      <th>10</th>\n",
       "      <td>4</td>\n",
       "      <td>KNN #4</td>\n",
       "      <td>0.94</td>\n",
       "      <td>None</td>\n",
       "      <td>0.87</td>\n",
       "      <td>0.92</td>\n",
       "      <td>{'n_neighbors': 5}</td>\n",
       "    </tr>\n",
       "    <tr>\n",
       "      <th>5</th>\n",
       "      <td>1</td>\n",
       "      <td>KNN</td>\n",
       "      <td>0.93</td>\n",
       "      <td>0.96</td>\n",
       "      <td>0.86</td>\n",
       "      <td>0.88</td>\n",
       "      <td>{'n_neighbors': 5}</td>\n",
       "    </tr>\n",
       "    <tr>\n",
       "      <th>6</th>\n",
       "      <td>3</td>\n",
       "      <td>Random Forest #1</td>\n",
       "      <td>0.92</td>\n",
       "      <td>0.98</td>\n",
       "      <td>0.80</td>\n",
       "      <td>0.67</td>\n",
       "      <td>{'max_depth': 4, 'n_estimators': 100}</td>\n",
       "    </tr>\n",
       "    <tr>\n",
       "      <th>7</th>\n",
       "      <td>1</td>\n",
       "      <td>Logistic Regression</td>\n",
       "      <td>0.79</td>\n",
       "      <td>0.81</td>\n",
       "      <td>0.43</td>\n",
       "      <td>0.34</td>\n",
       "      <td>{'C': 4, 'solver': 'lbfgs', 'tol': 0.14, 'max_...</td>\n",
       "    </tr>\n",
       "  </tbody>\n",
       "</table>\n",
       "</div>"
      ],
      "text/plain": [
       "    sprint                 model  accuracy   auc  f1-score  recall  \\\n",
       "8        4  GradientBoosting #4a      0.99  None      0.98    0.96   \n",
       "0        3  Gradient Boosting #1      0.99  0.99      0.97    0.96   \n",
       "1        3  Gradient Boosting #2      0.99  0.99      0.97    0.96   \n",
       "2        3      Random Forest #2      0.98  0.99      0.96    0.92   \n",
       "9        4      RandomForest #4a      0.97  None      0.94    0.90   \n",
       "3        2     Decission Tree #2      0.97  0.97      0.93    0.93   \n",
       "4        2     Decission Tree #3      0.96  0.97      0.93    0.92   \n",
       "11       4               KNN #4a      0.95  None      0.90    0.92   \n",
       "10       4                KNN #4      0.94  None      0.87    0.92   \n",
       "5        1                   KNN      0.93  0.96      0.86    0.88   \n",
       "6        3      Random Forest #1      0.92  0.98      0.80    0.67   \n",
       "7        1   Logistic Regression      0.79  0.81      0.43    0.34   \n",
       "\n",
       "                                      hyperparameters  \n",
       "8   {'n_estimators': 201, 'max_depth': 9, 'max_fea...  \n",
       "0   {'n_estimators': 201, 'max_depth': 9, 'max_fea...  \n",
       "1   {'learning_rate': 0.4, 'max_features': 17, 'mi...  \n",
       "2   {'bootstrap': False, 'max_depth': 9, 'max_feat...  \n",
       "9               {'max_depth': 4, 'n_estimators': 100}  \n",
       "3                                    {'max_depth': 4}  \n",
       "4   {'max_depth': 4, 'criterion': 'entropy', 'max_...  \n",
       "11                                 {'n_neighbors': 5}  \n",
       "10                                 {'n_neighbors': 5}  \n",
       "5                                  {'n_neighbors': 5}  \n",
       "6               {'max_depth': 4, 'n_estimators': 100}  \n",
       "7   {'C': 4, 'solver': 'lbfgs', 'tol': 0.14, 'max_...  "
      ]
     },
     "execution_count": 27,
     "metadata": {},
     "output_type": "execute_result"
    }
   ],
   "source": [
    "df_metrics.sort_values(by=\"f1-score\", ascending=False)"
   ]
  },
  {
   "cell_type": "markdown",
   "metadata": {},
   "source": [
    "Como vemos en esta tabla los modelos entrenados con las características más relevantes (#4a) han obtenido mejor *f1-score* que las versiones entrenads con todo el dataset.\n",
    "\n",
    "También vemos que en el ranking de mejores algoritmos (para este dataset) tenemos\n",
    "\n",
    "1. Gradient Boosting\n",
    "1. Random Forest\n",
    "1. Decission Tree\n",
    "1. KNN"
   ]
  },
  {
   "cell_type": "markdown",
   "metadata": {},
   "source": [
    "# Probar con una técnica de balanceo de clases\n",
    "\n",
    "En el Sprint 1, durante el análisis exploratorio, se vió que teníamos un dataset desbalanceado. Esto es: teníamos muchos menos ejemplos positivos que negativos.\n",
    "\n",
    "En el sprint 3 usé StratifyedKFold para\n",
    "\n",
    "- mantener la misma proporción de positivos / negativos en los conjuntos de entrenamiento y test\n",
    "- realizar una validación cruzada de modo que el modelo final sea más robusto\n",
    "\n",
    "No obstante se pueden usar dos técnicas para balancear el dataset\n",
    "\n",
    "- eliminar muestras de la clase mayoritaria, esto es la negativa\n",
    "- crear nuevas muestras sintéticas de la clase minoritariaa\n",
    "\n",
    "En este apartado probaré la segunda técnica, llamada *oversampling* (sobre-muestreo)"
   ]
  },
  {
   "cell_type": "markdown",
   "metadata": {},
   "source": [
    "## Preparar un dataset balanceado\n",
    "\n",
    "El primer paso es generar muestras sinténticas dela clase positiva. Eso lo haré usando el método `resample()` del paquete `sklearn.utils`."
   ]
  },
  {
   "cell_type": "code",
   "execution_count": 28,
   "metadata": {},
   "outputs": [
    {
     "name": "stdout",
     "output_type": "stream",
     "text": [
      "N. samples classl 1: 2500 -> 7999\n"
     ]
    },
    {
     "data": {
      "image/png": "[encoded data removed]",
      "text/plain": [
       "<Figure size 640x480 with 1 Axes>"
      ]
     },
     "metadata": {},
     "output_type": "display_data"
    }
   ],
   "source": [
    "# PREPARAR UN DATASET BALANCEADO\n",
    "from sklearn.model_selection import train_test_split \n",
    "from sklearn.utils import resample\n",
    "\n",
    "X = datos.loc[:, datos.columns != \"left\"]\n",
    "y = datos.loc[:, \"left\"]\n",
    "\n",
    "# Dividimos el dataset en train y test\n",
    "X_train, X_test, y_train, y_test= train_test_split(X, y,\n",
    "                                                   test_size= 0.3,\n",
    "                                                   shuffle= True, \n",
    "                                                   stratify=y,\n",
    "                                                   random_state= 42)\n",
    "\n",
    "X_train_o, y_train_o = resample(\n",
    "    X_train[y_train == 1],\n",
    "    y_train[y_train == 1],\n",
    "    replace=True,\n",
    "    n_samples=X_train[y_train == 0].shape[0],\n",
    "    random_state=42\n",
    ")\n",
    "\n",
    "X_train_o = np.concatenate([X_train[y == 0], X_train_o])\n",
    "y_train_o = np.concatenate([y_train[y == 0], y_train_o])\n",
    "\n",
    "\n",
    "print(\"N. samples classl 1:\", X_train[y_train == 1].shape[0], \"->\", X_train_o[y_train_o == 1].shape[0])\n",
    "unique, counts = np.unique(y_train_o, return_counts=True)\n",
    "plt.title(\"Distribución de la variable a predecir (balanceada)\")\n",
    "sns.barplot(x=unique, y=counts)\n",
    "plt.show()"
   ]
  },
  {
   "cell_type": "markdown",
   "metadata": {},
   "source": [
    "## Entrenar Gradient Boosting\n",
    "\n",
    "Una vez tengo el dataset balanceado voy a entrenar un algoritmo de Gradient Boosting.\n",
    "\n",
    "Lo voy a entrenar dos veces, con el dataset balanceado y sin balancear, ya que me interesa usar las particiones de train y test que he hecho más arriba en vez de usar KFold."
   ]
  },
  {
   "cell_type": "code",
   "execution_count": 29,
   "metadata": {},
   "outputs": [
    {
     "name": "stdout",
     "output_type": "stream",
     "text": [
      "Report Gradient Boosting (con desbalanceo)\n",
      "              precision    recall  f1-score   support\n",
      "\n",
      "           0       0.99      1.00      0.99      3429\n",
      "           1       0.99      0.96      0.97      1071\n",
      "\n",
      "    accuracy                           0.99      4500\n",
      "   macro avg       0.99      0.98      0.98      4500\n",
      "weighted avg       0.99      0.99      0.99      4500\n",
      "\n",
      "Report Gradient Boosting (balanceado)\n",
      "              precision    recall  f1-score   support\n",
      "\n",
      "           0       0.99      0.99      0.99      3429\n",
      "           1       0.98      0.97      0.97      1071\n",
      "\n",
      "    accuracy                           0.99      4500\n",
      "   macro avg       0.98      0.98      0.98      4500\n",
      "weighted avg       0.99      0.99      0.99      4500\n",
      "\n"
     ]
    }
   ],
   "source": [
    "# GRADIENT BOOSTING\n",
    "\n",
    "# Dataset desbalanceado\n",
    "gbc_unb = GradientBoostingClassifier(\n",
    "    random_state=42,\n",
    "    **hyper\n",
    ")\n",
    "\n",
    "gbc_unb.fit(X_train, y_train)\n",
    "y_pred_gbc_unb = gbc_unb.predict(X_test)\n",
    "\n",
    "print(\"Report Gradient Boosting (con desbalanceo)\")\n",
    "print(metrics.classification_report(y_test, y_pred_gbc_unb))\n",
    "\n",
    "# Dataset balanceado\n",
    "gbc_bal = GradientBoostingClassifier(\n",
    "    random_state=42,\n",
    "    **hyper\n",
    ")\n",
    "\n",
    "gbc_bal.fit(X_train_o, y_train_o)\n",
    "y_pred_gbc_bal = gbc_bal.predict(X_test)\n",
    "\n",
    "print(\"Report Gradient Boosting (balanceado)\")\n",
    "print(metrics.classification_report(y_test, y_pred_gbc_bal))"
   ]
  },
  {
   "cell_type": "markdown",
   "metadata": {},
   "source": [
    "Al realizar oversampling, aumenta el recall de la clase positiva que es lo que nos interesa. El recall de la clases negativa ya no es del 100%.\n",
    "\n",
    "La precisión de la clase 1 también se ve afectada con el oversampling."
   ]
  },
  {
   "cell_type": "markdown",
   "metadata": {},
   "source": [
    "## Entrenar Random Forest"
   ]
  },
  {
   "cell_type": "code",
   "execution_count": 30,
   "metadata": {},
   "outputs": [
    {
     "name": "stdout",
     "output_type": "stream",
     "text": [
      "Report Random Forest (con desbalanceo)\n",
      "              precision    recall  f1-score   support\n",
      "\n",
      "           0       0.91      1.00      0.95      3429\n",
      "           1       0.98      0.67      0.79      1071\n",
      "\n",
      "    accuracy                           0.92      4500\n",
      "   macro avg       0.94      0.83      0.87      4500\n",
      "weighted avg       0.92      0.92      0.91      4500\n",
      "\n",
      "Report Random Forest (balanceado)\n",
      "              precision    recall  f1-score   support\n",
      "\n",
      "           0       0.98      0.96      0.97      3429\n",
      "           1       0.89      0.92      0.91      1071\n",
      "\n",
      "    accuracy                           0.96      4500\n",
      "   macro avg       0.93      0.94      0.94      4500\n",
      "weighted avg       0.96      0.96      0.96      4500\n",
      "\n"
     ]
    }
   ],
   "source": [
    "# RANDOM FOREST\n",
    "# Dataset desbalanceado\n",
    "rf_unb = RandomForestClassifier(\n",
    "    random_state=42, n_jobs=-1, **rf_hyper\n",
    ")\n",
    "\n",
    "rf_unb.fit(X_train, y_train)\n",
    "y_pred_rf_unb = rf_unb.predict(X_test)\n",
    "\n",
    "print(\"Report Random Forest (con desbalanceo)\")\n",
    "print(metrics.classification_report(y_test, y_pred_rf_unb))\n",
    "\n",
    "# Dataset balanceado\n",
    "rf_bal = RandomForestClassifier(\n",
    "    random_state=42, n_jobs=-1, **rf_hyper\n",
    ")\n",
    "\n",
    "rf_bal.fit(X_train_o, y_train_o)\n",
    "y_pred_rf_bal = rf_bal.predict(X_test)\n",
    "\n",
    "print(\"Report Random Forest (balanceado)\")\n",
    "print(metrics.classification_report(y_test, y_pred_rf_bal))"
   ]
  },
  {
   "cell_type": "markdown",
   "metadata": {},
   "source": [
    "En este caso aumenta el f1-score de ambas clases. El recall de la clase 0 baja del 100% al 60% y la precisión de la clase 1 disminuye al mismo tiempo que aumenta el de la clase 0."
   ]
  },
  {
   "cell_type": "markdown",
   "metadata": {},
   "source": [
    "## Entrenar KNN"
   ]
  },
  {
   "cell_type": "code",
   "execution_count": 31,
   "metadata": {},
   "outputs": [
    {
     "name": "stdout",
     "output_type": "stream",
     "text": [
      "Report KNN (con desbalanceo)\n",
      "              precision    recall  f1-score   support\n",
      "\n",
      "           0       0.98      0.94      0.96      3429\n",
      "           1       0.83      0.92      0.87      1071\n",
      "\n",
      "    accuracy                           0.94      4500\n",
      "   macro avg       0.90      0.93      0.92      4500\n",
      "weighted avg       0.94      0.94      0.94      4500\n",
      "\n",
      "Report KNN (balanceado)\n",
      "              precision    recall  f1-score   support\n",
      "\n",
      "           0       0.99      0.90      0.94      3429\n",
      "           1       0.75      0.97      0.85      1071\n",
      "\n",
      "    accuracy                           0.92      4500\n",
      "   macro avg       0.87      0.93      0.90      4500\n",
      "weighted avg       0.93      0.92      0.92      4500\n",
      "\n"
     ]
    }
   ],
   "source": [
    "# Dataset desbalanceado\n",
    "knn_unb = model = KNeighborsClassifier(n_neighbors=5)\n",
    "\n",
    "knn_unb.fit(X_train, y_train)\n",
    "y_pred_knn_unb = knn_unb.predict(X_test)\n",
    "\n",
    "print(\"Report KNN (con desbalanceo)\")\n",
    "print(metrics.classification_report(y_test, y_pred_knn_unb))\n",
    "\n",
    "# Dataset balanceado\n",
    "knn_bal = KNeighborsClassifier(n_neighbors=5)\n",
    "\n",
    "knn_bal.fit(X_train_o, y_train_o)\n",
    "y_pred_knn_bal = knn_bal.predict(X_test)\n",
    "\n",
    "print(\"Report KNN (balanceado)\")\n",
    "print(metrics.classification_report(y_test, y_pred_knn_bal))"
   ]
  },
  {
   "cell_type": "markdown",
   "metadata": {},
   "source": [
    "El oversampling ha empeorado KNN en general, la única métrica intersante que ha mejorado es el recall de la clase 1."
   ]
  }
 ],
 "metadata": {
  "colab": {
   "authorship_tag": "ABX9TyOjnkxD0Rn8ctqatpY0jWDs",
   "include_colab_link": true,
   "provenance": [],
   "toc_visible": true
  },
  "gpuClass": "standard",
  "kernelspec": {
   "display_name": "Python 3 (ipykernel)",
   "language": "python",
   "name": "python3"
  },
  "language_info": {
   "codemirror_mode": {
    "name": "ipython",
    "version": 3
   },
   "file_extension": ".py",
   "mimetype": "text/x-python",
   "name": "python",
   "nbconvert_exporter": "python",
   "pygments_lexer": "ipython3",
   "version": "3.9.6"
  },
  "toc": {
   "base_numbering": 1,
   "nav_menu": {},
   "number_sections": true,
   "sideBar": true,
   "skip_h1_title": false,
   "title_cell": "Table of Contents",
   "title_sidebar": "Contents",
   "toc_cell": false,
   "toc_position": {
    "height": "calc(100% - 180px)",
    "left": "10px",
    "top": "150px",
    "width": "384px"
   },
   "toc_section_display": true,
   "toc_window_display": true
  }
 },
 "nbformat": 4,
 "nbformat_minor": 1
}
