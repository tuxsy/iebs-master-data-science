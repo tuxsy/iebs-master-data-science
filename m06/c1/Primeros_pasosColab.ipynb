{
  "nbformat": 4,
  "nbformat_minor": 0,
  "metadata": {
    "colab": {
      "provenance": [],
      "include_colab_link": true
    },
    "kernelspec": {
      "name": "python3",
      "display_name": "Python 3"
    },
    "language_info": {
      "name": "python"
    }
  },
  "cells": [
    {
      "cell_type": "markdown",
      "metadata": {
        "id": "view-in-github",
        "colab_type": "text"
      },
      "source": [
        "<a href=\"https://colab.research.google.com/github/tuxsy/iebs-master-data-science/blob/main/m06/c1/Primeros_pasosColab.ipynb\" target=\"_parent\"><img src=\"https://colab.research.google.com/assets/colab-badge.svg\" alt=\"Open In Colab\"/></a>"
      ]
    },
    {
      "cell_type": "markdown",
      "source": [
        "# Iniciando con Google Colab\n",
        "\n"
      ],
      "metadata": {
        "id": "0VB_qV-OBga0"
      }
    },
    {
      "cell_type": "markdown",
      "source": [
        "\n",
        "## Sangrado\n",
        "\n",
        "Objetivos\n",
        "\n",
        "*   Aprender\n",
        "*   Practicar"
      ],
      "metadata": {
        "id": "MksTX8rABvFK"
      }
    },
    {
      "cell_type": "markdown",
      "source": [
        "# Importar notebooks a Google Colab\n",
        "\n",
        "Cualquier notebook que subamos a nuestro Google Drive podemos abrirlo mediante Google Colab, y las modificaciones que realices quedarán guardadas automáticamente.\n",
        "\n",
        "Los notebooks que empieces desde cero en Google Colab también quedarán almacenados en la cuenta de Google Drive asociada a tu usuario para que no pierdas ningún avance realizado."
      ],
      "metadata": {
        "id": "q1knu_ZtZuDm"
      }
    },
    {
      "cell_type": "markdown",
      "metadata": {
        "id": "VKJRbLpWr4H7"
      },
      "source": [
        "# Ejemplo descarga de datos.\n",
        "\n",
        "Comenzamos utilizando el fichero diabetes.csv que lo podemos encontrar en [este enlace](https://www.kaggle.com/datasets/uciml/pima-indians-diabetes-database)."
      ]
    },
    {
      "cell_type": "code",
      "execution_count": 1,
      "metadata": {
        "id": "IwHpS9yUhcbr"
      },
      "outputs": [],
      "source": [
        "#Importamos las librerias necesarias\n",
        "import pandas as pd\n",
        "import numpy as np"
      ]
    },
    {
      "cell_type": "markdown",
      "source": [
        "Todos los ficheros que descarguemos, salvo que especifiquemos lo contrario van a aparecer en la carpeta *\"/content\"*, puesto que es el directorio de trabajo al que apunta Google Colab por defecto."
      ],
      "metadata": {
        "id": "G9BlQ9OnDGls"
      }
    },
    {
      "cell_type": "code",
      "source": [
        "! pwd"
      ],
      "metadata": {
        "colab": {
          "base_uri": "https://localhost:8080/"
        },
        "id": "GYKFj1lBbQcA",
        "outputId": "c997cf06-b4b2-4ee5-fd1f-2d5fa73a6553"
      },
      "execution_count": 2,
      "outputs": [
        {
          "output_type": "stream",
          "name": "stdout",
          "text": [
            "/content\n"
          ]
        }
      ]
    },
    {
      "cell_type": "markdown",
      "source": [
        "### Opción descargar datos de Google Drive"
      ],
      "metadata": {
        "id": "62kVLWQm_KLg"
      }
    },
    {
      "cell_type": "code",
      "source": [
        "#Descargamos los ficheros de Google Drive\n",
        "#https://drive.google.com/file/d/11gtaNBirzGcPncMfaaVzyS4IahWRizx0/view?usp=sharing\n",
        "!wget --no-check-certificate 'https://drive.google.com/uc?export=download&id=11gtaNBirzGcPncMfaaVzyS4IahWRizx0' -O 'diabetes.csv'"
      ],
      "metadata": {
        "colab": {
          "base_uri": "https://localhost:8080/"
        },
        "id": "AE8VZDAs_IxF",
        "outputId": "aca78f76-a4db-4a1c-a319-7911f8918b10"
      },
      "execution_count": 3,
      "outputs": [
        {
          "output_type": "stream",
          "name": "stdout",
          "text": [
            "--2023-02-08 10:25:45--  https://drive.google.com/uc?export=download&id=11gtaNBirzGcPncMfaaVzyS4IahWRizx0\n",
            "Resolving drive.google.com (drive.google.com)... 172.217.193.113, 172.217.193.138, 172.217.193.101, ...\n",
            "Connecting to drive.google.com (drive.google.com)|172.217.193.113|:443... connected.\n",
            "HTTP request sent, awaiting response... 303 See Other\n",
            "Location: https://doc-08-b0-docs.googleusercontent.com/docs/securesc/ha0ro937gcuc7l7deffksulhg5h7mbp1/e6t55rhiedgsh9jbap3dchujqq7cv23f/1675851900000/14644984037434537262/*/11gtaNBirzGcPncMfaaVzyS4IahWRizx0?e=download&uuid=36f7670f-8cde-4aa4-913d-5d1573fbc3ac [following]\n",
            "Warning: wildcards not supported in HTTP.\n",
            "--2023-02-08 10:25:45--  https://doc-08-b0-docs.googleusercontent.com/docs/securesc/ha0ro937gcuc7l7deffksulhg5h7mbp1/e6t55rhiedgsh9jbap3dchujqq7cv23f/1675851900000/14644984037434537262/*/11gtaNBirzGcPncMfaaVzyS4IahWRizx0?e=download&uuid=36f7670f-8cde-4aa4-913d-5d1573fbc3ac\n",
            "Resolving doc-08-b0-docs.googleusercontent.com (doc-08-b0-docs.googleusercontent.com)... 74.125.196.132, 2607:f8b0:400c:c36::84\n",
            "Connecting to doc-08-b0-docs.googleusercontent.com (doc-08-b0-docs.googleusercontent.com)|74.125.196.132|:443... connected.\n",
            "HTTP request sent, awaiting response... 200 OK\n",
            "Length: 23873 (23K) [text/csv]\n",
            "Saving to: ‘diabetes.csv’\n",
            "\n",
            "diabetes.csv        100%[===================>]  23.31K  --.-KB/s    in 0s      \n",
            "\n",
            "2023-02-08 10:25:45 (94.0 MB/s) - ‘diabetes.csv’ saved [23873/23873]\n",
            "\n"
          ]
        }
      ]
    },
    {
      "cell_type": "markdown",
      "metadata": {
        "id": "JUQREZX7FWII"
      },
      "source": [
        "### Opción de descargar datos con Kaggle\n",
        "\n",
        "Otra opción sería descargando los datos directamente de la API de Kaggle, pero para ello tendríamos que crearnos una cuenta en Kaggle, generar una clave (*Account > API > Create New API Token*) y subir el archivo *kaggle.json* resultante a nuestra cuenta de Google Drive.\n",
        "\n",
        "A continuación incluyo un ejemplo de cómo se haría, aunque no lo vamos a emplear para este laboratorio."
      ]
    },
    {
      "cell_type": "code",
      "execution_count": 5,
      "metadata": {
        "colab": {
          "base_uri": "https://localhost:8080/"
        },
        "outputId": "993fc0d6-3473-4fe1-b847-8c56e6f6d470",
        "id": "DI-SrnKcFWIJ"
      },
      "outputs": [
        {
          "output_type": "stream",
          "name": "stdout",
          "text": [
            "Drive already mounted at /content/drive; to attempt to forcibly remount, call drive.mount(\"/content/drive\", force_remount=True).\n"
          ]
        }
      ],
      "source": [
        "from google.colab import drive\n",
        "drive.mount('/content/drive')"
      ]
    },
    {
      "cell_type": "code",
      "source": [
        "! pip install kaggle\n",
        "! mkdir ~/.kaggle\n",
        "! cp /content/drive/MyDrive/Kaggle/kaggle.json ~/.kaggle/kaggle.json\n",
        "! chmod 600 ~/.kaggle/kaggle.json\n",
        "#Buscamos la referencia al dataset que nos interesa\n",
        "!kaggle datasets list -s diabetes"
      ],
      "metadata": {
        "colab": {
          "base_uri": "https://localhost:8080/"
        },
        "id": "oC9GApxfIfYZ",
        "outputId": "8c23c319-11d2-4daf-8208-00155b2f6f10"
      },
      "execution_count": 6,
      "outputs": [
        {
          "output_type": "stream",
          "name": "stdout",
          "text": [
            "Looking in indexes: https://pypi.org/simple, https://us-python.pkg.dev/colab-wheels/public/simple/\n",
            "Requirement already satisfied: kaggle in /usr/local/lib/python3.8/dist-packages (1.5.12)\n",
            "Requirement already satisfied: requests in /usr/local/lib/python3.8/dist-packages (from kaggle) (2.25.1)\n",
            "Requirement already satisfied: tqdm in /usr/local/lib/python3.8/dist-packages (from kaggle) (4.64.1)\n",
            "Requirement already satisfied: urllib3 in /usr/local/lib/python3.8/dist-packages (from kaggle) (1.24.3)\n",
            "Requirement already satisfied: python-slugify in /usr/local/lib/python3.8/dist-packages (from kaggle) (8.0.0)\n",
            "Requirement already satisfied: six>=1.10 in /usr/local/lib/python3.8/dist-packages (from kaggle) (1.15.0)\n",
            "Requirement already satisfied: certifi in /usr/local/lib/python3.8/dist-packages (from kaggle) (2022.12.7)\n",
            "Requirement already satisfied: python-dateutil in /usr/local/lib/python3.8/dist-packages (from kaggle) (2.8.2)\n",
            "Requirement already satisfied: text-unidecode>=1.3 in /usr/local/lib/python3.8/dist-packages (from python-slugify->kaggle) (1.3)\n",
            "Requirement already satisfied: idna<3,>=2.5 in /usr/local/lib/python3.8/dist-packages (from requests->kaggle) (2.10)\n",
            "Requirement already satisfied: chardet<5,>=3.0.2 in /usr/local/lib/python3.8/dist-packages (from requests->kaggle) (4.0.0)\n",
            "ref                                                      title                                          size  lastUpdated          downloadCount  voteCount  usabilityRating  \n",
            "-------------------------------------------------------  ---------------------------------------------  ----  -------------------  -------------  ---------  ---------------  \n",
            "akshaydattatraykhare/diabetes-dataset                    Diabetes Dataset                                9KB  2022-10-06 08:55:25          28767        639  1.0              \n",
            "mathchi/diabetes-data-set                                Diabetes Dataset                                9KB  2020-08-05 21:27:01          48494        406  1.0              \n",
            "uciml/pima-indians-diabetes-database                     Pima Indians Diabetes Database                  9KB  2016-10-06 18:31:56         353477       3453  0.88235295       \n",
            "whenamancodes/predict-diabities                          Predict Diabetes                                9KB  2022-11-09 12:18:49          10400        157  1.0              \n",
            "salihacur/diabetes                                       diabetes                                        9KB  2020-03-21 13:50:58           1873         30  0.9411765        \n",
            "alexteboul/diabetes-health-indicators-dataset            Diabetes Health Indicators Dataset              6MB  2021-11-08 16:48:54          21957        269  1.0              \n",
            "johndasilva/diabetes                                     diabetes                                       12KB  2018-04-25 19:17:46           9624        106  0.4117647        \n",
            "vikasukani/diabetes-data-set                             Diabetes Data Set                              12KB  2020-08-08 11:23:25           6077        101  0.8235294        \n",
            "andrewmvd/early-diabetes-classification                  Early Classification of Diabetes                2KB  2021-12-06 11:51:00           3054         62  1.0              \n",
            "brandao/diabetes                                         Diabetes 130 US hospitals for years 1999-2008   4MB  2017-10-31 15:53:55          15013        191  0.7941176        \n",
            "nancyalaswad90/review                                    Diabetes Dataset - Pima Indians                 9KB  2022-07-16 12:39:20           1110         82  1.0              \n",
            "prosperchuks/health-dataset                              Diabetes, Hypertension and Stroke Prediction    1MB  2022-12-19 16:31:52           6084         99  1.0              \n",
            "jillanisofttech/diabetes-disease-updated-dataset         Diabetes Disease Updated Dataset                9KB  2022-03-26 11:55:28           1484         44  1.0              \n",
            "shantanudhakadd/diabetes-dataset-for-beginners           Diabetes Dataset for Beginners                  9KB  2022-02-25 09:06:14           1560         42  0.88235295       \n",
            "alakaaay/diabetes-uci-dataset                            Diabetes UCI Dataset                            2KB  2021-07-02 11:03:37           2048         29  0.7647059        \n",
            "mahnazarjmand/diabetes                                   Diabetes                                        9KB  2022-09-19 15:53:25             91         39  0.3529412        \n",
            "tigganeha4/diabetes-dataset-2019                         Diabetes Dataset 2019                           6KB  2020-10-20 06:43:27           2093         32  0.8235294        \n",
            "ishandutta/early-stage-diabetes-risk-prediction-dataset  Early Stage Diabetes Risk Prediction Dataset    3KB  2020-09-21 15:37:46           4528         67  0.9411765        \n",
            "kumargh/pimaindiansdiabetescsv                           pima-indians-diabetes.csv                       9KB  2018-02-27 21:06:02          49954        231  0.47058824       \n",
            "pritsheta/diabetes-dataset                               Diabetes Data-set                               9KB  2021-09-14 17:16:48           1392         29  1.0              \n"
          ]
        }
      ]
    },
    {
      "cell_type": "code",
      "execution_count": 8,
      "metadata": {
        "colab": {
          "base_uri": "https://localhost:8080/"
        },
        "outputId": "e189ec28-749c-4fbe-936a-e8b1fb264c3b",
        "id": "_xn7lTk5FWIJ"
      },
      "outputs": [
        {
          "output_type": "stream",
          "name": "stdout",
          "text": [
            "pima-indians-diabetes-database.zip: Skipping, found more recently modified local copy (use --force to force download)\n",
            "Archive:  pima-indians-diabetes-database.zip\n",
            "  inflating: diabetes.csv            \n"
          ]
        }
      ],
      "source": [
        "! kaggle datasets download uciml/pima-indians-diabetes-database\n",
        "! unzip -o pima-indians-diabetes-database.zip"
      ]
    },
    {
      "cell_type": "markdown",
      "metadata": {
        "id": "5WQHIL65iMcO"
      },
      "source": [
        "##Opción cargar los datos de manera manual\n",
        "\n",
        "Descargamos los datos de [este enlace](https://www.kaggle.com/datasets/uciml/pima-indians-diabetes-database) a nuestro ordenador. Extraemos los ficheros correspondientes del archivo .zip descargado. Y subimos los ficheros .csv mediante la opción mostrada en la imagen."
      ]
    },
    {
      "cell_type": "markdown",
      "metadata": {
        "id": "zBKP9KjEjpX3"
      },
      "source": [
        "![Guardado_manual.png](data:image/png;base64,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)"
      ]
    },
    {
      "cell_type": "markdown",
      "source": [
        "# Más información"
      ],
      "metadata": {
        "id": "h_vwzbk1Vvtf"
      }
    },
    {
      "cell_type": "markdown",
      "source": [
        "Ver este enlace\n",
        "\n",
        "\n",
        "https://colab.research.google.com/github/jegarcian/AI4Ecology/blob/main/Pre_processing.ipynb#scrollTo=ZXh1nRJsIZqe"
      ],
      "metadata": {
        "id": "3cxAYFYV9wm4"
      }
    }
  ]
}