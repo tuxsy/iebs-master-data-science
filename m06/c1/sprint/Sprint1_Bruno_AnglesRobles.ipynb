{
  "cells": [
    {
      "cell_type": "markdown",
      "metadata": {
        "id": "view-in-github",
        "colab_type": "text"
      },
      "source": [
        "<a href=\"https://colab.research.google.com/github/tuxsy/iebs-master-data-science/blob/main/m06/c1/sprint/Sprint1_Bruno_AnglesRobles.ipynb\" target=\"_parent\"><img src=\"https://colab.research.google.com/assets/colab-badge.svg\" alt=\"Open In Colab\"/></a>"
      ]
    },
    {
      "cell_type": "markdown",
      "source": [
        "# Datos del alumno\n",
        "\n",
        "**Nombre**: Bruno\n",
        "\n",
        "\n",
        "**Apellidos**: Anglés Robles\n",
        "\n",
        "\n",
        "**Grupo:** B2"
      ],
      "metadata": {
        "id": "Wt8CRU2dPBKL"
      }
    },
    {
      "cell_type": "markdown",
      "metadata": {
        "id": "WTBOmLklur-D"
      },
      "source": [
        "# Introducción.\n",
        "\n",
        "En este ejemplo vamos a trabajar con un conjunto de datos formado por un total de 14999 observaciones y 10 variables, consistente en estudiar diversas características de los empleados de una empresa en relación con su decisión de abandonar o no la empresa. Las variables en estudio, se van a describir posteriormente. \n"
      ]
    },
    {
      "cell_type": "markdown",
      "metadata": {
        "id": "Z4X8OkoLur-G"
      },
      "source": [
        "# Estudio descriptivo de los datos.\n",
        "\n",
        "En este apartado vamos a familiarizarnos con la estructura que toman estos datos, así como con las diversas características de los mismos y posibles relaciones entre ellos.\n",
        "\n",
        "Lo primero que hacemos es importar las librerías que vamos a necesitar y los datos en cuestión."
      ]
    },
    {
      "cell_type": "code",
      "execution_count": 1,
      "metadata": {
        "id": "Pi3vk98Lur-H"
      },
      "outputs": [],
      "source": [
        "import pandas as pd\n",
        "import numpy as np\n",
        "from scipy import stats\n",
        "import matplotlib.pyplot as plt\n",
        "from mpl_toolkits.mplot3d import Axes3D\n",
        "import seaborn as sns\n",
        "from matplotlib import style\n",
        "style.use('ggplot') or plt.style.use('ggplot')\n",
        "from IPython.display import display\n",
        "%matplotlib inline"
      ]
    },
    {
      "cell_type": "code",
      "source": [
        "#Descarga manual: https://drive.google.com/file/d/1ZwgdmI525zInDh1SQVm7FZt8kWxfrvOK/view?usp=sharing\n",
        "#Descargamos los ficheros de Google Drive\n",
        "!wget --no-check-certificate 'https://drive.google.com/uc?export=download&id=1ZwgdmI525zInDh1SQVm7FZt8kWxfrvOK' -O 'Rotacion_empleados.csv'"
      ],
      "metadata": {
        "colab": {
          "base_uri": "https://localhost:8080/",
          "height": 0
        },
        "id": "ipeWAu6_wDEp",
        "outputId": "ad76eea4-ec02-45fe-f853-a8c9b6a24db6"
      },
      "execution_count": 2,
      "outputs": [
        {
          "output_type": "stream",
          "name": "stdout",
          "text": [
            "--2023-02-08 22:06:13--  https://drive.google.com/uc?export=download&id=1ZwgdmI525zInDh1SQVm7FZt8kWxfrvOK\n",
            "Resolving drive.google.com (drive.google.com)... 74.125.142.138, 74.125.142.102, 74.125.142.100, ...\n",
            "Connecting to drive.google.com (drive.google.com)|74.125.142.138|:443... connected.\n",
            "HTTP request sent, awaiting response... 303 See Other\n",
            "Location: https://doc-08-b0-docs.googleusercontent.com/docs/securesc/ha0ro937gcuc7l7deffksulhg5h7mbp1/itp4crvqe0fe32m561spdlvmblgoosdq/1675893900000/14644984037434537262/*/1ZwgdmI525zInDh1SQVm7FZt8kWxfrvOK?e=download&uuid=df2eefff-5c8f-481a-b56e-a1ea5a9cf9a1 [following]\n",
            "Warning: wildcards not supported in HTTP.\n",
            "--2023-02-08 22:06:13--  https://doc-08-b0-docs.googleusercontent.com/docs/securesc/ha0ro937gcuc7l7deffksulhg5h7mbp1/itp4crvqe0fe32m561spdlvmblgoosdq/1675893900000/14644984037434537262/*/1ZwgdmI525zInDh1SQVm7FZt8kWxfrvOK?e=download&uuid=df2eefff-5c8f-481a-b56e-a1ea5a9cf9a1\n",
            "Resolving doc-08-b0-docs.googleusercontent.com (doc-08-b0-docs.googleusercontent.com)... 74.125.197.132, 2607:f8b0:400e:c03::84\n",
            "Connecting to doc-08-b0-docs.googleusercontent.com (doc-08-b0-docs.googleusercontent.com)|74.125.197.132|:443... connected.\n",
            "HTTP request sent, awaiting response... 200 OK\n",
            "Length: 551779 (539K) [text/csv]\n",
            "Saving to: ‘Rotacion_empleados.csv’\n",
            "\n",
            "Rotacion_empleados. 100%[===================>] 538.85K  --.-KB/s    in 0.007s  \n",
            "\n",
            "2023-02-08 22:06:13 (71.0 MB/s) - ‘Rotacion_empleados.csv’ saved [551779/551779]\n",
            "\n"
          ]
        }
      ]
    },
    {
      "cell_type": "markdown",
      "source": [
        "Si no conseguís descargar el fichero con el anterior comando, también lo tenéis a vuestra disposición en los **Recursos del proyecto** con el nombre `Rotacion_empleados.csv`."
      ],
      "metadata": {
        "id": "4HNKqiMu3KI4"
      }
    },
    {
      "cell_type": "code",
      "execution_count": 3,
      "metadata": {
        "id": "7ar1_ow2ur-J"
      },
      "outputs": [],
      "source": [
        "# Leemos el conjunto de datos\n",
        "datos = pd.read_csv(\"Rotacion_empleados.csv\")"
      ]
    },
    {
      "cell_type": "code",
      "execution_count": 4,
      "metadata": {
        "colab": {
          "base_uri": "https://localhost:8080/",
          "height": 0
        },
        "id": "e1O7xn8Wur-K",
        "outputId": "2235190e-52e8-45b0-f9d5-d28a59c54294"
      },
      "outputs": [
        {
          "output_type": "execute_result",
          "data": {
            "text/plain": [
              "(14999, 10)"
            ]
          },
          "metadata": {},
          "execution_count": 4
        }
      ],
      "source": [
        "# obtenemos las filas y columnas qu contiene\n",
        "datos.shape"
      ]
    },
    {
      "cell_type": "code",
      "execution_count": 5,
      "metadata": {
        "colab": {
          "base_uri": "https://localhost:8080/",
          "height": 206
        },
        "id": "yEcmXYHbur-N",
        "outputId": "12d6c6c2-d6e9-4516-b071-e9d002840ac9"
      },
      "outputs": [
        {
          "output_type": "execute_result",
          "data": {
            "text/plain": [
              "   satisfaction_level  last_evaluation  number_project  average_montly_hours  \\\n",
              "0                0.38             0.53               2                   157   \n",
              "1                0.80             0.86               5                   262   \n",
              "2                0.11             0.88               7                   272   \n",
              "3                0.72             0.87               5                   223   \n",
              "4                0.37             0.52               2                   159   \n",
              "\n",
              "   time_spend_company  Work_accident  left  promotion_last_5years  sales  \\\n",
              "0                   3              0     1                      0  sales   \n",
              "1                   6              0     1                      0  sales   \n",
              "2                   4              0     1                      0  sales   \n",
              "3                   5              0     1                      0  sales   \n",
              "4                   3              0     1                      0  sales   \n",
              "\n",
              "   salary  \n",
              "0     low  \n",
              "1  medium  \n",
              "2  medium  \n",
              "3     low  \n",
              "4     low  "
            ],
            "text/html": [
              "\n",
              "  <div id=\"df-4aa21ceb-52e3-498b-8aff-d0dcb5794076\">\n",
              "    <div class=\"colab-df-container\">\n",
              "      <div>\n",
              "<style scoped>\n",
              "    .dataframe tbody tr th:only-of-type {\n",
              "        vertical-align: middle;\n",
              "    }\n",
              "\n",
              "    .dataframe tbody tr th {\n",
              "        vertical-align: top;\n",
              "    }\n",
              "\n",
              "    .dataframe thead th {\n",
              "        text-align: right;\n",
              "    }\n",
              "</style>\n",
              "<table border=\"1\" class=\"dataframe\">\n",
              "  <thead>\n",
              "    <tr style=\"text-align: right;\">\n",
              "      <th></th>\n",
              "      <th>satisfaction_level</th>\n",
              "      <th>last_evaluation</th>\n",
              "      <th>number_project</th>\n",
              "      <th>average_montly_hours</th>\n",
              "      <th>time_spend_company</th>\n",
              "      <th>Work_accident</th>\n",
              "      <th>left</th>\n",
              "      <th>promotion_last_5years</th>\n",
              "      <th>sales</th>\n",
              "      <th>salary</th>\n",
              "    </tr>\n",
              "  </thead>\n",
              "  <tbody>\n",
              "    <tr>\n",
              "      <th>0</th>\n",
              "      <td>0.38</td>\n",
              "      <td>0.53</td>\n",
              "      <td>2</td>\n",
              "      <td>157</td>\n",
              "      <td>3</td>\n",
              "      <td>0</td>\n",
              "      <td>1</td>\n",
              "      <td>0</td>\n",
              "      <td>sales</td>\n",
              "      <td>low</td>\n",
              "    </tr>\n",
              "    <tr>\n",
              "      <th>1</th>\n",
              "      <td>0.80</td>\n",
              "      <td>0.86</td>\n",
              "      <td>5</td>\n",
              "      <td>262</td>\n",
              "      <td>6</td>\n",
              "      <td>0</td>\n",
              "      <td>1</td>\n",
              "      <td>0</td>\n",
              "      <td>sales</td>\n",
              "      <td>medium</td>\n",
              "    </tr>\n",
              "    <tr>\n",
              "      <th>2</th>\n",
              "      <td>0.11</td>\n",
              "      <td>0.88</td>\n",
              "      <td>7</td>\n",
              "      <td>272</td>\n",
              "      <td>4</td>\n",
              "      <td>0</td>\n",
              "      <td>1</td>\n",
              "      <td>0</td>\n",
              "      <td>sales</td>\n",
              "      <td>medium</td>\n",
              "    </tr>\n",
              "    <tr>\n",
              "      <th>3</th>\n",
              "      <td>0.72</td>\n",
              "      <td>0.87</td>\n",
              "      <td>5</td>\n",
              "      <td>223</td>\n",
              "      <td>5</td>\n",
              "      <td>0</td>\n",
              "      <td>1</td>\n",
              "      <td>0</td>\n",
              "      <td>sales</td>\n",
              "      <td>low</td>\n",
              "    </tr>\n",
              "    <tr>\n",
              "      <th>4</th>\n",
              "      <td>0.37</td>\n",
              "      <td>0.52</td>\n",
              "      <td>2</td>\n",
              "      <td>159</td>\n",
              "      <td>3</td>\n",
              "      <td>0</td>\n",
              "      <td>1</td>\n",
              "      <td>0</td>\n",
              "      <td>sales</td>\n",
              "      <td>low</td>\n",
              "    </tr>\n",
              "  </tbody>\n",
              "</table>\n",
              "</div>\n",
              "      <button class=\"colab-df-convert\" onclick=\"convertToInteractive('df-4aa21ceb-52e3-498b-8aff-d0dcb5794076')\"\n",
              "              title=\"Convert this dataframe to an interactive table.\"\n",
              "              style=\"display:none;\">\n",
              "        \n",
              "  <svg xmlns=\"http://www.w3.org/2000/svg\" height=\"24px\"viewBox=\"0 0 24 24\"\n",
              "       width=\"24px\">\n",
              "    <path d=\"M0 0h24v24H0V0z\" fill=\"none\"/>\n",
              "    <path d=\"M18.56 5.44l.94 2.06.94-2.06 2.06-.94-2.06-.94-.94-2.06-.94 2.06-2.06.94zm-11 1L8.5 8.5l.94-2.06 2.06-.94-2.06-.94L8.5 2.5l-.94 2.06-2.06.94zm10 10l.94 2.06.94-2.06 2.06-.94-2.06-.94-.94-2.06-.94 2.06-2.06.94z\"/><path d=\"M17.41 7.96l-1.37-1.37c-.4-.4-.92-.59-1.43-.59-.52 0-1.04.2-1.43.59L10.3 9.45l-7.72 7.72c-.78.78-.78 2.05 0 2.83L4 21.41c.39.39.9.59 1.41.59.51 0 1.02-.2 1.41-.59l7.78-7.78 2.81-2.81c.8-.78.8-2.07 0-2.86zM5.41 20L4 18.59l7.72-7.72 1.47 1.35L5.41 20z\"/>\n",
              "  </svg>\n",
              "      </button>\n",
              "      \n",
              "  <style>\n",
              "    .colab-df-container {\n",
              "      display:flex;\n",
              "      flex-wrap:wrap;\n",
              "      gap: 12px;\n",
              "    }\n",
              "\n",
              "    .colab-df-convert {\n",
              "      background-color: #E8F0FE;\n",
              "      border: none;\n",
              "      border-radius: 50%;\n",
              "      cursor: pointer;\n",
              "      display: none;\n",
              "      fill: #1967D2;\n",
              "      height: 32px;\n",
              "      padding: 0 0 0 0;\n",
              "      width: 32px;\n",
              "    }\n",
              "\n",
              "    .colab-df-convert:hover {\n",
              "      background-color: #E2EBFA;\n",
              "      box-shadow: 0px 1px 2px rgba(60, 64, 67, 0.3), 0px 1px 3px 1px rgba(60, 64, 67, 0.15);\n",
              "      fill: #174EA6;\n",
              "    }\n",
              "\n",
              "    [theme=dark] .colab-df-convert {\n",
              "      background-color: #3B4455;\n",
              "      fill: #D2E3FC;\n",
              "    }\n",
              "\n",
              "    [theme=dark] .colab-df-convert:hover {\n",
              "      background-color: #434B5C;\n",
              "      box-shadow: 0px 1px 3px 1px rgba(0, 0, 0, 0.15);\n",
              "      filter: drop-shadow(0px 1px 2px rgba(0, 0, 0, 0.3));\n",
              "      fill: #FFFFFF;\n",
              "    }\n",
              "  </style>\n",
              "\n",
              "      <script>\n",
              "        const buttonEl =\n",
              "          document.querySelector('#df-4aa21ceb-52e3-498b-8aff-d0dcb5794076 button.colab-df-convert');\n",
              "        buttonEl.style.display =\n",
              "          google.colab.kernel.accessAllowed ? 'block' : 'none';\n",
              "\n",
              "        async function convertToInteractive(key) {\n",
              "          const element = document.querySelector('#df-4aa21ceb-52e3-498b-8aff-d0dcb5794076');\n",
              "          const dataTable =\n",
              "            await google.colab.kernel.invokeFunction('convertToInteractive',\n",
              "                                                     [key], {});\n",
              "          if (!dataTable) return;\n",
              "\n",
              "          const docLinkHtml = 'Like what you see? Visit the ' +\n",
              "            '<a target=\"_blank\" href=https://colab.research.google.com/notebooks/data_table.ipynb>data table notebook</a>'\n",
              "            + ' to learn more about interactive tables.';\n",
              "          element.innerHTML = '';\n",
              "          dataTable['output_type'] = 'display_data';\n",
              "          await google.colab.output.renderOutput(dataTable, element);\n",
              "          const docLink = document.createElement('div');\n",
              "          docLink.innerHTML = docLinkHtml;\n",
              "          element.appendChild(docLink);\n",
              "        }\n",
              "      </script>\n",
              "    </div>\n",
              "  </div>\n",
              "  "
            ]
          },
          "metadata": {},
          "execution_count": 5
        }
      ],
      "source": [
        "# Veamos los primeros datos\n",
        "datos.head()"
      ]
    },
    {
      "cell_type": "code",
      "execution_count": 6,
      "metadata": {
        "colab": {
          "base_uri": "https://localhost:8080/",
          "height": 0
        },
        "id": "szxELFNvur-O",
        "outputId": "e1fa6a6d-fb63-42c0-9154-ccf404d241c5"
      },
      "outputs": [
        {
          "output_type": "stream",
          "name": "stdout",
          "text": [
            "<class 'pandas.core.frame.DataFrame'>\n",
            "RangeIndex: 14999 entries, 0 to 14998\n",
            "Data columns (total 10 columns):\n",
            " #   Column                 Non-Null Count  Dtype  \n",
            "---  ------                 --------------  -----  \n",
            " 0   satisfaction_level     14999 non-null  float64\n",
            " 1   last_evaluation        14999 non-null  float64\n",
            " 2   number_project         14999 non-null  int64  \n",
            " 3   average_montly_hours   14999 non-null  int64  \n",
            " 4   time_spend_company     14999 non-null  int64  \n",
            " 5   Work_accident          14999 non-null  int64  \n",
            " 6   left                   14999 non-null  int64  \n",
            " 7   promotion_last_5years  14999 non-null  int64  \n",
            " 8   sales                  14999 non-null  object \n",
            " 9   salary                 14999 non-null  object \n",
            "dtypes: float64(2), int64(6), object(2)\n",
            "memory usage: 1.1+ MB\n"
          ]
        }
      ],
      "source": [
        "#obtenemos información sobre las variables que contiene este data set \n",
        "datos.info()"
      ]
    },
    {
      "cell_type": "markdown",
      "metadata": {
        "id": "WrSGd3AEur-P"
      },
      "source": [
        "## Significado y contenido de las variables.\n",
        "\n",
        "* **satisfaction_level**: Es el nivel de satisfacción de los empleados, que va de 0-1.\n",
        "\n",
        "* **last_evaluation**: Se evalúa el desempeño por parte del empleador, el cual también va de 0-1..\n",
        "\n",
        "* **number_projects**: ¿Cual es el  número de proyectos asignados a un empleado?\n",
        "\n",
        "* **average_monthly_hours**: ¿Cuántas horas promedio trabaja un empleado en un mes?\n",
        "\n",
        "* **time_spent_company**: significa experiencia del empleado. Número de años de permanencia de un empleado en la empresa.\n",
        "\n",
        "* **work_accident**: si un empleado ha tenido un accidente de trabajo o no.\n",
        "\n",
        "* **promotion_last_5years**: si un empleado ha tenido una promoción en los últimos 5 años o no..\n",
        "\n",
        "* **sales**: departamento/división a la que pertenece el empleado.\n",
        "\n",
        "* **Salary**: Nivel salarial del empleado en los niveles:low, medium and high.\n",
        "\n",
        "* **left**: Si el empleado ha dejado la empresa o no. (0: No, 1: Sí)\n",
        "\n",
        "Observemos que la variable con denominación \"sales\" no expresa adecuadamente el contenido de la variable, quizá sea más procedente denominarla `department`, que es lo que hacemos a continuación."
      ]
    },
    {
      "cell_type": "code",
      "execution_count": 7,
      "metadata": {
        "id": "_f3Jcgwdur-Q",
        "outputId": "5afdfb17-8ab4-4444-a26c-035b0f3ed9e0",
        "colab": {
          "base_uri": "https://localhost:8080/",
          "height": 206
        }
      },
      "outputs": [
        {
          "output_type": "execute_result",
          "data": {
            "text/plain": [
              "   satisfaction_level  last_evaluation  number_project  average_montly_hours  \\\n",
              "0                0.38             0.53               2                   157   \n",
              "1                0.80             0.86               5                   262   \n",
              "2                0.11             0.88               7                   272   \n",
              "3                0.72             0.87               5                   223   \n",
              "4                0.37             0.52               2                   159   \n",
              "\n",
              "   time_spend_company  Work_accident  left  promotion_last_5years department  \\\n",
              "0                   3              0     1                      0      sales   \n",
              "1                   6              0     1                      0      sales   \n",
              "2                   4              0     1                      0      sales   \n",
              "3                   5              0     1                      0      sales   \n",
              "4                   3              0     1                      0      sales   \n",
              "\n",
              "   salary  \n",
              "0     low  \n",
              "1  medium  \n",
              "2  medium  \n",
              "3     low  \n",
              "4     low  "
            ],
            "text/html": [
              "\n",
              "  <div id=\"df-571b2cb8-d651-497c-ae95-24a81c0b140b\">\n",
              "    <div class=\"colab-df-container\">\n",
              "      <div>\n",
              "<style scoped>\n",
              "    .dataframe tbody tr th:only-of-type {\n",
              "        vertical-align: middle;\n",
              "    }\n",
              "\n",
              "    .dataframe tbody tr th {\n",
              "        vertical-align: top;\n",
              "    }\n",
              "\n",
              "    .dataframe thead th {\n",
              "        text-align: right;\n",
              "    }\n",
              "</style>\n",
              "<table border=\"1\" class=\"dataframe\">\n",
              "  <thead>\n",
              "    <tr style=\"text-align: right;\">\n",
              "      <th></th>\n",
              "      <th>satisfaction_level</th>\n",
              "      <th>last_evaluation</th>\n",
              "      <th>number_project</th>\n",
              "      <th>average_montly_hours</th>\n",
              "      <th>time_spend_company</th>\n",
              "      <th>Work_accident</th>\n",
              "      <th>left</th>\n",
              "      <th>promotion_last_5years</th>\n",
              "      <th>department</th>\n",
              "      <th>salary</th>\n",
              "    </tr>\n",
              "  </thead>\n",
              "  <tbody>\n",
              "    <tr>\n",
              "      <th>0</th>\n",
              "      <td>0.38</td>\n",
              "      <td>0.53</td>\n",
              "      <td>2</td>\n",
              "      <td>157</td>\n",
              "      <td>3</td>\n",
              "      <td>0</td>\n",
              "      <td>1</td>\n",
              "      <td>0</td>\n",
              "      <td>sales</td>\n",
              "      <td>low</td>\n",
              "    </tr>\n",
              "    <tr>\n",
              "      <th>1</th>\n",
              "      <td>0.80</td>\n",
              "      <td>0.86</td>\n",
              "      <td>5</td>\n",
              "      <td>262</td>\n",
              "      <td>6</td>\n",
              "      <td>0</td>\n",
              "      <td>1</td>\n",
              "      <td>0</td>\n",
              "      <td>sales</td>\n",
              "      <td>medium</td>\n",
              "    </tr>\n",
              "    <tr>\n",
              "      <th>2</th>\n",
              "      <td>0.11</td>\n",
              "      <td>0.88</td>\n",
              "      <td>7</td>\n",
              "      <td>272</td>\n",
              "      <td>4</td>\n",
              "      <td>0</td>\n",
              "      <td>1</td>\n",
              "      <td>0</td>\n",
              "      <td>sales</td>\n",
              "      <td>medium</td>\n",
              "    </tr>\n",
              "    <tr>\n",
              "      <th>3</th>\n",
              "      <td>0.72</td>\n",
              "      <td>0.87</td>\n",
              "      <td>5</td>\n",
              "      <td>223</td>\n",
              "      <td>5</td>\n",
              "      <td>0</td>\n",
              "      <td>1</td>\n",
              "      <td>0</td>\n",
              "      <td>sales</td>\n",
              "      <td>low</td>\n",
              "    </tr>\n",
              "    <tr>\n",
              "      <th>4</th>\n",
              "      <td>0.37</td>\n",
              "      <td>0.52</td>\n",
              "      <td>2</td>\n",
              "      <td>159</td>\n",
              "      <td>3</td>\n",
              "      <td>0</td>\n",
              "      <td>1</td>\n",
              "      <td>0</td>\n",
              "      <td>sales</td>\n",
              "      <td>low</td>\n",
              "    </tr>\n",
              "  </tbody>\n",
              "</table>\n",
              "</div>\n",
              "      <button class=\"colab-df-convert\" onclick=\"convertToInteractive('df-571b2cb8-d651-497c-ae95-24a81c0b140b')\"\n",
              "              title=\"Convert this dataframe to an interactive table.\"\n",
              "              style=\"display:none;\">\n",
              "        \n",
              "  <svg xmlns=\"http://www.w3.org/2000/svg\" height=\"24px\"viewBox=\"0 0 24 24\"\n",
              "       width=\"24px\">\n",
              "    <path d=\"M0 0h24v24H0V0z\" fill=\"none\"/>\n",
              "    <path d=\"M18.56 5.44l.94 2.06.94-2.06 2.06-.94-2.06-.94-.94-2.06-.94 2.06-2.06.94zm-11 1L8.5 8.5l.94-2.06 2.06-.94-2.06-.94L8.5 2.5l-.94 2.06-2.06.94zm10 10l.94 2.06.94-2.06 2.06-.94-2.06-.94-.94-2.06-.94 2.06-2.06.94z\"/><path d=\"M17.41 7.96l-1.37-1.37c-.4-.4-.92-.59-1.43-.59-.52 0-1.04.2-1.43.59L10.3 9.45l-7.72 7.72c-.78.78-.78 2.05 0 2.83L4 21.41c.39.39.9.59 1.41.59.51 0 1.02-.2 1.41-.59l7.78-7.78 2.81-2.81c.8-.78.8-2.07 0-2.86zM5.41 20L4 18.59l7.72-7.72 1.47 1.35L5.41 20z\"/>\n",
              "  </svg>\n",
              "      </button>\n",
              "      \n",
              "  <style>\n",
              "    .colab-df-container {\n",
              "      display:flex;\n",
              "      flex-wrap:wrap;\n",
              "      gap: 12px;\n",
              "    }\n",
              "\n",
              "    .colab-df-convert {\n",
              "      background-color: #E8F0FE;\n",
              "      border: none;\n",
              "      border-radius: 50%;\n",
              "      cursor: pointer;\n",
              "      display: none;\n",
              "      fill: #1967D2;\n",
              "      height: 32px;\n",
              "      padding: 0 0 0 0;\n",
              "      width: 32px;\n",
              "    }\n",
              "\n",
              "    .colab-df-convert:hover {\n",
              "      background-color: #E2EBFA;\n",
              "      box-shadow: 0px 1px 2px rgba(60, 64, 67, 0.3), 0px 1px 3px 1px rgba(60, 64, 67, 0.15);\n",
              "      fill: #174EA6;\n",
              "    }\n",
              "\n",
              "    [theme=dark] .colab-df-convert {\n",
              "      background-color: #3B4455;\n",
              "      fill: #D2E3FC;\n",
              "    }\n",
              "\n",
              "    [theme=dark] .colab-df-convert:hover {\n",
              "      background-color: #434B5C;\n",
              "      box-shadow: 0px 1px 3px 1px rgba(0, 0, 0, 0.15);\n",
              "      filter: drop-shadow(0px 1px 2px rgba(0, 0, 0, 0.3));\n",
              "      fill: #FFFFFF;\n",
              "    }\n",
              "  </style>\n",
              "\n",
              "      <script>\n",
              "        const buttonEl =\n",
              "          document.querySelector('#df-571b2cb8-d651-497c-ae95-24a81c0b140b button.colab-df-convert');\n",
              "        buttonEl.style.display =\n",
              "          google.colab.kernel.accessAllowed ? 'block' : 'none';\n",
              "\n",
              "        async function convertToInteractive(key) {\n",
              "          const element = document.querySelector('#df-571b2cb8-d651-497c-ae95-24a81c0b140b');\n",
              "          const dataTable =\n",
              "            await google.colab.kernel.invokeFunction('convertToInteractive',\n",
              "                                                     [key], {});\n",
              "          if (!dataTable) return;\n",
              "\n",
              "          const docLinkHtml = 'Like what you see? Visit the ' +\n",
              "            '<a target=\"_blank\" href=https://colab.research.google.com/notebooks/data_table.ipynb>data table notebook</a>'\n",
              "            + ' to learn more about interactive tables.';\n",
              "          element.innerHTML = '';\n",
              "          dataTable['output_type'] = 'display_data';\n",
              "          await google.colab.output.renderOutput(dataTable, element);\n",
              "          const docLink = document.createElement('div');\n",
              "          docLink.innerHTML = docLinkHtml;\n",
              "          element.appendChild(docLink);\n",
              "        }\n",
              "      </script>\n",
              "    </div>\n",
              "  </div>\n",
              "  "
            ]
          },
          "metadata": {},
          "execution_count": 7
        }
      ],
      "source": [
        "datos.rename(columns={'sales': 'department'}, inplace=True)\n",
        "datos.head()"
      ]
    },
    {
      "cell_type": "markdown",
      "source": [
        "# Sprint 1"
      ],
      "metadata": {
        "id": "O7qKZXOJad4u"
      }
    },
    {
      "cell_type": "markdown",
      "source": [
        "## Análisis descriptivo de los datos"
      ],
      "metadata": {
        "id": "-P1jSzSoahia"
      }
    },
    {
      "cell_type": "markdown",
      "source": [
        "Antes de iniciar la construcción de cualquier modelo de Machine Learning, es primordial realizar un análisis exploratorio que nos permita familiarizarnos con los datos y extraer las primeras conclusiones de los mismos. \n"
      ],
      "metadata": {
        "id": "-6tiVSpkwrI4"
      }
    },
    {
      "cell_type": "markdown",
      "source": [
        "### Ejemplo\n",
        "\n",
        "Evaluamos el porcentaje de empleados que pertenencen a cada uno de los departamentos (variable que anteriormente se llamaba `sales`y ahora se llama `department`)."
      ],
      "metadata": {
        "id": "QbKszzoz0P-7"
      }
    },
    {
      "cell_type": "code",
      "execution_count": 8,
      "metadata": {
        "id": "oKS55AlHur-S",
        "outputId": "87609646-0698-4992-96d9-9b5e75bd51cf",
        "colab": {
          "base_uri": "https://localhost:8080/",
          "height": 0
        }
      },
      "outputs": [
        {
          "output_type": "execute_result",
          "data": {
            "text/plain": [
              "sales          0.276018\n",
              "technical      0.181345\n",
              "support        0.148610\n",
              "IT             0.081805\n",
              "product_mng    0.060137\n",
              "marketing      0.057204\n",
              "RandD          0.052470\n",
              "accounting     0.051137\n",
              "hr             0.049270\n",
              "management     0.042003\n",
              "Name: department, dtype: float64"
            ]
          },
          "metadata": {},
          "execution_count": 8
        }
      ],
      "source": [
        "datos.department.value_counts(normalize=True)"
      ]
    },
    {
      "cell_type": "markdown",
      "metadata": {
        "id": "6539QLRGur-S"
      },
      "source": [
        "Los datos anteriores en formato de gráfico, los obtendremos de la siguiente manera:"
      ]
    },
    {
      "cell_type": "code",
      "execution_count": 9,
      "metadata": {
        "id": "9sN_KPO7ur-T",
        "outputId": "6095c2b1-db1e-42b3-e075-b45b6e8f71e3",
        "colab": {
          "base_uri": "https://localhost:8080/",
          "height": 448
        }
      },
      "outputs": [
        {
          "output_type": "display_data",
          "data": {
            "text/plain": [
              "<Figure size 864x432 with 1 Axes>"
            ],
            "image/png": "[encoded data removed]"
          },
          "metadata": {
            "needs_background": "light"
          }
        }
      ],
      "source": [
        "plt.figure(figsize=(12,6))\n",
        "data_group = datos.groupby(by=['department'],as_index=False).count()\n",
        "ax = sns.barplot(x=\"department\", y=\"left\", data=data_group)\n",
        "ax.set(xlabel='Departamento', ylabel='Número de empleados')\n",
        "\n",
        "plt.xticks(rotation = 90);"
      ]
    },
    {
      "cell_type": "markdown",
      "source": [
        "Podemos ver que casi un 30% de los empleados presentes en la muestra pertenecen al departamento de ventas."
      ],
      "metadata": {
        "id": "9FCJkSu51Vmj"
      }
    },
    {
      "cell_type": "markdown",
      "source": [
        "**¡Ahora es tu turno! ¿Qué más gráficos se te ocurren que pueden aportar una información valiosa al análisis?** \n",
        "\n",
        "Os facilito un par de enlaces que os pueden servir de inspiración para realizar esta parte:\n",
        "\n",
        "\n",
        "\n",
        "\n",
        "*   [Introducción a la estadística descriptiva](https://deepnote.com/@anthonymanotoa/Apuntes-de-Estadistica-Descriptiva-cfa882b6-c07f-43fe-9901-1c2e471ce120): Para aquellos que de seen introducirse a la analítica descriptiva desde cero.\n",
        "*   [Análisis de datos categóricos con Python](https://relopezbriega.github.io/blog/2016/02/29/analisis-de-datos-categoricos-con-python/): Enfocado en el estudio de variables categóricas.\n",
        "*   [Análisis exploratorio de datos con Python](https://www.kaggle.com/code/abonaplata/analisis-exploratorio-de-datos-con-python#AN%C3%81LISIS-EXPLORATORIO-DE-DATOS-CON-PYTHON): Estudia la relación entre variables categóricas y variables continuas.\n",
        "\n",
        "Sin embargo, éstos no dejan de ser unos de los muchos ejemplos sobre cómo realizar el análisis exploratorio, así que tenéis total libertad para explorar y realizar cualquier análisis adicional que se os ocurra.\n"
      ],
      "metadata": {
        "id": "kBea5TMP0qGB"
      }
    },
    {
      "cell_type": "code",
      "source": [
        "# left (variable objetivo)\n",
        "left_group = datos.groupby(\"left\").count().loc[:,[datos.columns[0]]]\n",
        "left_group.columns = [\"count\"]\n",
        "plt.suptitle(\"Left vs No-Left\")\n",
        "sns.barplot(x=left_group.index, y=left_group.values.ravel())\n",
        "plt.show()\n",
        "total = len(datos)\n",
        "left_group[\"left_percent\"] = left_group[\"count\"].apply(lambda x: f\"{100 * (x / total):.1f}%\")\n",
        "left_group"
      ],
      "metadata": {
        "colab": {
          "base_uri": "https://localhost:8080/",
          "height": 437
        },
        "id": "yLNbw9hsKQ4i",
        "outputId": "0263e9af-17e2-40fb-c210-a19c4f7e7f74"
      },
      "execution_count": 10,
      "outputs": [
        {
          "output_type": "display_data",
          "data": {
            "text/plain": [
              "<Figure size 432x288 with 1 Axes>"
            ],
            "image/png": "[encoded data removed]"
          },
          "metadata": {
            "needs_background": "light"
          }
        },
        {
          "output_type": "execute_result",
          "data": {
            "text/plain": [
              "      count left_percent\n",
              "left                    \n",
              "0     11428        76.2%\n",
              "1      3571        23.8%"
            ],
            "text/html": [
              "\n",
              "  <div id=\"df-db6a1669-bdae-4ccc-a7df-b8a6663edbda\">\n",
              "    <div class=\"colab-df-container\">\n",
              "      <div>\n",
              "<style scoped>\n",
              "    .dataframe tbody tr th:only-of-type {\n",
              "        vertical-align: middle;\n",
              "    }\n",
              "\n",
              "    .dataframe tbody tr th {\n",
              "        vertical-align: top;\n",
              "    }\n",
              "\n",
              "    .dataframe thead th {\n",
              "        text-align: right;\n",
              "    }\n",
              "</style>\n",
              "<table border=\"1\" class=\"dataframe\">\n",
              "  <thead>\n",
              "    <tr style=\"text-align: right;\">\n",
              "      <th></th>\n",
              "      <th>count</th>\n",
              "      <th>left_percent</th>\n",
              "    </tr>\n",
              "    <tr>\n",
              "      <th>left</th>\n",
              "      <th></th>\n",
              "      <th></th>\n",
              "    </tr>\n",
              "  </thead>\n",
              "  <tbody>\n",
              "    <tr>\n",
              "      <th>0</th>\n",
              "      <td>11428</td>\n",
              "      <td>76.2%</td>\n",
              "    </tr>\n",
              "    <tr>\n",
              "      <th>1</th>\n",
              "      <td>3571</td>\n",
              "      <td>23.8%</td>\n",
              "    </tr>\n",
              "  </tbody>\n",
              "</table>\n",
              "</div>\n",
              "      <button class=\"colab-df-convert\" onclick=\"convertToInteractive('df-db6a1669-bdae-4ccc-a7df-b8a6663edbda')\"\n",
              "              title=\"Convert this dataframe to an interactive table.\"\n",
              "              style=\"display:none;\">\n",
              "        \n",
              "  <svg xmlns=\"http://www.w3.org/2000/svg\" height=\"24px\"viewBox=\"0 0 24 24\"\n",
              "       width=\"24px\">\n",
              "    <path d=\"M0 0h24v24H0V0z\" fill=\"none\"/>\n",
              "    <path d=\"M18.56 5.44l.94 2.06.94-2.06 2.06-.94-2.06-.94-.94-2.06-.94 2.06-2.06.94zm-11 1L8.5 8.5l.94-2.06 2.06-.94-2.06-.94L8.5 2.5l-.94 2.06-2.06.94zm10 10l.94 2.06.94-2.06 2.06-.94-2.06-.94-.94-2.06-.94 2.06-2.06.94z\"/><path d=\"M17.41 7.96l-1.37-1.37c-.4-.4-.92-.59-1.43-.59-.52 0-1.04.2-1.43.59L10.3 9.45l-7.72 7.72c-.78.78-.78 2.05 0 2.83L4 21.41c.39.39.9.59 1.41.59.51 0 1.02-.2 1.41-.59l7.78-7.78 2.81-2.81c.8-.78.8-2.07 0-2.86zM5.41 20L4 18.59l7.72-7.72 1.47 1.35L5.41 20z\"/>\n",
              "  </svg>\n",
              "      </button>\n",
              "      \n",
              "  <style>\n",
              "    .colab-df-container {\n",
              "      display:flex;\n",
              "      flex-wrap:wrap;\n",
              "      gap: 12px;\n",
              "    }\n",
              "\n",
              "    .colab-df-convert {\n",
              "      background-color: #E8F0FE;\n",
              "      border: none;\n",
              "      border-radius: 50%;\n",
              "      cursor: pointer;\n",
              "      display: none;\n",
              "      fill: #1967D2;\n",
              "      height: 32px;\n",
              "      padding: 0 0 0 0;\n",
              "      width: 32px;\n",
              "    }\n",
              "\n",
              "    .colab-df-convert:hover {\n",
              "      background-color: #E2EBFA;\n",
              "      box-shadow: 0px 1px 2px rgba(60, 64, 67, 0.3), 0px 1px 3px 1px rgba(60, 64, 67, 0.15);\n",
              "      fill: #174EA6;\n",
              "    }\n",
              "\n",
              "    [theme=dark] .colab-df-convert {\n",
              "      background-color: #3B4455;\n",
              "      fill: #D2E3FC;\n",
              "    }\n",
              "\n",
              "    [theme=dark] .colab-df-convert:hover {\n",
              "      background-color: #434B5C;\n",
              "      box-shadow: 0px 1px 3px 1px rgba(0, 0, 0, 0.15);\n",
              "      filter: drop-shadow(0px 1px 2px rgba(0, 0, 0, 0.3));\n",
              "      fill: #FFFFFF;\n",
              "    }\n",
              "  </style>\n",
              "\n",
              "      <script>\n",
              "        const buttonEl =\n",
              "          document.querySelector('#df-db6a1669-bdae-4ccc-a7df-b8a6663edbda button.colab-df-convert');\n",
              "        buttonEl.style.display =\n",
              "          google.colab.kernel.accessAllowed ? 'block' : 'none';\n",
              "\n",
              "        async function convertToInteractive(key) {\n",
              "          const element = document.querySelector('#df-db6a1669-bdae-4ccc-a7df-b8a6663edbda');\n",
              "          const dataTable =\n",
              "            await google.colab.kernel.invokeFunction('convertToInteractive',\n",
              "                                                     [key], {});\n",
              "          if (!dataTable) return;\n",
              "\n",
              "          const docLinkHtml = 'Like what you see? Visit the ' +\n",
              "            '<a target=\"_blank\" href=https://colab.research.google.com/notebooks/data_table.ipynb>data table notebook</a>'\n",
              "            + ' to learn more about interactive tables.';\n",
              "          element.innerHTML = '';\n",
              "          dataTable['output_type'] = 'display_data';\n",
              "          await google.colab.output.renderOutput(dataTable, element);\n",
              "          const docLink = document.createElement('div');\n",
              "          docLink.innerHTML = docLinkHtml;\n",
              "          element.appendChild(docLink);\n",
              "        }\n",
              "      </script>\n",
              "    </div>\n",
              "  </div>\n",
              "  "
            ]
          },
          "metadata": {},
          "execution_count": 10
        }
      ]
    },
    {
      "cell_type": "markdown",
      "source": [
        "Vemos que el dataset está desbalanceado, contiene un 76% de casos negativos y un 24% de positivos."
      ],
      "metadata": {
        "id": "ztnORFAZMKgZ"
      }
    },
    {
      "cell_type": "code",
      "source": [
        "# Esta función nos permite mostrar unos gráficos por defecto para echar un primer vistazo a las variables\n",
        "def describe_var(name, desc, min=0, max=1, vline=None, hist=True, categorical=False):\n",
        "  fig = plt.figure(figsize=(12, 5))\n",
        "  plt.suptitle(desc)\n",
        "  if not categorical and hist:\n",
        "    ax1 = sns.histplot(datos, x=name, hue=\"left\", ax=plt.subplot(121))\n",
        "    ax1.set_xlim(min, max)\n",
        "    if vline:\n",
        "      if type(vline) != list:\n",
        "        vline = [vline]\n",
        "      for p in vline:\n",
        "        ax1.axvline(p, ls='--', c=\"k\", label='0.5')\n",
        "        ax1.text(p, -30, f\"({p})\")\n",
        "  else:\n",
        "    group = datos.groupby(name).count()[\"left\"]\n",
        "    ax1=sns.barplot(x=group.index, y=group.values, ax=plt.subplot(121) if not categorical else None)\n",
        "  if not categorical:\n",
        "    sns.boxplot(x=datos[\"left\"], y=datos[name], ax=plt.subplot(122))\n",
        "    plt.tight_layout(pad=5)\n",
        "  plt.show()\n",
        "  if not categorical:\n",
        "    print(\"Correlación con la variable objetivo:\", datos.corr()[[\"left\"]].loc[name].values[0])\n",
        "    display(datos.describe()[[name]].T)"
      ],
      "metadata": {
        "id": "nM9QLBzosDdr"
      },
      "execution_count": 11,
      "outputs": []
    },
    {
      "cell_type": "code",
      "source": [
        "# satisfaction_level\n",
        "describe_var(name=\"satisfaction_level\", desc=\"Satisfaction Level\")"
      ],
      "metadata": {
        "colab": {
          "base_uri": "https://localhost:8080/",
          "height": 415
        },
        "id": "fB6PbjWyzVIx",
        "outputId": "43aecc7a-d6ac-44b9-991c-eb7bdeda818d"
      },
      "execution_count": 12,
      "outputs": [
        {
          "output_type": "display_data",
          "data": {
            "text/plain": [
              "<Figure size 864x360 with 2 Axes>"
            ],
            "image/png": "[encoded data removed]"
          },
          "metadata": {
            "needs_background": "light"
          }
        },
        {
          "output_type": "stream",
          "name": "stdout",
          "text": [
            "Correlación con la variable objetivo: -0.3883749834241161\n"
          ]
        },
        {
          "output_type": "display_data",
          "data": {
            "text/plain": [
              "                      count      mean       std   min   25%   50%   75%  max\n",
              "satisfaction_level  14999.0  0.612834  0.248631  0.09  0.44  0.64  0.82  1.0"
            ],
            "text/html": [
              "\n",
              "  <div id=\"df-64b0df49-c799-4adf-bf64-aece5fc95d25\">\n",
              "    <div class=\"colab-df-container\">\n",
              "      <div>\n",
              "<style scoped>\n",
              "    .dataframe tbody tr th:only-of-type {\n",
              "        vertical-align: middle;\n",
              "    }\n",
              "\n",
              "    .dataframe tbody tr th {\n",
              "        vertical-align: top;\n",
              "    }\n",
              "\n",
              "    .dataframe thead th {\n",
              "        text-align: right;\n",
              "    }\n",
              "</style>\n",
              "<table border=\"1\" class=\"dataframe\">\n",
              "  <thead>\n",
              "    <tr style=\"text-align: right;\">\n",
              "      <th></th>\n",
              "      <th>count</th>\n",
              "      <th>mean</th>\n",
              "      <th>std</th>\n",
              "      <th>min</th>\n",
              "      <th>25%</th>\n",
              "      <th>50%</th>\n",
              "      <th>75%</th>\n",
              "      <th>max</th>\n",
              "    </tr>\n",
              "  </thead>\n",
              "  <tbody>\n",
              "    <tr>\n",
              "      <th>satisfaction_level</th>\n",
              "      <td>14999.0</td>\n",
              "      <td>0.612834</td>\n",
              "      <td>0.248631</td>\n",
              "      <td>0.09</td>\n",
              "      <td>0.44</td>\n",
              "      <td>0.64</td>\n",
              "      <td>0.82</td>\n",
              "      <td>1.0</td>\n",
              "    </tr>\n",
              "  </tbody>\n",
              "</table>\n",
              "</div>\n",
              "      <button class=\"colab-df-convert\" onclick=\"convertToInteractive('df-64b0df49-c799-4adf-bf64-aece5fc95d25')\"\n",
              "              title=\"Convert this dataframe to an interactive table.\"\n",
              "              style=\"display:none;\">\n",
              "        \n",
              "  <svg xmlns=\"http://www.w3.org/2000/svg\" height=\"24px\"viewBox=\"0 0 24 24\"\n",
              "       width=\"24px\">\n",
              "    <path d=\"M0 0h24v24H0V0z\" fill=\"none\"/>\n",
              "    <path d=\"M18.56 5.44l.94 2.06.94-2.06 2.06-.94-2.06-.94-.94-2.06-.94 2.06-2.06.94zm-11 1L8.5 8.5l.94-2.06 2.06-.94-2.06-.94L8.5 2.5l-.94 2.06-2.06.94zm10 10l.94 2.06.94-2.06 2.06-.94-2.06-.94-.94-2.06-.94 2.06-2.06.94z\"/><path d=\"M17.41 7.96l-1.37-1.37c-.4-.4-.92-.59-1.43-.59-.52 0-1.04.2-1.43.59L10.3 9.45l-7.72 7.72c-.78.78-.78 2.05 0 2.83L4 21.41c.39.39.9.59 1.41.59.51 0 1.02-.2 1.41-.59l7.78-7.78 2.81-2.81c.8-.78.8-2.07 0-2.86zM5.41 20L4 18.59l7.72-7.72 1.47 1.35L5.41 20z\"/>\n",
              "  </svg>\n",
              "      </button>\n",
              "      \n",
              "  <style>\n",
              "    .colab-df-container {\n",
              "      display:flex;\n",
              "      flex-wrap:wrap;\n",
              "      gap: 12px;\n",
              "    }\n",
              "\n",
              "    .colab-df-convert {\n",
              "      background-color: #E8F0FE;\n",
              "      border: none;\n",
              "      border-radius: 50%;\n",
              "      cursor: pointer;\n",
              "      display: none;\n",
              "      fill: #1967D2;\n",
              "      height: 32px;\n",
              "      padding: 0 0 0 0;\n",
              "      width: 32px;\n",
              "    }\n",
              "\n",
              "    .colab-df-convert:hover {\n",
              "      background-color: #E2EBFA;\n",
              "      box-shadow: 0px 1px 2px rgba(60, 64, 67, 0.3), 0px 1px 3px 1px rgba(60, 64, 67, 0.15);\n",
              "      fill: #174EA6;\n",
              "    }\n",
              "\n",
              "    [theme=dark] .colab-df-convert {\n",
              "      background-color: #3B4455;\n",
              "      fill: #D2E3FC;\n",
              "    }\n",
              "\n",
              "    [theme=dark] .colab-df-convert:hover {\n",
              "      background-color: #434B5C;\n",
              "      box-shadow: 0px 1px 3px 1px rgba(0, 0, 0, 0.15);\n",
              "      filter: drop-shadow(0px 1px 2px rgba(0, 0, 0, 0.3));\n",
              "      fill: #FFFFFF;\n",
              "    }\n",
              "  </style>\n",
              "\n",
              "      <script>\n",
              "        const buttonEl =\n",
              "          document.querySelector('#df-64b0df49-c799-4adf-bf64-aece5fc95d25 button.colab-df-convert');\n",
              "        buttonEl.style.display =\n",
              "          google.colab.kernel.accessAllowed ? 'block' : 'none';\n",
              "\n",
              "        async function convertToInteractive(key) {\n",
              "          const element = document.querySelector('#df-64b0df49-c799-4adf-bf64-aece5fc95d25');\n",
              "          const dataTable =\n",
              "            await google.colab.kernel.invokeFunction('convertToInteractive',\n",
              "                                                     [key], {});\n",
              "          if (!dataTable) return;\n",
              "\n",
              "          const docLinkHtml = 'Like what you see? Visit the ' +\n",
              "            '<a target=\"_blank\" href=https://colab.research.google.com/notebooks/data_table.ipynb>data table notebook</a>'\n",
              "            + ' to learn more about interactive tables.';\n",
              "          element.innerHTML = '';\n",
              "          dataTable['output_type'] = 'display_data';\n",
              "          await google.colab.output.renderOutput(dataTable, element);\n",
              "          const docLink = document.createElement('div');\n",
              "          docLink.innerHTML = docLinkHtml;\n",
              "          element.appendChild(docLink);\n",
              "        }\n",
              "      </script>\n",
              "    </div>\n",
              "  </div>\n",
              "  "
            ]
          },
          "metadata": {}
        }
      ]
    },
    {
      "cell_type": "markdown",
      "source": [
        "Esta variable contiene valores contínuos entre `[0, 1]`. \n",
        "\n",
        "Se distribuye de forma uniforme en dos tramos\n",
        "\n",
        "- de 0 a 0.44 en dónde están el 25% de los datos\n",
        "- de 0.45 hasta 1 en dónde están el 75% de los datos.\n",
        "\n",
        "Tiene una correlación lineal inversa con la variable objetivo y parece claro que cuanto mayor es el nivel de satisfacción menor es la probabilidad de que el empleado deje la empresa."
      ],
      "metadata": {
        "id": "KVgttcKBzhJ8"
      }
    },
    {
      "cell_type": "code",
      "source": [
        "describe_var(\"last_evaluation\", \"Last Evaluation\", vline=0.46)\n",
        "print(f\"El {stats.percentileofscore(datos['last_evaluation'],0.46):.1f} % de los valores es <= a 0.46\")"
      ],
      "metadata": {
        "colab": {
          "base_uri": "https://localhost:8080/",
          "height": 432
        },
        "id": "ExUtzBPnukL3",
        "outputId": "0593554b-4ab8-4277-b195-5f6c7cd79957"
      },
      "execution_count": 13,
      "outputs": [
        {
          "output_type": "display_data",
          "data": {
            "text/plain": [
              "<Figure size 864x360 with 2 Axes>"
            ],
            "image/png": "[encoded data removed]"
          },
          "metadata": {
            "needs_background": "light"
          }
        },
        {
          "output_type": "stream",
          "name": "stdout",
          "text": [
            "Correlación con la variable objetivo: 0.006567120447529851\n"
          ]
        },
        {
          "output_type": "display_data",
          "data": {
            "text/plain": [
              "                   count      mean       std   min   25%   50%   75%  max\n",
              "last_evaluation  14999.0  0.716102  0.171169  0.36  0.56  0.72  0.87  1.0"
            ],
            "text/html": [
              "\n",
              "  <div id=\"df-dca554f0-edd5-4cf7-939c-de975a60ad3d\">\n",
              "    <div class=\"colab-df-container\">\n",
              "      <div>\n",
              "<style scoped>\n",
              "    .dataframe tbody tr th:only-of-type {\n",
              "        vertical-align: middle;\n",
              "    }\n",
              "\n",
              "    .dataframe tbody tr th {\n",
              "        vertical-align: top;\n",
              "    }\n",
              "\n",
              "    .dataframe thead th {\n",
              "        text-align: right;\n",
              "    }\n",
              "</style>\n",
              "<table border=\"1\" class=\"dataframe\">\n",
              "  <thead>\n",
              "    <tr style=\"text-align: right;\">\n",
              "      <th></th>\n",
              "      <th>count</th>\n",
              "      <th>mean</th>\n",
              "      <th>std</th>\n",
              "      <th>min</th>\n",
              "      <th>25%</th>\n",
              "      <th>50%</th>\n",
              "      <th>75%</th>\n",
              "      <th>max</th>\n",
              "    </tr>\n",
              "  </thead>\n",
              "  <tbody>\n",
              "    <tr>\n",
              "      <th>last_evaluation</th>\n",
              "      <td>14999.0</td>\n",
              "      <td>0.716102</td>\n",
              "      <td>0.171169</td>\n",
              "      <td>0.36</td>\n",
              "      <td>0.56</td>\n",
              "      <td>0.72</td>\n",
              "      <td>0.87</td>\n",
              "      <td>1.0</td>\n",
              "    </tr>\n",
              "  </tbody>\n",
              "</table>\n",
              "</div>\n",
              "      <button class=\"colab-df-convert\" onclick=\"convertToInteractive('df-dca554f0-edd5-4cf7-939c-de975a60ad3d')\"\n",
              "              title=\"Convert this dataframe to an interactive table.\"\n",
              "              style=\"display:none;\">\n",
              "        \n",
              "  <svg xmlns=\"http://www.w3.org/2000/svg\" height=\"24px\"viewBox=\"0 0 24 24\"\n",
              "       width=\"24px\">\n",
              "    <path d=\"M0 0h24v24H0V0z\" fill=\"none\"/>\n",
              "    <path d=\"M18.56 5.44l.94 2.06.94-2.06 2.06-.94-2.06-.94-.94-2.06-.94 2.06-2.06.94zm-11 1L8.5 8.5l.94-2.06 2.06-.94-2.06-.94L8.5 2.5l-.94 2.06-2.06.94zm10 10l.94 2.06.94-2.06 2.06-.94-2.06-.94-.94-2.06-.94 2.06-2.06.94z\"/><path d=\"M17.41 7.96l-1.37-1.37c-.4-.4-.92-.59-1.43-.59-.52 0-1.04.2-1.43.59L10.3 9.45l-7.72 7.72c-.78.78-.78 2.05 0 2.83L4 21.41c.39.39.9.59 1.41.59.51 0 1.02-.2 1.41-.59l7.78-7.78 2.81-2.81c.8-.78.8-2.07 0-2.86zM5.41 20L4 18.59l7.72-7.72 1.47 1.35L5.41 20z\"/>\n",
              "  </svg>\n",
              "      </button>\n",
              "      \n",
              "  <style>\n",
              "    .colab-df-container {\n",
              "      display:flex;\n",
              "      flex-wrap:wrap;\n",
              "      gap: 12px;\n",
              "    }\n",
              "\n",
              "    .colab-df-convert {\n",
              "      background-color: #E8F0FE;\n",
              "      border: none;\n",
              "      border-radius: 50%;\n",
              "      cursor: pointer;\n",
              "      display: none;\n",
              "      fill: #1967D2;\n",
              "      height: 32px;\n",
              "      padding: 0 0 0 0;\n",
              "      width: 32px;\n",
              "    }\n",
              "\n",
              "    .colab-df-convert:hover {\n",
              "      background-color: #E2EBFA;\n",
              "      box-shadow: 0px 1px 2px rgba(60, 64, 67, 0.3), 0px 1px 3px 1px rgba(60, 64, 67, 0.15);\n",
              "      fill: #174EA6;\n",
              "    }\n",
              "\n",
              "    [theme=dark] .colab-df-convert {\n",
              "      background-color: #3B4455;\n",
              "      fill: #D2E3FC;\n",
              "    }\n",
              "\n",
              "    [theme=dark] .colab-df-convert:hover {\n",
              "      background-color: #434B5C;\n",
              "      box-shadow: 0px 1px 3px 1px rgba(0, 0, 0, 0.15);\n",
              "      filter: drop-shadow(0px 1px 2px rgba(0, 0, 0, 0.3));\n",
              "      fill: #FFFFFF;\n",
              "    }\n",
              "  </style>\n",
              "\n",
              "      <script>\n",
              "        const buttonEl =\n",
              "          document.querySelector('#df-dca554f0-edd5-4cf7-939c-de975a60ad3d button.colab-df-convert');\n",
              "        buttonEl.style.display =\n",
              "          google.colab.kernel.accessAllowed ? 'block' : 'none';\n",
              "\n",
              "        async function convertToInteractive(key) {\n",
              "          const element = document.querySelector('#df-dca554f0-edd5-4cf7-939c-de975a60ad3d');\n",
              "          const dataTable =\n",
              "            await google.colab.kernel.invokeFunction('convertToInteractive',\n",
              "                                                     [key], {});\n",
              "          if (!dataTable) return;\n",
              "\n",
              "          const docLinkHtml = 'Like what you see? Visit the ' +\n",
              "            '<a target=\"_blank\" href=https://colab.research.google.com/notebooks/data_table.ipynb>data table notebook</a>'\n",
              "            + ' to learn more about interactive tables.';\n",
              "          element.innerHTML = '';\n",
              "          dataTable['output_type'] = 'display_data';\n",
              "          await google.colab.output.renderOutput(dataTable, element);\n",
              "          const docLink = document.createElement('div');\n",
              "          docLink.innerHTML = docLinkHtml;\n",
              "          element.appendChild(docLink);\n",
              "        }\n",
              "      </script>\n",
              "    </div>\n",
              "  </div>\n",
              "  "
            ]
          },
          "metadata": {}
        },
        {
          "output_type": "stream",
          "name": "stdout",
          "text": [
            "El 4.4 % de los valores es <= a 0.46\n"
          ]
        }
      ]
    },
    {
      "cell_type": "markdown",
      "source": [
        "Esta vaiable toma valores contínuos en el rango `[0, 1]`. Los valores se distribuyen uniformemente en tres tramos\n",
        "\n",
        "- de 0 a 0.35 no hay datos\n",
        "- de 0.36 a 0.46 está el 4% de los datos\n",
        "- a partir del 0.46 está el 96% de los datos\n",
        "\n",
        "Esta variable no presenta una correlación lineal con la variable objetivo, pero eso no quiere decir que no sea relevante."
      ],
      "metadata": {
        "id": "2Wi96m3c8g0c"
      }
    },
    {
      "cell_type": "code",
      "source": [
        "# number_project\n",
        "describe_var(\"number_project\", \"Number of Projects\", min=1, max=7, hist=False)\n",
        "print(\"La moda de esta variable es: \", int(datos.number_project.mode()))\n",
        "\n",
        "datos.groupby(\"left\").agg([\"min\", \"max\"])[\"number_project\"].plot(kind=\"bar\", title=\"Rango de num_project vs left\")\n",
        "plt.show()\n",
        "np_eq_7 = datos.loc[datos.number_project == 7, \"left\"].agg(\"count\")\n",
        "np_eq_7_rt = (np_eq_7 / len(datos)) * 100\n",
        "print(f\"Total de casos con 7 proyectos: {np_eq_7} ({np_eq_7_rt:.1f}%)\")"
      ],
      "metadata": {
        "colab": {
          "base_uri": "https://localhost:8080/",
          "height": 729
        },
        "id": "LLqil_F2AKSP",
        "outputId": "c76d4da2-14ac-4250-afbe-bcacde097939"
      },
      "execution_count": 14,
      "outputs": [
        {
          "output_type": "display_data",
          "data": {
            "text/plain": [
              "<Figure size 864x360 with 2 Axes>"
            ],
            "image/png": "[encoded data removed]"
          },
          "metadata": {
            "needs_background": "light"
          }
        },
        {
          "output_type": "stream",
          "name": "stdout",
          "text": [
            "Correlación con la variable objetivo: 0.023787185071774745\n"
          ]
        },
        {
          "output_type": "display_data",
          "data": {
            "text/plain": [
              "                  count      mean       std  min  25%  50%  75%  max\n",
              "number_project  14999.0  3.803054  1.232592  2.0  3.0  4.0  5.0  7.0"
            ],
            "text/html": [
              "\n",
              "  <div id=\"df-6c1f4a3a-15cf-4df4-ad88-4f357f734bfa\">\n",
              "    <div class=\"colab-df-container\">\n",
              "      <div>\n",
              "<style scoped>\n",
              "    .dataframe tbody tr th:only-of-type {\n",
              "        vertical-align: middle;\n",
              "    }\n",
              "\n",
              "    .dataframe tbody tr th {\n",
              "        vertical-align: top;\n",
              "    }\n",
              "\n",
              "    .dataframe thead th {\n",
              "        text-align: right;\n",
              "    }\n",
              "</style>\n",
              "<table border=\"1\" class=\"dataframe\">\n",
              "  <thead>\n",
              "    <tr style=\"text-align: right;\">\n",
              "      <th></th>\n",
              "      <th>count</th>\n",
              "      <th>mean</th>\n",
              "      <th>std</th>\n",
              "      <th>min</th>\n",
              "      <th>25%</th>\n",
              "      <th>50%</th>\n",
              "      <th>75%</th>\n",
              "      <th>max</th>\n",
              "    </tr>\n",
              "  </thead>\n",
              "  <tbody>\n",
              "    <tr>\n",
              "      <th>number_project</th>\n",
              "      <td>14999.0</td>\n",
              "      <td>3.803054</td>\n",
              "      <td>1.232592</td>\n",
              "      <td>2.0</td>\n",
              "      <td>3.0</td>\n",
              "      <td>4.0</td>\n",
              "      <td>5.0</td>\n",
              "      <td>7.0</td>\n",
              "    </tr>\n",
              "  </tbody>\n",
              "</table>\n",
              "</div>\n",
              "      <button class=\"colab-df-convert\" onclick=\"convertToInteractive('df-6c1f4a3a-15cf-4df4-ad88-4f357f734bfa')\"\n",
              "              title=\"Convert this dataframe to an interactive table.\"\n",
              "              style=\"display:none;\">\n",
              "        \n",
              "  <svg xmlns=\"http://www.w3.org/2000/svg\" height=\"24px\"viewBox=\"0 0 24 24\"\n",
              "       width=\"24px\">\n",
              "    <path d=\"M0 0h24v24H0V0z\" fill=\"none\"/>\n",
              "    <path d=\"M18.56 5.44l.94 2.06.94-2.06 2.06-.94-2.06-.94-.94-2.06-.94 2.06-2.06.94zm-11 1L8.5 8.5l.94-2.06 2.06-.94-2.06-.94L8.5 2.5l-.94 2.06-2.06.94zm10 10l.94 2.06.94-2.06 2.06-.94-2.06-.94-.94-2.06-.94 2.06-2.06.94z\"/><path d=\"M17.41 7.96l-1.37-1.37c-.4-.4-.92-.59-1.43-.59-.52 0-1.04.2-1.43.59L10.3 9.45l-7.72 7.72c-.78.78-.78 2.05 0 2.83L4 21.41c.39.39.9.59 1.41.59.51 0 1.02-.2 1.41-.59l7.78-7.78 2.81-2.81c.8-.78.8-2.07 0-2.86zM5.41 20L4 18.59l7.72-7.72 1.47 1.35L5.41 20z\"/>\n",
              "  </svg>\n",
              "      </button>\n",
              "      \n",
              "  <style>\n",
              "    .colab-df-container {\n",
              "      display:flex;\n",
              "      flex-wrap:wrap;\n",
              "      gap: 12px;\n",
              "    }\n",
              "\n",
              "    .colab-df-convert {\n",
              "      background-color: #E8F0FE;\n",
              "      border: none;\n",
              "      border-radius: 50%;\n",
              "      cursor: pointer;\n",
              "      display: none;\n",
              "      fill: #1967D2;\n",
              "      height: 32px;\n",
              "      padding: 0 0 0 0;\n",
              "      width: 32px;\n",
              "    }\n",
              "\n",
              "    .colab-df-convert:hover {\n",
              "      background-color: #E2EBFA;\n",
              "      box-shadow: 0px 1px 2px rgba(60, 64, 67, 0.3), 0px 1px 3px 1px rgba(60, 64, 67, 0.15);\n",
              "      fill: #174EA6;\n",
              "    }\n",
              "\n",
              "    [theme=dark] .colab-df-convert {\n",
              "      background-color: #3B4455;\n",
              "      fill: #D2E3FC;\n",
              "    }\n",
              "\n",
              "    [theme=dark] .colab-df-convert:hover {\n",
              "      background-color: #434B5C;\n",
              "      box-shadow: 0px 1px 3px 1px rgba(0, 0, 0, 0.15);\n",
              "      filter: drop-shadow(0px 1px 2px rgba(0, 0, 0, 0.3));\n",
              "      fill: #FFFFFF;\n",
              "    }\n",
              "  </style>\n",
              "\n",
              "      <script>\n",
              "        const buttonEl =\n",
              "          document.querySelector('#df-6c1f4a3a-15cf-4df4-ad88-4f357f734bfa button.colab-df-convert');\n",
              "        buttonEl.style.display =\n",
              "          google.colab.kernel.accessAllowed ? 'block' : 'none';\n",
              "\n",
              "        async function convertToInteractive(key) {\n",
              "          const element = document.querySelector('#df-6c1f4a3a-15cf-4df4-ad88-4f357f734bfa');\n",
              "          const dataTable =\n",
              "            await google.colab.kernel.invokeFunction('convertToInteractive',\n",
              "                                                     [key], {});\n",
              "          if (!dataTable) return;\n",
              "\n",
              "          const docLinkHtml = 'Like what you see? Visit the ' +\n",
              "            '<a target=\"_blank\" href=https://colab.research.google.com/notebooks/data_table.ipynb>data table notebook</a>'\n",
              "            + ' to learn more about interactive tables.';\n",
              "          element.innerHTML = '';\n",
              "          dataTable['output_type'] = 'display_data';\n",
              "          await google.colab.output.renderOutput(dataTable, element);\n",
              "          const docLink = document.createElement('div');\n",
              "          docLink.innerHTML = docLinkHtml;\n",
              "          element.appendChild(docLink);\n",
              "        }\n",
              "      </script>\n",
              "    </div>\n",
              "  </div>\n",
              "  "
            ]
          },
          "metadata": {}
        },
        {
          "output_type": "stream",
          "name": "stdout",
          "text": [
            "La moda de esta variable es:  4\n"
          ]
        },
        {
          "output_type": "display_data",
          "data": {
            "text/plain": [
              "<Figure size 432x288 with 1 Axes>"
            ],
            "image/png": "[encoded data removed]"
          },
          "metadata": {
            "needs_background": "light"
          }
        },
        {
          "output_type": "stream",
          "name": "stdout",
          "text": [
            "Total de casos con 7 proyectos: 256 (1.7%)\n"
          ]
        }
      ]
    },
    {
      "cell_type": "markdown",
      "source": [
        "Esta es una variable discreta que toma valores entre `[2, 7]` en este dataset.\n",
        "\n",
        "Lo más común es que un empleado haya partic ipado en 4 proyectos o menos, siendo el valor más común 4 (la moda).\n",
        "\n",
        "Esta variable no parece correlacionada con la variable objetivo. El único patrón que he detectado es que todos aquellos que han participado en 7 proyectos han renunciado. Pero esto representa menos del 2% de los datos."
      ],
      "metadata": {
        "id": "ooHrJQfO03hD"
      }
    },
    {
      "cell_type": "code",
      "source": [
        "# time_spend_company\n",
        "describe_var(\"time_spend_company\", \"Years in company\", min=1, max=10, hist=False)"
      ],
      "metadata": {
        "colab": {
          "base_uri": "https://localhost:8080/",
          "height": 415
        },
        "id": "Pc8BFawKYbEv",
        "outputId": "9770caeb-70a3-4f73-c3fd-45941f356d13"
      },
      "execution_count": 15,
      "outputs": [
        {
          "output_type": "display_data",
          "data": {
            "text/plain": [
              "<Figure size 864x360 with 2 Axes>"
            ],
            "image/png": "[encoded data removed]"
          },
          "metadata": {
            "needs_background": "light"
          }
        },
        {
          "output_type": "stream",
          "name": "stdout",
          "text": [
            "Correlación con la variable objetivo: 0.14482217493938626\n"
          ]
        },
        {
          "output_type": "display_data",
          "data": {
            "text/plain": [
              "                      count      mean       std  min  25%  50%  75%   max\n",
              "time_spend_company  14999.0  3.498233  1.460136  2.0  3.0  3.0  4.0  10.0"
            ],
            "text/html": [
              "\n",
              "  <div id=\"df-bdf9b349-29db-459b-84dd-806f232b2f9b\">\n",
              "    <div class=\"colab-df-container\">\n",
              "      <div>\n",
              "<style scoped>\n",
              "    .dataframe tbody tr th:only-of-type {\n",
              "        vertical-align: middle;\n",
              "    }\n",
              "\n",
              "    .dataframe tbody tr th {\n",
              "        vertical-align: top;\n",
              "    }\n",
              "\n",
              "    .dataframe thead th {\n",
              "        text-align: right;\n",
              "    }\n",
              "</style>\n",
              "<table border=\"1\" class=\"dataframe\">\n",
              "  <thead>\n",
              "    <tr style=\"text-align: right;\">\n",
              "      <th></th>\n",
              "      <th>count</th>\n",
              "      <th>mean</th>\n",
              "      <th>std</th>\n",
              "      <th>min</th>\n",
              "      <th>25%</th>\n",
              "      <th>50%</th>\n",
              "      <th>75%</th>\n",
              "      <th>max</th>\n",
              "    </tr>\n",
              "  </thead>\n",
              "  <tbody>\n",
              "    <tr>\n",
              "      <th>time_spend_company</th>\n",
              "      <td>14999.0</td>\n",
              "      <td>3.498233</td>\n",
              "      <td>1.460136</td>\n",
              "      <td>2.0</td>\n",
              "      <td>3.0</td>\n",
              "      <td>3.0</td>\n",
              "      <td>4.0</td>\n",
              "      <td>10.0</td>\n",
              "    </tr>\n",
              "  </tbody>\n",
              "</table>\n",
              "</div>\n",
              "      <button class=\"colab-df-convert\" onclick=\"convertToInteractive('df-bdf9b349-29db-459b-84dd-806f232b2f9b')\"\n",
              "              title=\"Convert this dataframe to an interactive table.\"\n",
              "              style=\"display:none;\">\n",
              "        \n",
              "  <svg xmlns=\"http://www.w3.org/2000/svg\" height=\"24px\"viewBox=\"0 0 24 24\"\n",
              "       width=\"24px\">\n",
              "    <path d=\"M0 0h24v24H0V0z\" fill=\"none\"/>\n",
              "    <path d=\"M18.56 5.44l.94 2.06.94-2.06 2.06-.94-2.06-.94-.94-2.06-.94 2.06-2.06.94zm-11 1L8.5 8.5l.94-2.06 2.06-.94-2.06-.94L8.5 2.5l-.94 2.06-2.06.94zm10 10l.94 2.06.94-2.06 2.06-.94-2.06-.94-.94-2.06-.94 2.06-2.06.94z\"/><path d=\"M17.41 7.96l-1.37-1.37c-.4-.4-.92-.59-1.43-.59-.52 0-1.04.2-1.43.59L10.3 9.45l-7.72 7.72c-.78.78-.78 2.05 0 2.83L4 21.41c.39.39.9.59 1.41.59.51 0 1.02-.2 1.41-.59l7.78-7.78 2.81-2.81c.8-.78.8-2.07 0-2.86zM5.41 20L4 18.59l7.72-7.72 1.47 1.35L5.41 20z\"/>\n",
              "  </svg>\n",
              "      </button>\n",
              "      \n",
              "  <style>\n",
              "    .colab-df-container {\n",
              "      display:flex;\n",
              "      flex-wrap:wrap;\n",
              "      gap: 12px;\n",
              "    }\n",
              "\n",
              "    .colab-df-convert {\n",
              "      background-color: #E8F0FE;\n",
              "      border: none;\n",
              "      border-radius: 50%;\n",
              "      cursor: pointer;\n",
              "      display: none;\n",
              "      fill: #1967D2;\n",
              "      height: 32px;\n",
              "      padding: 0 0 0 0;\n",
              "      width: 32px;\n",
              "    }\n",
              "\n",
              "    .colab-df-convert:hover {\n",
              "      background-color: #E2EBFA;\n",
              "      box-shadow: 0px 1px 2px rgba(60, 64, 67, 0.3), 0px 1px 3px 1px rgba(60, 64, 67, 0.15);\n",
              "      fill: #174EA6;\n",
              "    }\n",
              "\n",
              "    [theme=dark] .colab-df-convert {\n",
              "      background-color: #3B4455;\n",
              "      fill: #D2E3FC;\n",
              "    }\n",
              "\n",
              "    [theme=dark] .colab-df-convert:hover {\n",
              "      background-color: #434B5C;\n",
              "      box-shadow: 0px 1px 3px 1px rgba(0, 0, 0, 0.15);\n",
              "      filter: drop-shadow(0px 1px 2px rgba(0, 0, 0, 0.3));\n",
              "      fill: #FFFFFF;\n",
              "    }\n",
              "  </style>\n",
              "\n",
              "      <script>\n",
              "        const buttonEl =\n",
              "          document.querySelector('#df-bdf9b349-29db-459b-84dd-806f232b2f9b button.colab-df-convert');\n",
              "        buttonEl.style.display =\n",
              "          google.colab.kernel.accessAllowed ? 'block' : 'none';\n",
              "\n",
              "        async function convertToInteractive(key) {\n",
              "          const element = document.querySelector('#df-bdf9b349-29db-459b-84dd-806f232b2f9b');\n",
              "          const dataTable =\n",
              "            await google.colab.kernel.invokeFunction('convertToInteractive',\n",
              "                                                     [key], {});\n",
              "          if (!dataTable) return;\n",
              "\n",
              "          const docLinkHtml = 'Like what you see? Visit the ' +\n",
              "            '<a target=\"_blank\" href=https://colab.research.google.com/notebooks/data_table.ipynb>data table notebook</a>'\n",
              "            + ' to learn more about interactive tables.';\n",
              "          element.innerHTML = '';\n",
              "          dataTable['output_type'] = 'display_data';\n",
              "          await google.colab.output.renderOutput(dataTable, element);\n",
              "          const docLink = document.createElement('div');\n",
              "          docLink.innerHTML = docLinkHtml;\n",
              "          element.appendChild(docLink);\n",
              "        }\n",
              "      </script>\n",
              "    </div>\n",
              "  </div>\n",
              "  "
            ]
          },
          "metadata": {}
        }
      ]
    },
    {
      "cell_type": "markdown",
      "source": [
        "Esta variable tiene una ligera correlación lineal con la variable objetivo.\n",
        "\n",
        "Parece que hay una relación entre años en la empresa y la probabilidad de renunciar. Cuanta mayor es la antiguedad más probabilidad de que el empleado abandone."
      ],
      "metadata": {
        "id": "123elPBMY_1j"
      }
    },
    {
      "cell_type": "code",
      "source": [
        "# average_montly_hours\n",
        "describe_var(\"average_montly_hours\", \"Average Monthly Hours\", min=90, max=320, vline=[130, 275])"
      ],
      "metadata": {
        "colab": {
          "base_uri": "https://localhost:8080/",
          "height": 415
        },
        "id": "1yfZN0782bwk",
        "outputId": "7bd145f4-2e0d-4202-c95a-108966947ac4"
      },
      "execution_count": 16,
      "outputs": [
        {
          "output_type": "display_data",
          "data": {
            "text/plain": [
              "<Figure size 864x360 with 2 Axes>"
            ],
            "image/png": "[encoded data removed]"
          },
          "metadata": {
            "needs_background": "light"
          }
        },
        {
          "output_type": "stream",
          "name": "stdout",
          "text": [
            "Correlación con la variable objetivo: 0.07128717878330088\n"
          ]
        },
        {
          "output_type": "display_data",
          "data": {
            "text/plain": [
              "                        count        mean        std   min    25%    50%  \\\n",
              "average_montly_hours  14999.0  201.050337  49.943099  96.0  156.0  200.0   \n",
              "\n",
              "                        75%    max  \n",
              "average_montly_hours  245.0  310.0  "
            ],
            "text/html": [
              "\n",
              "  <div id=\"df-22b51082-d5d0-4c70-af86-323decfe88d0\">\n",
              "    <div class=\"colab-df-container\">\n",
              "      <div>\n",
              "<style scoped>\n",
              "    .dataframe tbody tr th:only-of-type {\n",
              "        vertical-align: middle;\n",
              "    }\n",
              "\n",
              "    .dataframe tbody tr th {\n",
              "        vertical-align: top;\n",
              "    }\n",
              "\n",
              "    .dataframe thead th {\n",
              "        text-align: right;\n",
              "    }\n",
              "</style>\n",
              "<table border=\"1\" class=\"dataframe\">\n",
              "  <thead>\n",
              "    <tr style=\"text-align: right;\">\n",
              "      <th></th>\n",
              "      <th>count</th>\n",
              "      <th>mean</th>\n",
              "      <th>std</th>\n",
              "      <th>min</th>\n",
              "      <th>25%</th>\n",
              "      <th>50%</th>\n",
              "      <th>75%</th>\n",
              "      <th>max</th>\n",
              "    </tr>\n",
              "  </thead>\n",
              "  <tbody>\n",
              "    <tr>\n",
              "      <th>average_montly_hours</th>\n",
              "      <td>14999.0</td>\n",
              "      <td>201.050337</td>\n",
              "      <td>49.943099</td>\n",
              "      <td>96.0</td>\n",
              "      <td>156.0</td>\n",
              "      <td>200.0</td>\n",
              "      <td>245.0</td>\n",
              "      <td>310.0</td>\n",
              "    </tr>\n",
              "  </tbody>\n",
              "</table>\n",
              "</div>\n",
              "      <button class=\"colab-df-convert\" onclick=\"convertToInteractive('df-22b51082-d5d0-4c70-af86-323decfe88d0')\"\n",
              "              title=\"Convert this dataframe to an interactive table.\"\n",
              "              style=\"display:none;\">\n",
              "        \n",
              "  <svg xmlns=\"http://www.w3.org/2000/svg\" height=\"24px\"viewBox=\"0 0 24 24\"\n",
              "       width=\"24px\">\n",
              "    <path d=\"M0 0h24v24H0V0z\" fill=\"none\"/>\n",
              "    <path d=\"M18.56 5.44l.94 2.06.94-2.06 2.06-.94-2.06-.94-.94-2.06-.94 2.06-2.06.94zm-11 1L8.5 8.5l.94-2.06 2.06-.94-2.06-.94L8.5 2.5l-.94 2.06-2.06.94zm10 10l.94 2.06.94-2.06 2.06-.94-2.06-.94-.94-2.06-.94 2.06-2.06.94z\"/><path d=\"M17.41 7.96l-1.37-1.37c-.4-.4-.92-.59-1.43-.59-.52 0-1.04.2-1.43.59L10.3 9.45l-7.72 7.72c-.78.78-.78 2.05 0 2.83L4 21.41c.39.39.9.59 1.41.59.51 0 1.02-.2 1.41-.59l7.78-7.78 2.81-2.81c.8-.78.8-2.07 0-2.86zM5.41 20L4 18.59l7.72-7.72 1.47 1.35L5.41 20z\"/>\n",
              "  </svg>\n",
              "      </button>\n",
              "      \n",
              "  <style>\n",
              "    .colab-df-container {\n",
              "      display:flex;\n",
              "      flex-wrap:wrap;\n",
              "      gap: 12px;\n",
              "    }\n",
              "\n",
              "    .colab-df-convert {\n",
              "      background-color: #E8F0FE;\n",
              "      border: none;\n",
              "      border-radius: 50%;\n",
              "      cursor: pointer;\n",
              "      display: none;\n",
              "      fill: #1967D2;\n",
              "      height: 32px;\n",
              "      padding: 0 0 0 0;\n",
              "      width: 32px;\n",
              "    }\n",
              "\n",
              "    .colab-df-convert:hover {\n",
              "      background-color: #E2EBFA;\n",
              "      box-shadow: 0px 1px 2px rgba(60, 64, 67, 0.3), 0px 1px 3px 1px rgba(60, 64, 67, 0.15);\n",
              "      fill: #174EA6;\n",
              "    }\n",
              "\n",
              "    [theme=dark] .colab-df-convert {\n",
              "      background-color: #3B4455;\n",
              "      fill: #D2E3FC;\n",
              "    }\n",
              "\n",
              "    [theme=dark] .colab-df-convert:hover {\n",
              "      background-color: #434B5C;\n",
              "      box-shadow: 0px 1px 3px 1px rgba(0, 0, 0, 0.15);\n",
              "      filter: drop-shadow(0px 1px 2px rgba(0, 0, 0, 0.3));\n",
              "      fill: #FFFFFF;\n",
              "    }\n",
              "  </style>\n",
              "\n",
              "      <script>\n",
              "        const buttonEl =\n",
              "          document.querySelector('#df-22b51082-d5d0-4c70-af86-323decfe88d0 button.colab-df-convert');\n",
              "        buttonEl.style.display =\n",
              "          google.colab.kernel.accessAllowed ? 'block' : 'none';\n",
              "\n",
              "        async function convertToInteractive(key) {\n",
              "          const element = document.querySelector('#df-22b51082-d5d0-4c70-af86-323decfe88d0');\n",
              "          const dataTable =\n",
              "            await google.colab.kernel.invokeFunction('convertToInteractive',\n",
              "                                                     [key], {});\n",
              "          if (!dataTable) return;\n",
              "\n",
              "          const docLinkHtml = 'Like what you see? Visit the ' +\n",
              "            '<a target=\"_blank\" href=https://colab.research.google.com/notebooks/data_table.ipynb>data table notebook</a>'\n",
              "            + ' to learn more about interactive tables.';\n",
              "          element.innerHTML = '';\n",
              "          dataTable['output_type'] = 'display_data';\n",
              "          await google.colab.output.renderOutput(dataTable, element);\n",
              "          const docLink = document.createElement('div');\n",
              "          docLink.innerHTML = docLinkHtml;\n",
              "          element.appendChild(docLink);\n",
              "        }\n",
              "      </script>\n",
              "    </div>\n",
              "  </div>\n",
              "  "
            ]
          },
          "metadata": {}
        }
      ]
    },
    {
      "cell_type": "markdown",
      "source": [
        "Esta variable toma la mayor parte de los valores en el rango `[130, 275]` y sigue una distribución uniforme en este rango\n",
        "\n",
        "La variable no tiene una correlación lineal con la variable objetivo, pero eso no quiere decir que no sea relevante"
      ],
      "metadata": {
        "id": "hETixooT9YR5"
      }
    },
    {
      "cell_type": "code",
      "source": [
        "# Work_accident\n",
        "describe_var(\"Work_accident\", \"Work Accident\", hist=False)\n",
        "\n",
        "wa = datos.loc[datos.Work_accident == 1, \"left\"].agg(\"count\")\n",
        "wa_rt = (wa / len(datos)) * 100\n",
        "print(f\"\\nTotal de casos accidente de trabajo: {wa} ({wa_rt:.1f}%)\\n\")\n",
        "\n",
        "fig = plt.figure(figsize=(10, 5))\n",
        "plt.suptitle(\"Renuncias vs Accidente de trabajo\")\n",
        "datos.loc[datos.left == 1, [\"Work_accident\", \"left\"]].groupby(\"Work_accident\").count().plot(kind=\"bar\", title=\"Renuncia\", ax=plt.subplot(121))\n",
        "datos.loc[datos.left == 0, [\"Work_accident\", \"left\"]].groupby(\"Work_accident\").count().plot(kind=\"bar\", title=\"No renuncia\", ax=plt.subplot(122))\n",
        "plt.show()"
      ],
      "metadata": {
        "colab": {
          "base_uri": "https://localhost:8080/",
          "height": 819
        },
        "id": "-wlTcANB8eCX",
        "outputId": "44cbabcc-0e3b-4863-d213-70347d8b791d"
      },
      "execution_count": 17,
      "outputs": [
        {
          "output_type": "display_data",
          "data": {
            "text/plain": [
              "<Figure size 864x360 with 2 Axes>"
            ],
            "image/png": "[encoded data removed]"
          },
          "metadata": {
            "needs_background": "light"
          }
        },
        {
          "output_type": "stream",
          "name": "stdout",
          "text": [
            "Correlación con la variable objetivo: -0.15462163370513443\n"
          ]
        },
        {
          "output_type": "display_data",
          "data": {
            "text/plain": [
              "                 count     mean       std  min  25%  50%  75%  max\n",
              "Work_accident  14999.0  0.14461  0.351719  0.0  0.0  0.0  0.0  1.0"
            ],
            "text/html": [
              "\n",
              "  <div id=\"df-d4ecfee2-9538-48a4-a7ed-3c4bd72b2e98\">\n",
              "    <div class=\"colab-df-container\">\n",
              "      <div>\n",
              "<style scoped>\n",
              "    .dataframe tbody tr th:only-of-type {\n",
              "        vertical-align: middle;\n",
              "    }\n",
              "\n",
              "    .dataframe tbody tr th {\n",
              "        vertical-align: top;\n",
              "    }\n",
              "\n",
              "    .dataframe thead th {\n",
              "        text-align: right;\n",
              "    }\n",
              "</style>\n",
              "<table border=\"1\" class=\"dataframe\">\n",
              "  <thead>\n",
              "    <tr style=\"text-align: right;\">\n",
              "      <th></th>\n",
              "      <th>count</th>\n",
              "      <th>mean</th>\n",
              "      <th>std</th>\n",
              "      <th>min</th>\n",
              "      <th>25%</th>\n",
              "      <th>50%</th>\n",
              "      <th>75%</th>\n",
              "      <th>max</th>\n",
              "    </tr>\n",
              "  </thead>\n",
              "  <tbody>\n",
              "    <tr>\n",
              "      <th>Work_accident</th>\n",
              "      <td>14999.0</td>\n",
              "      <td>0.14461</td>\n",
              "      <td>0.351719</td>\n",
              "      <td>0.0</td>\n",
              "      <td>0.0</td>\n",
              "      <td>0.0</td>\n",
              "      <td>0.0</td>\n",
              "      <td>1.0</td>\n",
              "    </tr>\n",
              "  </tbody>\n",
              "</table>\n",
              "</div>\n",
              "      <button class=\"colab-df-convert\" onclick=\"convertToInteractive('df-d4ecfee2-9538-48a4-a7ed-3c4bd72b2e98')\"\n",
              "              title=\"Convert this dataframe to an interactive table.\"\n",
              "              style=\"display:none;\">\n",
              "        \n",
              "  <svg xmlns=\"http://www.w3.org/2000/svg\" height=\"24px\"viewBox=\"0 0 24 24\"\n",
              "       width=\"24px\">\n",
              "    <path d=\"M0 0h24v24H0V0z\" fill=\"none\"/>\n",
              "    <path d=\"M18.56 5.44l.94 2.06.94-2.06 2.06-.94-2.06-.94-.94-2.06-.94 2.06-2.06.94zm-11 1L8.5 8.5l.94-2.06 2.06-.94-2.06-.94L8.5 2.5l-.94 2.06-2.06.94zm10 10l.94 2.06.94-2.06 2.06-.94-2.06-.94-.94-2.06-.94 2.06-2.06.94z\"/><path d=\"M17.41 7.96l-1.37-1.37c-.4-.4-.92-.59-1.43-.59-.52 0-1.04.2-1.43.59L10.3 9.45l-7.72 7.72c-.78.78-.78 2.05 0 2.83L4 21.41c.39.39.9.59 1.41.59.51 0 1.02-.2 1.41-.59l7.78-7.78 2.81-2.81c.8-.78.8-2.07 0-2.86zM5.41 20L4 18.59l7.72-7.72 1.47 1.35L5.41 20z\"/>\n",
              "  </svg>\n",
              "      </button>\n",
              "      \n",
              "  <style>\n",
              "    .colab-df-container {\n",
              "      display:flex;\n",
              "      flex-wrap:wrap;\n",
              "      gap: 12px;\n",
              "    }\n",
              "\n",
              "    .colab-df-convert {\n",
              "      background-color: #E8F0FE;\n",
              "      border: none;\n",
              "      border-radius: 50%;\n",
              "      cursor: pointer;\n",
              "      display: none;\n",
              "      fill: #1967D2;\n",
              "      height: 32px;\n",
              "      padding: 0 0 0 0;\n",
              "      width: 32px;\n",
              "    }\n",
              "\n",
              "    .colab-df-convert:hover {\n",
              "      background-color: #E2EBFA;\n",
              "      box-shadow: 0px 1px 2px rgba(60, 64, 67, 0.3), 0px 1px 3px 1px rgba(60, 64, 67, 0.15);\n",
              "      fill: #174EA6;\n",
              "    }\n",
              "\n",
              "    [theme=dark] .colab-df-convert {\n",
              "      background-color: #3B4455;\n",
              "      fill: #D2E3FC;\n",
              "    }\n",
              "\n",
              "    [theme=dark] .colab-df-convert:hover {\n",
              "      background-color: #434B5C;\n",
              "      box-shadow: 0px 1px 3px 1px rgba(0, 0, 0, 0.15);\n",
              "      filter: drop-shadow(0px 1px 2px rgba(0, 0, 0, 0.3));\n",
              "      fill: #FFFFFF;\n",
              "    }\n",
              "  </style>\n",
              "\n",
              "      <script>\n",
              "        const buttonEl =\n",
              "          document.querySelector('#df-d4ecfee2-9538-48a4-a7ed-3c4bd72b2e98 button.colab-df-convert');\n",
              "        buttonEl.style.display =\n",
              "          google.colab.kernel.accessAllowed ? 'block' : 'none';\n",
              "\n",
              "        async function convertToInteractive(key) {\n",
              "          const element = document.querySelector('#df-d4ecfee2-9538-48a4-a7ed-3c4bd72b2e98');\n",
              "          const dataTable =\n",
              "            await google.colab.kernel.invokeFunction('convertToInteractive',\n",
              "                                                     [key], {});\n",
              "          if (!dataTable) return;\n",
              "\n",
              "          const docLinkHtml = 'Like what you see? Visit the ' +\n",
              "            '<a target=\"_blank\" href=https://colab.research.google.com/notebooks/data_table.ipynb>data table notebook</a>'\n",
              "            + ' to learn more about interactive tables.';\n",
              "          element.innerHTML = '';\n",
              "          dataTable['output_type'] = 'display_data';\n",
              "          await google.colab.output.renderOutput(dataTable, element);\n",
              "          const docLink = document.createElement('div');\n",
              "          docLink.innerHTML = docLinkHtml;\n",
              "          element.appendChild(docLink);\n",
              "        }\n",
              "      </script>\n",
              "    </div>\n",
              "  </div>\n",
              "  "
            ]
          },
          "metadata": {}
        },
        {
          "output_type": "stream",
          "name": "stdout",
          "text": [
            "\n",
            "Total de casos accidente de trabajo: 2169 (14.5%)\n",
            "\n"
          ]
        },
        {
          "output_type": "display_data",
          "data": {
            "text/plain": [
              "<Figure size 720x360 with 2 Axes>"
            ],
            "image/png": "[encoded data removed]"
          },
          "metadata": {
            "needs_background": "light"
          }
        }
      ]
    },
    {
      "cell_type": "markdown",
      "source": [
        "Esta es una variable binaria que toma un valor positivo en un 14.5% de los casos. Tiene una correlación lineal inversa con la variable objetivo.\n",
        "\n",
        "Aunque el efecto parece pequeño parece interesante tenerla en cuenta."
      ],
      "metadata": {
        "id": "YIdDElCMANPO"
      }
    },
    {
      "cell_type": "code",
      "source": [
        "# promotion_last_5years\n",
        "describe_var(\"promotion_last_5years\", \"Promotion in the last 5 years\", hist=False)\n",
        "\n",
        "pmt = datos.loc[datos.promotion_last_5years == 1, \"left\"].agg(\"count\")\n",
        "pmt_rt = (pmt / len(datos)) * 100\n",
        "print(f\"\\nTotal de casos que han promocionado: {pmt} ({pmt_rt:.1f}%)\\n\")"
      ],
      "metadata": {
        "colab": {
          "base_uri": "https://localhost:8080/",
          "height": 467
        },
        "id": "OtsvD3o8__Fj",
        "outputId": "af5a2db6-2828-4e26-c7cf-02337ca54ea6"
      },
      "execution_count": 18,
      "outputs": [
        {
          "output_type": "display_data",
          "data": {
            "text/plain": [
              "<Figure size 864x360 with 2 Axes>"
            ],
            "image/png": "[encoded data removed]"
          },
          "metadata": {
            "needs_background": "light"
          }
        },
        {
          "output_type": "stream",
          "name": "stdout",
          "text": [
            "Correlación con la variable objetivo: -0.06178810657920049\n"
          ]
        },
        {
          "output_type": "display_data",
          "data": {
            "text/plain": [
              "                         count      mean       std  min  25%  50%  75%  max\n",
              "promotion_last_5years  14999.0  0.021268  0.144281  0.0  0.0  0.0  0.0  1.0"
            ],
            "text/html": [
              "\n",
              "  <div id=\"df-feaa1651-87c9-4c15-94e1-350202ba99d5\">\n",
              "    <div class=\"colab-df-container\">\n",
              "      <div>\n",
              "<style scoped>\n",
              "    .dataframe tbody tr th:only-of-type {\n",
              "        vertical-align: middle;\n",
              "    }\n",
              "\n",
              "    .dataframe tbody tr th {\n",
              "        vertical-align: top;\n",
              "    }\n",
              "\n",
              "    .dataframe thead th {\n",
              "        text-align: right;\n",
              "    }\n",
              "</style>\n",
              "<table border=\"1\" class=\"dataframe\">\n",
              "  <thead>\n",
              "    <tr style=\"text-align: right;\">\n",
              "      <th></th>\n",
              "      <th>count</th>\n",
              "      <th>mean</th>\n",
              "      <th>std</th>\n",
              "      <th>min</th>\n",
              "      <th>25%</th>\n",
              "      <th>50%</th>\n",
              "      <th>75%</th>\n",
              "      <th>max</th>\n",
              "    </tr>\n",
              "  </thead>\n",
              "  <tbody>\n",
              "    <tr>\n",
              "      <th>promotion_last_5years</th>\n",
              "      <td>14999.0</td>\n",
              "      <td>0.021268</td>\n",
              "      <td>0.144281</td>\n",
              "      <td>0.0</td>\n",
              "      <td>0.0</td>\n",
              "      <td>0.0</td>\n",
              "      <td>0.0</td>\n",
              "      <td>1.0</td>\n",
              "    </tr>\n",
              "  </tbody>\n",
              "</table>\n",
              "</div>\n",
              "      <button class=\"colab-df-convert\" onclick=\"convertToInteractive('df-feaa1651-87c9-4c15-94e1-350202ba99d5')\"\n",
              "              title=\"Convert this dataframe to an interactive table.\"\n",
              "              style=\"display:none;\">\n",
              "        \n",
              "  <svg xmlns=\"http://www.w3.org/2000/svg\" height=\"24px\"viewBox=\"0 0 24 24\"\n",
              "       width=\"24px\">\n",
              "    <path d=\"M0 0h24v24H0V0z\" fill=\"none\"/>\n",
              "    <path d=\"M18.56 5.44l.94 2.06.94-2.06 2.06-.94-2.06-.94-.94-2.06-.94 2.06-2.06.94zm-11 1L8.5 8.5l.94-2.06 2.06-.94-2.06-.94L8.5 2.5l-.94 2.06-2.06.94zm10 10l.94 2.06.94-2.06 2.06-.94-2.06-.94-.94-2.06-.94 2.06-2.06.94z\"/><path d=\"M17.41 7.96l-1.37-1.37c-.4-.4-.92-.59-1.43-.59-.52 0-1.04.2-1.43.59L10.3 9.45l-7.72 7.72c-.78.78-.78 2.05 0 2.83L4 21.41c.39.39.9.59 1.41.59.51 0 1.02-.2 1.41-.59l7.78-7.78 2.81-2.81c.8-.78.8-2.07 0-2.86zM5.41 20L4 18.59l7.72-7.72 1.47 1.35L5.41 20z\"/>\n",
              "  </svg>\n",
              "      </button>\n",
              "      \n",
              "  <style>\n",
              "    .colab-df-container {\n",
              "      display:flex;\n",
              "      flex-wrap:wrap;\n",
              "      gap: 12px;\n",
              "    }\n",
              "\n",
              "    .colab-df-convert {\n",
              "      background-color: #E8F0FE;\n",
              "      border: none;\n",
              "      border-radius: 50%;\n",
              "      cursor: pointer;\n",
              "      display: none;\n",
              "      fill: #1967D2;\n",
              "      height: 32px;\n",
              "      padding: 0 0 0 0;\n",
              "      width: 32px;\n",
              "    }\n",
              "\n",
              "    .colab-df-convert:hover {\n",
              "      background-color: #E2EBFA;\n",
              "      box-shadow: 0px 1px 2px rgba(60, 64, 67, 0.3), 0px 1px 3px 1px rgba(60, 64, 67, 0.15);\n",
              "      fill: #174EA6;\n",
              "    }\n",
              "\n",
              "    [theme=dark] .colab-df-convert {\n",
              "      background-color: #3B4455;\n",
              "      fill: #D2E3FC;\n",
              "    }\n",
              "\n",
              "    [theme=dark] .colab-df-convert:hover {\n",
              "      background-color: #434B5C;\n",
              "      box-shadow: 0px 1px 3px 1px rgba(0, 0, 0, 0.15);\n",
              "      filter: drop-shadow(0px 1px 2px rgba(0, 0, 0, 0.3));\n",
              "      fill: #FFFFFF;\n",
              "    }\n",
              "  </style>\n",
              "\n",
              "      <script>\n",
              "        const buttonEl =\n",
              "          document.querySelector('#df-feaa1651-87c9-4c15-94e1-350202ba99d5 button.colab-df-convert');\n",
              "        buttonEl.style.display =\n",
              "          google.colab.kernel.accessAllowed ? 'block' : 'none';\n",
              "\n",
              "        async function convertToInteractive(key) {\n",
              "          const element = document.querySelector('#df-feaa1651-87c9-4c15-94e1-350202ba99d5');\n",
              "          const dataTable =\n",
              "            await google.colab.kernel.invokeFunction('convertToInteractive',\n",
              "                                                     [key], {});\n",
              "          if (!dataTable) return;\n",
              "\n",
              "          const docLinkHtml = 'Like what you see? Visit the ' +\n",
              "            '<a target=\"_blank\" href=https://colab.research.google.com/notebooks/data_table.ipynb>data table notebook</a>'\n",
              "            + ' to learn more about interactive tables.';\n",
              "          element.innerHTML = '';\n",
              "          dataTable['output_type'] = 'display_data';\n",
              "          await google.colab.output.renderOutput(dataTable, element);\n",
              "          const docLink = document.createElement('div');\n",
              "          docLink.innerHTML = docLinkHtml;\n",
              "          element.appendChild(docLink);\n",
              "        }\n",
              "      </script>\n",
              "    </div>\n",
              "  </div>\n",
              "  "
            ]
          },
          "metadata": {}
        },
        {
          "output_type": "stream",
          "name": "stdout",
          "text": [
            "\n",
            "Total de casos que han promocionado: 319 (2.1%)\n",
            "\n"
          ]
        }
      ]
    },
    {
      "cell_type": "markdown",
      "source": [
        "Esta es una variable binaria, los casos positivos representan apenas un 2% y no presenta una correlación lineal con la variable objetivo.\n",
        "\n",
        "Esta variable puede añadir ruido a los datos con lo que igual conviene eliminarla."
      ],
      "metadata": {
        "id": "bG2M9ifcBCHJ"
      }
    },
    {
      "cell_type": "code",
      "source": [
        "# department (originalmente: sales)\n",
        "plt.figure(figsize=(18,6))\n",
        "dpt_group = datos.groupby([\"department\", \"left\"]).count().reset_index()\n",
        "sns.barplot(data=dpt_group, x=\"department\", y=datos.columns[0], hue=\"left\")\n",
        "plt.show()\n",
        "\n",
        "# Tabla de contingencia\n",
        "dpt_ct = pd.crosstab(index=datos['left'],\n",
        "            columns=datos['department'], margins=True).T\n",
        "dpt_ct[\"percent_left\"] = dpt_ct.apply(lambda x: f\"{100 * (x[1] / x['All']):.1f}%\", axis=1)\n",
        "dpt_ct"
      ],
      "metadata": {
        "colab": {
          "base_uri": "https://localhost:8080/",
          "height": 801
        },
        "id": "dgv2e8eXBXGt",
        "outputId": "50630c9a-73f7-4375-e865-b4924e0d547f"
      },
      "execution_count": 19,
      "outputs": [
        {
          "output_type": "display_data",
          "data": {
            "text/plain": [
              "<Figure size 1296x432 with 1 Axes>"
            ],
            "image/png": "[encoded data removed]"
          },
          "metadata": {
            "needs_background": "light"
          }
        },
        {
          "output_type": "execute_result",
          "data": {
            "text/plain": [
              "left             0     1    All percent_left\n",
              "department                                  \n",
              "IT             954   273   1227        22.2%\n",
              "RandD          666   121    787        15.4%\n",
              "accounting     563   204    767        26.6%\n",
              "hr             524   215    739        29.1%\n",
              "management     539    91    630        14.4%\n",
              "marketing      655   203    858        23.7%\n",
              "product_mng    704   198    902        22.0%\n",
              "sales         3126  1014   4140        24.5%\n",
              "support       1674   555   2229        24.9%\n",
              "technical     2023   697   2720        25.6%\n",
              "All          11428  3571  14999        23.8%"
            ],
            "text/html": [
              "\n",
              "  <div id=\"df-c0df1921-4c59-484a-b63f-2b8a94a02014\">\n",
              "    <div class=\"colab-df-container\">\n",
              "      <div>\n",
              "<style scoped>\n",
              "    .dataframe tbody tr th:only-of-type {\n",
              "        vertical-align: middle;\n",
              "    }\n",
              "\n",
              "    .dataframe tbody tr th {\n",
              "        vertical-align: top;\n",
              "    }\n",
              "\n",
              "    .dataframe thead th {\n",
              "        text-align: right;\n",
              "    }\n",
              "</style>\n",
              "<table border=\"1\" class=\"dataframe\">\n",
              "  <thead>\n",
              "    <tr style=\"text-align: right;\">\n",
              "      <th>left</th>\n",
              "      <th>0</th>\n",
              "      <th>1</th>\n",
              "      <th>All</th>\n",
              "      <th>percent_left</th>\n",
              "    </tr>\n",
              "    <tr>\n",
              "      <th>department</th>\n",
              "      <th></th>\n",
              "      <th></th>\n",
              "      <th></th>\n",
              "      <th></th>\n",
              "    </tr>\n",
              "  </thead>\n",
              "  <tbody>\n",
              "    <tr>\n",
              "      <th>IT</th>\n",
              "      <td>954</td>\n",
              "      <td>273</td>\n",
              "      <td>1227</td>\n",
              "      <td>22.2%</td>\n",
              "    </tr>\n",
              "    <tr>\n",
              "      <th>RandD</th>\n",
              "      <td>666</td>\n",
              "      <td>121</td>\n",
              "      <td>787</td>\n",
              "      <td>15.4%</td>\n",
              "    </tr>\n",
              "    <tr>\n",
              "      <th>accounting</th>\n",
              "      <td>563</td>\n",
              "      <td>204</td>\n",
              "      <td>767</td>\n",
              "      <td>26.6%</td>\n",
              "    </tr>\n",
              "    <tr>\n",
              "      <th>hr</th>\n",
              "      <td>524</td>\n",
              "      <td>215</td>\n",
              "      <td>739</td>\n",
              "      <td>29.1%</td>\n",
              "    </tr>\n",
              "    <tr>\n",
              "      <th>management</th>\n",
              "      <td>539</td>\n",
              "      <td>91</td>\n",
              "      <td>630</td>\n",
              "      <td>14.4%</td>\n",
              "    </tr>\n",
              "    <tr>\n",
              "      <th>marketing</th>\n",
              "      <td>655</td>\n",
              "      <td>203</td>\n",
              "      <td>858</td>\n",
              "      <td>23.7%</td>\n",
              "    </tr>\n",
              "    <tr>\n",
              "      <th>product_mng</th>\n",
              "      <td>704</td>\n",
              "      <td>198</td>\n",
              "      <td>902</td>\n",
              "      <td>22.0%</td>\n",
              "    </tr>\n",
              "    <tr>\n",
              "      <th>sales</th>\n",
              "      <td>3126</td>\n",
              "      <td>1014</td>\n",
              "      <td>4140</td>\n",
              "      <td>24.5%</td>\n",
              "    </tr>\n",
              "    <tr>\n",
              "      <th>support</th>\n",
              "      <td>1674</td>\n",
              "      <td>555</td>\n",
              "      <td>2229</td>\n",
              "      <td>24.9%</td>\n",
              "    </tr>\n",
              "    <tr>\n",
              "      <th>technical</th>\n",
              "      <td>2023</td>\n",
              "      <td>697</td>\n",
              "      <td>2720</td>\n",
              "      <td>25.6%</td>\n",
              "    </tr>\n",
              "    <tr>\n",
              "      <th>All</th>\n",
              "      <td>11428</td>\n",
              "      <td>3571</td>\n",
              "      <td>14999</td>\n",
              "      <td>23.8%</td>\n",
              "    </tr>\n",
              "  </tbody>\n",
              "</table>\n",
              "</div>\n",
              "      <button class=\"colab-df-convert\" onclick=\"convertToInteractive('df-c0df1921-4c59-484a-b63f-2b8a94a02014')\"\n",
              "              title=\"Convert this dataframe to an interactive table.\"\n",
              "              style=\"display:none;\">\n",
              "        \n",
              "  <svg xmlns=\"http://www.w3.org/2000/svg\" height=\"24px\"viewBox=\"0 0 24 24\"\n",
              "       width=\"24px\">\n",
              "    <path d=\"M0 0h24v24H0V0z\" fill=\"none\"/>\n",
              "    <path d=\"M18.56 5.44l.94 2.06.94-2.06 2.06-.94-2.06-.94-.94-2.06-.94 2.06-2.06.94zm-11 1L8.5 8.5l.94-2.06 2.06-.94-2.06-.94L8.5 2.5l-.94 2.06-2.06.94zm10 10l.94 2.06.94-2.06 2.06-.94-2.06-.94-.94-2.06-.94 2.06-2.06.94z\"/><path d=\"M17.41 7.96l-1.37-1.37c-.4-.4-.92-.59-1.43-.59-.52 0-1.04.2-1.43.59L10.3 9.45l-7.72 7.72c-.78.78-.78 2.05 0 2.83L4 21.41c.39.39.9.59 1.41.59.51 0 1.02-.2 1.41-.59l7.78-7.78 2.81-2.81c.8-.78.8-2.07 0-2.86zM5.41 20L4 18.59l7.72-7.72 1.47 1.35L5.41 20z\"/>\n",
              "  </svg>\n",
              "      </button>\n",
              "      \n",
              "  <style>\n",
              "    .colab-df-container {\n",
              "      display:flex;\n",
              "      flex-wrap:wrap;\n",
              "      gap: 12px;\n",
              "    }\n",
              "\n",
              "    .colab-df-convert {\n",
              "      background-color: #E8F0FE;\n",
              "      border: none;\n",
              "      border-radius: 50%;\n",
              "      cursor: pointer;\n",
              "      display: none;\n",
              "      fill: #1967D2;\n",
              "      height: 32px;\n",
              "      padding: 0 0 0 0;\n",
              "      width: 32px;\n",
              "    }\n",
              "\n",
              "    .colab-df-convert:hover {\n",
              "      background-color: #E2EBFA;\n",
              "      box-shadow: 0px 1px 2px rgba(60, 64, 67, 0.3), 0px 1px 3px 1px rgba(60, 64, 67, 0.15);\n",
              "      fill: #174EA6;\n",
              "    }\n",
              "\n",
              "    [theme=dark] .colab-df-convert {\n",
              "      background-color: #3B4455;\n",
              "      fill: #D2E3FC;\n",
              "    }\n",
              "\n",
              "    [theme=dark] .colab-df-convert:hover {\n",
              "      background-color: #434B5C;\n",
              "      box-shadow: 0px 1px 3px 1px rgba(0, 0, 0, 0.15);\n",
              "      filter: drop-shadow(0px 1px 2px rgba(0, 0, 0, 0.3));\n",
              "      fill: #FFFFFF;\n",
              "    }\n",
              "  </style>\n",
              "\n",
              "      <script>\n",
              "        const buttonEl =\n",
              "          document.querySelector('#df-c0df1921-4c59-484a-b63f-2b8a94a02014 button.colab-df-convert');\n",
              "        buttonEl.style.display =\n",
              "          google.colab.kernel.accessAllowed ? 'block' : 'none';\n",
              "\n",
              "        async function convertToInteractive(key) {\n",
              "          const element = document.querySelector('#df-c0df1921-4c59-484a-b63f-2b8a94a02014');\n",
              "          const dataTable =\n",
              "            await google.colab.kernel.invokeFunction('convertToInteractive',\n",
              "                                                     [key], {});\n",
              "          if (!dataTable) return;\n",
              "\n",
              "          const docLinkHtml = 'Like what you see? Visit the ' +\n",
              "            '<a target=\"_blank\" href=https://colab.research.google.com/notebooks/data_table.ipynb>data table notebook</a>'\n",
              "            + ' to learn more about interactive tables.';\n",
              "          element.innerHTML = '';\n",
              "          dataTable['output_type'] = 'display_data';\n",
              "          await google.colab.output.renderOutput(dataTable, element);\n",
              "          const docLink = document.createElement('div');\n",
              "          docLink.innerHTML = docLinkHtml;\n",
              "          element.appendChild(docLink);\n",
              "        }\n",
              "      </script>\n",
              "    </div>\n",
              "  </div>\n",
              "  "
            ]
          },
          "metadata": {},
          "execution_count": 19
        }
      ]
    },
    {
      "cell_type": "markdown",
      "source": [
        "Esta es una variable categórica que puede ser relevante. \n",
        "\n",
        "Vemos que el porcentaje de renuncias varia muy poco entre departamentos. No obstante puede que esta variable, en combinación con otras, ayude a la predicción."
      ],
      "metadata": {
        "id": "RLVYzG9GHE1y"
      }
    },
    {
      "cell_type": "code",
      "source": [
        "# salary\n",
        "plt.figure(figsize=(10,5))\n",
        "sal_group = datos.groupby([\"salary\", \"left\"]).count().reset_index()\n",
        "sns.barplot(data=sal_group, x=\"salary\", y=datos.columns[0], hue=\"left\")\n",
        "plt.show()\n",
        "\n",
        "# Tabla de contingencia\n",
        "sal_ct = pd.crosstab(index=datos['left'],\n",
        "            columns=datos['salary'], margins=True).T\n",
        "sal_ct[\"percent_left\"] = sal_ct.apply(lambda x: f\"{100 * (x[1] / x['All']):.1f}%\", axis=1)\n",
        "sal_ct"
      ],
      "metadata": {
        "colab": {
          "base_uri": "https://localhost:8080/",
          "height": 526
        },
        "id": "7mh5Mp2nG6WI",
        "outputId": "e7e5e59f-fdb9-44e2-fcf4-ee5704e2b5a0"
      },
      "execution_count": 20,
      "outputs": [
        {
          "output_type": "display_data",
          "data": {
            "text/plain": [
              "<Figure size 720x360 with 1 Axes>"
            ],
            "image/png": "[encoded data removed]"
          },
          "metadata": {
            "needs_background": "light"
          }
        },
        {
          "output_type": "execute_result",
          "data": {
            "text/plain": [
              "left        0     1    All percent_left\n",
              "salary                                 \n",
              "high     1155    82   1237         6.6%\n",
              "low      5144  2172   7316        29.7%\n",
              "medium   5129  1317   6446        20.4%\n",
              "All     11428  3571  14999        23.8%"
            ],
            "text/html": [
              "\n",
              "  <div id=\"df-bb3e03b8-d258-4f7f-9288-80c231212091\">\n",
              "    <div class=\"colab-df-container\">\n",
              "      <div>\n",
              "<style scoped>\n",
              "    .dataframe tbody tr th:only-of-type {\n",
              "        vertical-align: middle;\n",
              "    }\n",
              "\n",
              "    .dataframe tbody tr th {\n",
              "        vertical-align: top;\n",
              "    }\n",
              "\n",
              "    .dataframe thead th {\n",
              "        text-align: right;\n",
              "    }\n",
              "</style>\n",
              "<table border=\"1\" class=\"dataframe\">\n",
              "  <thead>\n",
              "    <tr style=\"text-align: right;\">\n",
              "      <th>left</th>\n",
              "      <th>0</th>\n",
              "      <th>1</th>\n",
              "      <th>All</th>\n",
              "      <th>percent_left</th>\n",
              "    </tr>\n",
              "    <tr>\n",
              "      <th>salary</th>\n",
              "      <th></th>\n",
              "      <th></th>\n",
              "      <th></th>\n",
              "      <th></th>\n",
              "    </tr>\n",
              "  </thead>\n",
              "  <tbody>\n",
              "    <tr>\n",
              "      <th>high</th>\n",
              "      <td>1155</td>\n",
              "      <td>82</td>\n",
              "      <td>1237</td>\n",
              "      <td>6.6%</td>\n",
              "    </tr>\n",
              "    <tr>\n",
              "      <th>low</th>\n",
              "      <td>5144</td>\n",
              "      <td>2172</td>\n",
              "      <td>7316</td>\n",
              "      <td>29.7%</td>\n",
              "    </tr>\n",
              "    <tr>\n",
              "      <th>medium</th>\n",
              "      <td>5129</td>\n",
              "      <td>1317</td>\n",
              "      <td>6446</td>\n",
              "      <td>20.4%</td>\n",
              "    </tr>\n",
              "    <tr>\n",
              "      <th>All</th>\n",
              "      <td>11428</td>\n",
              "      <td>3571</td>\n",
              "      <td>14999</td>\n",
              "      <td>23.8%</td>\n",
              "    </tr>\n",
              "  </tbody>\n",
              "</table>\n",
              "</div>\n",
              "      <button class=\"colab-df-convert\" onclick=\"convertToInteractive('df-bb3e03b8-d258-4f7f-9288-80c231212091')\"\n",
              "              title=\"Convert this dataframe to an interactive table.\"\n",
              "              style=\"display:none;\">\n",
              "        \n",
              "  <svg xmlns=\"http://www.w3.org/2000/svg\" height=\"24px\"viewBox=\"0 0 24 24\"\n",
              "       width=\"24px\">\n",
              "    <path d=\"M0 0h24v24H0V0z\" fill=\"none\"/>\n",
              "    <path d=\"M18.56 5.44l.94 2.06.94-2.06 2.06-.94-2.06-.94-.94-2.06-.94 2.06-2.06.94zm-11 1L8.5 8.5l.94-2.06 2.06-.94-2.06-.94L8.5 2.5l-.94 2.06-2.06.94zm10 10l.94 2.06.94-2.06 2.06-.94-2.06-.94-.94-2.06-.94 2.06-2.06.94z\"/><path d=\"M17.41 7.96l-1.37-1.37c-.4-.4-.92-.59-1.43-.59-.52 0-1.04.2-1.43.59L10.3 9.45l-7.72 7.72c-.78.78-.78 2.05 0 2.83L4 21.41c.39.39.9.59 1.41.59.51 0 1.02-.2 1.41-.59l7.78-7.78 2.81-2.81c.8-.78.8-2.07 0-2.86zM5.41 20L4 18.59l7.72-7.72 1.47 1.35L5.41 20z\"/>\n",
              "  </svg>\n",
              "      </button>\n",
              "      \n",
              "  <style>\n",
              "    .colab-df-container {\n",
              "      display:flex;\n",
              "      flex-wrap:wrap;\n",
              "      gap: 12px;\n",
              "    }\n",
              "\n",
              "    .colab-df-convert {\n",
              "      background-color: #E8F0FE;\n",
              "      border: none;\n",
              "      border-radius: 50%;\n",
              "      cursor: pointer;\n",
              "      display: none;\n",
              "      fill: #1967D2;\n",
              "      height: 32px;\n",
              "      padding: 0 0 0 0;\n",
              "      width: 32px;\n",
              "    }\n",
              "\n",
              "    .colab-df-convert:hover {\n",
              "      background-color: #E2EBFA;\n",
              "      box-shadow: 0px 1px 2px rgba(60, 64, 67, 0.3), 0px 1px 3px 1px rgba(60, 64, 67, 0.15);\n",
              "      fill: #174EA6;\n",
              "    }\n",
              "\n",
              "    [theme=dark] .colab-df-convert {\n",
              "      background-color: #3B4455;\n",
              "      fill: #D2E3FC;\n",
              "    }\n",
              "\n",
              "    [theme=dark] .colab-df-convert:hover {\n",
              "      background-color: #434B5C;\n",
              "      box-shadow: 0px 1px 3px 1px rgba(0, 0, 0, 0.15);\n",
              "      filter: drop-shadow(0px 1px 2px rgba(0, 0, 0, 0.3));\n",
              "      fill: #FFFFFF;\n",
              "    }\n",
              "  </style>\n",
              "\n",
              "      <script>\n",
              "        const buttonEl =\n",
              "          document.querySelector('#df-bb3e03b8-d258-4f7f-9288-80c231212091 button.colab-df-convert');\n",
              "        buttonEl.style.display =\n",
              "          google.colab.kernel.accessAllowed ? 'block' : 'none';\n",
              "\n",
              "        async function convertToInteractive(key) {\n",
              "          const element = document.querySelector('#df-bb3e03b8-d258-4f7f-9288-80c231212091');\n",
              "          const dataTable =\n",
              "            await google.colab.kernel.invokeFunction('convertToInteractive',\n",
              "                                                     [key], {});\n",
              "          if (!dataTable) return;\n",
              "\n",
              "          const docLinkHtml = 'Like what you see? Visit the ' +\n",
              "            '<a target=\"_blank\" href=https://colab.research.google.com/notebooks/data_table.ipynb>data table notebook</a>'\n",
              "            + ' to learn more about interactive tables.';\n",
              "          element.innerHTML = '';\n",
              "          dataTable['output_type'] = 'display_data';\n",
              "          await google.colab.output.renderOutput(dataTable, element);\n",
              "          const docLink = document.createElement('div');\n",
              "          docLink.innerHTML = docLinkHtml;\n",
              "          element.appendChild(docLink);\n",
              "        }\n",
              "      </script>\n",
              "    </div>\n",
              "  </div>\n",
              "  "
            ]
          },
          "metadata": {},
          "execution_count": 20
        }
      ]
    },
    {
      "cell_type": "markdown",
      "source": [
        "En esta variable categórica vemos un patrón claro, el porcentaje de renuncia decrece a medida que aumenta el nivel salarial, siendo especialmente bajo en los salarios más altos.\n",
        "\n",
        "Esta parece una buena vaiable predictora."
      ],
      "metadata": {
        "id": "6iqvV_5jJrTg"
      }
    },
    {
      "cell_type": "markdown",
      "source": [
        "## Análisis predictivo"
      ],
      "metadata": {
        "id": "h5KiL940avNs"
      }
    },
    {
      "cell_type": "markdown",
      "source": [
        "### Preparación de los datos"
      ],
      "metadata": {
        "id": "BnRFTQRma4hd"
      }
    },
    {
      "cell_type": "markdown",
      "source": [
        "¿Existe alguna variable categórica que queramos utilizar en nuestro modelo? Puedes volver a revisar el vídeo de la Clase 1 Tema 4 - **Laboratorio Preprocesamiento de datos: parte 2**, donde a partir del minuto 5:55 se explica en detalle cómo proceder en estos casos."
      ],
      "metadata": {
        "id": "F_IM-7PLbEMW"
      }
    },
    {
      "cell_type": "code",
      "source": [
        "# Tenemos dos variables categóricas department y salary\n",
        "\n",
        "# Voy a codificarlas ambas mediante la técnica OneHotEncoding\n",
        "# - department: esto es necesario ya que estas categorías tienen ningún orden\n",
        "# - salary: aunque las categorías tienen ordenada, no sé si todas ellas son \n",
        "#          equidistantes.\n",
        "\n",
        "# Para ello voy a usar la implementación de pandas que me permite\n",
        "#    crear dummies para estas categorias\n",
        "datos = (\n",
        "    pd.get_dummies(\n",
        "        datos, \n",
        "        columns=[\"salary\", \"department\"],\n",
        "        drop_first=True # voy a crear n-1 categorias para evitar redundancia\n",
        "        )\n",
        "    )\n",
        "\n",
        "datos.columns\n",
        "\n"
      ],
      "metadata": {
        "id": "vs5-n16abDmL",
        "colab": {
          "base_uri": "https://localhost:8080/",
          "height": 0
        },
        "outputId": "45eb2bf1-e353-4da6-c465-f42d02982bc2"
      },
      "execution_count": 21,
      "outputs": [
        {
          "output_type": "execute_result",
          "data": {
            "text/plain": [
              "Index(['satisfaction_level', 'last_evaluation', 'number_project',\n",
              "       'average_montly_hours', 'time_spend_company', 'Work_accident', 'left',\n",
              "       'promotion_last_5years', 'salary_low', 'salary_medium',\n",
              "       'department_RandD', 'department_accounting', 'department_hr',\n",
              "       'department_management', 'department_marketing',\n",
              "       'department_product_mng', 'department_sales', 'department_support',\n",
              "       'department_technical'],\n",
              "      dtype='object')"
            ]
          },
          "metadata": {},
          "execution_count": 21
        }
      ]
    },
    {
      "cell_type": "code",
      "source": [
        "# ANÁLISIS DE CORRELACIONES\n",
        "\n",
        "plt.figure(figsize=(20,20))\n",
        "corr = datos.corr()\n",
        "cmap = sns.color_palette(\"light:b\", as_cmap=True)\n",
        "sns.heatmap(corr, annot=True, cmap=cmap)\n",
        "plt.show()"
      ],
      "metadata": {
        "colab": {
          "base_uri": "https://localhost:8080/",
          "height": 1260
        },
        "id": "9dCVO0Pvq8ZL",
        "outputId": "79cc7c91-2bdb-4794-eb5f-254cfbe57631"
      },
      "execution_count": 22,
      "outputs": [
        {
          "output_type": "display_data",
          "data": {
            "text/plain": [
              "<Figure size 1440x1440 with 2 Axes>"
            ],
            "image/png": "[encoded data removed]"
          },
          "metadata": {
            "needs_background": "light"
          }
        }
      ]
    },
    {
      "cell_type": "markdown",
      "source": [
        "Hay dos variables que están fuertemente correlacionadas entre sí `salary_low` y `salary_medium`. \n",
        "\n",
        "Se trata de los dummies al codifigar la variable categórica `salary`. \n",
        "\n",
        "Es probable que esta corelación afecte a los modelos."
      ],
      "metadata": {
        "id": "qGhk18w8_vto"
      }
    },
    {
      "cell_type": "markdown",
      "source": [
        "### Implementación de los modelos"
      ],
      "metadata": {
        "id": "qadPUTDfdd0x"
      }
    },
    {
      "cell_type": "markdown",
      "source": [
        "Es importante tener en cuenta que estamos ante un problema de clasifiación binaria (0: No abandona, 1: Sí abandona). Por lo tanto, de entre los 4 diferentes algoritmos que hemos visto esta semana **sólo podemos aplicar 2**\n",
        ", ¿cuáles son?\n",
        "\n",
        "En los vídeos de los laboratorios podéis encontrar una carpeta con los **recursos** de apoyo que contiene un ejemplo paso a paso sobre cómo implementar estos modelos en Python. Os animo a entenderlos bien y tratar de seguir el mismo procedimiento para estos datos."
      ],
      "metadata": {
        "id": "VK-21JtgdsvF"
      }
    },
    {
      "cell_type": "markdown",
      "source": [
        "**IMPORTANTE**: Recordad que antes de entrenar un modelo es clave particionar los datos en, al menos, dos conjuntos diferentes: uno para entrenar el modelo (train) y otro para evaluar su capacidad predictiva (test)."
      ],
      "metadata": {
        "id": "fBVFU8n9e9lI"
      }
    },
    {
      "cell_type": "code",
      "source": [
        "from sklearn.model_selection import train_test_split \n",
        "\n",
        "X = datos.loc[:, datos.columns != \"left\"]\n",
        "print(\"X:\", X.shape)\n",
        "y = datos.loc[:, \"left\"]\n",
        "print(\"y:\", y.shape)\n",
        "\n",
        "X_train, X_test, y_train, y_test= train_test_split(X, y,\n",
        "                                                   test_size= 0.3,\n",
        "                                                   shuffle= True, \n",
        "                                                   random_state= 42)"
      ],
      "metadata": {
        "id": "OnfxcTQze-Kc",
        "colab": {
          "base_uri": "https://localhost:8080/",
          "height": 0
        },
        "outputId": "469d8766-1a9c-409e-d697-9b785ef21dc6"
      },
      "execution_count": 23,
      "outputs": [
        {
          "output_type": "stream",
          "name": "stdout",
          "text": [
            "X: (14999, 18)\n",
            "y: (14999,)\n"
          ]
        }
      ]
    },
    {
      "cell_type": "code",
      "source": [
        "# Algunas variables necssitan de normalización o estandarización\n",
        "from sklearn.preprocessing import MinMaxScaler, StandardScaler\n",
        "\n",
        "# number_project+time_spend_company . Valores discretos, los normalizo para que estén entre 0 y 1\n",
        "print(f\"number_project (before):\\tmin={X_train.number_project.min():.0f}\\tmax={X_train.number_project.max():.0f}\")\n",
        "print(f\"time_spend_company (before):\\tmin={X_train.time_spend_company.min():.0f}\\tmax={X_train.time_spend_company.max():.0f}\")\n",
        "\n",
        "mm_scaler = MinMaxScaler()\n",
        "X_train[[\"number_project\", \"time_spend_company\"]] = mm_scaler.fit_transform(X_train[[\"number_project\", \"time_spend_company\"]])\n",
        "X_test[[\"number_project\", \"time_spend_company\"]] = mm_scaler.transform(X_test[[\"number_project\", \"time_spend_company\"]])\n",
        "\n",
        "print(f\"number_project (after):\\tmin={X_train.number_project.min():.0f}\\tmax={X_train.number_project.max():.0f}\")\n",
        "print(f\"time_spend_company (after):\\tmin={X_train.time_spend_company.min():.0f}\\tmax={X_train.time_spend_company.max():.0f}\")\n",
        "print()\n",
        "\n",
        "# average_montly_hours. Valores contínuos, los estandarizo par que tengan media 0 y desv. est. 1\n",
        "print(f\"average_montly_hours (before):\\tmean={X_train.average_montly_hours.mean():.2f}\\tstd={X_train.average_montly_hours.std():.2f}\")\n",
        "\n",
        "std_scaler = StandardScaler()\n",
        "X_train[\"average_montly_hours\"] = std_scaler.fit_transform(X_train[\"average_montly_hours\"].values.reshape(-1, 1))\n",
        "X_test[\"average_montly_hours\"] = std_scaler.transform(X_test[\"average_montly_hours\"].values.reshape(-1, 1))\n",
        "\n",
        "print(f\"average_montly_hours (before):\\tmean={X_train.average_montly_hours.mean():.2f}\\tstd={X_train.average_montly_hours.std():.2f}\")"
      ],
      "metadata": {
        "id": "qbp8Dxq4a31U",
        "colab": {
          "base_uri": "https://localhost:8080/",
          "height": 0
        },
        "outputId": "38105efd-b3c2-4e13-e5b3-16852beb1087"
      },
      "execution_count": 24,
      "outputs": [
        {
          "output_type": "stream",
          "name": "stdout",
          "text": [
            "number_project (before):\tmin=2\tmax=7\n",
            "time_spend_company (before):\tmin=2\tmax=10\n",
            "number_project (after):\tmin=0\tmax=1\n",
            "time_spend_company (after):\tmin=0\tmax=1\n",
            "\n",
            "average_montly_hours (before):\tmean=200.93\tstd=49.89\n",
            "average_montly_hours (before):\tmean=-0.00\tstd=1.00\n"
          ]
        }
      ]
    },
    {
      "cell_type": "markdown",
      "source": [
        "Como el problema es de clasificación binaria vamos a usar estos dos algoritmos:\n",
        "\n",
        "- KNN\n",
        "- Logistic Regression"
      ],
      "metadata": {
        "id": "1kw5-ZkIVe64"
      }
    },
    {
      "cell_type": "markdown",
      "source": [
        "#### Modelo 1"
      ],
      "metadata": {
        "id": "Riy6mT9JeYrG"
      }
    },
    {
      "cell_type": "code",
      "source": [
        "# Quitamos variabes irrelevantes. KNN es muy sensible a ellas\n",
        "#\n",
        "# De las etapas anteriores hemos detectado algunas variables candidatas\n",
        "#  a eliminars\n",
        "#  - number_project y promotion_last_5years, en el análisis exploratorio\n",
        "#     se ha visto que pueden ser irrelevantes o ruído\n",
        "#  - salary_medium, se ha visto que tiene mucha correlación con salary_low\n",
        "#     se deja esta última\n",
        "#\n",
        "X_train_knn = X_train\n",
        "X_test_knn = X_test\n",
        "\n",
        "# [\"number_project\", \"promotion_last_5years\"]\n",
        "# Tras hacer pruebas se ha visto que es mejor mantener estas variables\n",
        "\n",
        "# En cambio KNN sí mejora al eliminar esta, eso es debido que al estar \n",
        "# tan correlacionada con salary_low se volvía irrelevante\n",
        "drop_vars = [\"salary_medium\"]\n",
        "\n",
        "X_train_knn = X_train.drop(drop_vars, axis=1)\n",
        "print(\"X_train_knn:\", X_train_knn.shape)\n",
        "X_test_knn = X_test.drop(drop_vars, axis=1)\n",
        "print(\"X_test_knn:\", X_test_knn.shape)"
      ],
      "metadata": {
        "id": "p2S86-z9eXw2",
        "colab": {
          "base_uri": "https://localhost:8080/",
          "height": 0
        },
        "outputId": "94dbe8d2-c065-49ea-923b-efcd9dbd265c"
      },
      "execution_count": 25,
      "outputs": [
        {
          "output_type": "stream",
          "name": "stdout",
          "text": [
            "X_train_knn: (10499, 17)\n",
            "X_test_knn: (4500, 17)\n"
          ]
        }
      ]
    },
    {
      "cell_type": "code",
      "source": [
        "# Convertimos las variables a arrays de Numpy, necesario para KNN\n",
        "X_train_knn= np.asarray(X_train_knn)\n",
        "print(\"X_train_knn:\", X_train_knn.shape)\n",
        "y_train_knn= np.asarray(y_train)\n",
        "print(\"y_train_knn:\", y_train_knn.shape)\n",
        "\n",
        "X_test_knn= np.asarray(X_test_knn)\n",
        "print(\"X_test_knn:\", X_test_knn.shape)\n",
        "y_test_knn= np.asarray(y_test)\n",
        "print(\"y_test_knn:\", y_test_knn.shape)"
      ],
      "metadata": {
        "colab": {
          "base_uri": "https://localhost:8080/",
          "height": 0
        },
        "id": "higyZrXGbjMk",
        "outputId": "59fab820-8239-4654-850b-b5e9fffbf1d5"
      },
      "execution_count": 26,
      "outputs": [
        {
          "output_type": "stream",
          "name": "stdout",
          "text": [
            "X_train_knn: (10499, 17)\n",
            "y_train_knn: (10499,)\n",
            "X_test_knn: (4500, 17)\n",
            "y_test_knn: (4500,)\n"
          ]
        }
      ]
    },
    {
      "cell_type": "code",
      "source": [
        "# Entrenamos el modelo\n",
        "from sklearn.neighbors import KNeighborsClassifier\n",
        "\n",
        "knn = KNeighborsClassifier(n_neighbors = 5)\n",
        "knn.fit(X_train_knn, y_train_knn)\n",
        "y_pred_knn= knn.predict(X_test_knn)\n",
        "print(y_pred_knn.shape)"
      ],
      "metadata": {
        "id": "mV-HitTRdk0H",
        "colab": {
          "base_uri": "https://localhost:8080/",
          "height": 0
        },
        "outputId": "0c054eb9-66f0-45c1-bc4b-383f9215af2b"
      },
      "execution_count": 27,
      "outputs": [
        {
          "output_type": "stream",
          "name": "stdout",
          "text": [
            "(4500,)\n"
          ]
        }
      ]
    },
    {
      "cell_type": "markdown",
      "source": [
        "#### Modelo 2"
      ],
      "metadata": {
        "id": "bJUIkdTddlLm"
      }
    },
    {
      "cell_type": "code",
      "source": [
        "\n",
        "# Para la regresión lógistica se ha visto que la única variable\n",
        "#  que al eliminarse modifica el modelo es esta. Esto es así\n",
        "#  porque los modelos de regresión dan por supuesto que las variables\n",
        "#  son linealmente independientes.\n",
        "drop_vars = [\"salary_medium\"]\n",
        "\n",
        "X_train = X_train.drop(drop_vars, axis=1)\n",
        "print(\"X_train:\", X_train.shape)\n",
        "X_test = X_test.drop(drop_vars, axis=1)\n",
        "print(\"X_test:\", X_test.shape)"
      ],
      "metadata": {
        "colab": {
          "base_uri": "https://localhost:8080/",
          "height": 0
        },
        "id": "drhBiPVK7dpe",
        "outputId": "ed8afae4-0051-4e70-c8f8-63e227cce86d"
      },
      "execution_count": 28,
      "outputs": [
        {
          "output_type": "stream",
          "name": "stdout",
          "text": [
            "X_train: (10499, 17)\n",
            "X_test: (4500, 17)\n"
          ]
        }
      ]
    },
    {
      "cell_type": "code",
      "source": [
        "# scaler = StandardScaler()\n",
        "# X_train = scaler.fit_transform(X_train)\n",
        "# X_test = scaler.transform(X_test)"
      ],
      "metadata": {
        "id": "ENQxLk_BxMmF"
      },
      "execution_count": 29,
      "outputs": []
    },
    {
      "cell_type": "code",
      "source": [
        "# Entrenamos el modelo\n",
        "\n",
        "from sklearn.linear_model import LogisticRegression\n",
        "# Hiperparámetros obtenidos haciendo pruebas con Random Search\n",
        "lr = LogisticRegression(C=4, solver='lbfgs', tol=0.14, max_iter=260, random_state=0, fit_intercept=True)\n",
        "lr.fit(X_train, y_train)\n",
        "y_pred_lr= lr.predict(X_test)\n",
        "print(y_pred_lr.shape)"
      ],
      "metadata": {
        "id": "aK0jfR_EdoTj",
        "colab": {
          "base_uri": "https://localhost:8080/",
          "height": 0
        },
        "outputId": "e75595d4-93b5-468e-cd72-4450993ca894"
      },
      "execution_count": 30,
      "outputs": [
        {
          "output_type": "stream",
          "name": "stdout",
          "text": [
            "(4500,)\n"
          ]
        }
      ]
    },
    {
      "cell_type": "code",
      "source": [
        "#\n",
        "# CÓDIGO DE PRUEBA PARA ENCONTRAR LOS MEJORES HIPERPARAMETROS \n",
        "# Lo dejo comentado para que no tarde tanto\n",
        "\n",
        "\n",
        "# from sklearn.model_selection import RandomizedSearchCV\n",
        "# from scipy.stats import uniform\n",
        "# from sklearn.utils.fixes import loguniform\n",
        "\n",
        "# logistic = LogisticRegression(random_state=0)\n",
        "# # distributions = dict(C=uniform(loc=0, scale=4), penalty=['l1', 'l2', 'none'])\n",
        "# distributions = dict(\n",
        "#     C=uniform(loc=0, scale=4), \n",
        "#     solver=['newton-cg', 'lbfgs', 'sag', 'saga'],\n",
        "#     max_iter=uniform(loc=100, scale=200),\n",
        "#     fit_intercept=[True, False],\n",
        "#     tol=loguniform(1e-4, 1e0)\n",
        "# )\n",
        "# lr = RandomizedSearchCV(logistic, distributions, scoring=\"accuracy\", cv=10, random_state=0)\n",
        "# search = lr.fit(X_train, y_train)\n",
        "# y_pred_lr= lr.predict(X_test)\n",
        "# print(y_pred_lr.shape)\n",
        "# print(\"Best params:\", search.best_params_)\n",
        "# print(\"Best score:\", search.best_score_)"
      ],
      "metadata": {
        "id": "SoBL_z8ny_aH"
      },
      "execution_count": 31,
      "outputs": []
    },
    {
      "cell_type": "markdown",
      "source": [
        "El entrenamiento del modelo por sí solo no nos aporta una información relevante, sino que es igual de importante saber interpretar los resultados obtenidos. Es fundamental a investigar otras métricas aparte del accuracy, para saber si el modelo se comporta igual de bien para predecir ambas clases. Unos ejemplos podían ser:\n",
        "\n",
        "*   Matriz de confusión.\n",
        "*   Recall, precisio, f1-score, etc. -`classification_report()`.\n",
        "*   [Curva ROC y AUC](https://mlu-explain.github.io/roc-auc/) - [`RocCurveDisplay()`](https://scikit-learn.org/stable/modules/generated/sklearn.metrics.RocCurveDisplay.html#sklearn.metrics.RocCurveDisplay).\n",
        "\n",
        "."
      ],
      "metadata": {
        "id": "bRQS-CO1g22J"
      }
    },
    {
      "cell_type": "code",
      "source": [
        "# Definimos una función que nos permitirá mostrar gráficamente la matriz de confusión\n",
        "import itertools\n",
        "def plot_confusion_matrix(cm, classes,\n",
        "                          normalize=False,\n",
        "                          title='Confusion matrix',\n",
        "                          cmap=plt.cm.Blues):\n",
        "    \"\"\"\n",
        "    Esta función imprime y representa la matriz de confusión\n",
        "    Puede aplicarse la normalización de la matriz con el parámetro `normalize=True`.\n",
        "    \"\"\"\n",
        "    # if normalize:\n",
        "    #     cm = cm.astype('float') / cm.sum(axis=1)[:, np.newaxis]\n",
        "    #     print(\"Matriz de confusión normalizada\")\n",
        "    # else:\n",
        "    #     print('Matriz de confusión sin normalización')\n",
        "\n",
        "    # print(cm)\n",
        "\n",
        "    plt.imshow(cm, interpolation='nearest', cmap=cmap)\n",
        "    plt.title(title)\n",
        "    plt.colorbar()\n",
        "    tick_marks = np.arange(len(classes))\n",
        "    plt.xticks(tick_marks, classes, rotation=45)\n",
        "    plt.yticks(tick_marks, classes)\n",
        "\n",
        "    fmt = '.2f' if normalize else 'd'\n",
        "    thresh = cm.max() / 2.\n",
        "    for i, j in itertools.product(range(cm.shape[0]), range(cm.shape[1])):\n",
        "        plt.text(j, i, format(cm[i, j], fmt),\n",
        "                 horizontalalignment=\"center\",\n",
        "                 color=\"white\" if cm[i, j] > thresh else \"black\")\n",
        "\n",
        "    plt.ylabel('Categoría verdadera')\n",
        "    plt.xlabel('Categoría predicha')\n",
        "    plt.tight_layout()"
      ],
      "metadata": {
        "id": "ZD5yPE5eXO5M"
      },
      "execution_count": 32,
      "outputs": []
    },
    {
      "cell_type": "code",
      "source": [
        "from sklearn.metrics  import confusion_matrix\n",
        "\n",
        "plt.figure(figsize=(16, 5))\n",
        "\n",
        "# KNN\n",
        "cnf_matrix_knn = confusion_matrix(y_test_knn,y_pred_knn)\n",
        "plt.subplot(121)\n",
        "plot_confusion_matrix(cnf_matrix_knn, classes=[\"No abandona\", \"Sí abandona\"],\n",
        "                      title='Matriz de confusión KNN')\n",
        "\n",
        "# Logistic Regression\n",
        "cnf_matrix_lr = confusion_matrix(y_test,y_pred_lr)\n",
        "plt.subplot(122)\n",
        "plot_confusion_matrix(cnf_matrix_lr, classes=[\"No abandona\", \"Sí abandona\"],\n",
        "                      title='Matriz de confusión Logistic Regression')"
      ],
      "metadata": {
        "id": "NSZtEpfe2Sjo",
        "colab": {
          "base_uri": "https://localhost:8080/",
          "height": 369
        },
        "outputId": "c848cb67-f4f1-471f-baba-b05765a0b1ae"
      },
      "execution_count": 33,
      "outputs": [
        {
          "output_type": "display_data",
          "data": {
            "text/plain": [
              "<Figure size 1152x360 with 3 Axes>"
            ],
            "image/png": "[encoded data removed]"
          },
          "metadata": {
            "needs_background": "light"
          }
        }
      ]
    },
    {
      "cell_type": "code",
      "source": [
        "total = len(datos)\n",
        "fallos_knn = 132 + 166\n",
        "fallos_lr = 710 + 256\n",
        "\n",
        "print(f\"Tasa de errores en KNN {100 * (fallos_knn / total):.1f}%\")\n",
        "print(f\"Tasa de errores en Logistic Regression {100 * (fallos_lr / total):.1f}%\")"
      ],
      "metadata": {
        "colab": {
          "base_uri": "https://localhost:8080/",
          "height": 0
        },
        "id": "-ukm_kLSBti-",
        "outputId": "83dbbcbd-5541-4155-9cec-00dd70468e6a"
      },
      "execution_count": 34,
      "outputs": [
        {
          "output_type": "stream",
          "name": "stdout",
          "text": [
            "Tasa de errores en KNN 2.0%\n",
            "Tasa de errores en Logistic Regression 6.4%\n"
          ]
        }
      ]
    },
    {
      "cell_type": "markdown",
      "source": [
        "La matriz de confusión indica que se han cometido más errores en la regresión logística que en KNNN"
      ],
      "metadata": {
        "id": "931Bckd7CMy_"
      }
    },
    {
      "cell_type": "code",
      "source": [
        "# Curva ROC mediante RocCurveDisplay\n",
        "from sklearn.metrics import roc_curve, auc, RocCurveDisplay\n",
        "\n",
        "fig = plt.figure(figsize=(16 , 5))\n",
        "\n",
        "# KNN\n",
        "y_pred_test_knn = knn.predict_proba(X_test_knn)[:,1]\n",
        "\n",
        "fpr_knn, tpr_knn, _ = roc_curve(y_test_knn, y_pred_test_knn)\n",
        "roc_auc_knn = auc(fpr_knn, tpr_knn)\n",
        "axknn = ax=plt.subplot(121)\n",
        "axknn.set_title(\"KNN ROC Curve\")\n",
        "display_knn = RocCurveDisplay(fpr=fpr_knn, tpr=tpr_knn, roc_auc=roc_auc_knn, estimator_name='KNN')\n",
        "display_knn.plot(ax=axknn, name=\"KNN ROC\")\n",
        "\n",
        "# Logistic Regression\n",
        "y_pred_test_lr = lr.predict_proba(X_test)[:,1]\n",
        "\n",
        "fpr_lr, tpr_lr, _ = roc_curve(y_test, y_pred_test_lr)\n",
        "roc_auc_lr = auc(fpr_lr, tpr_lr)\n",
        "axlr = ax=plt.subplot(122)\n",
        "axlr.set_title(\"Logistic Regression ROC Curve\")\n",
        "display_lr = RocCurveDisplay(fpr=fpr_lr, tpr=tpr_lr, roc_auc=roc_auc_lr, estimator_name='Logistic Regression')\n",
        "display_lr.plot(ax=axlr, name=\"Logistic Regression ROC\")\n",
        "\n",
        "# Show\n",
        "plt.show()"
      ],
      "metadata": {
        "colab": {
          "base_uri": "https://localhost:8080/",
          "height": 354
        },
        "id": "gQ5t7ICAkxyO",
        "outputId": "c78dfc52-df74-4109-9833-20e31e393202"
      },
      "execution_count": 35,
      "outputs": [
        {
          "output_type": "display_data",
          "data": {
            "text/plain": [
              "<Figure size 1152x360 with 2 Axes>"
            ],
            "image/png": "[encoded data removed]"
          },
          "metadata": {
            "needs_background": "light"
          }
        }
      ]
    },
    {
      "cell_type": "markdown",
      "source": [
        "El área bajo la curva (AUC) es mejor para KNN, esto indica un mejor poder de predicción.\n",
        "\n",
        "No obstante, debemos estar pendientes también del sobreajuse. Para ello voy a mostrar par cada modelo las curvas ROC sobre el conjunto de entrenamiento y sobre el conjunto de test."
      ],
      "metadata": {
        "id": "qnPsAS1QCZNg"
      }
    },
    {
      "cell_type": "code",
      "source": [
        "# Curva ROC mediante una función personalizada\n",
        "#\n",
        "# Encapsulamos la generación de la curva ROC en una función reutilizable\n",
        "#\n",
        "def plot_ROC(y_train, y_test, pred_train, pred_test, title=\"ROC\"):\n",
        "  # CURVA ROC Y AUC PARA TRAINING\n",
        "  fpr_train, tpr_train, _ = roc_curve(y_train, pred_train)\n",
        "  roc_auc_train = auc(fpr_train, tpr_train)\n",
        "\n",
        "  # CURVA ROC Y AUC PARA TEST\n",
        "  fpr_test, tpr_test, _ = roc_curve(y_test, pred_test)\n",
        "  roc_auc_test = auc(fpr_test, tpr_test)\n",
        "\n",
        "  # GRAFICA\n",
        "    \n",
        "  lw = 2\n",
        "\n",
        "  plt.plot(fpr_train,tpr_train,color=\"darkgreen\",lw=lw+1,label=\"Train ROC (AUC = %0.2f)\" % roc_auc_train,)\n",
        "  plt.plot(fpr_test,tpr_test,color=\"darkred\",lw=lw+1,label=\"Test ROC (AUC = %0.2f)\" % roc_auc_test,)\n",
        "\n",
        "  plt.plot([0, 1], [0, 1], color=\"navy\", lw=lw, linestyle=\"--\")\n",
        "  plt.xlim([0.0, 1.0])\n",
        "  plt.ylim([0.0, 1.05])\n",
        "  plt.xlabel(\"False Positive Rate\")\n",
        "  plt.ylabel(\"True Positive Rate\")\n",
        "  plt.title(title)\n",
        "  plt.legend(loc=\"lower right\")\n",
        "\n",
        "fig = plt.figure(figsize=(16 , 5))\n",
        "\n",
        "\n",
        "# KNN\n",
        "axknn = ax=plt.subplot(121)\n",
        "axknn.set_title(\"KNN ROC Curve\")\n",
        "y_pred_train_knn = knn.predict_proba(X_train_knn)[:,1]\n",
        "plot_ROC(\n",
        "    y_train=y_train_knn,\n",
        "    y_test=y_test_knn,\n",
        "    pred_train=y_pred_train_knn,\n",
        "    pred_test=y_pred_test_knn,\n",
        "    title=\"KNN ROC Curve\"\n",
        ")\n",
        "\n",
        "# KNN\n",
        "axlr = ax=plt.subplot(122)\n",
        "axknn.set_title(\"Logistic Regression ROC Curve\")\n",
        "y_pred_train_lr = lr.predict_proba(X_train)[:,1]\n",
        "plot_ROC(\n",
        "    y_train=y_train,\n",
        "    y_test=y_test,\n",
        "    pred_train=y_pred_train_lr,\n",
        "    pred_test=y_pred_test_lr,\n",
        "    title=\"Logistic Regression ROC Curve\"\n",
        ")\n",
        "\n",
        "# Show\n",
        "plt.show()"
      ],
      "metadata": {
        "colab": {
          "base_uri": "https://localhost:8080/",
          "height": 354
        },
        "id": "D1zJFDqfrWHM",
        "outputId": "f4dabf56-5283-429e-a60f-73fd471c0b9d"
      },
      "execution_count": 36,
      "outputs": [
        {
          "output_type": "display_data",
          "data": {
            "text/plain": [
              "<Figure size 1152x360 with 2 Axes>"
            ],
            "image/png": "[encoded data removed]"
          },
          "metadata": {
            "needs_background": "light"
          }
        }
      ]
    },
    {
      "cell_type": "markdown",
      "source": [
        "Aquí vemos que, si bien KNN parece tener una mejor capacidad predictora, la regresión logística se ha ajustado con menos sobreajuste."
      ],
      "metadata": {
        "id": "gel_EuKiCvhH"
      }
    },
    {
      "cell_type": "code",
      "source": [
        "from sklearn.metrics import classification_report\n",
        "\n",
        "print(\"Classification report KNN\")\n",
        "print(\"=\"*26)\n",
        "print(classification_report(y_test_knn, y_pred_knn, target_names=[\"Sin abandono\", \"Con abandono\"]))\n",
        "\n",
        "print()\n",
        "\n",
        "print(\"Classification report Logistic Regression\")\n",
        "print(\"=\"*42)\n",
        "print(classification_report(y_test, y_pred_lr, target_names=[\"Sin abandono\", \"Con abandono\"]))"
      ],
      "metadata": {
        "colab": {
          "base_uri": "https://localhost:8080/",
          "height": 0
        },
        "id": "ov6GilB4kW0n",
        "outputId": "8fcc5a54-544b-446f-c36a-3f0e5ecba29b"
      },
      "execution_count": 37,
      "outputs": [
        {
          "output_type": "stream",
          "name": "stdout",
          "text": [
            "Classification report KNN\n",
            "==========================\n",
            "              precision    recall  f1-score   support\n",
            "\n",
            "Sin abandono       0.96      0.95      0.96      3428\n",
            "Con abandono       0.85      0.88      0.86      1072\n",
            "\n",
            "    accuracy                           0.93      4500\n",
            "   macro avg       0.91      0.91      0.91      4500\n",
            "weighted avg       0.93      0.93      0.93      4500\n",
            "\n",
            "\n",
            "Classification report Logistic Regression\n",
            "==========================================\n",
            "              precision    recall  f1-score   support\n",
            "\n",
            "Sin abandono       0.82      0.93      0.87      3428\n",
            "Con abandono       0.59      0.34      0.43      1072\n",
            "\n",
            "    accuracy                           0.79      4500\n",
            "   macro avg       0.70      0.63      0.65      4500\n",
            "weighted avg       0.76      0.79      0.76      4500\n",
            "\n"
          ]
        }
      ]
    },
    {
      "cell_type": "markdown",
      "source": [
        "Este informe nos dice lo siguiente.\n",
        "\n",
        "- Según el `f1-score`, ambos modelos predicen mejor la clase `Sin abandono`.\n",
        "- Según el `accuracy`, el modelo KNN está mejor ajustado que Logistic Regression."
      ],
      "metadata": {
        "id": "WTZEFSBpDGAh"
      }
    },
    {
      "cell_type": "markdown",
      "source": [
        "# Conclusión\n",
        "\n",
        "Sobre este dataset considero que el mejor algoritmo es KNN\n",
        "\n",
        "| Métrica | Mejor | Valor KNN | Valor Logistic Regression |\n",
        "| --- | --- | ---| --- |\n",
        "| Matriz de confusión | KNN | Tasa de error: 2% | Tasa de error: 6.4% |\n",
        "| Curva ROC | KNN | AUC = 96 | AUC = 81 |\n",
        "| accuracy | KNN | 93% | 79% | "
      ],
      "metadata": {
        "id": "I5oQSeimFbJQ"
      }
    }
  ],
  "metadata": {
    "kernelspec": {
      "display_name": "Python 3 (ipykernel)",
      "language": "python",
      "name": "python3"
    },
    "language_info": {
      "codemirror_mode": {
        "name": "ipython",
        "version": 3
      },
      "file_extension": ".py",
      "mimetype": "text/x-python",
      "name": "python",
      "nbconvert_exporter": "python",
      "pygments_lexer": "ipython3",
      "version": "3.9.10"
    },
    "toc": {
      "base_numbering": 1,
      "nav_menu": {},
      "number_sections": true,
      "sideBar": true,
      "skip_h1_title": false,
      "title_cell": "Tabla de contenidos",
      "title_sidebar": "Contents",
      "toc_cell": true,
      "toc_position": {},
      "toc_section_display": true,
      "toc_window_display": false
    },
    "varInspector": {
      "cols": {
        "lenName": 16,
        "lenType": 16,
        "lenVar": 40
      },
      "kernels_config": {
        "python": {
          "delete_cmd_postfix": "",
          "delete_cmd_prefix": "del ",
          "library": "var_list.py",
          "varRefreshCmd": "print(var_dic_list())"
        },
        "r": {
          "delete_cmd_postfix": ") ",
          "delete_cmd_prefix": "rm(",
          "library": "var_list.r",
          "varRefreshCmd": "cat(var_dic_list()) "
        }
      },
      "types_to_exclude": [
        "module",
        "function",
        "builtin_function_or_method",
        "instance",
        "_Feature"
      ],
      "window_display": false
    },
    "colab": {
      "provenance": [],
      "include_colab_link": true
    }
  },
  "nbformat": 4,
  "nbformat_minor": 0
}