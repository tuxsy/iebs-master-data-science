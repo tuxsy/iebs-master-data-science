{
  "cells": [
    {
      "cell_type": "markdown",
      "metadata": {
        "id": "view-in-github",
        "colab_type": "text"
      },
      "source": [
        "<a href=\"https://colab.research.google.com/github/tuxsy/iebs-master-data-science/blob/main/m06/c1/Preparacion_datos.ipynb\" target=\"_parent\"><img src=\"https://colab.research.google.com/assets/colab-badge.svg\" alt=\"Open In Colab\"/></a>"
      ]
    },
    {
      "cell_type": "markdown",
      "metadata": {
        "id": "WP6nPYqHnYn5"
      },
      "source": [
        "# Limpieza de datos\n",
        "\n",
        "Entendemos por limpieza de datos el proceso mediante el cual procedemos a cambiar e incluso eliminar los datos ruidosos, incorrectos, duplicados, dañados o incompletos que hay en un conjunto de datos.\n",
        "\n",
        "Para realizar este procedimiento no existe ninguna fórmula mágica que determine al cien por cien los procesos que hay que seguir para llevarlo a cabo de manera exitosa, pues todo depende del tipo de datos con los que se esté trabajando. Pero sí que existen una serie de herramientas o metodologías muy extendidas a la hora realizar este proceso y, justamente son las que vamos a tratar en este apartado.\n",
        "\n",
        "A pesar de que este proceso normalmente es el menos atractivo en los proyectos de analítica, es de suma importancia dedicarle el tiempo suficiente y no tratar por él de manera superflua, pues de él **depende en gran medida el éxito o el fracaso de nuestro trabajo como analista de datos**. Es por ello que cada vez que nos enfrentemos ante un conjunto de datos sin preprocesar (en crudo), es de suma importancia reflexionar qué técnicas son más apropiadas para dicha situación en concreto.\n",
        "\n",
        "La limpieza y preprocesamiento de los datos, por lo tanto, es **la primera tarea** a desarrollar cuando nos enfrentamos a nuevos proyectos como analista de datos. Tanto `pandas` como `scikt-learn` nos proporcionan herramientas para hacer esta tarea, es por ello que nos centraremos en estas librerías para desarrollar este notebook.\n",
        "\n",
        "Como norma general, al comenzar de cero un proyecto de analítica, los datos no suelen venir en un sólo fichero, sino más bien en varios, que hay que unir mediante un determinado campo de enlace y, de este modo, conseguir un solo fichero o tablón con el que poder trabajar. Para hacer esto `pandas` nos proporciona la función  [`merge()`](https://pandas.pydata.org/docs/reference/api/pandas.DataFrame.merge.html). En este notebook, no la vamos a utilizar pues no es necesario, dado que el conjunto de datos con el que vamos a trabajar ya viene en un sólo fichero y, por lo tanto, ya tenemos los datos en formato adecuado para ir al paso siguiente."
      ]
    },
    {
      "cell_type": "markdown",
      "metadata": {
        "id": "7gniy6z0nYn9"
      },
      "source": [
        "# Importación de datos\n",
        "Para mostrar el preprocesamiento de los datos, vamos a utilizar un ficherro de kaggle que se denomina *melb_data.csv* y que se puede localizar y descargar del siguiente enlace: [https://www.kaggle.com/datasets/gunjanpathak/melb-data](https://www.kaggle.com/datasets/gunjanpathak/melb-data).\n",
        "\n",
        "Importamos el módulo pandas y cargamos los datos. \n",
        "\n",
        "*Nota: Si no funcionase la descarga desde Google Drive, siempre podéis ir a Kaggle, descargaros los datos manualmente y subirlos a la carpeta **/content** y leer el fichero desde dicha ruta*."
      ]
    },
    {
      "cell_type": "code",
      "execution_count": 1,
      "metadata": {
        "id": "oq4tRQD_nYn-"
      },
      "outputs": [],
      "source": [
        "import pandas as pd\n",
        "import numpy as np"
      ]
    },
    {
      "cell_type": "code",
      "source": [
        "#Verificamos cual es directorio de trabajo actual\n",
        "import os\n",
        "os.getcwd()"
      ],
      "metadata": {
        "colab": {
          "base_uri": "https://localhost:8080/",
          "height": 35
        },
        "id": "7NJFiKxhz8xC",
        "outputId": "c52ec4ae-2b19-4e45-fa92-777032068f46"
      },
      "execution_count": 2,
      "outputs": [
        {
          "output_type": "execute_result",
          "data": {
            "text/plain": [
              "'/content'"
            ],
            "application/vnd.google.colaboratory.intrinsic+json": {
              "type": "string"
            }
          },
          "metadata": {},
          "execution_count": 2
        }
      ]
    },
    {
      "cell_type": "code",
      "execution_count": 3,
      "metadata": {
        "colab": {
          "base_uri": "https://localhost:8080/"
        },
        "id": "2VJVofyvnYoA",
        "outputId": "6da8f74e-1e7c-45c4-d242-ed58b3cd846d"
      },
      "outputs": [
        {
          "output_type": "stream",
          "name": "stdout",
          "text": [
            "--2023-02-07 19:00:06--  https://drive.google.com/uc?export=download&id=1Y_fj29wRoTjlnRQGlQX00DFHZO_phZwv\n",
            "Resolving drive.google.com (drive.google.com)... 74.125.142.113, 74.125.142.102, 74.125.142.139, ...\n",
            "Connecting to drive.google.com (drive.google.com)|74.125.142.113|:443... connected.\n",
            "HTTP request sent, awaiting response... 303 See Other\n",
            "Location: https://doc-10-b0-docs.googleusercontent.com/docs/securesc/ha0ro937gcuc7l7deffksulhg5h7mbp1/6b4h4g1762ub1a7u1nj4sk2u0rlqfkpg/1675796400000/14644984037434537262/*/1Y_fj29wRoTjlnRQGlQX00DFHZO_phZwv?e=download&uuid=25508f81-2ce8-48d9-95bf-7f627536645f [following]\n",
            "Warning: wildcards not supported in HTTP.\n",
            "--2023-02-07 19:00:07--  https://doc-10-b0-docs.googleusercontent.com/docs/securesc/ha0ro937gcuc7l7deffksulhg5h7mbp1/6b4h4g1762ub1a7u1nj4sk2u0rlqfkpg/1675796400000/14644984037434537262/*/1Y_fj29wRoTjlnRQGlQX00DFHZO_phZwv?e=download&uuid=25508f81-2ce8-48d9-95bf-7f627536645f\n",
            "Resolving doc-10-b0-docs.googleusercontent.com (doc-10-b0-docs.googleusercontent.com)... 74.125.142.132, 2607:f8b0:400e:c08::84\n",
            "Connecting to doc-10-b0-docs.googleusercontent.com (doc-10-b0-docs.googleusercontent.com)|74.125.142.132|:443... connected.\n",
            "HTTP request sent, awaiting response... 200 OK\n",
            "Length: 2780441 (2.7M) [text/csv]\n",
            "Saving to: ‘melb_data.csv’\n",
            "\n",
            "melb_data.csv       100%[===================>]   2.65M  --.-KB/s    in 0.02s   \n",
            "\n",
            "2023-02-07 19:00:07 (160 MB/s) - ‘melb_data.csv’ saved [2780441/2780441]\n",
            "\n",
            "Dimensiones del data set. Filas: 18396. Columnas: 22\n",
            "\n",
            "Tipo de cada columna:\n",
            " Unnamed: 0         int64\n",
            "Suburb            object\n",
            "Address           object\n",
            "Rooms              int64\n",
            "Type              object\n",
            "Price            float64\n",
            "Method            object\n",
            "SellerG           object\n",
            "Date              object\n",
            "Distance         float64\n",
            "Postcode         float64\n",
            "Bedroom2         float64\n",
            "Bathroom         float64\n",
            "Car              float64\n",
            "Landsize         float64\n",
            "BuildingArea     float64\n",
            "YearBuilt        float64\n",
            "CouncilArea       object\n",
            "Lattitude        float64\n",
            "Longtitude       float64\n",
            "Regionname        object\n",
            "Propertycount    float64\n",
            "dtype: object\n"
          ]
        }
      ],
      "source": [
        "#Descargamos los datos al directorio /content que es donde está apuntando por defecto el Directorio de trabajo\n",
        "!wget --no-check-certificate 'https://drive.google.com/uc?export=download&id=1Y_fj29wRoTjlnRQGlQX00DFHZO_phZwv' -O 'melb_data.csv'\n",
        "#Leemos los datos descargados\n",
        "data  = pd.read_csv('melb_data.csv')\n",
        "print(\"Dimensiones del data set. Filas: {}. Columnas: {}\\n\".format(data.shape[0],data.shape[1]))\n",
        "\n",
        "print(\"Tipo de cada columna:\\n\",data.dtypes)\n"
      ]
    },
    {
      "cell_type": "markdown",
      "source": [
        "## Opción con Kaggle\n"
      ],
      "metadata": {
        "id": "AeZ3_K75xPap"
      }
    },
    {
      "cell_type": "markdown",
      "source": [
        "Otra opción sería descargando los datos directamente de la API de Kaggle, pero para ello tendríamos que generar una clave y subir el archivo kaggle.json a nuestro Drive.\n",
        "\n",
        "A continuación incluyo un ejemplo de cómo se haría, aunque no lo vamos a emplear para este laboratorio."
      ],
      "metadata": {
        "id": "PW5NX8gCOpjr"
      }
    },
    {
      "cell_type": "code",
      "source": [
        "#from google.colab import drive\n",
        "#drive.mount('/content/drive')"
      ],
      "metadata": {
        "id": "Ku-KjVJExPA5"
      },
      "execution_count": 4,
      "outputs": []
    },
    {
      "cell_type": "code",
      "source": [
        "##Mi fichero se encuentra en /Kaggle/kaggle.json\n",
        "#! pip install kaggle\n",
        "#! mkdir ~/.kaggle\n",
        "#! cp /content/drive/MyDrive/Kaggle/kaggle.json ~/.kaggle/kaggle.json\n",
        "#! chmod 600 ~/.kaggle/kaggle.json\n",
        "#! kaggle datasets download gunjanpathak/melb-data\n",
        "#! unzip melb-data.zip"
      ],
      "metadata": {
        "id": "Sdgsvw5ixDe9"
      },
      "execution_count": 5,
      "outputs": []
    },
    {
      "cell_type": "markdown",
      "source": [
        "Para encontrar la referencia a todos los datasets disponibles."
      ],
      "metadata": {
        "id": "asWdcIqNyN-r"
      }
    },
    {
      "cell_type": "code",
      "source": [
        "#!kaggle datasets list"
      ],
      "metadata": {
        "id": "IrBArSW_xDRV"
      },
      "execution_count": 6,
      "outputs": []
    },
    {
      "cell_type": "markdown",
      "source": [
        "# Estudio de los datos"
      ],
      "metadata": {
        "id": "io3833oBzqVx"
      }
    },
    {
      "cell_type": "code",
      "execution_count": 7,
      "metadata": {
        "colab": {
          "base_uri": "https://localhost:8080/",
          "height": 438
        },
        "id": "WM5LjERInYoB",
        "outputId": "a3a68b8b-1587-42ac-8d14-8201f7f880c9"
      },
      "outputs": [
        {
          "output_type": "execute_result",
          "data": {
            "text/plain": [
              "   Unnamed: 0      Suburb           Address  Rooms Type      Price Method  \\\n",
              "0           1  Abbotsford      85 Turner St      2    h  1480000.0      S   \n",
              "1           2  Abbotsford   25 Bloomburg St      2    h  1035000.0      S   \n",
              "2           4  Abbotsford      5 Charles St      3    h  1465000.0     SP   \n",
              "3           5  Abbotsford  40 Federation La      3    h   850000.0     PI   \n",
              "4           6  Abbotsford       55a Park St      4    h  1600000.0     VB   \n",
              "\n",
              "  SellerG       Date  Distance  ...  Bathroom  Car  Landsize  BuildingArea  \\\n",
              "0  Biggin  3/12/2016       2.5  ...       1.0  1.0     202.0           NaN   \n",
              "1  Biggin  4/02/2016       2.5  ...       1.0  0.0     156.0          79.0   \n",
              "2  Biggin  4/03/2017       2.5  ...       2.0  0.0     134.0         150.0   \n",
              "3  Biggin  4/03/2017       2.5  ...       2.0  1.0      94.0           NaN   \n",
              "4  Nelson  4/06/2016       2.5  ...       1.0  2.0     120.0         142.0   \n",
              "\n",
              "   YearBuilt  CouncilArea  Lattitude Longtitude             Regionname  \\\n",
              "0        NaN        Yarra   -37.7996   144.9984  Northern Metropolitan   \n",
              "1     1900.0        Yarra   -37.8079   144.9934  Northern Metropolitan   \n",
              "2     1900.0        Yarra   -37.8093   144.9944  Northern Metropolitan   \n",
              "3        NaN        Yarra   -37.7969   144.9969  Northern Metropolitan   \n",
              "4     2014.0        Yarra   -37.8072   144.9941  Northern Metropolitan   \n",
              "\n",
              "   Propertycount  \n",
              "0         4019.0  \n",
              "1         4019.0  \n",
              "2         4019.0  \n",
              "3         4019.0  \n",
              "4         4019.0  \n",
              "\n",
              "[5 rows x 22 columns]"
            ],
            "text/html": [
              "\n",
              "  <div id=\"df-9a98e1d6-bb28-4d31-bd5f-c3b5e2b89dc8\">\n",
              "    <div class=\"colab-df-container\">\n",
              "      <div>\n",
              "<style scoped>\n",
              "    .dataframe tbody tr th:only-of-type {\n",
              "        vertical-align: middle;\n",
              "    }\n",
              "\n",
              "    .dataframe tbody tr th {\n",
              "        vertical-align: top;\n",
              "    }\n",
              "\n",
              "    .dataframe thead th {\n",
              "        text-align: right;\n",
              "    }\n",
              "</style>\n",
              "<table border=\"1\" class=\"dataframe\">\n",
              "  <thead>\n",
              "    <tr style=\"text-align: right;\">\n",
              "      <th></th>\n",
              "      <th>Unnamed: 0</th>\n",
              "      <th>Suburb</th>\n",
              "      <th>Address</th>\n",
              "      <th>Rooms</th>\n",
              "      <th>Type</th>\n",
              "      <th>Price</th>\n",
              "      <th>Method</th>\n",
              "      <th>SellerG</th>\n",
              "      <th>Date</th>\n",
              "      <th>Distance</th>\n",
              "      <th>...</th>\n",
              "      <th>Bathroom</th>\n",
              "      <th>Car</th>\n",
              "      <th>Landsize</th>\n",
              "      <th>BuildingArea</th>\n",
              "      <th>YearBuilt</th>\n",
              "      <th>CouncilArea</th>\n",
              "      <th>Lattitude</th>\n",
              "      <th>Longtitude</th>\n",
              "      <th>Regionname</th>\n",
              "      <th>Propertycount</th>\n",
              "    </tr>\n",
              "  </thead>\n",
              "  <tbody>\n",
              "    <tr>\n",
              "      <th>0</th>\n",
              "      <td>1</td>\n",
              "      <td>Abbotsford</td>\n",
              "      <td>85 Turner St</td>\n",
              "      <td>2</td>\n",
              "      <td>h</td>\n",
              "      <td>1480000.0</td>\n",
              "      <td>S</td>\n",
              "      <td>Biggin</td>\n",
              "      <td>3/12/2016</td>\n",
              "      <td>2.5</td>\n",
              "      <td>...</td>\n",
              "      <td>1.0</td>\n",
              "      <td>1.0</td>\n",
              "      <td>202.0</td>\n",
              "      <td>NaN</td>\n",
              "      <td>NaN</td>\n",
              "      <td>Yarra</td>\n",
              "      <td>-37.7996</td>\n",
              "      <td>144.9984</td>\n",
              "      <td>Northern Metropolitan</td>\n",
              "      <td>4019.0</td>\n",
              "    </tr>\n",
              "    <tr>\n",
              "      <th>1</th>\n",
              "      <td>2</td>\n",
              "      <td>Abbotsford</td>\n",
              "      <td>25 Bloomburg St</td>\n",
              "      <td>2</td>\n",
              "      <td>h</td>\n",
              "      <td>1035000.0</td>\n",
              "      <td>S</td>\n",
              "      <td>Biggin</td>\n",
              "      <td>4/02/2016</td>\n",
              "      <td>2.5</td>\n",
              "      <td>...</td>\n",
              "      <td>1.0</td>\n",
              "      <td>0.0</td>\n",
              "      <td>156.0</td>\n",
              "      <td>79.0</td>\n",
              "      <td>1900.0</td>\n",
              "      <td>Yarra</td>\n",
              "      <td>-37.8079</td>\n",
              "      <td>144.9934</td>\n",
              "      <td>Northern Metropolitan</td>\n",
              "      <td>4019.0</td>\n",
              "    </tr>\n",
              "    <tr>\n",
              "      <th>2</th>\n",
              "      <td>4</td>\n",
              "      <td>Abbotsford</td>\n",
              "      <td>5 Charles St</td>\n",
              "      <td>3</td>\n",
              "      <td>h</td>\n",
              "      <td>1465000.0</td>\n",
              "      <td>SP</td>\n",
              "      <td>Biggin</td>\n",
              "      <td>4/03/2017</td>\n",
              "      <td>2.5</td>\n",
              "      <td>...</td>\n",
              "      <td>2.0</td>\n",
              "      <td>0.0</td>\n",
              "      <td>134.0</td>\n",
              "      <td>150.0</td>\n",
              "      <td>1900.0</td>\n",
              "      <td>Yarra</td>\n",
              "      <td>-37.8093</td>\n",
              "      <td>144.9944</td>\n",
              "      <td>Northern Metropolitan</td>\n",
              "      <td>4019.0</td>\n",
              "    </tr>\n",
              "    <tr>\n",
              "      <th>3</th>\n",
              "      <td>5</td>\n",
              "      <td>Abbotsford</td>\n",
              "      <td>40 Federation La</td>\n",
              "      <td>3</td>\n",
              "      <td>h</td>\n",
              "      <td>850000.0</td>\n",
              "      <td>PI</td>\n",
              "      <td>Biggin</td>\n",
              "      <td>4/03/2017</td>\n",
              "      <td>2.5</td>\n",
              "      <td>...</td>\n",
              "      <td>2.0</td>\n",
              "      <td>1.0</td>\n",
              "      <td>94.0</td>\n",
              "      <td>NaN</td>\n",
              "      <td>NaN</td>\n",
              "      <td>Yarra</td>\n",
              "      <td>-37.7969</td>\n",
              "      <td>144.9969</td>\n",
              "      <td>Northern Metropolitan</td>\n",
              "      <td>4019.0</td>\n",
              "    </tr>\n",
              "    <tr>\n",
              "      <th>4</th>\n",
              "      <td>6</td>\n",
              "      <td>Abbotsford</td>\n",
              "      <td>55a Park St</td>\n",
              "      <td>4</td>\n",
              "      <td>h</td>\n",
              "      <td>1600000.0</td>\n",
              "      <td>VB</td>\n",
              "      <td>Nelson</td>\n",
              "      <td>4/06/2016</td>\n",
              "      <td>2.5</td>\n",
              "      <td>...</td>\n",
              "      <td>1.0</td>\n",
              "      <td>2.0</td>\n",
              "      <td>120.0</td>\n",
              "      <td>142.0</td>\n",
              "      <td>2014.0</td>\n",
              "      <td>Yarra</td>\n",
              "      <td>-37.8072</td>\n",
              "      <td>144.9941</td>\n",
              "      <td>Northern Metropolitan</td>\n",
              "      <td>4019.0</td>\n",
              "    </tr>\n",
              "  </tbody>\n",
              "</table>\n",
              "<p>5 rows × 22 columns</p>\n",
              "</div>\n",
              "      <button class=\"colab-df-convert\" onclick=\"convertToInteractive('df-9a98e1d6-bb28-4d31-bd5f-c3b5e2b89dc8')\"\n",
              "              title=\"Convert this dataframe to an interactive table.\"\n",
              "              style=\"display:none;\">\n",
              "        \n",
              "  <svg xmlns=\"http://www.w3.org/2000/svg\" height=\"24px\"viewBox=\"0 0 24 24\"\n",
              "       width=\"24px\">\n",
              "    <path d=\"M0 0h24v24H0V0z\" fill=\"none\"/>\n",
              "    <path d=\"M18.56 5.44l.94 2.06.94-2.06 2.06-.94-2.06-.94-.94-2.06-.94 2.06-2.06.94zm-11 1L8.5 8.5l.94-2.06 2.06-.94-2.06-.94L8.5 2.5l-.94 2.06-2.06.94zm10 10l.94 2.06.94-2.06 2.06-.94-2.06-.94-.94-2.06-.94 2.06-2.06.94z\"/><path d=\"M17.41 7.96l-1.37-1.37c-.4-.4-.92-.59-1.43-.59-.52 0-1.04.2-1.43.59L10.3 9.45l-7.72 7.72c-.78.78-.78 2.05 0 2.83L4 21.41c.39.39.9.59 1.41.59.51 0 1.02-.2 1.41-.59l7.78-7.78 2.81-2.81c.8-.78.8-2.07 0-2.86zM5.41 20L4 18.59l7.72-7.72 1.47 1.35L5.41 20z\"/>\n",
              "  </svg>\n",
              "      </button>\n",
              "      \n",
              "  <style>\n",
              "    .colab-df-container {\n",
              "      display:flex;\n",
              "      flex-wrap:wrap;\n",
              "      gap: 12px;\n",
              "    }\n",
              "\n",
              "    .colab-df-convert {\n",
              "      background-color: #E8F0FE;\n",
              "      border: none;\n",
              "      border-radius: 50%;\n",
              "      cursor: pointer;\n",
              "      display: none;\n",
              "      fill: #1967D2;\n",
              "      height: 32px;\n",
              "      padding: 0 0 0 0;\n",
              "      width: 32px;\n",
              "    }\n",
              "\n",
              "    .colab-df-convert:hover {\n",
              "      background-color: #E2EBFA;\n",
              "      box-shadow: 0px 1px 2px rgba(60, 64, 67, 0.3), 0px 1px 3px 1px rgba(60, 64, 67, 0.15);\n",
              "      fill: #174EA6;\n",
              "    }\n",
              "\n",
              "    [theme=dark] .colab-df-convert {\n",
              "      background-color: #3B4455;\n",
              "      fill: #D2E3FC;\n",
              "    }\n",
              "\n",
              "    [theme=dark] .colab-df-convert:hover {\n",
              "      background-color: #434B5C;\n",
              "      box-shadow: 0px 1px 3px 1px rgba(0, 0, 0, 0.15);\n",
              "      filter: drop-shadow(0px 1px 2px rgba(0, 0, 0, 0.3));\n",
              "      fill: #FFFFFF;\n",
              "    }\n",
              "  </style>\n",
              "\n",
              "      <script>\n",
              "        const buttonEl =\n",
              "          document.querySelector('#df-9a98e1d6-bb28-4d31-bd5f-c3b5e2b89dc8 button.colab-df-convert');\n",
              "        buttonEl.style.display =\n",
              "          google.colab.kernel.accessAllowed ? 'block' : 'none';\n",
              "\n",
              "        async function convertToInteractive(key) {\n",
              "          const element = document.querySelector('#df-9a98e1d6-bb28-4d31-bd5f-c3b5e2b89dc8');\n",
              "          const dataTable =\n",
              "            await google.colab.kernel.invokeFunction('convertToInteractive',\n",
              "                                                     [key], {});\n",
              "          if (!dataTable) return;\n",
              "\n",
              "          const docLinkHtml = 'Like what you see? Visit the ' +\n",
              "            '<a target=\"_blank\" href=https://colab.research.google.com/notebooks/data_table.ipynb>data table notebook</a>'\n",
              "            + ' to learn more about interactive tables.';\n",
              "          element.innerHTML = '';\n",
              "          dataTable['output_type'] = 'display_data';\n",
              "          await google.colab.output.renderOutput(dataTable, element);\n",
              "          const docLink = document.createElement('div');\n",
              "          docLink.innerHTML = docLinkHtml;\n",
              "          element.appendChild(docLink);\n",
              "        }\n",
              "      </script>\n",
              "    </div>\n",
              "  </div>\n",
              "  "
            ]
          },
          "metadata": {},
          "execution_count": 7
        }
      ],
      "source": [
        "# Veamos el comienzo de los datos\n",
        "data.head()"
      ]
    },
    {
      "cell_type": "markdown",
      "metadata": {
        "id": "YmM2347cnYoD"
      },
      "source": [
        "Aquí ya podemos ver que nuestro conjunto de datos tiene algún valor nulo, pues por ejemplo en la fila con índice cero para los campos BuildingArea y YearBuilt, observamos que contiene los valores `NaN` indicaticativo de valor nulo o faltante.  "
      ]
    },
    {
      "cell_type": "code",
      "execution_count": 8,
      "metadata": {
        "colab": {
          "base_uri": "https://localhost:8080/",
          "height": 456
        },
        "id": "0A4tz77qnYoD",
        "outputId": "a2bdada6-07a4-4685-8bfd-51d5fd333eaa"
      },
      "outputs": [
        {
          "output_type": "execute_result",
          "data": {
            "text/plain": [
              "       Unnamed: 0        Suburb          Address  Rooms Type      Price  \\\n",
              "18391       23540  Williamstown  8/2 Thompson St      2    t   622500.0   \n",
              "18392       23541  Williamstown     96 Verdon St      4    h  2500000.0   \n",
              "18393       23544     Yallambie     17 Amaroo Wy      4    h  1100000.0   \n",
              "18394       23545    Yarraville       6 Agnes St      4    h  1285000.0   \n",
              "18395       23546    Yarraville    33 Freeman St      4    h  1050000.0   \n",
              "\n",
              "      Method     SellerG        Date  Distance  ...  Bathroom  Car  Landsize  \\\n",
              "18391     SP        Greg  26/08/2017       6.8  ...       2.0  1.0       NaN   \n",
              "18392     PI     Sweeney  26/08/2017       6.8  ...       1.0  5.0     866.0   \n",
              "18393      S  Buckingham  26/08/2017      12.7  ...       3.0  2.0       NaN   \n",
              "18394     SP     Village  26/08/2017       6.3  ...       1.0  1.0     362.0   \n",
              "18395     VB     Village  26/08/2017       6.3  ...       2.0  2.0       NaN   \n",
              "\n",
              "       BuildingArea  YearBuilt  CouncilArea  Lattitude Longtitude  \\\n",
              "18391          89.0     2010.0          NaN  -37.86393  144.90484   \n",
              "18392         157.0     1920.0          NaN  -37.85908  144.89299   \n",
              "18393           NaN        NaN          NaN  -37.72006  145.10547   \n",
              "18394         112.0     1920.0          NaN  -37.81188  144.88449   \n",
              "18395         139.0     1950.0          NaN  -37.81829  144.87404   \n",
              "\n",
              "                  Regionname  Propertycount  \n",
              "18391   Western Metropolitan         6380.0  \n",
              "18392   Western Metropolitan         6380.0  \n",
              "18393  Northern Metropolitan         1369.0  \n",
              "18394   Western Metropolitan         6543.0  \n",
              "18395   Western Metropolitan         6543.0  \n",
              "\n",
              "[5 rows x 22 columns]"
            ],
            "text/html": [
              "\n",
              "  <div id=\"df-815c9ab6-04be-4a80-9348-801794526ff3\">\n",
              "    <div class=\"colab-df-container\">\n",
              "      <div>\n",
              "<style scoped>\n",
              "    .dataframe tbody tr th:only-of-type {\n",
              "        vertical-align: middle;\n",
              "    }\n",
              "\n",
              "    .dataframe tbody tr th {\n",
              "        vertical-align: top;\n",
              "    }\n",
              "\n",
              "    .dataframe thead th {\n",
              "        text-align: right;\n",
              "    }\n",
              "</style>\n",
              "<table border=\"1\" class=\"dataframe\">\n",
              "  <thead>\n",
              "    <tr style=\"text-align: right;\">\n",
              "      <th></th>\n",
              "      <th>Unnamed: 0</th>\n",
              "      <th>Suburb</th>\n",
              "      <th>Address</th>\n",
              "      <th>Rooms</th>\n",
              "      <th>Type</th>\n",
              "      <th>Price</th>\n",
              "      <th>Method</th>\n",
              "      <th>SellerG</th>\n",
              "      <th>Date</th>\n",
              "      <th>Distance</th>\n",
              "      <th>...</th>\n",
              "      <th>Bathroom</th>\n",
              "      <th>Car</th>\n",
              "      <th>Landsize</th>\n",
              "      <th>BuildingArea</th>\n",
              "      <th>YearBuilt</th>\n",
              "      <th>CouncilArea</th>\n",
              "      <th>Lattitude</th>\n",
              "      <th>Longtitude</th>\n",
              "      <th>Regionname</th>\n",
              "      <th>Propertycount</th>\n",
              "    </tr>\n",
              "  </thead>\n",
              "  <tbody>\n",
              "    <tr>\n",
              "      <th>18391</th>\n",
              "      <td>23540</td>\n",
              "      <td>Williamstown</td>\n",
              "      <td>8/2 Thompson St</td>\n",
              "      <td>2</td>\n",
              "      <td>t</td>\n",
              "      <td>622500.0</td>\n",
              "      <td>SP</td>\n",
              "      <td>Greg</td>\n",
              "      <td>26/08/2017</td>\n",
              "      <td>6.8</td>\n",
              "      <td>...</td>\n",
              "      <td>2.0</td>\n",
              "      <td>1.0</td>\n",
              "      <td>NaN</td>\n",
              "      <td>89.0</td>\n",
              "      <td>2010.0</td>\n",
              "      <td>NaN</td>\n",
              "      <td>-37.86393</td>\n",
              "      <td>144.90484</td>\n",
              "      <td>Western Metropolitan</td>\n",
              "      <td>6380.0</td>\n",
              "    </tr>\n",
              "    <tr>\n",
              "      <th>18392</th>\n",
              "      <td>23541</td>\n",
              "      <td>Williamstown</td>\n",
              "      <td>96 Verdon St</td>\n",
              "      <td>4</td>\n",
              "      <td>h</td>\n",
              "      <td>2500000.0</td>\n",
              "      <td>PI</td>\n",
              "      <td>Sweeney</td>\n",
              "      <td>26/08/2017</td>\n",
              "      <td>6.8</td>\n",
              "      <td>...</td>\n",
              "      <td>1.0</td>\n",
              "      <td>5.0</td>\n",
              "      <td>866.0</td>\n",
              "      <td>157.0</td>\n",
              "      <td>1920.0</td>\n",
              "      <td>NaN</td>\n",
              "      <td>-37.85908</td>\n",
              "      <td>144.89299</td>\n",
              "      <td>Western Metropolitan</td>\n",
              "      <td>6380.0</td>\n",
              "    </tr>\n",
              "    <tr>\n",
              "      <th>18393</th>\n",
              "      <td>23544</td>\n",
              "      <td>Yallambie</td>\n",
              "      <td>17 Amaroo Wy</td>\n",
              "      <td>4</td>\n",
              "      <td>h</td>\n",
              "      <td>1100000.0</td>\n",
              "      <td>S</td>\n",
              "      <td>Buckingham</td>\n",
              "      <td>26/08/2017</td>\n",
              "      <td>12.7</td>\n",
              "      <td>...</td>\n",
              "      <td>3.0</td>\n",
              "      <td>2.0</td>\n",
              "      <td>NaN</td>\n",
              "      <td>NaN</td>\n",
              "      <td>NaN</td>\n",
              "      <td>NaN</td>\n",
              "      <td>-37.72006</td>\n",
              "      <td>145.10547</td>\n",
              "      <td>Northern Metropolitan</td>\n",
              "      <td>1369.0</td>\n",
              "    </tr>\n",
              "    <tr>\n",
              "      <th>18394</th>\n",
              "      <td>23545</td>\n",
              "      <td>Yarraville</td>\n",
              "      <td>6 Agnes St</td>\n",
              "      <td>4</td>\n",
              "      <td>h</td>\n",
              "      <td>1285000.0</td>\n",
              "      <td>SP</td>\n",
              "      <td>Village</td>\n",
              "      <td>26/08/2017</td>\n",
              "      <td>6.3</td>\n",
              "      <td>...</td>\n",
              "      <td>1.0</td>\n",
              "      <td>1.0</td>\n",
              "      <td>362.0</td>\n",
              "      <td>112.0</td>\n",
              "      <td>1920.0</td>\n",
              "      <td>NaN</td>\n",
              "      <td>-37.81188</td>\n",
              "      <td>144.88449</td>\n",
              "      <td>Western Metropolitan</td>\n",
              "      <td>6543.0</td>\n",
              "    </tr>\n",
              "    <tr>\n",
              "      <th>18395</th>\n",
              "      <td>23546</td>\n",
              "      <td>Yarraville</td>\n",
              "      <td>33 Freeman St</td>\n",
              "      <td>4</td>\n",
              "      <td>h</td>\n",
              "      <td>1050000.0</td>\n",
              "      <td>VB</td>\n",
              "      <td>Village</td>\n",
              "      <td>26/08/2017</td>\n",
              "      <td>6.3</td>\n",
              "      <td>...</td>\n",
              "      <td>2.0</td>\n",
              "      <td>2.0</td>\n",
              "      <td>NaN</td>\n",
              "      <td>139.0</td>\n",
              "      <td>1950.0</td>\n",
              "      <td>NaN</td>\n",
              "      <td>-37.81829</td>\n",
              "      <td>144.87404</td>\n",
              "      <td>Western Metropolitan</td>\n",
              "      <td>6543.0</td>\n",
              "    </tr>\n",
              "  </tbody>\n",
              "</table>\n",
              "<p>5 rows × 22 columns</p>\n",
              "</div>\n",
              "      <button class=\"colab-df-convert\" onclick=\"convertToInteractive('df-815c9ab6-04be-4a80-9348-801794526ff3')\"\n",
              "              title=\"Convert this dataframe to an interactive table.\"\n",
              "              style=\"display:none;\">\n",
              "        \n",
              "  <svg xmlns=\"http://www.w3.org/2000/svg\" height=\"24px\"viewBox=\"0 0 24 24\"\n",
              "       width=\"24px\">\n",
              "    <path d=\"M0 0h24v24H0V0z\" fill=\"none\"/>\n",
              "    <path d=\"M18.56 5.44l.94 2.06.94-2.06 2.06-.94-2.06-.94-.94-2.06-.94 2.06-2.06.94zm-11 1L8.5 8.5l.94-2.06 2.06-.94-2.06-.94L8.5 2.5l-.94 2.06-2.06.94zm10 10l.94 2.06.94-2.06 2.06-.94-2.06-.94-.94-2.06-.94 2.06-2.06.94z\"/><path d=\"M17.41 7.96l-1.37-1.37c-.4-.4-.92-.59-1.43-.59-.52 0-1.04.2-1.43.59L10.3 9.45l-7.72 7.72c-.78.78-.78 2.05 0 2.83L4 21.41c.39.39.9.59 1.41.59.51 0 1.02-.2 1.41-.59l7.78-7.78 2.81-2.81c.8-.78.8-2.07 0-2.86zM5.41 20L4 18.59l7.72-7.72 1.47 1.35L5.41 20z\"/>\n",
              "  </svg>\n",
              "      </button>\n",
              "      \n",
              "  <style>\n",
              "    .colab-df-container {\n",
              "      display:flex;\n",
              "      flex-wrap:wrap;\n",
              "      gap: 12px;\n",
              "    }\n",
              "\n",
              "    .colab-df-convert {\n",
              "      background-color: #E8F0FE;\n",
              "      border: none;\n",
              "      border-radius: 50%;\n",
              "      cursor: pointer;\n",
              "      display: none;\n",
              "      fill: #1967D2;\n",
              "      height: 32px;\n",
              "      padding: 0 0 0 0;\n",
              "      width: 32px;\n",
              "    }\n",
              "\n",
              "    .colab-df-convert:hover {\n",
              "      background-color: #E2EBFA;\n",
              "      box-shadow: 0px 1px 2px rgba(60, 64, 67, 0.3), 0px 1px 3px 1px rgba(60, 64, 67, 0.15);\n",
              "      fill: #174EA6;\n",
              "    }\n",
              "\n",
              "    [theme=dark] .colab-df-convert {\n",
              "      background-color: #3B4455;\n",
              "      fill: #D2E3FC;\n",
              "    }\n",
              "\n",
              "    [theme=dark] .colab-df-convert:hover {\n",
              "      background-color: #434B5C;\n",
              "      box-shadow: 0px 1px 3px 1px rgba(0, 0, 0, 0.15);\n",
              "      filter: drop-shadow(0px 1px 2px rgba(0, 0, 0, 0.3));\n",
              "      fill: #FFFFFF;\n",
              "    }\n",
              "  </style>\n",
              "\n",
              "      <script>\n",
              "        const buttonEl =\n",
              "          document.querySelector('#df-815c9ab6-04be-4a80-9348-801794526ff3 button.colab-df-convert');\n",
              "        buttonEl.style.display =\n",
              "          google.colab.kernel.accessAllowed ? 'block' : 'none';\n",
              "\n",
              "        async function convertToInteractive(key) {\n",
              "          const element = document.querySelector('#df-815c9ab6-04be-4a80-9348-801794526ff3');\n",
              "          const dataTable =\n",
              "            await google.colab.kernel.invokeFunction('convertToInteractive',\n",
              "                                                     [key], {});\n",
              "          if (!dataTable) return;\n",
              "\n",
              "          const docLinkHtml = 'Like what you see? Visit the ' +\n",
              "            '<a target=\"_blank\" href=https://colab.research.google.com/notebooks/data_table.ipynb>data table notebook</a>'\n",
              "            + ' to learn more about interactive tables.';\n",
              "          element.innerHTML = '';\n",
              "          dataTable['output_type'] = 'display_data';\n",
              "          await google.colab.output.renderOutput(dataTable, element);\n",
              "          const docLink = document.createElement('div');\n",
              "          docLink.innerHTML = docLinkHtml;\n",
              "          element.appendChild(docLink);\n",
              "        }\n",
              "      </script>\n",
              "    </div>\n",
              "  </div>\n",
              "  "
            ]
          },
          "metadata": {},
          "execution_count": 8
        }
      ],
      "source": [
        "# Veamos al final del fichero\n",
        "data.tail()"
      ]
    },
    {
      "cell_type": "markdown",
      "metadata": {
        "id": "Ca5tvdSJnYoE"
      },
      "source": [
        "Sin embargo, observar a los datos en crudo para detectar valores faltantes es una metodología algo rudimentaria y costosa. Es por ello que la librería `pandas` nos ofrece varias funciones que nos ayudan a ver si existen algún valor nulo en el conunto de datos. Veamos cómo podemos trabajar con ellas.\n",
        "\n",
        "Con la siguiente función podremos obtener un valor booleano (`True`o `False`) en el dataset, indicativo de si el valor es nulo o no lo es:"
      ]
    },
    {
      "cell_type": "code",
      "execution_count": 9,
      "metadata": {
        "colab": {
          "base_uri": "https://localhost:8080/",
          "height": 505
        },
        "id": "9Dh7Pp2dnYoE",
        "outputId": "771ca0c9-b148-43b3-b939-66a57282d75c"
      },
      "outputs": [
        {
          "output_type": "execute_result",
          "data": {
            "text/plain": [
              "       Unnamed: 0  Suburb  Address  Rooms   Type  Price  Method  SellerG  \\\n",
              "0           False   False    False  False  False  False   False    False   \n",
              "1           False   False    False  False  False  False   False    False   \n",
              "2           False   False    False  False  False  False   False    False   \n",
              "3           False   False    False  False  False  False   False    False   \n",
              "4           False   False    False  False  False  False   False    False   \n",
              "...           ...     ...      ...    ...    ...    ...     ...      ...   \n",
              "18391       False   False    False  False  False  False   False    False   \n",
              "18392       False   False    False  False  False  False   False    False   \n",
              "18393       False   False    False  False  False  False   False    False   \n",
              "18394       False   False    False  False  False  False   False    False   \n",
              "18395       False   False    False  False  False  False   False    False   \n",
              "\n",
              "        Date  Distance  ...  Bathroom    Car  Landsize  BuildingArea  \\\n",
              "0      False     False  ...     False  False     False          True   \n",
              "1      False     False  ...     False  False     False         False   \n",
              "2      False     False  ...     False  False     False         False   \n",
              "3      False     False  ...     False  False     False          True   \n",
              "4      False     False  ...     False  False     False         False   \n",
              "...      ...       ...  ...       ...    ...       ...           ...   \n",
              "18391  False     False  ...     False  False      True         False   \n",
              "18392  False     False  ...     False  False     False         False   \n",
              "18393  False     False  ...     False  False      True          True   \n",
              "18394  False     False  ...     False  False     False         False   \n",
              "18395  False     False  ...     False  False      True         False   \n",
              "\n",
              "       YearBuilt  CouncilArea  Lattitude  Longtitude  Regionname  \\\n",
              "0           True        False      False       False       False   \n",
              "1          False        False      False       False       False   \n",
              "2          False        False      False       False       False   \n",
              "3           True        False      False       False       False   \n",
              "4          False        False      False       False       False   \n",
              "...          ...          ...        ...         ...         ...   \n",
              "18391      False         True      False       False       False   \n",
              "18392      False         True      False       False       False   \n",
              "18393       True         True      False       False       False   \n",
              "18394      False         True      False       False       False   \n",
              "18395      False         True      False       False       False   \n",
              "\n",
              "       Propertycount  \n",
              "0              False  \n",
              "1              False  \n",
              "2              False  \n",
              "3              False  \n",
              "4              False  \n",
              "...              ...  \n",
              "18391          False  \n",
              "18392          False  \n",
              "18393          False  \n",
              "18394          False  \n",
              "18395          False  \n",
              "\n",
              "[18396 rows x 22 columns]"
            ],
            "text/html": [
              "\n",
              "  <div id=\"df-53f8c71d-1a74-4096-a5d8-d05a377ce1a1\">\n",
              "    <div class=\"colab-df-container\">\n",
              "      <div>\n",
              "<style scoped>\n",
              "    .dataframe tbody tr th:only-of-type {\n",
              "        vertical-align: middle;\n",
              "    }\n",
              "\n",
              "    .dataframe tbody tr th {\n",
              "        vertical-align: top;\n",
              "    }\n",
              "\n",
              "    .dataframe thead th {\n",
              "        text-align: right;\n",
              "    }\n",
              "</style>\n",
              "<table border=\"1\" class=\"dataframe\">\n",
              "  <thead>\n",
              "    <tr style=\"text-align: right;\">\n",
              "      <th></th>\n",
              "      <th>Unnamed: 0</th>\n",
              "      <th>Suburb</th>\n",
              "      <th>Address</th>\n",
              "      <th>Rooms</th>\n",
              "      <th>Type</th>\n",
              "      <th>Price</th>\n",
              "      <th>Method</th>\n",
              "      <th>SellerG</th>\n",
              "      <th>Date</th>\n",
              "      <th>Distance</th>\n",
              "      <th>...</th>\n",
              "      <th>Bathroom</th>\n",
              "      <th>Car</th>\n",
              "      <th>Landsize</th>\n",
              "      <th>BuildingArea</th>\n",
              "      <th>YearBuilt</th>\n",
              "      <th>CouncilArea</th>\n",
              "      <th>Lattitude</th>\n",
              "      <th>Longtitude</th>\n",
              "      <th>Regionname</th>\n",
              "      <th>Propertycount</th>\n",
              "    </tr>\n",
              "  </thead>\n",
              "  <tbody>\n",
              "    <tr>\n",
              "      <th>0</th>\n",
              "      <td>False</td>\n",
              "      <td>False</td>\n",
              "      <td>False</td>\n",
              "      <td>False</td>\n",
              "      <td>False</td>\n",
              "      <td>False</td>\n",
              "      <td>False</td>\n",
              "      <td>False</td>\n",
              "      <td>False</td>\n",
              "      <td>False</td>\n",
              "      <td>...</td>\n",
              "      <td>False</td>\n",
              "      <td>False</td>\n",
              "      <td>False</td>\n",
              "      <td>True</td>\n",
              "      <td>True</td>\n",
              "      <td>False</td>\n",
              "      <td>False</td>\n",
              "      <td>False</td>\n",
              "      <td>False</td>\n",
              "      <td>False</td>\n",
              "    </tr>\n",
              "    <tr>\n",
              "      <th>1</th>\n",
              "      <td>False</td>\n",
              "      <td>False</td>\n",
              "      <td>False</td>\n",
              "      <td>False</td>\n",
              "      <td>False</td>\n",
              "      <td>False</td>\n",
              "      <td>False</td>\n",
              "      <td>False</td>\n",
              "      <td>False</td>\n",
              "      <td>False</td>\n",
              "      <td>...</td>\n",
              "      <td>False</td>\n",
              "      <td>False</td>\n",
              "      <td>False</td>\n",
              "      <td>False</td>\n",
              "      <td>False</td>\n",
              "      <td>False</td>\n",
              "      <td>False</td>\n",
              "      <td>False</td>\n",
              "      <td>False</td>\n",
              "      <td>False</td>\n",
              "    </tr>\n",
              "    <tr>\n",
              "      <th>2</th>\n",
              "      <td>False</td>\n",
              "      <td>False</td>\n",
              "      <td>False</td>\n",
              "      <td>False</td>\n",
              "      <td>False</td>\n",
              "      <td>False</td>\n",
              "      <td>False</td>\n",
              "      <td>False</td>\n",
              "      <td>False</td>\n",
              "      <td>False</td>\n",
              "      <td>...</td>\n",
              "      <td>False</td>\n",
              "      <td>False</td>\n",
              "      <td>False</td>\n",
              "      <td>False</td>\n",
              "      <td>False</td>\n",
              "      <td>False</td>\n",
              "      <td>False</td>\n",
              "      <td>False</td>\n",
              "      <td>False</td>\n",
              "      <td>False</td>\n",
              "    </tr>\n",
              "    <tr>\n",
              "      <th>3</th>\n",
              "      <td>False</td>\n",
              "      <td>False</td>\n",
              "      <td>False</td>\n",
              "      <td>False</td>\n",
              "      <td>False</td>\n",
              "      <td>False</td>\n",
              "      <td>False</td>\n",
              "      <td>False</td>\n",
              "      <td>False</td>\n",
              "      <td>False</td>\n",
              "      <td>...</td>\n",
              "      <td>False</td>\n",
              "      <td>False</td>\n",
              "      <td>False</td>\n",
              "      <td>True</td>\n",
              "      <td>True</td>\n",
              "      <td>False</td>\n",
              "      <td>False</td>\n",
              "      <td>False</td>\n",
              "      <td>False</td>\n",
              "      <td>False</td>\n",
              "    </tr>\n",
              "    <tr>\n",
              "      <th>4</th>\n",
              "      <td>False</td>\n",
              "      <td>False</td>\n",
              "      <td>False</td>\n",
              "      <td>False</td>\n",
              "      <td>False</td>\n",
              "      <td>False</td>\n",
              "      <td>False</td>\n",
              "      <td>False</td>\n",
              "      <td>False</td>\n",
              "      <td>False</td>\n",
              "      <td>...</td>\n",
              "      <td>False</td>\n",
              "      <td>False</td>\n",
              "      <td>False</td>\n",
              "      <td>False</td>\n",
              "      <td>False</td>\n",
              "      <td>False</td>\n",
              "      <td>False</td>\n",
              "      <td>False</td>\n",
              "      <td>False</td>\n",
              "      <td>False</td>\n",
              "    </tr>\n",
              "    <tr>\n",
              "      <th>...</th>\n",
              "      <td>...</td>\n",
              "      <td>...</td>\n",
              "      <td>...</td>\n",
              "      <td>...</td>\n",
              "      <td>...</td>\n",
              "      <td>...</td>\n",
              "      <td>...</td>\n",
              "      <td>...</td>\n",
              "      <td>...</td>\n",
              "      <td>...</td>\n",
              "      <td>...</td>\n",
              "      <td>...</td>\n",
              "      <td>...</td>\n",
              "      <td>...</td>\n",
              "      <td>...</td>\n",
              "      <td>...</td>\n",
              "      <td>...</td>\n",
              "      <td>...</td>\n",
              "      <td>...</td>\n",
              "      <td>...</td>\n",
              "      <td>...</td>\n",
              "    </tr>\n",
              "    <tr>\n",
              "      <th>18391</th>\n",
              "      <td>False</td>\n",
              "      <td>False</td>\n",
              "      <td>False</td>\n",
              "      <td>False</td>\n",
              "      <td>False</td>\n",
              "      <td>False</td>\n",
              "      <td>False</td>\n",
              "      <td>False</td>\n",
              "      <td>False</td>\n",
              "      <td>False</td>\n",
              "      <td>...</td>\n",
              "      <td>False</td>\n",
              "      <td>False</td>\n",
              "      <td>True</td>\n",
              "      <td>False</td>\n",
              "      <td>False</td>\n",
              "      <td>True</td>\n",
              "      <td>False</td>\n",
              "      <td>False</td>\n",
              "      <td>False</td>\n",
              "      <td>False</td>\n",
              "    </tr>\n",
              "    <tr>\n",
              "      <th>18392</th>\n",
              "      <td>False</td>\n",
              "      <td>False</td>\n",
              "      <td>False</td>\n",
              "      <td>False</td>\n",
              "      <td>False</td>\n",
              "      <td>False</td>\n",
              "      <td>False</td>\n",
              "      <td>False</td>\n",
              "      <td>False</td>\n",
              "      <td>False</td>\n",
              "      <td>...</td>\n",
              "      <td>False</td>\n",
              "      <td>False</td>\n",
              "      <td>False</td>\n",
              "      <td>False</td>\n",
              "      <td>False</td>\n",
              "      <td>True</td>\n",
              "      <td>False</td>\n",
              "      <td>False</td>\n",
              "      <td>False</td>\n",
              "      <td>False</td>\n",
              "    </tr>\n",
              "    <tr>\n",
              "      <th>18393</th>\n",
              "      <td>False</td>\n",
              "      <td>False</td>\n",
              "      <td>False</td>\n",
              "      <td>False</td>\n",
              "      <td>False</td>\n",
              "      <td>False</td>\n",
              "      <td>False</td>\n",
              "      <td>False</td>\n",
              "      <td>False</td>\n",
              "      <td>False</td>\n",
              "      <td>...</td>\n",
              "      <td>False</td>\n",
              "      <td>False</td>\n",
              "      <td>True</td>\n",
              "      <td>True</td>\n",
              "      <td>True</td>\n",
              "      <td>True</td>\n",
              "      <td>False</td>\n",
              "      <td>False</td>\n",
              "      <td>False</td>\n",
              "      <td>False</td>\n",
              "    </tr>\n",
              "    <tr>\n",
              "      <th>18394</th>\n",
              "      <td>False</td>\n",
              "      <td>False</td>\n",
              "      <td>False</td>\n",
              "      <td>False</td>\n",
              "      <td>False</td>\n",
              "      <td>False</td>\n",
              "      <td>False</td>\n",
              "      <td>False</td>\n",
              "      <td>False</td>\n",
              "      <td>False</td>\n",
              "      <td>...</td>\n",
              "      <td>False</td>\n",
              "      <td>False</td>\n",
              "      <td>False</td>\n",
              "      <td>False</td>\n",
              "      <td>False</td>\n",
              "      <td>True</td>\n",
              "      <td>False</td>\n",
              "      <td>False</td>\n",
              "      <td>False</td>\n",
              "      <td>False</td>\n",
              "    </tr>\n",
              "    <tr>\n",
              "      <th>18395</th>\n",
              "      <td>False</td>\n",
              "      <td>False</td>\n",
              "      <td>False</td>\n",
              "      <td>False</td>\n",
              "      <td>False</td>\n",
              "      <td>False</td>\n",
              "      <td>False</td>\n",
              "      <td>False</td>\n",
              "      <td>False</td>\n",
              "      <td>False</td>\n",
              "      <td>...</td>\n",
              "      <td>False</td>\n",
              "      <td>False</td>\n",
              "      <td>True</td>\n",
              "      <td>False</td>\n",
              "      <td>False</td>\n",
              "      <td>True</td>\n",
              "      <td>False</td>\n",
              "      <td>False</td>\n",
              "      <td>False</td>\n",
              "      <td>False</td>\n",
              "    </tr>\n",
              "  </tbody>\n",
              "</table>\n",
              "<p>18396 rows × 22 columns</p>\n",
              "</div>\n",
              "      <button class=\"colab-df-convert\" onclick=\"convertToInteractive('df-53f8c71d-1a74-4096-a5d8-d05a377ce1a1')\"\n",
              "              title=\"Convert this dataframe to an interactive table.\"\n",
              "              style=\"display:none;\">\n",
              "        \n",
              "  <svg xmlns=\"http://www.w3.org/2000/svg\" height=\"24px\"viewBox=\"0 0 24 24\"\n",
              "       width=\"24px\">\n",
              "    <path d=\"M0 0h24v24H0V0z\" fill=\"none\"/>\n",
              "    <path d=\"M18.56 5.44l.94 2.06.94-2.06 2.06-.94-2.06-.94-.94-2.06-.94 2.06-2.06.94zm-11 1L8.5 8.5l.94-2.06 2.06-.94-2.06-.94L8.5 2.5l-.94 2.06-2.06.94zm10 10l.94 2.06.94-2.06 2.06-.94-2.06-.94-.94-2.06-.94 2.06-2.06.94z\"/><path d=\"M17.41 7.96l-1.37-1.37c-.4-.4-.92-.59-1.43-.59-.52 0-1.04.2-1.43.59L10.3 9.45l-7.72 7.72c-.78.78-.78 2.05 0 2.83L4 21.41c.39.39.9.59 1.41.59.51 0 1.02-.2 1.41-.59l7.78-7.78 2.81-2.81c.8-.78.8-2.07 0-2.86zM5.41 20L4 18.59l7.72-7.72 1.47 1.35L5.41 20z\"/>\n",
              "  </svg>\n",
              "      </button>\n",
              "      \n",
              "  <style>\n",
              "    .colab-df-container {\n",
              "      display:flex;\n",
              "      flex-wrap:wrap;\n",
              "      gap: 12px;\n",
              "    }\n",
              "\n",
              "    .colab-df-convert {\n",
              "      background-color: #E8F0FE;\n",
              "      border: none;\n",
              "      border-radius: 50%;\n",
              "      cursor: pointer;\n",
              "      display: none;\n",
              "      fill: #1967D2;\n",
              "      height: 32px;\n",
              "      padding: 0 0 0 0;\n",
              "      width: 32px;\n",
              "    }\n",
              "\n",
              "    .colab-df-convert:hover {\n",
              "      background-color: #E2EBFA;\n",
              "      box-shadow: 0px 1px 2px rgba(60, 64, 67, 0.3), 0px 1px 3px 1px rgba(60, 64, 67, 0.15);\n",
              "      fill: #174EA6;\n",
              "    }\n",
              "\n",
              "    [theme=dark] .colab-df-convert {\n",
              "      background-color: #3B4455;\n",
              "      fill: #D2E3FC;\n",
              "    }\n",
              "\n",
              "    [theme=dark] .colab-df-convert:hover {\n",
              "      background-color: #434B5C;\n",
              "      box-shadow: 0px 1px 3px 1px rgba(0, 0, 0, 0.15);\n",
              "      filter: drop-shadow(0px 1px 2px rgba(0, 0, 0, 0.3));\n",
              "      fill: #FFFFFF;\n",
              "    }\n",
              "  </style>\n",
              "\n",
              "      <script>\n",
              "        const buttonEl =\n",
              "          document.querySelector('#df-53f8c71d-1a74-4096-a5d8-d05a377ce1a1 button.colab-df-convert');\n",
              "        buttonEl.style.display =\n",
              "          google.colab.kernel.accessAllowed ? 'block' : 'none';\n",
              "\n",
              "        async function convertToInteractive(key) {\n",
              "          const element = document.querySelector('#df-53f8c71d-1a74-4096-a5d8-d05a377ce1a1');\n",
              "          const dataTable =\n",
              "            await google.colab.kernel.invokeFunction('convertToInteractive',\n",
              "                                                     [key], {});\n",
              "          if (!dataTable) return;\n",
              "\n",
              "          const docLinkHtml = 'Like what you see? Visit the ' +\n",
              "            '<a target=\"_blank\" href=https://colab.research.google.com/notebooks/data_table.ipynb>data table notebook</a>'\n",
              "            + ' to learn more about interactive tables.';\n",
              "          element.innerHTML = '';\n",
              "          dataTable['output_type'] = 'display_data';\n",
              "          await google.colab.output.renderOutput(dataTable, element);\n",
              "          const docLink = document.createElement('div');\n",
              "          docLink.innerHTML = docLinkHtml;\n",
              "          element.appendChild(docLink);\n",
              "        }\n",
              "      </script>\n",
              "    </div>\n",
              "  </div>\n",
              "  "
            ]
          },
          "metadata": {},
          "execution_count": 9
        }
      ],
      "source": [
        "data.isnull()"
      ]
    },
    {
      "cell_type": "markdown",
      "metadata": {
        "id": "qyYfaUrHnYoF"
      },
      "source": [
        "Lo mismo obtendríamos si utilizamos el comando `data.isna()`. \n",
        "\n",
        "Sin embargo, nuevamente con este procedimiento es muy difícil de encontrar todos los valores faltantes en el dataset. Es por ello que para obtener de forma resumida si hay algún valor faltante, se puede utilizar lo siguiente:"
      ]
    },
    {
      "cell_type": "code",
      "execution_count": 10,
      "metadata": {
        "colab": {
          "base_uri": "https://localhost:8080/"
        },
        "id": "-Bjp6F2qnYoF",
        "outputId": "8d83d36d-e518-4100-e856-4d528fce14e4"
      },
      "outputs": [
        {
          "output_type": "execute_result",
          "data": {
            "text/plain": [
              "True"
            ]
          },
          "metadata": {},
          "execution_count": 10
        }
      ],
      "source": [
        "\n",
        "# Con esta instrucción podemos ver si hay algún valor faltante en el datset\n",
        "data.isnull().values.any()"
      ]
    },
    {
      "cell_type": "markdown",
      "metadata": {
        "id": "CGY11N7DnYoG"
      },
      "source": [
        "Como vemos nos devuelve un valor True, indicando que sí tenemos datos faltantes en el dataset.\n",
        "Si además queremos ver **en qué columnas tenemos datos faltantes**, lo hacemos con:"
      ]
    },
    {
      "cell_type": "code",
      "execution_count": 11,
      "metadata": {
        "colab": {
          "base_uri": "https://localhost:8080/"
        },
        "id": "qvomaWCTnYoG",
        "outputId": "caab7184-6e4d-4c92-b28d-4f0bf401515e"
      },
      "outputs": [
        {
          "output_type": "execute_result",
          "data": {
            "text/plain": [
              "Unnamed: 0       False\n",
              "Suburb           False\n",
              "Address          False\n",
              "Rooms            False\n",
              "Type             False\n",
              "Price            False\n",
              "Method           False\n",
              "SellerG          False\n",
              "Date             False\n",
              "Distance          True\n",
              "Postcode          True\n",
              "Bedroom2          True\n",
              "Bathroom          True\n",
              "Car               True\n",
              "Landsize          True\n",
              "BuildingArea      True\n",
              "YearBuilt         True\n",
              "CouncilArea       True\n",
              "Lattitude         True\n",
              "Longtitude        True\n",
              "Regionname        True\n",
              "Propertycount     True\n",
              "dtype: bool"
            ]
          },
          "metadata": {},
          "execution_count": 11
        }
      ],
      "source": [
        "data.isnull().any()"
      ]
    },
    {
      "cell_type": "markdown",
      "metadata": {
        "id": "4-bqweyvnYoG"
      },
      "source": [
        "Podemos incluso saber el **número total de datos faltantes por columnas**, para ello empleamos el siguiente comando."
      ]
    },
    {
      "cell_type": "code",
      "execution_count": 12,
      "metadata": {
        "colab": {
          "base_uri": "https://localhost:8080/"
        },
        "id": "M8g3hVtqnYoH",
        "outputId": "0b020f57-2c14-4cc5-9c54-f2872036e8b9"
      },
      "outputs": [
        {
          "output_type": "execute_result",
          "data": {
            "text/plain": [
              "Unnamed: 0           0\n",
              "Suburb               0\n",
              "Address              0\n",
              "Rooms                0\n",
              "Type                 0\n",
              "Price                0\n",
              "Method               0\n",
              "SellerG              0\n",
              "Date                 0\n",
              "Distance             1\n",
              "Postcode             1\n",
              "Bedroom2          3469\n",
              "Bathroom          3471\n",
              "Car               3576\n",
              "Landsize          4793\n",
              "BuildingArea     10634\n",
              "YearBuilt         9438\n",
              "CouncilArea       6163\n",
              "Lattitude         3332\n",
              "Longtitude        3332\n",
              "Regionname           1\n",
              "Propertycount        1\n",
              "dtype: int64"
            ]
          },
          "metadata": {},
          "execution_count": 12
        }
      ],
      "source": [
        "valores_faltantes = (data.isnull().sum())\n",
        "valores_faltantes"
      ]
    },
    {
      "cell_type": "markdown",
      "metadata": {
        "id": "WKX1uEU3nYoH"
      },
      "source": [
        "Para ver los datos anteriores en porcentaje."
      ]
    },
    {
      "cell_type": "code",
      "execution_count": 13,
      "metadata": {
        "colab": {
          "base_uri": "https://localhost:8080/"
        },
        "id": "KR2kUdItnYoI",
        "outputId": "865b711b-fc21-4820-9068-0e5f36efce63"
      },
      "outputs": [
        {
          "output_type": "execute_result",
          "data": {
            "text/plain": [
              "Unnamed: 0        0.000000\n",
              "Suburb            0.000000\n",
              "Address           0.000000\n",
              "Rooms             0.000000\n",
              "Type              0.000000\n",
              "Price             0.000000\n",
              "Method            0.000000\n",
              "SellerG           0.000000\n",
              "Date              0.000000\n",
              "Distance          0.005436\n",
              "Postcode          0.005436\n",
              "Bedroom2         18.857360\n",
              "Bathroom         18.868232\n",
              "Car              19.439008\n",
              "Landsize         26.054577\n",
              "BuildingArea     57.806045\n",
              "YearBuilt        51.304631\n",
              "CouncilArea      33.501848\n",
              "Lattitude        18.112633\n",
              "Longtitude       18.112633\n",
              "Regionname        0.005436\n",
              "Propertycount     0.005436\n",
              "dtype: float64"
            ]
          },
          "metadata": {},
          "execution_count": 13
        }
      ],
      "source": [
        "(valores_faltantes/data.shape[0])*100"
      ]
    },
    {
      "cell_type": "markdown",
      "metadata": {
        "id": "bHBJXr5InYoI"
      },
      "source": [
        "Vemos que hay columnas con un alto porcentaje de valores faltantes que habrá que tener en cuenta cuando se haga el procesamiento de los datos.\n",
        "\n",
        "Pandas nos ofrece la función [`fillna()`](https://pandas.pydata.org/docs/reference/api/pandas.DataFrame.fillna.html), para llenar valores NA/NaN o 0 en lugar de espacios nulos."
      ]
    },
    {
      "cell_type": "markdown",
      "metadata": {
        "id": "p6NhrDaSnYoJ"
      },
      "source": [
        "# Imputación de datos\n",
        "\n",
        "La imputaciónn de datos es otra de las tareas más importantes en el tratamiento de la información. Hay que tener en cuenta que **algunos algoritmos no admiten datos faltantes** y, por lo tanto, habrá que solucionar de alguna manera este inconveniente.\n",
        "\n",
        "En primer lugar, hay que tener en cuenta el porcentaje de datos faltantes para una variable, pues si este porcentaje es alto lo mejor es no tener en cuenta esa columna. En este ejemplo, vamos a eliminar las columnas que tienen más de un 20 por ciento de datos faltantes."
      ]
    },
    {
      "cell_type": "code",
      "execution_count": 14,
      "metadata": {
        "id": "wBLU1Mi3nYoJ"
      },
      "outputs": [],
      "source": [
        "#Eliminamos las columnas >20% de valores faltantes\n",
        "data.drop([\"Landsize\",\"BuildingArea\",\"YearBuilt\",\"CouncilArea\"], axis=1, inplace=True)"
      ]
    },
    {
      "cell_type": "code",
      "execution_count": 15,
      "metadata": {
        "colab": {
          "base_uri": "https://localhost:8080/"
        },
        "id": "hNblT8MXnYoJ",
        "outputId": "b806e843-2945-4926-a71e-da99f53b9f1a"
      },
      "outputs": [
        {
          "output_type": "execute_result",
          "data": {
            "text/plain": [
              "Unnamed: 0        0.000000\n",
              "Suburb            0.000000\n",
              "Address           0.000000\n",
              "Rooms             0.000000\n",
              "Type              0.000000\n",
              "Price             0.000000\n",
              "Method            0.000000\n",
              "SellerG           0.000000\n",
              "Date              0.000000\n",
              "Distance          0.005436\n",
              "Postcode          0.005436\n",
              "Bedroom2         18.857360\n",
              "Bathroom         18.868232\n",
              "Car              19.439008\n",
              "Lattitude        18.112633\n",
              "Longtitude       18.112633\n",
              "Regionname        0.005436\n",
              "Propertycount     0.005436\n",
              "dtype: float64"
            ]
          },
          "metadata": {},
          "execution_count": 15
        }
      ],
      "source": [
        "# Comprobamos\n",
        "valores_faltantes = (data.isnull().sum())\n",
        "(valores_faltantes/data.shape[0])*100"
      ]
    },
    {
      "cell_type": "markdown",
      "metadata": {
        "id": "VAqEHzRZnYoK"
      },
      "source": [
        "Ahora procederemos a realizar la imputación de los datos que faltan. Para ello vamos a ver alguna de las posibilidades que [nos ofrece scikit-learn](https://scikit-learn.org/stable/modules/impute.html#impute). En este notebook vamos a estudiar alguna de las opciones que nos ofrece esta herramienta. \n",
        "\n",
        "Comenzamos con la función [`SimpleImputer()`](https://scikit-learn.org/stable/modules/generated/sklearn.impute.SimpleImputer.html#sklearn.impute.SimpleImputer). Esta función tiene el parámetro  `strategy` que sirve para indicar qué método queremos emplear para imputar el valor faltante: media, mediana, más frecuente o constante (cuando `strategy='constant'` establecemos el valor constante con el parámetro `fill_value`).\n",
        "\n",
        "Para ello, seleccionamos una de las columnas que sabemos tienen datos faltantes y lo probamos. "
      ]
    },
    {
      "cell_type": "code",
      "execution_count": 16,
      "metadata": {
        "id": "0FGI5c6ynYoK"
      },
      "outputs": [],
      "source": [
        "from sklearn.impute import SimpleImputer\n",
        "\n",
        "bath = data[[\"Bathroom\"]]\n",
        "imp = SimpleImputer(missing_values=np.nan, strategy='mean')\n",
        "imp.fit(bath)\n",
        "bath_imp = imp.transform(bath)"
      ]
    },
    {
      "cell_type": "code",
      "execution_count": 17,
      "metadata": {
        "colab": {
          "base_uri": "https://localhost:8080/"
        },
        "id": "dYOneX3xnYoK",
        "outputId": "970466cb-124a-4b74-b8cb-66f6f71ff0c4"
      },
      "outputs": [
        {
          "output_type": "stream",
          "name": "stdout",
          "text": [
            "Antes de la imputación:  3471\n",
            "Después de la imputación:  0\n"
          ]
        }
      ],
      "source": [
        "# Comprobamos ahora que no hay datos faltantes.\n",
        "print(\"Antes de la imputación: \",data[\"Bathroom\"].isna().sum())\n",
        "print(\"Después de la imputación: \",np.isnan(bath_imp).sum())"
      ]
    },
    {
      "cell_type": "markdown",
      "source": [
        "Vamos a comprobar como influye la imputación de los datos en los cálculos de estadísticos básicos como la media, mediana, etc."
      ],
      "metadata": {
        "id": "xoSalqA4hdjd"
      }
    },
    {
      "cell_type": "code",
      "source": [
        "print(data[\"Bathroom\"].mean())\n",
        "np.mean(bath_imp)"
      ],
      "metadata": {
        "colab": {
          "base_uri": "https://localhost:8080/"
        },
        "id": "XpJu-liIe8Q8",
        "outputId": "be4da842-3d14-4c37-8b3a-abeb6c626f39"
      },
      "execution_count": 18,
      "outputs": [
        {
          "output_type": "stream",
          "name": "stdout",
          "text": [
            "1.538492462311558\n"
          ]
        },
        {
          "output_type": "execute_result",
          "data": {
            "text/plain": [
              "1.538492462311558"
            ]
          },
          "metadata": {},
          "execution_count": 18
        }
      ]
    },
    {
      "cell_type": "markdown",
      "source": [
        "La **media vemos que se mantiene igual**. Tiene sentido, al ser éste el valor que hemos usado para imputar. ¿Pero ocurrirá lo mismo con el valor de la mediana o el de la desviación típica?"
      ],
      "metadata": {
        "id": "3JLaRqkOhh7R"
      }
    },
    {
      "cell_type": "code",
      "source": [
        "print(data[\"Bathroom\"].median())\n",
        "np.median(bath_imp)"
      ],
      "metadata": {
        "colab": {
          "base_uri": "https://localhost:8080/"
        },
        "id": "rtezCC_7fUOb",
        "outputId": "33ae6062-e2fe-489b-f53f-b7f1a4b77d9c"
      },
      "execution_count": 19,
      "outputs": [
        {
          "output_type": "stream",
          "name": "stdout",
          "text": [
            "1.0\n"
          ]
        },
        {
          "output_type": "execute_result",
          "data": {
            "text/plain": [
              "1.538492462311558"
            ]
          },
          "metadata": {},
          "execution_count": 19
        }
      ]
    },
    {
      "cell_type": "markdown",
      "source": [
        "El **valor de la mediana ha variado**. De hecho, es importante observar que ahora el valor de la mediana es el mismo que el de la media. Esto tiene sentido, ya que ha sido el valor que hemos imputado, es decir, más del 18% de las observaciones toma este valor para la variable \"bathroom\".\n",
        "\n",
        "Si obtenemos la desviación estándar, vemos que al haber imputado siempre el mismo valor la dispersión de los datos disminuye."
      ],
      "metadata": {
        "id": "ABCWcFSXg-Uz"
      }
    },
    {
      "cell_type": "code",
      "source": [
        "print(data[\"Bathroom\"].std())\n",
        "np.std(bath_imp)"
      ],
      "metadata": {
        "colab": {
          "base_uri": "https://localhost:8080/"
        },
        "id": "iMEUufuzfbsR",
        "outputId": "2dcda930-fb3d-4d03-db34-8316a6f71bf1"
      },
      "execution_count": 20,
      "outputs": [
        {
          "output_type": "stream",
          "name": "stdout",
          "text": [
            "0.6893111279904035\n"
          ]
        },
        {
          "output_type": "execute_result",
          "data": {
            "text/plain": [
              "0.6208636151658183"
            ]
          },
          "metadata": {},
          "execution_count": 20
        }
      ]
    },
    {
      "cell_type": "markdown",
      "metadata": {
        "id": "FBXUSyiUnYoK"
      },
      "source": [
        "Este tipo de imputación puede ser útil en algunos casos, pero lógicamente la técnica empleada para imputar valores depende de los datos con los que trabajemos, incluso en algunas ocasiones, necesitaremos construir funciones a medida para hacer una imputación adecuada.\n",
        "\n",
        "Scikit learn, nos ofrece más posibilidades que la comentado anteriormente, por ejemplo [`IterativeImputer()`](https://scikit-learn.org/stable/modules/generated/sklearn.impute.IterativeImputer.html#sklearn.impute.IterativeImputer), o [`KNNImputer()`](https://scikit-learn.org/stable/modules/generated/sklearn.impute.KNNImputer.html#sklearn.impute.KNNImputer). Este ultimo utilizando la información del/los vecinos más próximos. No lo desarrollamos en este apartado por no elevar en exceso su contenido."
      ]
    },
    {
      "cell_type": "markdown",
      "source": [
        "## Ejercicio\n",
        "\n",
        "\n",
        "\n",
        "1.   Os animo a probar otros métodos de imputación y comentar la diferencia de los resultados obtenidos con respecto al usado en el ejemplo.\n",
        "2.   ¿Qué tipo de imputación aplicarías a cada variable de dataset? \n",
        "\n",
        "Dejad vuestras conclusiones en el foro de la clase.\n"
      ],
      "metadata": {
        "id": "piK-pJtMK2Ua"
      }
    },
    {
      "cell_type": "markdown",
      "metadata": {
        "id": "QeQwbY8VnYoL"
      },
      "source": [
        "\n",
        "\n",
        "# Estandarización y normalización\n",
        "\n",
        "La **estandarización y normalización** de datos es una práctica común en el aprendizaje automático. \n",
        "\n",
        "*   La **normalización** es una técnica de escalado en la que los valores se desplazan y se vuelven a escalar para que terminen oscilando entre 0 y 1. También se conoce como escalado Mín-Máx.\n",
        "\n",
        "*   La **estandarización** es otra técnica de escala donde los valores se centran alrededor de la media con una desviación estándar unitaria. Esto significa que la media del atributo se convierte en cero y la distribución resultante tiene una desviación estándar de 1.\n",
        "\n",
        "Una de las ventajas que nos ofrece esta técnica de tratamiento de los datos es que  mejora significativamente el rendimiento y precisión de algunos algoritmos de aprendizaje automático, debido a que con estos procedimientos hacemos muchos más estándar los datos con los que trabajamos, ya que las unidades de medida después de hacer este proceso son más uniformes.\n",
        "\n",
        "Para la **normalización** de los datos, la fórmula que se utiliza es la siguiente:\n",
        "\n",
        "$$X^{'}=\\frac{X-X_{min}}{X_{max}-X_{min}}$$\n",
        "\n",
        "Como podemos ver con este procedimiento los datos siempre van a quedar entre cero y uno\n",
        "\n",
        "Cuando hacemos una **estandarización**, los datos resultantes van a tener una media de cero y varianza de uno. La fórmula a utilizar en estos casos va a ser:\n",
        "\n",
        "$$X^{'}=\\frac{X-\\mu}{\\sigma}$$\n",
        "\n",
        "Donde $\\mu$ es la media y $\\sigma$ la desviación típica. \n",
        "\n",
        "\n"
      ]
    },
    {
      "cell_type": "markdown",
      "source": [
        "## Normalización usando Scikit-learn.\n",
        "\n",
        "Para normalizar los datos, debe importar [`MinMaxScaler`](https://scikit-learn.org/stable/modules/generated/sklearn.preprocessing.MinMaxScaler.html) de la librería sklearn y aplicarlo a nuestro conjunto de datos.\n",
        "\n",
        "Vamos a utilizar este procedimiento a la variable 'Distance'."
      ],
      "metadata": {
        "id": "ZrFxVDWzNa9z"
      }
    },
    {
      "cell_type": "code",
      "execution_count": 21,
      "metadata": {
        "colab": {
          "base_uri": "https://localhost:8080/"
        },
        "id": "BdLkGhdtnYoL",
        "outputId": "89207bd9-f376-4dd6-d4f8-f841d38f6a25"
      },
      "outputs": [
        {
          "output_type": "stream",
          "name": "stdout",
          "text": [
            "Máximo valor distancia normalizada:  nan\n"
          ]
        }
      ],
      "source": [
        "from sklearn.preprocessing import MinMaxScaler\n",
        "\n",
        "scaler = MinMaxScaler()\n",
        "distancias = data[[\"Distance\"]]\n",
        "distancias_norm = scaler.fit_transform(distancias)\n",
        "print(\"Máximo valor distancia normalizada: \",distancias_norm.max())"
      ]
    },
    {
      "cell_type": "markdown",
      "source": [
        "Este es un claro ejemplo de la influencia que tienen los valores faltantes y porqué es importante tratarlos. En este caso, al haber un valor faltante, el programa nos devuelve *nan* al solicitar el valor máximo después de la normalización. \n",
        "\n",
        "Por lo tanto, tenemos que imputar el valor faltante que tiene antes de proceder a su normalización. En este caso emplearemos el método de la media, al ser un único valor."
      ],
      "metadata": {
        "id": "Mx0HALv6k4iD"
      }
    },
    {
      "cell_type": "code",
      "source": [
        "from sklearn.impute import SimpleImputer\n",
        "imp2 = SimpleImputer(missing_values=np.nan, strategy='mean')\n",
        "imp2.fit(distancias)\n",
        "distancias_imp = imp2.transform(distancias)"
      ],
      "metadata": {
        "id": "F0xhI9AUk3qG"
      },
      "execution_count": 22,
      "outputs": []
    },
    {
      "cell_type": "code",
      "source": [
        "print(data[\"Distance\"].mean())\n",
        "print(np.mean(distancias_imp))\n",
        "(np.isnan(distancias_imp).sum())"
      ],
      "metadata": {
        "colab": {
          "base_uri": "https://localhost:8080/"
        },
        "id": "Q5Y9qmadmRJG",
        "outputId": "85c3c901-92eb-454f-e062-48b945ff2d7d"
      },
      "execution_count": 23,
      "outputs": [
        {
          "output_type": "stream",
          "name": "stdout",
          "text": [
            "10.389986409350366\n",
            "10.389986409350367\n"
          ]
        },
        {
          "output_type": "execute_result",
          "data": {
            "text/plain": [
              "0"
            ]
          },
          "metadata": {},
          "execution_count": 23
        }
      ]
    },
    {
      "cell_type": "markdown",
      "source": [
        "Una vez realizada la imputación de valores faltantes volvemos a realizar la normalización."
      ],
      "metadata": {
        "id": "cp3FdTklnIz6"
      }
    },
    {
      "cell_type": "code",
      "source": [
        "scaler = MinMaxScaler()\n",
        "distancias_norm = scaler.fit_transform(distancias_imp)\n"
      ],
      "metadata": {
        "id": "Gzef9gXjnPWQ"
      },
      "execution_count": 24,
      "outputs": []
    },
    {
      "cell_type": "code",
      "execution_count": 25,
      "metadata": {
        "colab": {
          "base_uri": "https://localhost:8080/"
        },
        "id": "AtOOJ7z2nYoL",
        "outputId": "49b9f52f-6425-41ae-e0b5-000048f92792"
      },
      "outputs": [
        {
          "output_type": "stream",
          "name": "stdout",
          "text": [
            "48.1\n",
            "1.0\n"
          ]
        }
      ],
      "source": [
        "# Comprobemos\n",
        "print(distancias_imp.max())\n",
        "print(round(distancias_norm.max(),2))"
      ]
    },
    {
      "cell_type": "markdown",
      "metadata": {
        "id": "bJuUNo9InYoL"
      },
      "source": [
        "## Estandarización usando Scikit-learn.\n",
        "\n",
        "Para estandarizar los datos, se debe importar la clase [`StandardScaler`](https://scikit-learn.org/stable/modules/generated/sklearn.preprocessing.StandardScaler.html) de la biblioteca sklearn y aplicarlo a nuestro conjunto de datos. Lo hacemos también sobre la variable *distancias_imp*."
      ]
    },
    {
      "cell_type": "code",
      "execution_count": 26,
      "metadata": {
        "id": "lGWnAiNxnYoM"
      },
      "outputs": [],
      "source": [
        "from sklearn.preprocessing import StandardScaler\n",
        "\n",
        "scaler = StandardScaler()\n",
        "distancias4 = scaler.fit_transform(distancias_imp)"
      ]
    },
    {
      "cell_type": "code",
      "execution_count": 27,
      "metadata": {
        "colab": {
          "base_uri": "https://localhost:8080/"
        },
        "id": "UJjgpE_8nYoM",
        "outputId": "71c05dbb-d3f0-4bf1-9a3a-a85456fec4e3"
      },
      "outputs": [
        {
          "output_type": "stream",
          "name": "stdout",
          "text": [
            "-9.887961532647621e-17\n",
            "1.0000000000000002\n"
          ]
        }
      ],
      "source": [
        "# Veamos que la media es 0 y desviación típica 1\n",
        "print(distancias4.mean())\n",
        "print(distancias4.std())"
      ]
    },
    {
      "cell_type": "markdown",
      "metadata": {
        "id": "6vFP-cAHnYoM"
      },
      "source": [
        "# Trabajo con variables categóricas.\n",
        "\n",
        "Otro de los inconvenientes con los que nos podemos encontrar a la hora de realizar tratamiento de datos, consiste en el tratamiento de las variables categóricas, más aún si estas categorías figuran con literales en el dataset con el que estamos trabajando. `Scikit-learn` y `pandas` ofrecen algunas herramientas que facilitan la transformación de los valores de estas variables para que puedan ser utilizadas en los procedimientos empleados por un científico de datos. En este apartado vamos a ver alguna de las posibilidades que tenemos.\n",
        "\n",
        "En el fichero con el que estamos trabajando, la variable \"Method\" es categórica con los siguientes niveles o categorías:"
      ]
    },
    {
      "cell_type": "code",
      "execution_count": 28,
      "metadata": {
        "colab": {
          "base_uri": "https://localhost:8080/"
        },
        "id": "TbuTN8hOnYoM",
        "outputId": "00257661-ad47-47d9-e7b9-91de8f88c542"
      },
      "outputs": [
        {
          "output_type": "execute_result",
          "data": {
            "text/plain": [
              "array(['S', 'SP', 'PI', 'VB', 'SA'], dtype=object)"
            ]
          },
          "metadata": {},
          "execution_count": 28
        }
      ],
      "source": [
        "data.Method.unique()"
      ]
    },
    {
      "cell_type": "markdown",
      "metadata": {
        "id": "_Q865O5rnYoM"
      },
      "source": [
        "Si intentamos emplear los datos con estas categorías, muchas de la funciones de scikit-learn no va a admitir este formato. Para que podamos trabajar con ellos, lo que se puede hacer es codificar su categorías. Un opción puede hacer utilizar [OrdinalEncoder](https://scikit-learn.org/stable/modules/generated/sklearn.preprocessing.OrdinalEncoder.html#sklearn.preprocessing.OrdinalEncoder). Veamos cómo conseguir esto:"
      ]
    },
    {
      "cell_type": "code",
      "execution_count": 29,
      "metadata": {
        "colab": {
          "base_uri": "https://localhost:8080/"
        },
        "id": "TyVCuUHGnYoN",
        "outputId": "0eeb89d4-94e7-4328-804f-e7e481335f29"
      },
      "outputs": [
        {
          "output_type": "execute_result",
          "data": {
            "text/plain": [
              "array([[1.],\n",
              "       [1.],\n",
              "       [3.],\n",
              "       ...,\n",
              "       [1.],\n",
              "       [3.],\n",
              "       [4.]])"
            ]
          },
          "metadata": {},
          "execution_count": 29
        }
      ],
      "source": [
        "from sklearn.preprocessing import OrdinalEncoder\n",
        "le = OrdinalEncoder()\n",
        "le.fit_transform(np.array(data.Method).reshape(-1,1))"
      ]
    },
    {
      "cell_type": "markdown",
      "metadata": {
        "id": "Nid7a4v8nYoN"
      },
      "source": [
        "Como vemos, de esta manera los valores de la variable los hemos convertido de tipo string a numérico. Sin embargo, esta transformación a veces puede ser peligrosa, puesto que alguno de los algoritmos utilizados en ciencia de datos pueden interpretar que a mayor valor del número mayor importancia, y por lo tanto para categorías igualmente importantes, asignar mayor peso a una en concreto simplemente por el hecho de que este método ha decidido asignarle el valor más elevado a la hora de codificarla. \n",
        "\n",
        "Por tanto, para casos en los que no exista un orden entre las diferentes categorías, lo que se suele hacer es transformar estas variables en **variables de tipo dummy**.\n",
        "\n",
        "Para tratar de clarificar este tipo de transformación vamos a emplear el siguiente ejemplo. Supongamos que tenemos una variable que sólo puede tomar dos valores:\"hombre\" o \"mujer\". En ese caso, para pasarlo a variables dummies (también conocido como *one-hot encoding*) crearemos dos nuevas variables (de forma general, tantas como categorías tiene esa varable). De tal forma que, para un sujeto que es hombre, una de las variables dummy tomará el valor 1 y la otra el valor 0. Para el caso de mujer los valores que toman las nuevas variables son justamente los opuestos.\n",
        "\n",
        "Esto se puede conseguir con scikit learn utilizando [`OneHotEncoder`](https://scikit-learn.org/stable/modules/generated/sklearn.preprocessing.OneHotEncoder.html). Veamos cómo aplicamos esta metodología para la variable *Method*."
      ]
    },
    {
      "cell_type": "code",
      "execution_count": 30,
      "metadata": {
        "colab": {
          "base_uri": "https://localhost:8080/"
        },
        "id": "hLZpH0jLnYoN",
        "outputId": "378a0bf7-e56f-45f6-eb61-576db3ebfb3a"
      },
      "outputs": [
        {
          "output_type": "stream",
          "name": "stdout",
          "text": [
            "[[0. 1. 0. 0. 0.]\n",
            " [0. 1. 0. 0. 0.]\n",
            " [0. 0. 0. 1. 0.]\n",
            " ...\n",
            " [0. 1. 0. 0. 0.]\n",
            " [0. 0. 0. 1. 0.]\n",
            " [0. 0. 0. 0. 1.]]\n"
          ]
        }
      ],
      "source": [
        "from sklearn.preprocessing import OneHotEncoder\n",
        "enc = OneHotEncoder(handle_unknown='ignore',sparse=False)\n",
        "dat = enc.fit_transform(np.array(data.Method).reshape(-1,1))\n",
        "print(dat)"
      ]
    },
    {
      "cell_type": "code",
      "source": [
        "data.Method"
      ],
      "metadata": {
        "colab": {
          "base_uri": "https://localhost:8080/"
        },
        "id": "RQ5Lh7lod5bc",
        "outputId": "fd201b3f-a5ac-4058-97dd-9d029f3f22a0"
      },
      "execution_count": 31,
      "outputs": [
        {
          "output_type": "execute_result",
          "data": {
            "text/plain": [
              "0         S\n",
              "1         S\n",
              "2        SP\n",
              "3        PI\n",
              "4        VB\n",
              "         ..\n",
              "18391    SP\n",
              "18392    PI\n",
              "18393     S\n",
              "18394    SP\n",
              "18395    VB\n",
              "Name: Method, Length: 18396, dtype: object"
            ]
          },
          "metadata": {},
          "execution_count": 31
        }
      ]
    },
    {
      "cell_type": "markdown",
      "metadata": {
        "id": "gTr9H6ngnYoO"
      },
      "source": [
        "Como vemos la variable categórica tiene cinco categorías, y son 5 las nuevas variables generadas, cada una tomando sólo los valores 0 ó 1.\n",
        "\n",
        "Otra posibilidad que se tiene es utilizar la clase [`pandas.get_dummies`](https://pandas.pydata.org/docs/reference/api/pandas.get_dummies.html), que transforma las variables categóricas que existan en el dataframe de Pandas en variables de tipo dummy.\n",
        "\n",
        "Para ver mejor esta forma de actuar, vamos a usar del fichero original, sólo algunas columnas, que las almacenamos en la variable denominado *datos_prueba*."
      ]
    },
    {
      "cell_type": "code",
      "execution_count": 32,
      "metadata": {
        "id": "x2704DX0nYoO"
      },
      "outputs": [],
      "source": [
        "datos_prueba = data.iloc[:,1:7]"
      ]
    },
    {
      "cell_type": "code",
      "execution_count": 33,
      "metadata": {
        "colab": {
          "base_uri": "https://localhost:8080/",
          "height": 206
        },
        "id": "Y2ydtxcEnYoO",
        "outputId": "c94d8f7c-b07b-4f91-948b-27a746c3b594"
      },
      "outputs": [
        {
          "output_type": "execute_result",
          "data": {
            "text/plain": [
              "       Suburb           Address  Rooms Type      Price Method\n",
              "0  Abbotsford      85 Turner St      2    h  1480000.0      S\n",
              "1  Abbotsford   25 Bloomburg St      2    h  1035000.0      S\n",
              "2  Abbotsford      5 Charles St      3    h  1465000.0     SP\n",
              "3  Abbotsford  40 Federation La      3    h   850000.0     PI\n",
              "4  Abbotsford       55a Park St      4    h  1600000.0     VB"
            ],
            "text/html": [
              "\n",
              "  <div id=\"df-72bfacdc-aa81-45fd-ac6f-05d995fc3df1\">\n",
              "    <div class=\"colab-df-container\">\n",
              "      <div>\n",
              "<style scoped>\n",
              "    .dataframe tbody tr th:only-of-type {\n",
              "        vertical-align: middle;\n",
              "    }\n",
              "\n",
              "    .dataframe tbody tr th {\n",
              "        vertical-align: top;\n",
              "    }\n",
              "\n",
              "    .dataframe thead th {\n",
              "        text-align: right;\n",
              "    }\n",
              "</style>\n",
              "<table border=\"1\" class=\"dataframe\">\n",
              "  <thead>\n",
              "    <tr style=\"text-align: right;\">\n",
              "      <th></th>\n",
              "      <th>Suburb</th>\n",
              "      <th>Address</th>\n",
              "      <th>Rooms</th>\n",
              "      <th>Type</th>\n",
              "      <th>Price</th>\n",
              "      <th>Method</th>\n",
              "    </tr>\n",
              "  </thead>\n",
              "  <tbody>\n",
              "    <tr>\n",
              "      <th>0</th>\n",
              "      <td>Abbotsford</td>\n",
              "      <td>85 Turner St</td>\n",
              "      <td>2</td>\n",
              "      <td>h</td>\n",
              "      <td>1480000.0</td>\n",
              "      <td>S</td>\n",
              "    </tr>\n",
              "    <tr>\n",
              "      <th>1</th>\n",
              "      <td>Abbotsford</td>\n",
              "      <td>25 Bloomburg St</td>\n",
              "      <td>2</td>\n",
              "      <td>h</td>\n",
              "      <td>1035000.0</td>\n",
              "      <td>S</td>\n",
              "    </tr>\n",
              "    <tr>\n",
              "      <th>2</th>\n",
              "      <td>Abbotsford</td>\n",
              "      <td>5 Charles St</td>\n",
              "      <td>3</td>\n",
              "      <td>h</td>\n",
              "      <td>1465000.0</td>\n",
              "      <td>SP</td>\n",
              "    </tr>\n",
              "    <tr>\n",
              "      <th>3</th>\n",
              "      <td>Abbotsford</td>\n",
              "      <td>40 Federation La</td>\n",
              "      <td>3</td>\n",
              "      <td>h</td>\n",
              "      <td>850000.0</td>\n",
              "      <td>PI</td>\n",
              "    </tr>\n",
              "    <tr>\n",
              "      <th>4</th>\n",
              "      <td>Abbotsford</td>\n",
              "      <td>55a Park St</td>\n",
              "      <td>4</td>\n",
              "      <td>h</td>\n",
              "      <td>1600000.0</td>\n",
              "      <td>VB</td>\n",
              "    </tr>\n",
              "  </tbody>\n",
              "</table>\n",
              "</div>\n",
              "      <button class=\"colab-df-convert\" onclick=\"convertToInteractive('df-72bfacdc-aa81-45fd-ac6f-05d995fc3df1')\"\n",
              "              title=\"Convert this dataframe to an interactive table.\"\n",
              "              style=\"display:none;\">\n",
              "        \n",
              "  <svg xmlns=\"http://www.w3.org/2000/svg\" height=\"24px\"viewBox=\"0 0 24 24\"\n",
              "       width=\"24px\">\n",
              "    <path d=\"M0 0h24v24H0V0z\" fill=\"none\"/>\n",
              "    <path d=\"M18.56 5.44l.94 2.06.94-2.06 2.06-.94-2.06-.94-.94-2.06-.94 2.06-2.06.94zm-11 1L8.5 8.5l.94-2.06 2.06-.94-2.06-.94L8.5 2.5l-.94 2.06-2.06.94zm10 10l.94 2.06.94-2.06 2.06-.94-2.06-.94-.94-2.06-.94 2.06-2.06.94z\"/><path d=\"M17.41 7.96l-1.37-1.37c-.4-.4-.92-.59-1.43-.59-.52 0-1.04.2-1.43.59L10.3 9.45l-7.72 7.72c-.78.78-.78 2.05 0 2.83L4 21.41c.39.39.9.59 1.41.59.51 0 1.02-.2 1.41-.59l7.78-7.78 2.81-2.81c.8-.78.8-2.07 0-2.86zM5.41 20L4 18.59l7.72-7.72 1.47 1.35L5.41 20z\"/>\n",
              "  </svg>\n",
              "      </button>\n",
              "      \n",
              "  <style>\n",
              "    .colab-df-container {\n",
              "      display:flex;\n",
              "      flex-wrap:wrap;\n",
              "      gap: 12px;\n",
              "    }\n",
              "\n",
              "    .colab-df-convert {\n",
              "      background-color: #E8F0FE;\n",
              "      border: none;\n",
              "      border-radius: 50%;\n",
              "      cursor: pointer;\n",
              "      display: none;\n",
              "      fill: #1967D2;\n",
              "      height: 32px;\n",
              "      padding: 0 0 0 0;\n",
              "      width: 32px;\n",
              "    }\n",
              "\n",
              "    .colab-df-convert:hover {\n",
              "      background-color: #E2EBFA;\n",
              "      box-shadow: 0px 1px 2px rgba(60, 64, 67, 0.3), 0px 1px 3px 1px rgba(60, 64, 67, 0.15);\n",
              "      fill: #174EA6;\n",
              "    }\n",
              "\n",
              "    [theme=dark] .colab-df-convert {\n",
              "      background-color: #3B4455;\n",
              "      fill: #D2E3FC;\n",
              "    }\n",
              "\n",
              "    [theme=dark] .colab-df-convert:hover {\n",
              "      background-color: #434B5C;\n",
              "      box-shadow: 0px 1px 3px 1px rgba(0, 0, 0, 0.15);\n",
              "      filter: drop-shadow(0px 1px 2px rgba(0, 0, 0, 0.3));\n",
              "      fill: #FFFFFF;\n",
              "    }\n",
              "  </style>\n",
              "\n",
              "      <script>\n",
              "        const buttonEl =\n",
              "          document.querySelector('#df-72bfacdc-aa81-45fd-ac6f-05d995fc3df1 button.colab-df-convert');\n",
              "        buttonEl.style.display =\n",
              "          google.colab.kernel.accessAllowed ? 'block' : 'none';\n",
              "\n",
              "        async function convertToInteractive(key) {\n",
              "          const element = document.querySelector('#df-72bfacdc-aa81-45fd-ac6f-05d995fc3df1');\n",
              "          const dataTable =\n",
              "            await google.colab.kernel.invokeFunction('convertToInteractive',\n",
              "                                                     [key], {});\n",
              "          if (!dataTable) return;\n",
              "\n",
              "          const docLinkHtml = 'Like what you see? Visit the ' +\n",
              "            '<a target=\"_blank\" href=https://colab.research.google.com/notebooks/data_table.ipynb>data table notebook</a>'\n",
              "            + ' to learn more about interactive tables.';\n",
              "          element.innerHTML = '';\n",
              "          dataTable['output_type'] = 'display_data';\n",
              "          await google.colab.output.renderOutput(dataTable, element);\n",
              "          const docLink = document.createElement('div');\n",
              "          docLink.innerHTML = docLinkHtml;\n",
              "          element.appendChild(docLink);\n",
              "        }\n",
              "      </script>\n",
              "    </div>\n",
              "  </div>\n",
              "  "
            ]
          },
          "metadata": {},
          "execution_count": 33
        }
      ],
      "source": [
        "datos_prueba.head()"
      ]
    },
    {
      "cell_type": "code",
      "execution_count": 34,
      "metadata": {
        "colab": {
          "base_uri": "https://localhost:8080/",
          "height": 505
        },
        "id": "p5H-bCYHnYoO",
        "outputId": "c41f80f1-1b41-4c82-9275-56b512cfb714"
      },
      "outputs": [
        {
          "output_type": "execute_result",
          "data": {
            "text/plain": [
              "       Rooms      Price  Suburb_Abbotsford  Suburb_Aberfeldie  \\\n",
              "0          2  1480000.0                  1                  0   \n",
              "1          2  1035000.0                  1                  0   \n",
              "2          3  1465000.0                  1                  0   \n",
              "3          3   850000.0                  1                  0   \n",
              "4          4  1600000.0                  1                  0   \n",
              "...      ...        ...                ...                ...   \n",
              "18391      2   622500.0                  0                  0   \n",
              "18392      4  2500000.0                  0                  0   \n",
              "18393      4  1100000.0                  0                  0   \n",
              "18394      4  1285000.0                  0                  0   \n",
              "18395      4  1050000.0                  0                  0   \n",
              "\n",
              "       Suburb_Airport West  Suburb_Albanvale  Suburb_Albert Park  \\\n",
              "0                        0                 0                   0   \n",
              "1                        0                 0                   0   \n",
              "2                        0                 0                   0   \n",
              "3                        0                 0                   0   \n",
              "4                        0                 0                   0   \n",
              "...                    ...               ...                 ...   \n",
              "18391                    0                 0                   0   \n",
              "18392                    0                 0                   0   \n",
              "18393                    0                 0                   0   \n",
              "18394                    0                 0                   0   \n",
              "18395                    0                 0                   0   \n",
              "\n",
              "       Suburb_Albion  Suburb_Alphington  Suburb_Altona  ...  \\\n",
              "0                  0                  0              0  ...   \n",
              "1                  0                  0              0  ...   \n",
              "2                  0                  0              0  ...   \n",
              "3                  0                  0              0  ...   \n",
              "4                  0                  0              0  ...   \n",
              "...              ...                ...            ...  ...   \n",
              "18391              0                  0              0  ...   \n",
              "18392              0                  0              0  ...   \n",
              "18393              0                  0              0  ...   \n",
              "18394              0                  0              0  ...   \n",
              "18395              0                  0              0  ...   \n",
              "\n",
              "       Address_9b Marquis Rd  Address_9b Stewart St  Type_h  Type_t  Type_u  \\\n",
              "0                          0                      0       1       0       0   \n",
              "1                          0                      0       1       0       0   \n",
              "2                          0                      0       1       0       0   \n",
              "3                          0                      0       1       0       0   \n",
              "4                          0                      0       1       0       0   \n",
              "...                      ...                    ...     ...     ...     ...   \n",
              "18391                      0                      0       0       1       0   \n",
              "18392                      0                      0       1       0       0   \n",
              "18393                      0                      0       1       0       0   \n",
              "18394                      0                      0       1       0       0   \n",
              "18395                      0                      0       1       0       0   \n",
              "\n",
              "       Method_PI  Method_S  Method_SA  Method_SP  Method_VB  \n",
              "0              0         1          0          0          0  \n",
              "1              0         1          0          0          0  \n",
              "2              0         0          0          1          0  \n",
              "3              1         0          0          0          0  \n",
              "4              0         0          0          0          1  \n",
              "...          ...       ...        ...        ...        ...  \n",
              "18391          0         0          0          1          0  \n",
              "18392          1         0          0          0          0  \n",
              "18393          0         1          0          0          0  \n",
              "18394          0         0          0          1          0  \n",
              "18395          0         0          0          0          1  \n",
              "\n",
              "[18396 rows x 18474 columns]"
            ],
            "text/html": [
              "\n",
              "  <div id=\"df-7d33e831-0e56-4d6b-885a-f893d6f0e032\">\n",
              "    <div class=\"colab-df-container\">\n",
              "      <div>\n",
              "<style scoped>\n",
              "    .dataframe tbody tr th:only-of-type {\n",
              "        vertical-align: middle;\n",
              "    }\n",
              "\n",
              "    .dataframe tbody tr th {\n",
              "        vertical-align: top;\n",
              "    }\n",
              "\n",
              "    .dataframe thead th {\n",
              "        text-align: right;\n",
              "    }\n",
              "</style>\n",
              "<table border=\"1\" class=\"dataframe\">\n",
              "  <thead>\n",
              "    <tr style=\"text-align: right;\">\n",
              "      <th></th>\n",
              "      <th>Rooms</th>\n",
              "      <th>Price</th>\n",
              "      <th>Suburb_Abbotsford</th>\n",
              "      <th>Suburb_Aberfeldie</th>\n",
              "      <th>Suburb_Airport West</th>\n",
              "      <th>Suburb_Albanvale</th>\n",
              "      <th>Suburb_Albert Park</th>\n",
              "      <th>Suburb_Albion</th>\n",
              "      <th>Suburb_Alphington</th>\n",
              "      <th>Suburb_Altona</th>\n",
              "      <th>...</th>\n",
              "      <th>Address_9b Marquis Rd</th>\n",
              "      <th>Address_9b Stewart St</th>\n",
              "      <th>Type_h</th>\n",
              "      <th>Type_t</th>\n",
              "      <th>Type_u</th>\n",
              "      <th>Method_PI</th>\n",
              "      <th>Method_S</th>\n",
              "      <th>Method_SA</th>\n",
              "      <th>Method_SP</th>\n",
              "      <th>Method_VB</th>\n",
              "    </tr>\n",
              "  </thead>\n",
              "  <tbody>\n",
              "    <tr>\n",
              "      <th>0</th>\n",
              "      <td>2</td>\n",
              "      <td>1480000.0</td>\n",
              "      <td>1</td>\n",
              "      <td>0</td>\n",
              "      <td>0</td>\n",
              "      <td>0</td>\n",
              "      <td>0</td>\n",
              "      <td>0</td>\n",
              "      <td>0</td>\n",
              "      <td>0</td>\n",
              "      <td>...</td>\n",
              "      <td>0</td>\n",
              "      <td>0</td>\n",
              "      <td>1</td>\n",
              "      <td>0</td>\n",
              "      <td>0</td>\n",
              "      <td>0</td>\n",
              "      <td>1</td>\n",
              "      <td>0</td>\n",
              "      <td>0</td>\n",
              "      <td>0</td>\n",
              "    </tr>\n",
              "    <tr>\n",
              "      <th>1</th>\n",
              "      <td>2</td>\n",
              "      <td>1035000.0</td>\n",
              "      <td>1</td>\n",
              "      <td>0</td>\n",
              "      <td>0</td>\n",
              "      <td>0</td>\n",
              "      <td>0</td>\n",
              "      <td>0</td>\n",
              "      <td>0</td>\n",
              "      <td>0</td>\n",
              "      <td>...</td>\n",
              "      <td>0</td>\n",
              "      <td>0</td>\n",
              "      <td>1</td>\n",
              "      <td>0</td>\n",
              "      <td>0</td>\n",
              "      <td>0</td>\n",
              "      <td>1</td>\n",
              "      <td>0</td>\n",
              "      <td>0</td>\n",
              "      <td>0</td>\n",
              "    </tr>\n",
              "    <tr>\n",
              "      <th>2</th>\n",
              "      <td>3</td>\n",
              "      <td>1465000.0</td>\n",
              "      <td>1</td>\n",
              "      <td>0</td>\n",
              "      <td>0</td>\n",
              "      <td>0</td>\n",
              "      <td>0</td>\n",
              "      <td>0</td>\n",
              "      <td>0</td>\n",
              "      <td>0</td>\n",
              "      <td>...</td>\n",
              "      <td>0</td>\n",
              "      <td>0</td>\n",
              "      <td>1</td>\n",
              "      <td>0</td>\n",
              "      <td>0</td>\n",
              "      <td>0</td>\n",
              "      <td>0</td>\n",
              "      <td>0</td>\n",
              "      <td>1</td>\n",
              "      <td>0</td>\n",
              "    </tr>\n",
              "    <tr>\n",
              "      <th>3</th>\n",
              "      <td>3</td>\n",
              "      <td>850000.0</td>\n",
              "      <td>1</td>\n",
              "      <td>0</td>\n",
              "      <td>0</td>\n",
              "      <td>0</td>\n",
              "      <td>0</td>\n",
              "      <td>0</td>\n",
              "      <td>0</td>\n",
              "      <td>0</td>\n",
              "      <td>...</td>\n",
              "      <td>0</td>\n",
              "      <td>0</td>\n",
              "      <td>1</td>\n",
              "      <td>0</td>\n",
              "      <td>0</td>\n",
              "      <td>1</td>\n",
              "      <td>0</td>\n",
              "      <td>0</td>\n",
              "      <td>0</td>\n",
              "      <td>0</td>\n",
              "    </tr>\n",
              "    <tr>\n",
              "      <th>4</th>\n",
              "      <td>4</td>\n",
              "      <td>1600000.0</td>\n",
              "      <td>1</td>\n",
              "      <td>0</td>\n",
              "      <td>0</td>\n",
              "      <td>0</td>\n",
              "      <td>0</td>\n",
              "      <td>0</td>\n",
              "      <td>0</td>\n",
              "      <td>0</td>\n",
              "      <td>...</td>\n",
              "      <td>0</td>\n",
              "      <td>0</td>\n",
              "      <td>1</td>\n",
              "      <td>0</td>\n",
              "      <td>0</td>\n",
              "      <td>0</td>\n",
              "      <td>0</td>\n",
              "      <td>0</td>\n",
              "      <td>0</td>\n",
              "      <td>1</td>\n",
              "    </tr>\n",
              "    <tr>\n",
              "      <th>...</th>\n",
              "      <td>...</td>\n",
              "      <td>...</td>\n",
              "      <td>...</td>\n",
              "      <td>...</td>\n",
              "      <td>...</td>\n",
              "      <td>...</td>\n",
              "      <td>...</td>\n",
              "      <td>...</td>\n",
              "      <td>...</td>\n",
              "      <td>...</td>\n",
              "      <td>...</td>\n",
              "      <td>...</td>\n",
              "      <td>...</td>\n",
              "      <td>...</td>\n",
              "      <td>...</td>\n",
              "      <td>...</td>\n",
              "      <td>...</td>\n",
              "      <td>...</td>\n",
              "      <td>...</td>\n",
              "      <td>...</td>\n",
              "      <td>...</td>\n",
              "    </tr>\n",
              "    <tr>\n",
              "      <th>18391</th>\n",
              "      <td>2</td>\n",
              "      <td>622500.0</td>\n",
              "      <td>0</td>\n",
              "      <td>0</td>\n",
              "      <td>0</td>\n",
              "      <td>0</td>\n",
              "      <td>0</td>\n",
              "      <td>0</td>\n",
              "      <td>0</td>\n",
              "      <td>0</td>\n",
              "      <td>...</td>\n",
              "      <td>0</td>\n",
              "      <td>0</td>\n",
              "      <td>0</td>\n",
              "      <td>1</td>\n",
              "      <td>0</td>\n",
              "      <td>0</td>\n",
              "      <td>0</td>\n",
              "      <td>0</td>\n",
              "      <td>1</td>\n",
              "      <td>0</td>\n",
              "    </tr>\n",
              "    <tr>\n",
              "      <th>18392</th>\n",
              "      <td>4</td>\n",
              "      <td>2500000.0</td>\n",
              "      <td>0</td>\n",
              "      <td>0</td>\n",
              "      <td>0</td>\n",
              "      <td>0</td>\n",
              "      <td>0</td>\n",
              "      <td>0</td>\n",
              "      <td>0</td>\n",
              "      <td>0</td>\n",
              "      <td>...</td>\n",
              "      <td>0</td>\n",
              "      <td>0</td>\n",
              "      <td>1</td>\n",
              "      <td>0</td>\n",
              "      <td>0</td>\n",
              "      <td>1</td>\n",
              "      <td>0</td>\n",
              "      <td>0</td>\n",
              "      <td>0</td>\n",
              "      <td>0</td>\n",
              "    </tr>\n",
              "    <tr>\n",
              "      <th>18393</th>\n",
              "      <td>4</td>\n",
              "      <td>1100000.0</td>\n",
              "      <td>0</td>\n",
              "      <td>0</td>\n",
              "      <td>0</td>\n",
              "      <td>0</td>\n",
              "      <td>0</td>\n",
              "      <td>0</td>\n",
              "      <td>0</td>\n",
              "      <td>0</td>\n",
              "      <td>...</td>\n",
              "      <td>0</td>\n",
              "      <td>0</td>\n",
              "      <td>1</td>\n",
              "      <td>0</td>\n",
              "      <td>0</td>\n",
              "      <td>0</td>\n",
              "      <td>1</td>\n",
              "      <td>0</td>\n",
              "      <td>0</td>\n",
              "      <td>0</td>\n",
              "    </tr>\n",
              "    <tr>\n",
              "      <th>18394</th>\n",
              "      <td>4</td>\n",
              "      <td>1285000.0</td>\n",
              "      <td>0</td>\n",
              "      <td>0</td>\n",
              "      <td>0</td>\n",
              "      <td>0</td>\n",
              "      <td>0</td>\n",
              "      <td>0</td>\n",
              "      <td>0</td>\n",
              "      <td>0</td>\n",
              "      <td>...</td>\n",
              "      <td>0</td>\n",
              "      <td>0</td>\n",
              "      <td>1</td>\n",
              "      <td>0</td>\n",
              "      <td>0</td>\n",
              "      <td>0</td>\n",
              "      <td>0</td>\n",
              "      <td>0</td>\n",
              "      <td>1</td>\n",
              "      <td>0</td>\n",
              "    </tr>\n",
              "    <tr>\n",
              "      <th>18395</th>\n",
              "      <td>4</td>\n",
              "      <td>1050000.0</td>\n",
              "      <td>0</td>\n",
              "      <td>0</td>\n",
              "      <td>0</td>\n",
              "      <td>0</td>\n",
              "      <td>0</td>\n",
              "      <td>0</td>\n",
              "      <td>0</td>\n",
              "      <td>0</td>\n",
              "      <td>...</td>\n",
              "      <td>0</td>\n",
              "      <td>0</td>\n",
              "      <td>1</td>\n",
              "      <td>0</td>\n",
              "      <td>0</td>\n",
              "      <td>0</td>\n",
              "      <td>0</td>\n",
              "      <td>0</td>\n",
              "      <td>0</td>\n",
              "      <td>1</td>\n",
              "    </tr>\n",
              "  </tbody>\n",
              "</table>\n",
              "<p>18396 rows × 18474 columns</p>\n",
              "</div>\n",
              "      <button class=\"colab-df-convert\" onclick=\"convertToInteractive('df-7d33e831-0e56-4d6b-885a-f893d6f0e032')\"\n",
              "              title=\"Convert this dataframe to an interactive table.\"\n",
              "              style=\"display:none;\">\n",
              "        \n",
              "  <svg xmlns=\"http://www.w3.org/2000/svg\" height=\"24px\"viewBox=\"0 0 24 24\"\n",
              "       width=\"24px\">\n",
              "    <path d=\"M0 0h24v24H0V0z\" fill=\"none\"/>\n",
              "    <path d=\"M18.56 5.44l.94 2.06.94-2.06 2.06-.94-2.06-.94-.94-2.06-.94 2.06-2.06.94zm-11 1L8.5 8.5l.94-2.06 2.06-.94-2.06-.94L8.5 2.5l-.94 2.06-2.06.94zm10 10l.94 2.06.94-2.06 2.06-.94-2.06-.94-.94-2.06-.94 2.06-2.06.94z\"/><path d=\"M17.41 7.96l-1.37-1.37c-.4-.4-.92-.59-1.43-.59-.52 0-1.04.2-1.43.59L10.3 9.45l-7.72 7.72c-.78.78-.78 2.05 0 2.83L4 21.41c.39.39.9.59 1.41.59.51 0 1.02-.2 1.41-.59l7.78-7.78 2.81-2.81c.8-.78.8-2.07 0-2.86zM5.41 20L4 18.59l7.72-7.72 1.47 1.35L5.41 20z\"/>\n",
              "  </svg>\n",
              "      </button>\n",
              "      \n",
              "  <style>\n",
              "    .colab-df-container {\n",
              "      display:flex;\n",
              "      flex-wrap:wrap;\n",
              "      gap: 12px;\n",
              "    }\n",
              "\n",
              "    .colab-df-convert {\n",
              "      background-color: #E8F0FE;\n",
              "      border: none;\n",
              "      border-radius: 50%;\n",
              "      cursor: pointer;\n",
              "      display: none;\n",
              "      fill: #1967D2;\n",
              "      height: 32px;\n",
              "      padding: 0 0 0 0;\n",
              "      width: 32px;\n",
              "    }\n",
              "\n",
              "    .colab-df-convert:hover {\n",
              "      background-color: #E2EBFA;\n",
              "      box-shadow: 0px 1px 2px rgba(60, 64, 67, 0.3), 0px 1px 3px 1px rgba(60, 64, 67, 0.15);\n",
              "      fill: #174EA6;\n",
              "    }\n",
              "\n",
              "    [theme=dark] .colab-df-convert {\n",
              "      background-color: #3B4455;\n",
              "      fill: #D2E3FC;\n",
              "    }\n",
              "\n",
              "    [theme=dark] .colab-df-convert:hover {\n",
              "      background-color: #434B5C;\n",
              "      box-shadow: 0px 1px 3px 1px rgba(0, 0, 0, 0.15);\n",
              "      filter: drop-shadow(0px 1px 2px rgba(0, 0, 0, 0.3));\n",
              "      fill: #FFFFFF;\n",
              "    }\n",
              "  </style>\n",
              "\n",
              "      <script>\n",
              "        const buttonEl =\n",
              "          document.querySelector('#df-7d33e831-0e56-4d6b-885a-f893d6f0e032 button.colab-df-convert');\n",
              "        buttonEl.style.display =\n",
              "          google.colab.kernel.accessAllowed ? 'block' : 'none';\n",
              "\n",
              "        async function convertToInteractive(key) {\n",
              "          const element = document.querySelector('#df-7d33e831-0e56-4d6b-885a-f893d6f0e032');\n",
              "          const dataTable =\n",
              "            await google.colab.kernel.invokeFunction('convertToInteractive',\n",
              "                                                     [key], {});\n",
              "          if (!dataTable) return;\n",
              "\n",
              "          const docLinkHtml = 'Like what you see? Visit the ' +\n",
              "            '<a target=\"_blank\" href=https://colab.research.google.com/notebooks/data_table.ipynb>data table notebook</a>'\n",
              "            + ' to learn more about interactive tables.';\n",
              "          element.innerHTML = '';\n",
              "          dataTable['output_type'] = 'display_data';\n",
              "          await google.colab.output.renderOutput(dataTable, element);\n",
              "          const docLink = document.createElement('div');\n",
              "          docLink.innerHTML = docLinkHtml;\n",
              "          element.appendChild(docLink);\n",
              "        }\n",
              "      </script>\n",
              "    </div>\n",
              "  </div>\n",
              "  "
            ]
          },
          "metadata": {},
          "execution_count": 34
        }
      ],
      "source": [
        "pd.get_dummies(datos_prueba)"
      ]
    },
    {
      "cell_type": "markdown",
      "metadata": {
        "id": "5Reqg2iAnYoO"
      },
      "source": [
        "Como vemos en la anterior salida, las variables que no son categóricas, las mantiene intactas y al resto las transforma en variables de tipo dummy, que sí son las adecuadas para ser empleadas en los procesos de análisis de datos usando *scikit-learn*. "
      ]
    },
    {
      "cell_type": "markdown",
      "source": [
        "# **Bonus track**: Estudio exploratiorio de los datos con `dtale`"
      ],
      "metadata": {
        "id": "9H86GfHt8R1y"
      }
    },
    {
      "cell_type": "markdown",
      "source": [
        "Aprender Python puede llegar a ser abrumador al principio, y algunas tareas que pueden ser fáciles después de un tiempo, para los usuarios menos experimentados suelen requerir bastante tiempo para aprender a hacerlas y utilizarlas. Ahí es donde **D-Tale** puede ser útil.\n",
        "\n",
        "Incluso para los usuarios más experimentados de Python, algunas tareas pueden resultar repetitivas y hacerles perder mucho tiempo. Por esta razón, **D-Tale** puede servir de ayuda para optimizar tareas como el análisis exploratorio de datos y la limpieza de datos. Este tiempo ahorrado permitirá al científico de datos centrarse en otras tareas, como el perfeccionamiento del código y el ajuste de los modelos de aprendizaje automático.\n",
        "\n",
        "Y es que **D-Tale** es una herramienta bastante orientada al usuario final ('user friendly'), que permite a los programadores y no programadores explorar el conjunto de datos de manera rápida e intuitiva, ya sea cambiando el formato de los datos, estudiando los datos faltantes o incluso realizando visualizaciones de todo tipo. Y lo mejor de todo: permite el acceso al código fuente para luego poder trasladar dichas operaciones a su propio notebook o editor de código."
      ],
      "metadata": {
        "id": "Q84HUL6y5rsb"
      }
    },
    {
      "cell_type": "code",
      "source": [
        "#Descomentar esta linea si no se tiene instalado DTale\n",
        "#IMPORTANTE: Una vez descargadas las dependencias es necesario restablecer la sesión\n",
        "! pip install dtale"
      ],
      "metadata": {
        "colab": {
          "base_uri": "https://localhost:8080/"
        },
        "id": "lHVhkFnM3ghZ",
        "outputId": "d48fa9db-d1a3-4574-c15d-765896781be4"
      },
      "execution_count": 35,
      "outputs": [
        {
          "output_type": "stream",
          "name": "stdout",
          "text": [
            "Looking in indexes: https://pypi.org/simple, https://us-python.pkg.dev/colab-wheels/public/simple/\n",
            "Requirement already satisfied: dtale in /usr/local/lib/python3.8/dist-packages (2.12.1)\n",
            "Requirement already satisfied: certifi in /usr/local/lib/python3.8/dist-packages (from dtale) (2022.12.7)\n",
            "Requirement already satisfied: openpyxl in /usr/local/lib/python3.8/dist-packages (from dtale) (3.0.10)\n",
            "Requirement already satisfied: networkx in /usr/local/lib/python3.8/dist-packages (from dtale) (3.0)\n",
            "Requirement already satisfied: matplotlib==3.6.0 in /usr/local/lib/python3.8/dist-packages (from dtale) (3.6.0)\n",
            "Requirement already satisfied: dash-colorscales in /usr/local/lib/python3.8/dist-packages (from dtale) (0.0.4)\n",
            "Requirement already satisfied: lz4 in /usr/local/lib/python3.8/dist-packages (from dtale) (4.3.2)\n",
            "Requirement already satisfied: strsimpy in /usr/local/lib/python3.8/dist-packages (from dtale) (0.2.1)\n",
            "Requirement already satisfied: beautifulsoup4 in /usr/local/lib/python3.8/dist-packages (from dtale) (4.6.3)\n",
            "Requirement already satisfied: dash-bootstrap-components in /usr/local/lib/python3.8/dist-packages (from dtale) (1.3.1)\n",
            "Requirement already satisfied: dash-daq in /usr/local/lib/python3.8/dist-packages (from dtale) (0.5.0)\n",
            "Requirement already satisfied: flask-ngrok in /usr/local/lib/python3.8/dist-packages (from dtale) (0.0.25)\n",
            "Requirement already satisfied: six in /usr/local/lib/python3.8/dist-packages (from dtale) (1.15.0)\n",
            "Requirement already satisfied: itsdangerous in /usr/local/lib/python3.8/dist-packages (from dtale) (1.1.0)\n",
            "Requirement already satisfied: pandas in /usr/local/lib/python3.8/dist-packages (from dtale) (1.3.5)\n",
            "Requirement already satisfied: future>=0.14.0 in /usr/local/lib/python3.8/dist-packages (from dtale) (0.16.0)\n",
            "Requirement already satisfied: cycler in /usr/local/lib/python3.8/dist-packages (from dtale) (0.11.0)\n",
            "Requirement already satisfied: squarify in /usr/local/lib/python3.8/dist-packages (from dtale) (0.4.3)\n",
            "Requirement already satisfied: dash>=2.0.0 in /usr/local/lib/python3.8/dist-packages (from dtale) (2.8.1)\n",
            "Requirement already satisfied: scipy==1.9.3 in /usr/local/lib/python3.8/dist-packages (from dtale) (1.9.3)\n",
            "Requirement already satisfied: requests in /usr/local/lib/python3.8/dist-packages (from dtale) (2.25.1)\n",
            "Requirement already satisfied: kaleido in /usr/local/lib/python3.8/dist-packages (from dtale) (0.2.1)\n",
            "Requirement already satisfied: Flask in /usr/local/lib/python3.8/dist-packages (from dtale) (1.1.4)\n",
            "Requirement already satisfied: xarray in /usr/local/lib/python3.8/dist-packages (from dtale) (2022.12.0)\n",
            "Requirement already satisfied: missingno<=0.4.2 in /usr/local/lib/python3.8/dist-packages (from dtale) (0.4.2)\n",
            "Requirement already satisfied: numpy in /usr/local/lib/python3.8/dist-packages (from dtale) (1.21.6)\n",
            "Requirement already satisfied: Flask-Compress in /usr/local/lib/python3.8/dist-packages (from dtale) (1.13)\n",
            "Requirement already satisfied: xlrd in /usr/local/lib/python3.8/dist-packages (from dtale) (1.2.0)\n",
            "Requirement already satisfied: et-xmlfile in /usr/local/lib/python3.8/dist-packages (from dtale) (1.1.0)\n",
            "Requirement already satisfied: plotly>=5.0.0 in /usr/local/lib/python3.8/dist-packages (from dtale) (5.5.0)\n",
            "Requirement already satisfied: scikit-learn in /usr/local/lib/python3.8/dist-packages (from dtale) (1.0.2)\n",
            "Requirement already satisfied: seaborn in /usr/local/lib/python3.8/dist-packages (from dtale) (0.11.2)\n",
            "Requirement already satisfied: statsmodels in /usr/local/lib/python3.8/dist-packages (from dtale) (0.13.5)\n",
            "Requirement already satisfied: fonttools>=4.22.0 in /usr/local/lib/python3.8/dist-packages (from matplotlib==3.6.0->dtale) (4.38.0)\n",
            "Requirement already satisfied: python-dateutil>=2.7 in /usr/local/lib/python3.8/dist-packages (from matplotlib==3.6.0->dtale) (2.8.2)\n",
            "Requirement already satisfied: packaging>=20.0 in /usr/local/lib/python3.8/dist-packages (from matplotlib==3.6.0->dtale) (23.0)\n",
            "Requirement already satisfied: contourpy>=1.0.1 in /usr/local/lib/python3.8/dist-packages (from matplotlib==3.6.0->dtale) (1.0.7)\n",
            "Requirement already satisfied: pillow>=6.2.0 in /usr/local/lib/python3.8/dist-packages (from matplotlib==3.6.0->dtale) (7.1.2)\n",
            "Requirement already satisfied: pyparsing>=2.2.1 in /usr/local/lib/python3.8/dist-packages (from matplotlib==3.6.0->dtale) (3.0.9)\n",
            "Requirement already satisfied: kiwisolver>=1.0.1 in /usr/local/lib/python3.8/dist-packages (from matplotlib==3.6.0->dtale) (1.4.4)\n",
            "Requirement already satisfied: dash-table==5.0.0 in /usr/local/lib/python3.8/dist-packages (from dash>=2.0.0->dtale) (5.0.0)\n",
            "Requirement already satisfied: dash-core-components==2.0.0 in /usr/local/lib/python3.8/dist-packages (from dash>=2.0.0->dtale) (2.0.0)\n",
            "Requirement already satisfied: dash-html-components==2.0.0 in /usr/local/lib/python3.8/dist-packages (from dash>=2.0.0->dtale) (2.0.0)\n",
            "Requirement already satisfied: Jinja2<3.0,>=2.10.1 in /usr/local/lib/python3.8/dist-packages (from Flask->dtale) (2.11.3)\n",
            "Requirement already satisfied: click<8.0,>=5.1 in /usr/local/lib/python3.8/dist-packages (from Flask->dtale) (7.1.2)\n",
            "Requirement already satisfied: Werkzeug<2.0,>=0.15 in /usr/local/lib/python3.8/dist-packages (from Flask->dtale) (1.0.1)\n",
            "Requirement already satisfied: tenacity>=6.2.0 in /usr/local/lib/python3.8/dist-packages (from plotly>=5.0.0->dtale) (8.1.0)\n",
            "Requirement already satisfied: brotli in /usr/local/lib/python3.8/dist-packages (from Flask-Compress->dtale) (1.0.9)\n",
            "Requirement already satisfied: pytz>=2017.3 in /usr/local/lib/python3.8/dist-packages (from pandas->dtale) (2022.7.1)\n",
            "Requirement already satisfied: idna<3,>=2.5 in /usr/local/lib/python3.8/dist-packages (from requests->dtale) (2.10)\n",
            "Requirement already satisfied: urllib3<1.27,>=1.21.1 in /usr/local/lib/python3.8/dist-packages (from requests->dtale) (1.24.3)\n",
            "Requirement already satisfied: chardet<5,>=3.0.2 in /usr/local/lib/python3.8/dist-packages (from requests->dtale) (4.0.0)\n",
            "Requirement already satisfied: threadpoolctl>=2.0.0 in /usr/local/lib/python3.8/dist-packages (from scikit-learn->dtale) (3.1.0)\n",
            "Requirement already satisfied: joblib>=0.11 in /usr/local/lib/python3.8/dist-packages (from scikit-learn->dtale) (1.2.0)\n",
            "Requirement already satisfied: patsy>=0.5.2 in /usr/local/lib/python3.8/dist-packages (from statsmodels->dtale) (0.5.3)\n",
            "Requirement already satisfied: MarkupSafe>=0.23 in /usr/local/lib/python3.8/dist-packages (from Jinja2<3.0,>=2.10.1->Flask->dtale) (2.0.1)\n"
          ]
        }
      ]
    },
    {
      "cell_type": "code",
      "source": [
        "# Actualizar statsmodels para evita un error al importar dtale\n",
        "! pip install statsmodels --upgrade"
      ],
      "metadata": {
        "colab": {
          "base_uri": "https://localhost:8080/"
        },
        "id": "rwuLagUHPLX3",
        "outputId": "0931f863-6065-43ee-82a4-c6a4b02b05b5"
      },
      "execution_count": 36,
      "outputs": [
        {
          "output_type": "stream",
          "name": "stdout",
          "text": [
            "Looking in indexes: https://pypi.org/simple, https://us-python.pkg.dev/colab-wheels/public/simple/\n",
            "Requirement already satisfied: statsmodels in /usr/local/lib/python3.8/dist-packages (0.13.5)\n",
            "Requirement already satisfied: scipy>=1.3 in /usr/local/lib/python3.8/dist-packages (from statsmodels) (1.9.3)\n",
            "Requirement already satisfied: packaging>=21.3 in /usr/local/lib/python3.8/dist-packages (from statsmodels) (23.0)\n",
            "Requirement already satisfied: numpy>=1.17 in /usr/local/lib/python3.8/dist-packages (from statsmodels) (1.21.6)\n",
            "Requirement already satisfied: pandas>=0.25 in /usr/local/lib/python3.8/dist-packages (from statsmodels) (1.3.5)\n",
            "Requirement already satisfied: patsy>=0.5.2 in /usr/local/lib/python3.8/dist-packages (from statsmodels) (0.5.3)\n",
            "Requirement already satisfied: pytz>=2017.3 in /usr/local/lib/python3.8/dist-packages (from pandas>=0.25->statsmodels) (2022.7.1)\n",
            "Requirement already satisfied: python-dateutil>=2.7.3 in /usr/local/lib/python3.8/dist-packages (from pandas>=0.25->statsmodels) (2.8.2)\n",
            "Requirement already satisfied: six in /usr/local/lib/python3.8/dist-packages (from patsy>=0.5.2->statsmodels) (1.15.0)\n"
          ]
        }
      ]
    },
    {
      "cell_type": "code",
      "execution_count": 37,
      "metadata": {
        "id": "I5T2MKTF8YOO"
      },
      "outputs": [],
      "source": [
        "import dtale\n",
        "import dtale.app as dtale_app\n",
        "\n",
        "dtale_app.USE_COLAB = True"
      ]
    },
    {
      "cell_type": "code",
      "source": [
        "import pandas as pd\n",
        "import numpy as np"
      ],
      "metadata": {
        "id": "GIAwGOL-3zsE"
      },
      "execution_count": 38,
      "outputs": []
    },
    {
      "cell_type": "code",
      "source": [
        "#Descargamos los datos al directorio /content que es donde está apuntando por defecto el Directorio de trabajo\n",
        "!wget --no-check-certificate 'https://drive.google.com/uc?export=download&id=1Y_fj29wRoTjlnRQGlQX00DFHZO_phZwv' -O 'melb_data.csv'"
      ],
      "metadata": {
        "colab": {
          "base_uri": "https://localhost:8080/"
        },
        "id": "SJ_sE44k2d-c",
        "outputId": "158adfb4-ce32-4880-b746-e8bc7ba1f939"
      },
      "execution_count": 39,
      "outputs": [
        {
          "output_type": "stream",
          "name": "stdout",
          "text": [
            "--2023-02-07 19:00:54--  https://drive.google.com/uc?export=download&id=1Y_fj29wRoTjlnRQGlQX00DFHZO_phZwv\n",
            "Resolving drive.google.com (drive.google.com)... 108.177.98.139, 108.177.98.138, 108.177.98.100, ...\n",
            "Connecting to drive.google.com (drive.google.com)|108.177.98.139|:443... connected.\n",
            "HTTP request sent, awaiting response... 303 See Other\n",
            "Location: https://doc-10-b0-docs.googleusercontent.com/docs/securesc/ha0ro937gcuc7l7deffksulhg5h7mbp1/6b4h4g1762ub1a7u1nj4sk2u0rlqfkpg/1675796400000/14644984037434537262/*/1Y_fj29wRoTjlnRQGlQX00DFHZO_phZwv?e=download&uuid=4d60a36f-d5bc-41b3-a596-928833e6edd1 [following]\n",
            "Warning: wildcards not supported in HTTP.\n",
            "--2023-02-07 19:00:54--  https://doc-10-b0-docs.googleusercontent.com/docs/securesc/ha0ro937gcuc7l7deffksulhg5h7mbp1/6b4h4g1762ub1a7u1nj4sk2u0rlqfkpg/1675796400000/14644984037434537262/*/1Y_fj29wRoTjlnRQGlQX00DFHZO_phZwv?e=download&uuid=4d60a36f-d5bc-41b3-a596-928833e6edd1\n",
            "Resolving doc-10-b0-docs.googleusercontent.com (doc-10-b0-docs.googleusercontent.com)... 74.125.142.132, 2607:f8b0:400e:c08::84\n",
            "Connecting to doc-10-b0-docs.googleusercontent.com (doc-10-b0-docs.googleusercontent.com)|74.125.142.132|:443... connected.\n",
            "HTTP request sent, awaiting response... 200 OK\n",
            "Length: 2780441 (2.7M) [text/csv]\n",
            "Saving to: ‘melb_data.csv’\n",
            "\n",
            "melb_data.csv       100%[===================>]   2.65M  --.-KB/s    in 0.02s   \n",
            "\n",
            "2023-02-07 19:00:55 (107 MB/s) - ‘melb_data.csv’ saved [2780441/2780441]\n",
            "\n"
          ]
        }
      ]
    },
    {
      "cell_type": "code",
      "source": [
        "#Leemos de nuevo los datos descargados al inicio del notebook\n",
        "data  = pd.read_csv('melb_data.csv')"
      ],
      "metadata": {
        "id": "jVCMJAXN3prR"
      },
      "execution_count": 40,
      "outputs": []
    },
    {
      "cell_type": "code",
      "source": [
        "dtale.show(data)"
      ],
      "metadata": {
        "colab": {
          "base_uri": "https://localhost:8080/",
          "height": 34
        },
        "id": "rNCEUQZm3i87",
        "outputId": "10ea4a7d-b178-45f3-a9c8-72f46f1b9fcd"
      },
      "execution_count": 41,
      "outputs": [
        {
          "output_type": "execute_result",
          "data": {
            "text/plain": [
              "https://apv7q66u4j-496ff2e9c6d22116-40000-colab.googleusercontent.com/dtale/main/1"
            ]
          },
          "metadata": {},
          "execution_count": 41
        }
      ]
    },
    {
      "cell_type": "markdown",
      "source": [
        "Siguiendo el enlace anterior se nos abre una nueva pestaña en el navegador con la interfaz visual de D-Tale. En dicha interfaz podremos interactuar con los datos, realizar operaciones como eliminar o renombrar columnas, cambiar el tipo de la variable que queramos y muchísimas opciones más.\n",
        "\n",
        "\n",
        "A continuación se muestra el ejemplo de un código copiado de la interfaz de D-Tale. Simplemente con ajustar el nombre del dataframe que contiene los datos se pueden obtener unas visualizaciones muy interesantes. "
      ],
      "metadata": {
        "id": "qHUZyWkI53f2"
      }
    },
    {
      "cell_type": "code",
      "source": [
        "# DISCLAIMER: 'df' refers to the data you passed in when calling 'dtale.show'\n",
        "df = data ##IMPORTANTE hacer esta asignación para que funcione el resto del código por defecto\n",
        "import pandas as pd\n",
        "\n",
        "if isinstance(df, (pd.DatetimeIndex, pd.MultiIndex)):\n",
        "\tdf = df.to_frame(index=False)\n",
        "\n",
        "# remove any pre-existing indices for ease of use in the D-Tale code, but this is not required\n",
        "df = df.reset_index().drop('index', axis=1, errors='ignore')\n",
        "df.columns = [str(c) for c in df.columns]  # update columns to strings in case they are numbers\n",
        "\n",
        "df = df.rename(columns={'Regionname': 'Region'})\n",
        "df = df[[c for c in df.columns if c not in ['Unnamed: 0']]]\n",
        "chart_data = pd.concat([\n",
        "\tdf['Region'],\n",
        "\tdf['Price'],\n",
        "], axis=1)\n",
        "chart_data = chart_data.sort_values(['Region'])\n",
        "chart_data = chart_data.rename(columns={'Region': 'x'})\n",
        "chart_data_mean = chart_data.groupby(['x'])[['Price']].mean()\n",
        "chart_data_mean.columns = ['Price|mean']\n",
        "chart_data = chart_data_mean.reset_index()\n",
        "chart_data = chart_data.dropna()\n",
        "\n",
        "import plotly.graph_objs as go\n",
        "\n",
        "charts = []\n",
        "charts.append(go.Bar(\n",
        "\tx=chart_data['x'],\n",
        "\ty=chart_data['Price|mean']\n",
        "))\n",
        "figure = go.Figure(data=charts, layout=go.Layout({\n",
        "    'barmode': 'group',\n",
        "    'legend': {'orientation': 'h'},\n",
        "    'title': {'text': 'Mean of Price by Region'},\n",
        "    'xaxis': {'title': {'text': 'Region'}},\n",
        "    'yaxis': {'title': {'text': 'Mean of Price'}, 'type': 'linear'}\n",
        "}))\n",
        "\n",
        "\n",
        "# If you're having trouble viewing your chart in your notebook try passing your 'chart' into this snippet:\n",
        "#\n",
        "#from plotly.offline import iplot, init_notebook_mode\n",
        "\n",
        "#init_notebook_mode(connected=True)\n",
        "#for chart in charts:\n",
        "#    chart.pop('id', None) # for some reason iplot does not like 'id'\n",
        "#iplot(figure)"
      ],
      "metadata": {
        "id": "spehAk3n3P1q"
      },
      "execution_count": 42,
      "outputs": []
    },
    {
      "cell_type": "code",
      "source": [
        "# Indicamos al programa que debe renderizar y mostrar el gráfico en colab\n",
        "figure.show(renderer=\"colab\")"
      ],
      "metadata": {
        "colab": {
          "base_uri": "https://localhost:8080/",
          "height": 542
        },
        "id": "quaPZ-jz35Eo",
        "outputId": "ab91c1ae-f09b-47be-e9f6-8afead79cbfa"
      },
      "execution_count": 43,
      "outputs": [
        {
          "output_type": "display_data",
          "data": {
            "text/html": [
              "<html>\n",
              "<head><meta charset=\"utf-8\" /></head>\n",
              "<body>\n",
              "    <div>            <script src=\"https://cdnjs.cloudflare.com/ajax/libs/mathjax/2.7.5/MathJax.js?config=TeX-AMS-MML_SVG\"></script><script type=\"text/javascript\">if (window.MathJax) {MathJax.Hub.Config({SVG: {font: \"STIX-Web\"}});}</script>                <script type=\"text/javascript\">window.PlotlyConfig = {MathJaxConfig: 'local'};</script>\n",
              "        <script src=\"https://cdn.plot.ly/plotly-2.8.3.min.js\"></script>                <div id=\"4ecb14d4-bbf8-4218-bf89-b7603a637dc4\" class=\"plotly-graph-div\" style=\"height:525px; width:100%;\"></div>            <script type=\"text/javascript\">                                    window.PLOTLYENV=window.PLOTLYENV || {};                                    if (document.getElementById(\"4ecb14d4-bbf8-4218-bf89-b7603a637dc4\")) {                    Plotly.newPlot(                        \"4ecb14d4-bbf8-4218-bf89-b7603a637dc4\",                        [{\"x\":[\"Eastern Metropolitan\",\"Eastern Victoria\",\"Northern Metropolitan\",\"Northern Victoria\",\"South-Eastern Metropolitan\",\"Southern Metropolitan\",\"Western Metropolitan\",\"Western Victoria\"],\"y\":[1100164.7834586466,698961.3076923077,863011.3412474091,603253.9682539683,890910.0588235294,1366560.8713542488,843960.6074093131,394125.0],\"type\":\"bar\"}],                        {\"barmode\":\"group\",\"legend\":{\"orientation\":\"h\"},\"title\":{\"text\":\"Mean of Price by Region\"},\"xaxis\":{\"title\":{\"text\":\"Region\"}},\"yaxis\":{\"title\":{\"text\":\"Mean of Price\"},\"type\":\"linear\"},\"template\":{\"data\":{\"bar\":[{\"error_x\":{\"color\":\"#2a3f5f\"},\"error_y\":{\"color\":\"#2a3f5f\"},\"marker\":{\"line\":{\"color\":\"#E5ECF6\",\"width\":0.5},\"pattern\":{\"fillmode\":\"overlay\",\"size\":10,\"solidity\":0.2}},\"type\":\"bar\"}],\"barpolar\":[{\"marker\":{\"line\":{\"color\":\"#E5ECF6\",\"width\":0.5},\"pattern\":{\"fillmode\":\"overlay\",\"size\":10,\"solidity\":0.2}},\"type\":\"barpolar\"}],\"carpet\":[{\"aaxis\":{\"endlinecolor\":\"#2a3f5f\",\"gridcolor\":\"white\",\"linecolor\":\"white\",\"minorgridcolor\":\"white\",\"startlinecolor\":\"#2a3f5f\"},\"baxis\":{\"endlinecolor\":\"#2a3f5f\",\"gridcolor\":\"white\",\"linecolor\":\"white\",\"minorgridcolor\":\"white\",\"startlinecolor\":\"#2a3f5f\"},\"type\":\"carpet\"}],\"choropleth\":[{\"colorbar\":{\"outlinewidth\":0,\"ticks\":\"\"},\"type\":\"choropleth\"}],\"contour\":[{\"colorbar\":{\"outlinewidth\":0,\"ticks\":\"\"},\"colorscale\":[[0.0,\"#0d0887\"],[0.1111111111111111,\"#46039f\"],[0.2222222222222222,\"#7201a8\"],[0.3333333333333333,\"#9c179e\"],[0.4444444444444444,\"#bd3786\"],[0.5555555555555556,\"#d8576b\"],[0.6666666666666666,\"#ed7953\"],[0.7777777777777778,\"#fb9f3a\"],[0.8888888888888888,\"#fdca26\"],[1.0,\"#f0f921\"]],\"type\":\"contour\"}],\"contourcarpet\":[{\"colorbar\":{\"outlinewidth\":0,\"ticks\":\"\"},\"type\":\"contourcarpet\"}],\"heatmap\":[{\"colorbar\":{\"outlinewidth\":0,\"ticks\":\"\"},\"colorscale\":[[0.0,\"#0d0887\"],[0.1111111111111111,\"#46039f\"],[0.2222222222222222,\"#7201a8\"],[0.3333333333333333,\"#9c179e\"],[0.4444444444444444,\"#bd3786\"],[0.5555555555555556,\"#d8576b\"],[0.6666666666666666,\"#ed7953\"],[0.7777777777777778,\"#fb9f3a\"],[0.8888888888888888,\"#fdca26\"],[1.0,\"#f0f921\"]],\"type\":\"heatmap\"}],\"heatmapgl\":[{\"colorbar\":{\"outlinewidth\":0,\"ticks\":\"\"},\"colorscale\":[[0.0,\"#0d0887\"],[0.1111111111111111,\"#46039f\"],[0.2222222222222222,\"#7201a8\"],[0.3333333333333333,\"#9c179e\"],[0.4444444444444444,\"#bd3786\"],[0.5555555555555556,\"#d8576b\"],[0.6666666666666666,\"#ed7953\"],[0.7777777777777778,\"#fb9f3a\"],[0.8888888888888888,\"#fdca26\"],[1.0,\"#f0f921\"]],\"type\":\"heatmapgl\"}],\"histogram\":[{\"marker\":{\"pattern\":{\"fillmode\":\"overlay\",\"size\":10,\"solidity\":0.2}},\"type\":\"histogram\"}],\"histogram2d\":[{\"colorbar\":{\"outlinewidth\":0,\"ticks\":\"\"},\"colorscale\":[[0.0,\"#0d0887\"],[0.1111111111111111,\"#46039f\"],[0.2222222222222222,\"#7201a8\"],[0.3333333333333333,\"#9c179e\"],[0.4444444444444444,\"#bd3786\"],[0.5555555555555556,\"#d8576b\"],[0.6666666666666666,\"#ed7953\"],[0.7777777777777778,\"#fb9f3a\"],[0.8888888888888888,\"#fdca26\"],[1.0,\"#f0f921\"]],\"type\":\"histogram2d\"}],\"histogram2dcontour\":[{\"colorbar\":{\"outlinewidth\":0,\"ticks\":\"\"},\"colorscale\":[[0.0,\"#0d0887\"],[0.1111111111111111,\"#46039f\"],[0.2222222222222222,\"#7201a8\"],[0.3333333333333333,\"#9c179e\"],[0.4444444444444444,\"#bd3786\"],[0.5555555555555556,\"#d8576b\"],[0.6666666666666666,\"#ed7953\"],[0.7777777777777778,\"#fb9f3a\"],[0.8888888888888888,\"#fdca26\"],[1.0,\"#f0f921\"]],\"type\":\"histogram2dcontour\"}],\"mesh3d\":[{\"colorbar\":{\"outlinewidth\":0,\"ticks\":\"\"},\"type\":\"mesh3d\"}],\"parcoords\":[{\"line\":{\"colorbar\":{\"outlinewidth\":0,\"ticks\":\"\"}},\"type\":\"parcoords\"}],\"pie\":[{\"automargin\":true,\"type\":\"pie\"}],\"scatter\":[{\"marker\":{\"colorbar\":{\"outlinewidth\":0,\"ticks\":\"\"}},\"type\":\"scatter\"}],\"scatter3d\":[{\"line\":{\"colorbar\":{\"outlinewidth\":0,\"ticks\":\"\"}},\"marker\":{\"colorbar\":{\"outlinewidth\":0,\"ticks\":\"\"}},\"type\":\"scatter3d\"}],\"scattercarpet\":[{\"marker\":{\"colorbar\":{\"outlinewidth\":0,\"ticks\":\"\"}},\"type\":\"scattercarpet\"}],\"scattergeo\":[{\"marker\":{\"colorbar\":{\"outlinewidth\":0,\"ticks\":\"\"}},\"type\":\"scattergeo\"}],\"scattergl\":[{\"marker\":{\"colorbar\":{\"outlinewidth\":0,\"ticks\":\"\"}},\"type\":\"scattergl\"}],\"scattermapbox\":[{\"marker\":{\"colorbar\":{\"outlinewidth\":0,\"ticks\":\"\"}},\"type\":\"scattermapbox\"}],\"scatterpolar\":[{\"marker\":{\"colorbar\":{\"outlinewidth\":0,\"ticks\":\"\"}},\"type\":\"scatterpolar\"}],\"scatterpolargl\":[{\"marker\":{\"colorbar\":{\"outlinewidth\":0,\"ticks\":\"\"}},\"type\":\"scatterpolargl\"}],\"scatterternary\":[{\"marker\":{\"colorbar\":{\"outlinewidth\":0,\"ticks\":\"\"}},\"type\":\"scatterternary\"}],\"surface\":[{\"colorbar\":{\"outlinewidth\":0,\"ticks\":\"\"},\"colorscale\":[[0.0,\"#0d0887\"],[0.1111111111111111,\"#46039f\"],[0.2222222222222222,\"#7201a8\"],[0.3333333333333333,\"#9c179e\"],[0.4444444444444444,\"#bd3786\"],[0.5555555555555556,\"#d8576b\"],[0.6666666666666666,\"#ed7953\"],[0.7777777777777778,\"#fb9f3a\"],[0.8888888888888888,\"#fdca26\"],[1.0,\"#f0f921\"]],\"type\":\"surface\"}],\"table\":[{\"cells\":{\"fill\":{\"color\":\"#EBF0F8\"},\"line\":{\"color\":\"white\"}},\"header\":{\"fill\":{\"color\":\"#C8D4E3\"},\"line\":{\"color\":\"white\"}},\"type\":\"table\"}]},\"layout\":{\"annotationdefaults\":{\"arrowcolor\":\"#2a3f5f\",\"arrowhead\":0,\"arrowwidth\":1},\"autotypenumbers\":\"strict\",\"coloraxis\":{\"colorbar\":{\"outlinewidth\":0,\"ticks\":\"\"}},\"colorscale\":{\"diverging\":[[0,\"#8e0152\"],[0.1,\"#c51b7d\"],[0.2,\"#de77ae\"],[0.3,\"#f1b6da\"],[0.4,\"#fde0ef\"],[0.5,\"#f7f7f7\"],[0.6,\"#e6f5d0\"],[0.7,\"#b8e186\"],[0.8,\"#7fbc41\"],[0.9,\"#4d9221\"],[1,\"#276419\"]],\"sequential\":[[0.0,\"#0d0887\"],[0.1111111111111111,\"#46039f\"],[0.2222222222222222,\"#7201a8\"],[0.3333333333333333,\"#9c179e\"],[0.4444444444444444,\"#bd3786\"],[0.5555555555555556,\"#d8576b\"],[0.6666666666666666,\"#ed7953\"],[0.7777777777777778,\"#fb9f3a\"],[0.8888888888888888,\"#fdca26\"],[1.0,\"#f0f921\"]],\"sequentialminus\":[[0.0,\"#0d0887\"],[0.1111111111111111,\"#46039f\"],[0.2222222222222222,\"#7201a8\"],[0.3333333333333333,\"#9c179e\"],[0.4444444444444444,\"#bd3786\"],[0.5555555555555556,\"#d8576b\"],[0.6666666666666666,\"#ed7953\"],[0.7777777777777778,\"#fb9f3a\"],[0.8888888888888888,\"#fdca26\"],[1.0,\"#f0f921\"]]},\"colorway\":[\"#636efa\",\"#EF553B\",\"#00cc96\",\"#ab63fa\",\"#FFA15A\",\"#19d3f3\",\"#FF6692\",\"#B6E880\",\"#FF97FF\",\"#FECB52\"],\"font\":{\"color\":\"#2a3f5f\"},\"geo\":{\"bgcolor\":\"white\",\"lakecolor\":\"white\",\"landcolor\":\"#E5ECF6\",\"showlakes\":true,\"showland\":true,\"subunitcolor\":\"white\"},\"hoverlabel\":{\"align\":\"left\"},\"hovermode\":\"closest\",\"mapbox\":{\"style\":\"light\"},\"paper_bgcolor\":\"white\",\"plot_bgcolor\":\"#E5ECF6\",\"polar\":{\"angularaxis\":{\"gridcolor\":\"white\",\"linecolor\":\"white\",\"ticks\":\"\"},\"bgcolor\":\"#E5ECF6\",\"radialaxis\":{\"gridcolor\":\"white\",\"linecolor\":\"white\",\"ticks\":\"\"}},\"scene\":{\"xaxis\":{\"backgroundcolor\":\"#E5ECF6\",\"gridcolor\":\"white\",\"gridwidth\":2,\"linecolor\":\"white\",\"showbackground\":true,\"ticks\":\"\",\"zerolinecolor\":\"white\"},\"yaxis\":{\"backgroundcolor\":\"#E5ECF6\",\"gridcolor\":\"white\",\"gridwidth\":2,\"linecolor\":\"white\",\"showbackground\":true,\"ticks\":\"\",\"zerolinecolor\":\"white\"},\"zaxis\":{\"backgroundcolor\":\"#E5ECF6\",\"gridcolor\":\"white\",\"gridwidth\":2,\"linecolor\":\"white\",\"showbackground\":true,\"ticks\":\"\",\"zerolinecolor\":\"white\"}},\"shapedefaults\":{\"line\":{\"color\":\"#2a3f5f\"}},\"ternary\":{\"aaxis\":{\"gridcolor\":\"white\",\"linecolor\":\"white\",\"ticks\":\"\"},\"baxis\":{\"gridcolor\":\"white\",\"linecolor\":\"white\",\"ticks\":\"\"},\"bgcolor\":\"#E5ECF6\",\"caxis\":{\"gridcolor\":\"white\",\"linecolor\":\"white\",\"ticks\":\"\"}},\"title\":{\"x\":0.05},\"xaxis\":{\"automargin\":true,\"gridcolor\":\"white\",\"linecolor\":\"white\",\"ticks\":\"\",\"title\":{\"standoff\":15},\"zerolinecolor\":\"white\",\"zerolinewidth\":2},\"yaxis\":{\"automargin\":true,\"gridcolor\":\"white\",\"linecolor\":\"white\",\"ticks\":\"\",\"title\":{\"standoff\":15},\"zerolinecolor\":\"white\",\"zerolinewidth\":2}}}},                        {\"responsive\": true}                    ).then(function(){\n",
              "                            \n",
              "var gd = document.getElementById('4ecb14d4-bbf8-4218-bf89-b7603a637dc4');\n",
              "var x = new MutationObserver(function (mutations, observer) {{\n",
              "        var display = window.getComputedStyle(gd).display;\n",
              "        if (!display || display === 'none') {{\n",
              "            console.log([gd, 'removed!']);\n",
              "            Plotly.purge(gd);\n",
              "            observer.disconnect();\n",
              "        }}\n",
              "}});\n",
              "\n",
              "// Listen for the removal of the full notebook cells\n",
              "var notebookContainer = gd.closest('#notebook-container');\n",
              "if (notebookContainer) {{\n",
              "    x.observe(notebookContainer, {childList: true});\n",
              "}}\n",
              "\n",
              "// Listen for the clearing of the current output cell\n",
              "var outputEl = gd.closest('.output');\n",
              "if (outputEl) {{\n",
              "    x.observe(outputEl, {childList: true});\n",
              "}}\n",
              "\n",
              "                        })                };                            </script>        </div>\n",
              "</body>\n",
              "</html>"
            ]
          },
          "metadata": {}
        }
      ]
    },
    {
      "cell_type": "markdown",
      "source": [
        "Documentación: https://dtale.readthedocs.io/en/latest/dtale.html\n",
        "\n",
        "Más información: https://towardsdatascience.com/d-tale-one-of-the-best-python-libraries-you-have-ever-seen-c2deecdfd2b"
      ],
      "metadata": {
        "id": "ZrgQbnqa4_T4"
      }
    },
    {
      "cell_type": "markdown",
      "source": [
        "## Ejercicio extra\n",
        "\n",
        "Os animo a estudiar otras funcionalidades no mostradas en clase de `dtale` y comentarlas en el foro de la clase. ¡Estoy seguro de que entre todos podemos sacar chispas a esta aplicación! 😃"
      ],
      "metadata": {
        "id": "1lJXexn-6q4D"
      }
    },
    {
      "cell_type": "code",
      "execution_count": null,
      "metadata": {
        "id": "KRWoC3LonYoP"
      },
      "outputs": [],
      "source": []
    }
  ],
  "metadata": {
    "kernelspec": {
      "display_name": "Python 3",
      "language": "python",
      "name": "python3"
    },
    "language_info": {
      "codemirror_mode": {
        "name": "ipython",
        "version": 3
      },
      "file_extension": ".py",
      "mimetype": "text/x-python",
      "name": "python",
      "nbconvert_exporter": "python",
      "pygments_lexer": "ipython3",
      "version": "3.7.6"
    },
    "toc": {
      "base_numbering": 1,
      "nav_menu": {},
      "number_sections": true,
      "sideBar": true,
      "skip_h1_title": false,
      "title_cell": "Table of Contents",
      "title_sidebar": "Contents",
      "toc_cell": false,
      "toc_position": {},
      "toc_section_display": true,
      "toc_window_display": true
    },
    "varInspector": {
      "cols": {
        "lenName": 16,
        "lenType": 16,
        "lenVar": 40
      },
      "kernels_config": {
        "python": {
          "delete_cmd_postfix": "",
          "delete_cmd_prefix": "del ",
          "library": "var_list.py",
          "varRefreshCmd": "print(var_dic_list())"
        },
        "r": {
          "delete_cmd_postfix": ") ",
          "delete_cmd_prefix": "rm(",
          "library": "var_list.r",
          "varRefreshCmd": "cat(var_dic_list()) "
        }
      },
      "types_to_exclude": [
        "module",
        "function",
        "builtin_function_or_method",
        "instance",
        "_Feature"
      ],
      "window_display": false
    },
    "colab": {
      "provenance": [],
      "toc_visible": true,
      "include_colab_link": true
    }
  },
  "nbformat": 4,
  "nbformat_minor": 0
}