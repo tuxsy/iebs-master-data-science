{
  "cells": [
    {
      "cell_type": "markdown",
      "metadata": {
        "id": "view-in-github",
        "colab_type": "text"
      },
      "source": [
        "<a href=\"https://colab.research.google.com/github/tuxsy/iebs-master-data-science/blob/main/m06/c1/softmax.ipynb\" target=\"_parent\"><img src=\"https://colab.research.google.com/assets/colab-badge.svg\" alt=\"Open In Colab\"/></a>"
      ]
    },
    {
      "cell_type": "markdown",
      "metadata": {
        "id": "oGa9D-ixIzkD"
      },
      "source": [
        "# Introducción.\n",
        "\n",
        "La regresión softmax es una generalización de la regresión logística que permite hacer **clasificaciones sobre más de dos categorías**. \n",
        "\n",
        "Recordemos que este tipo de regresión se basa en la **función softmax**, la cual sirve para obtener la probabilidad de que dicha observación pertenezca a la clase *c*:\n",
        "\n",
        "![softmax.png](data:image/png;base64,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)\n",
        "\n",
        "A la hora de entrenar el algoritmo, lo que se hace es ajustar la regresión *Sc(x)*, de forma que al aplicar la función softmax a la misma, obtengamos el menor número de errores posibles en la clasificación.\n",
        "\n",
        "![sofmax_2.png](data:image/png;base64,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)\n",
        "\n",
        "Para el desarrollo de este notebook vamos a seguir trabajando con el mismo conjunto de datos empleado para la Regresión Logística, con el objetivo de apreciar en mayor detalle este concepto de generalización a más de dos clases.\n",
        "\n",
        "Recordad que el conjunto de datos iris está compuesto de tres clases (Setosa, Versicolor y Virginica), pero para el caso de la Regresión Logística tuvimos que adaptarlo a un problema binario. Esta restricción desaparece al emplear la Regresión Softmax."
      ]
    },
    {
      "cell_type": "code",
      "execution_count": 1,
      "metadata": {
        "id": "bJGsCMN5Izkb"
      },
      "outputs": [],
      "source": [
        "%matplotlib inline\n",
        "import matplotlib.pyplot as plt\n",
        "import numpy as np\n",
        "\n",
        "import warnings\n",
        "warnings.filterwarnings(action=\"ignore\", message=\"^internal gelsd\")\n"
      ]
    },
    {
      "cell_type": "markdown",
      "source": [
        "Recordamos que en el formato original, el iris dataset es un diccionario que permite acceder a diferente información del mismo a través de sus claves."
      ],
      "metadata": {
        "id": "TXj_3k7tMDZT"
      }
    },
    {
      "cell_type": "code",
      "execution_count": 2,
      "metadata": {
        "colab": {
          "base_uri": "https://localhost:8080/"
        },
        "id": "0H69uSspIzkw",
        "outputId": "02fef439-8daa-4234-a6ff-0c62d0ba3a7a"
      },
      "outputs": [
        {
          "output_type": "execute_result",
          "data": {
            "text/plain": [
              "['data',\n",
              " 'target',\n",
              " 'frame',\n",
              " 'target_names',\n",
              " 'DESCR',\n",
              " 'feature_names',\n",
              " 'filename',\n",
              " 'data_module']"
            ]
          },
          "metadata": {},
          "execution_count": 2
        }
      ],
      "source": [
        "# Importamos el data set iris\n",
        "from sklearn import datasets\n",
        "iris = datasets.load_iris()\n",
        "#iris es un diccionario, veamos sus claves\n",
        "list(iris.keys())"
      ]
    },
    {
      "cell_type": "markdown",
      "source": [
        "#Representación de la frontera de decisión"
      ],
      "metadata": {
        "id": "ylMSo1qlf2AA"
      }
    },
    {
      "cell_type": "markdown",
      "metadata": {
        "id": "CQD5M0lIIzlT"
      },
      "source": [
        "Vamos a hacer ahora una regresión softmax, pero quedándonos solo con *dos atributos* con el único propósito de facilitar la visualización de la frontera de decisión."
      ]
    },
    {
      "cell_type": "code",
      "execution_count": 3,
      "metadata": {
        "id": "fk2gweZJIzlW"
      },
      "outputs": [],
      "source": [
        "X = iris[\"data\"][:, (2, 3)]  # petal length, petal width\n",
        "y = iris[\"target\"]"
      ]
    },
    {
      "cell_type": "code",
      "source": [
        "from sklearn.linear_model import LogisticRegression\n",
        "softmax_reg = LogisticRegression(multi_class=\"multinomial\",solver=\"lbfgs\", C=10, random_state=42)\n",
        "softmax_reg.fit(X, y)"
      ],
      "metadata": {
        "colab": {
          "base_uri": "https://localhost:8080/"
        },
        "id": "OL0rIAVsOJtZ",
        "outputId": "f5488e66-ffd6-41b6-d455-22a86727167f"
      },
      "execution_count": 4,
      "outputs": [
        {
          "output_type": "execute_result",
          "data": {
            "text/plain": [
              "LogisticRegression(C=10, multi_class='multinomial', random_state=42)"
            ]
          },
          "metadata": {},
          "execution_count": 4
        }
      ]
    },
    {
      "cell_type": "markdown",
      "metadata": {
        "id": "_0Jb81RLIzlZ"
      },
      "source": [
        "Hagamos ahora un gráfico sobre cómo queda la frontera de clasificación. \n",
        "\n",
        "*NOTA:* El objetivo de esta visualización es que el alumno sea capaz de distinguir la comprender la influencia de la frontera de decisión y no es necesario que se detenga en el código que lo genera. Es por ello, que intencionadamente se ha ocultado el código con el que se obtiene."
      ]
    },
    {
      "cell_type": "code",
      "execution_count": 5,
      "metadata": {
        "colab": {
          "base_uri": "https://localhost:8080/",
          "height": 287
        },
        "id": "odC4BG32Izlb",
        "outputId": "583264b3-826a-4740-f7be-25c4c98cc068"
      },
      "outputs": [
        {
          "output_type": "display_data",
          "data": {
            "text/plain": [
              "<Figure size 720x288 with 1 Axes>"
            ],
            "image/png": "[encoded data removed]"
          },
          "metadata": {
            "needs_background": "light"
          }
        }
      ],
      "source": [
        "#@title\n",
        "\n",
        "#Inicialmente generamos unos datos sintéticos que nos servirán para representar las delimitaciones de cada conjunto\n",
        "x0, x1 = np.meshgrid(\n",
        "        np.linspace(0, 8, 500).reshape(-1, 1), # -1 -> El valor es inferido de la longitud del array y el resto de dimensiones. En este casi lo convertimos a vector columna\n",
        "        np.linspace(0, 3.5, 200).reshape(-1, 1),\n",
        "    )\n",
        "\n",
        "#x0 -> matriz en la que cada fila contiene 500 valores igualmente distribuidos entre 0 y 8\n",
        "#x1 -> matriz en la que cada columna contiene 200 valores igualmente distribuidos entre 0 y 3.5\n",
        "\n",
        "#Creamos el np.array con las observaciones sinteticas que servirán para obtener las predicciones\n",
        "X_new = np.c_[x0.ravel(), x1.ravel()] #.ravel() -> Devuelve un array aplanado contiguo\n",
        "\n",
        "#Obtenemos las predicciones para los datos generados sintéticamente\n",
        "y_proba = softmax_reg.predict_proba(X_new) #probabilidades\n",
        "y_predict = softmax_reg.predict(X_new)     #predicción\n",
        "\n",
        "zz1 = y_proba[:, 1].reshape(x0.shape)\n",
        "zz = y_predict.reshape(x0.shape)\n",
        "\n",
        "plt.figure(figsize=(10, 4))\n",
        "plt.plot(X[y==2, 0], X[y==2, 1], \"g^\", label=\"Iris virginica\")\n",
        "plt.plot(X[y==1, 0], X[y==1, 1], \"bs\", label=\"Iris versicolor\")\n",
        "plt.plot(X[y==0, 0], X[y==0, 1], \"yo\", label=\"Iris setosa\")\n",
        "\n",
        "from matplotlib.colors import ListedColormap\n",
        "custom_cmap = ListedColormap(['#fafab0','#9898ff','#a0faa0'])\n",
        "\n",
        "plt.contourf(x0, x1, zz, cmap=custom_cmap)\n",
        "contour = plt.contour(x0, x1, zz1, cmap=plt.cm.brg)\n",
        "plt.clabel(contour, inline=1, fontsize=12)\n",
        "plt.xlabel(\"Petal length\", fontsize=14)\n",
        "plt.ylabel(\"Petal width\", fontsize=14)\n",
        "plt.legend(loc=\"center left\", fontsize=14)\n",
        "plt.axis([0, 7, 0, 3.5])\n",
        "plt.show()\n"
      ]
    },
    {
      "cell_type": "markdown",
      "metadata": {
        "id": "BuWG9RhlIzle"
      },
      "source": [
        "En la gráfica anterior podemos observar la frontera de deción entre las tres clases para las variables *petal_width* y *petal_length*. El principal motivo por el que se ha decidido realizar la regresión con solo dos variables independientes ha sido el de poder representar la frontera de decisión en un gráfico de 2 dimensiones. \n",
        "\n",
        "Una vez hecho esto, y para continuar con el análisis de manera completa, vamos a volver a emplear las cuatro variables explicativas.\n",
        "\n",
        "\n",
        "\n"
      ]
    },
    {
      "cell_type": "markdown",
      "source": [
        "# Classificación con regresión softmax"
      ],
      "metadata": {
        "id": "b3Ocu8oHnJSX"
      }
    },
    {
      "cell_type": "markdown",
      "source": [
        "En `scikit-learn` la **regresión softmax** se implementa usando la misma clase que la regresión logística, `LogisticRegression()`, pero hay que tener en cuenta los siguientes ajustes:\n",
        "\n",
        "*   Es necesario fijar el parámetro `multi_class=‘multinomial’`, para indicar a la función que se trata de un problema de más de dos clases. \n",
        "*   Hay que seleccionar un solver de optimización compatible con softmax. Opciones: *‘newton-cg’, ‘sag’, ‘saga’ y ‘lbfgs’*  \n"
      ],
      "metadata": {
        "id": "avjQT8WLm-7-"
      }
    },
    {
      "cell_type": "code",
      "execution_count": 6,
      "metadata": {
        "id": "yA2E8pFdIzle"
      },
      "outputs": [],
      "source": [
        "X = iris[\"data\"][:,:]\n",
        "y = iris[\"target\"]"
      ]
    },
    {
      "cell_type": "code",
      "execution_count": 7,
      "metadata": {
        "colab": {
          "base_uri": "https://localhost:8080/"
        },
        "id": "-fQB6uVsIzlf",
        "outputId": "ebe22a16-677b-4c80-9df7-d75d4a0abb8a"
      },
      "outputs": [
        {
          "output_type": "execute_result",
          "data": {
            "text/plain": [
              "(array([0, 1, 2]), array([50, 50, 50]))"
            ]
          },
          "metadata": {},
          "execution_count": 7
        }
      ],
      "source": [
        "np.unique(y, return_counts=True) # Tenemos 50 observaciones de cada clase -> dataset balanceado"
      ]
    },
    {
      "cell_type": "code",
      "execution_count": 8,
      "metadata": {
        "id": "isha7onwIzlh"
      },
      "outputs": [],
      "source": [
        "# Dividimos el conjunto en 75% train y 25% test\n",
        "from sklearn.model_selection import train_test_split\n",
        "X_train, X_test, y_train, y_test = train_test_split(X, y, test_size = 0.25, random_state = 0)"
      ]
    },
    {
      "cell_type": "code",
      "execution_count": 9,
      "metadata": {
        "id": "idi_7jWQIzlj"
      },
      "outputs": [],
      "source": [
        "# Estandarizamos las variables de X\n",
        "from sklearn.preprocessing import StandardScaler\n",
        "sc = StandardScaler()\n",
        "X_train = sc.fit_transform(X_train)\n",
        "X_test = sc.transform(X_test)"
      ]
    },
    {
      "cell_type": "code",
      "execution_count": 10,
      "metadata": {
        "colab": {
          "base_uri": "https://localhost:8080/"
        },
        "id": "x2FBQC-dIzlk",
        "outputId": "136b77a3-6f9c-4547-eb70-0237b55bad78"
      },
      "outputs": [
        {
          "output_type": "execute_result",
          "data": {
            "text/plain": [
              "LogisticRegression(multi_class='multinomial', random_state=0)"
            ]
          },
          "metadata": {},
          "execution_count": 10
        }
      ],
      "source": [
        "# Ajustamos el conjunto de entrenamiento\n",
        "from sklearn.linear_model import LogisticRegression\n",
        "classifier = LogisticRegression(random_state = 0, solver='lbfgs', multi_class='multinomial')\n",
        "classifier.fit(X_train, y_train)"
      ]
    },
    {
      "cell_type": "code",
      "execution_count": 16,
      "metadata": {
        "id": "1nSTzndsIzlm",
        "colab": {
          "base_uri": "https://localhost:8080/"
        },
        "outputId": "6f4b9967-7f73-4a83-be70-6edad089cb49"
      },
      "outputs": [
        {
          "output_type": "stream",
          "name": "stdout",
          "text": [
            "y_pred: [2 1 0 2 0]\n",
            "probs_y: [[1.44000190e-04 3.10229631e-02 9.68833037e-01]\n",
            " [6.10260406e-03 9.51779893e-01 4.21175031e-02]\n",
            " [9.95829257e-01 4.17068031e-03 6.24341984e-08]\n",
            " [2.63165563e-05 8.16815452e-02 9.18292138e-01]\n",
            " [9.76054237e-01 2.39449962e-02 7.66759367e-07]]\n"
          ]
        }
      ],
      "source": [
        "# Predicción de los datos test\n",
        "y_pred = classifier.predict(X_test)\n",
        "print(\"y_pred:\", y_pred[:5])\n",
        "# Predicción de las probabiliades\n",
        "probs_y=classifier.predict_proba(X_test)\n",
        "print(\"probs_y:\", probs_y[:5])"
      ]
    },
    {
      "cell_type": "markdown",
      "source": [
        "Obtenemos la probabilidades estimadas de pertenecer a cada una de las clases para una observación en concreto de X_test y la predicción final."
      ],
      "metadata": {
        "id": "oXcTSEsMl4rp"
      }
    },
    {
      "cell_type": "code",
      "source": [
        "print(\"Valor de los atributos: \", X_test[0])\n",
        "print(\"Valor de las probabilidades para cada clase: \",classifier.predict_proba(X_test[[0]]))\n",
        "print(\"Predicción del modelo softmax: \", classifier.predict(X_test[[0]]))"
      ],
      "metadata": {
        "colab": {
          "base_uri": "https://localhost:8080/"
        },
        "id": "VGiVmwwglbjf",
        "outputId": "1736058f-699d-4bc0-84bd-874200e598cc"
      },
      "execution_count": 12,
      "outputs": [
        {
          "output_type": "stream",
          "name": "stdout",
          "text": [
            "Valor de los atributos:  [-0.09984503 -0.57982483  0.72717965  1.51271377]\n",
            "Valor de las probabilidades para cada clase:  [[1.44000190e-04 3.10229631e-02 9.68833037e-01]]\n",
            "Predicción del modelo softmax:  [2]\n"
          ]
        }
      ]
    },
    {
      "cell_type": "markdown",
      "source": [
        "A continuación obtenemos el accuracy del modelo y la matriz de confusión."
      ],
      "metadata": {
        "id": "OyHKIUc7mwND"
      }
    },
    {
      "cell_type": "code",
      "execution_count": 13,
      "metadata": {
        "colab": {
          "base_uri": "https://localhost:8080/"
        },
        "id": "xcLwT8DdIzlo",
        "outputId": "160d25f0-77db-49f5-96fb-f9413c25e36c"
      },
      "outputs": [
        {
          "output_type": "execute_result",
          "data": {
            "text/plain": [
              "0.9736842105263158"
            ]
          },
          "metadata": {},
          "execution_count": 13
        }
      ],
      "source": [
        "classifier.score(X_test,y_test)"
      ]
    },
    {
      "cell_type": "code",
      "execution_count": 14,
      "metadata": {
        "colab": {
          "base_uri": "https://localhost:8080/"
        },
        "id": "D0iO2FC8Izlp",
        "outputId": "be4fe08e-be3c-4f1d-bf43-af8c8b57f03c"
      },
      "outputs": [
        {
          "output_type": "execute_result",
          "data": {
            "text/plain": [
              "array([[13,  0,  0],\n",
              "       [ 0, 15,  1],\n",
              "       [ 0,  0,  9]])"
            ]
          },
          "metadata": {},
          "execution_count": 14
        }
      ],
      "source": [
        "# Matriz de confusión\n",
        "from sklearn.metrics import confusion_matrix\n",
        "confusion_matrix(y_test, y_pred)"
      ]
    },
    {
      "cell_type": "markdown",
      "source": [
        "Vemos que el clasificador solo se confunde en una observación, por lo que su rendimiento es muy adecuado (accuracy = 97%)"
      ],
      "metadata": {
        "id": "ywcBxH9sfkRz"
      }
    }
  ],
  "metadata": {
    "kernelspec": {
      "display_name": "Python 3 (ipykernel)",
      "language": "python",
      "name": "python3"
    },
    "language_info": {
      "codemirror_mode": {
        "name": "ipython",
        "version": 3
      },
      "file_extension": ".py",
      "mimetype": "text/x-python",
      "name": "python",
      "nbconvert_exporter": "python",
      "pygments_lexer": "ipython3",
      "version": "3.9.10"
    },
    "toc": {
      "base_numbering": 1,
      "nav_menu": {},
      "number_sections": true,
      "sideBar": true,
      "skip_h1_title": false,
      "title_cell": "Table of Contents",
      "title_sidebar": "Contents",
      "toc_cell": false,
      "toc_position": {},
      "toc_section_display": true,
      "toc_window_display": true
    },
    "varInspector": {
      "cols": {
        "lenName": 16,
        "lenType": 16,
        "lenVar": 40
      },
      "kernels_config": {
        "python": {
          "delete_cmd_postfix": "",
          "delete_cmd_prefix": "del ",
          "library": "var_list.py",
          "varRefreshCmd": "print(var_dic_list())"
        },
        "r": {
          "delete_cmd_postfix": ") ",
          "delete_cmd_prefix": "rm(",
          "library": "var_list.r",
          "varRefreshCmd": "cat(var_dic_list()) "
        }
      },
      "types_to_exclude": [
        "module",
        "function",
        "builtin_function_or_method",
        "instance",
        "_Feature"
      ],
      "window_display": false
    },
    "colab": {
      "provenance": [],
      "include_colab_link": true
    }
  },
  "nbformat": 4,
  "nbformat_minor": 0
}