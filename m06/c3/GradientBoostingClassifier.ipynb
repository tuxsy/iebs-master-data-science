{
  "cells": [
    {
      "cell_type": "markdown",
      "metadata": {
        "id": "view-in-github",
        "colab_type": "text"
      },
      "source": [
        "<a href=\"https://colab.research.google.com/github/tuxsy/iebs-master-data-science/blob/main/m06/c3/GradientBoostingClassifier.ipynb\" target=\"_parent\"><img src=\"https://colab.research.google.com/assets/colab-badge.svg\" alt=\"Open In Colab\"/></a>"
      ]
    },
    {
      "cell_type": "markdown",
      "metadata": {
        "id": "3wkQBmGKK6tm"
      },
      "source": [
        "#Introducción"
      ]
    },
    {
      "cell_type": "markdown",
      "metadata": {
        "id": "_ubFa4mTK6tp"
      },
      "source": [
        "En este notebook, vamos a realizar un modelo de tipo `GradientBoostingClasifier` utilizando para ello un fichero de Kaggle que lo podemos encontrar en este este enlace:\n",
        "\n",
        "https://www.kaggle.com/datasets/lodetomasi1995/income-classification\n",
        "\n",
        "Para ello, en primer lugar importamos los módulos que nos van a ser necesarios para el desarrollo del trabajo. "
      ]
    },
    {
      "cell_type": "code",
      "execution_count": 1,
      "metadata": {
        "id": "hOW57zFaK6tr"
      },
      "outputs": [],
      "source": [
        "from sklearn.ensemble import GradientBoostingClassifier\n",
        "import numpy as np\n",
        "import pandas as pd\n",
        "from sklearn.preprocessing import StandardScaler\n",
        "from sklearn.model_selection import train_test_split\n",
        "from sklearn.metrics import accuracy_score, confusion_matrix\n",
        "from sklearn import preprocessing\n",
        "import warnings\n",
        "warnings.filterwarnings(\"ignore\")"
      ]
    },
    {
      "cell_type": "markdown",
      "source": [
        "##Opción descargar datos de Google Drive"
      ],
      "metadata": {
        "id": "73QdkJ11QXe3"
      }
    },
    {
      "cell_type": "code",
      "source": [
        "##https://drive.google.com/file/d/1VWCqT2W9jr-eaYVEnlvnLLE4SKyv4cRy/view?usp=sharing\n",
        "#Descargamos los ficheros de Google Drive\n",
        "!wget --no-check-certificate 'https://drive.google.com/uc?export=download&id=1VWCqT2W9jr-eaYVEnlvnLLE4SKyv4cRy' -O 'income_evaluation.csv'\n"
      ],
      "metadata": {
        "colab": {
          "base_uri": "https://localhost:8080/"
        },
        "id": "w-tOuMAIPphC",
        "outputId": "2d9a1d3a-839d-40b6-8104-1b451c58c289"
      },
      "execution_count": 2,
      "outputs": [
        {
          "output_type": "stream",
          "name": "stdout",
          "text": [
            "--2023-02-21 09:05:11--  https://drive.google.com/uc?export=download&id=1VWCqT2W9jr-eaYVEnlvnLLE4SKyv4cRy\n",
            "Resolving drive.google.com (drive.google.com)... 74.125.142.101, 74.125.142.139, 74.125.142.138, ...\n",
            "Connecting to drive.google.com (drive.google.com)|74.125.142.101|:443... connected.\n",
            "HTTP request sent, awaiting response... 303 See Other\n",
            "Location: https://doc-10-b0-docs.googleusercontent.com/docs/securesc/ha0ro937gcuc7l7deffksulhg5h7mbp1/rv7ksijq822q0daesvfdtsmtg7g8njun/1676970300000/14644984037434537262/*/1VWCqT2W9jr-eaYVEnlvnLLE4SKyv4cRy?e=download&uuid=6eab976a-937a-421d-8c7f-20e0b79ca8b6 [following]\n",
            "Warning: wildcards not supported in HTTP.\n",
            "--2023-02-21 09:05:13--  https://doc-10-b0-docs.googleusercontent.com/docs/securesc/ha0ro937gcuc7l7deffksulhg5h7mbp1/rv7ksijq822q0daesvfdtsmtg7g8njun/1676970300000/14644984037434537262/*/1VWCqT2W9jr-eaYVEnlvnLLE4SKyv4cRy?e=download&uuid=6eab976a-937a-421d-8c7f-20e0b79ca8b6\n",
            "Resolving doc-10-b0-docs.googleusercontent.com (doc-10-b0-docs.googleusercontent.com)... 74.125.142.132, 2607:f8b0:400e:c08::84\n",
            "Connecting to doc-10-b0-docs.googleusercontent.com (doc-10-b0-docs.googleusercontent.com)|74.125.142.132|:443... connected.\n",
            "HTTP request sent, awaiting response... 200 OK\n",
            "Length: 3811669 (3.6M) [text/csv]\n",
            "Saving to: ‘income_evaluation.csv’\n",
            "\n",
            "income_evaluation.c 100%[===================>]   3.63M  --.-KB/s    in 0.03s   \n",
            "\n",
            "2023-02-21 09:05:14 (122 MB/s) - ‘income_evaluation.csv’ saved [3811669/3811669]\n",
            "\n"
          ]
        }
      ]
    },
    {
      "cell_type": "markdown",
      "source": [
        "##Opción de descargar datos con Kaggle\n",
        "\n",
        "Otra opción sería descargando los datos directamente de la API de Kaggle, pero para ello tendríamos que crearnos una cuenta en Kaggle, generar una clave (*Account > API > Create New API Token*) y subir el archivo *kaggle.json* resultante a nuestra cuenta de Google Drive.\n",
        "\n",
        "A continuación incluyo un ejemplo de cómo se haría, aunque no lo vamos a emplear para este laboratorio."
      ],
      "metadata": {
        "id": "jphd4f9JQhn-"
      }
    },
    {
      "cell_type": "code",
      "source": [
        "from google.colab import drive\n",
        "drive.mount('/content/drive')"
      ],
      "metadata": {
        "colab": {
          "base_uri": "https://localhost:8080/"
        },
        "id": "Hh2vomj3QlWu",
        "outputId": "5d113789-a802-4456-8a33-b8206fc1993e"
      },
      "execution_count": null,
      "outputs": [
        {
          "output_type": "stream",
          "name": "stdout",
          "text": [
            "Mounted at /content/drive\n"
          ]
        }
      ]
    },
    {
      "cell_type": "code",
      "source": [
        "! pip install kaggle\n",
        "! mkdir ~/.kaggle\n",
        "! cp /content/drive/MyDrive/Kaggle/kaggle.json ~/.kaggle/kaggle.json\n",
        "! chmod 600 ~/.kaggle/kaggle.json\n",
        "#Buscamos la referencia al dataset que nos interesa\n",
        "!kaggle datasets list -s income-classification"
      ],
      "metadata": {
        "colab": {
          "base_uri": "https://localhost:8080/"
        },
        "id": "QuUMb8YJQlKI",
        "outputId": "fb48c270-241c-4e86-d31b-5d1494023c66"
      },
      "execution_count": null,
      "outputs": [
        {
          "output_type": "stream",
          "name": "stdout",
          "text": [
            "Looking in indexes: https://pypi.org/simple, https://us-python.pkg.dev/colab-wheels/public/simple/\n",
            "Requirement already satisfied: kaggle in /usr/local/lib/python3.7/dist-packages (1.5.12)\n",
            "Requirement already satisfied: six>=1.10 in /usr/local/lib/python3.7/dist-packages (from kaggle) (1.15.0)\n",
            "Requirement already satisfied: python-slugify in /usr/local/lib/python3.7/dist-packages (from kaggle) (6.1.2)\n",
            "Requirement already satisfied: urllib3 in /usr/local/lib/python3.7/dist-packages (from kaggle) (1.24.3)\n",
            "Requirement already satisfied: python-dateutil in /usr/local/lib/python3.7/dist-packages (from kaggle) (2.8.2)\n",
            "Requirement already satisfied: tqdm in /usr/local/lib/python3.7/dist-packages (from kaggle) (4.64.0)\n",
            "Requirement already satisfied: requests in /usr/local/lib/python3.7/dist-packages (from kaggle) (2.23.0)\n",
            "Requirement already satisfied: certifi in /usr/local/lib/python3.7/dist-packages (from kaggle) (2022.5.18.1)\n",
            "Requirement already satisfied: text-unidecode>=1.3 in /usr/local/lib/python3.7/dist-packages (from python-slugify->kaggle) (1.3)\n",
            "Requirement already satisfied: chardet<4,>=3.0.2 in /usr/local/lib/python3.7/dist-packages (from requests->kaggle) (3.0.4)\n",
            "Requirement already satisfied: idna<3,>=2.5 in /usr/local/lib/python3.7/dist-packages (from requests->kaggle) (2.10)\n",
            "mkdir: cannot create directory ‘/root/.kaggle’: File exists\n",
            "ref                                                          title                                          size  lastUpdated          downloadCount  voteCount  usabilityRating  \n",
            "-----------------------------------------------------------  --------------------------------------------  -----  -------------------  -------------  ---------  ---------------  \n",
            "lodetomasi1995/income-classification                         Income classification                         459KB  2019-03-26 13:14:12          10905        153  0.5294118        \n",
            "vardhansiramdasu/income                                      income classification                         319KB  2021-03-11 09:51:33            313         12  0.7647059        \n",
            "grosvenpaul/family-income-and-expenditure                    Filipino Family Income and Expenditure          4MB  2017-10-05 08:53:26           7248        145  0.7058824        \n",
            "rashikrahmanpritom/heart-attack-analysis-prediction-dataset  Heart Attack Analysis & Prediction Dataset      4KB  2021-03-22 11:40:59          80061       2460  1.0              \n",
            "yasserh/loan-default-dataset                                 Loan Default Dataset                            5MB  2022-01-28 16:51:26           3380         75  1.0              \n",
            "ruchi798/malnutrition-across-the-globe                       Malnutrition across the globe                  79KB  2020-05-25 09:51:45           4565        178  1.0              \n",
            "rikdifos/credit-card-approval-prediction                     Credit Card Approval Prediction                 5MB  2020-03-24 10:04:48          30465        501  1.0              \n",
            "itsmesunil/bank-loan-modelling                               Bank_Loan_modelling                           331KB  2018-08-29 15:44:16          13434        158  0.7647059        \n",
            "ninzaami/loan-predication                                    Loan Predication                                8KB  2018-03-11 10:23:38          10081         91  0.64705884       \n",
            "muonneutrino/us-census-demographic-data                      US Census Demographic Data                     11MB  2019-03-03 23:46:15          21297        308  0.85294116       \n",
            "jahnveenarang/cvdcvd-vd                                      Ad Click Prediction - Classification Problem    3KB  2021-07-04 11:10:08           1145         25  0.7647059        \n",
            "ayessa/salary-prediction-classification                      Salary Prediction Classification              460KB  2022-04-18 12:17:00           3274         52  0.7647059        \n",
            "vbookshelf/rice-leaf-diseases                                Rice Leaf Diseases Dataset                     37MB  2020-02-21 01:35:02           4313         92  0.625            \n",
            "taniaj/world-bank-country-and-lending-groups                 World Bank Country and Lending Groups           3KB  2019-11-17 16:01:59            303         13  1.0              \n",
            "mastmustu/income                                             Income Dataset                                590KB  2019-04-18 13:56:51           6178         64  1.0              \n",
            "krantiswalke/bank-personal-loan-modelling                    Bank_Personal_Loan_Modelling                   61KB  2020-04-17 17:02:39           1789         32  0.64705884       \n",
            "agileteam/bigdatacertificationkr                             Big Data Certification KR                      15KB  2021-11-29 23:14:03           3185        406  0.7058824        \n",
            "jinbonnie/condominium-comparable-rental-income-in-nyc        Condominium Comparable Rental Income in NYC   740KB  2020-10-30 04:39:16            202         20  1.0              \n",
            "vipin20/loan-application-data                                Loan Application Data                          10KB  2021-07-06 13:31:23            791         25  0.85294116       \n",
            "prakharrathi25/banking-dataset-marketing-targets             Banking Dataset - Marketing Targets           576KB  2020-10-19 05:29:17          11747        129  0.9117647        \n"
          ]
        }
      ]
    },
    {
      "cell_type": "code",
      "source": [
        "! kaggle datasets download lodetomasi1995/income-classification\n",
        "! unzip income-classification.zip"
      ],
      "metadata": {
        "colab": {
          "base_uri": "https://localhost:8080/"
        },
        "id": "QQMNfB1cQsJ1",
        "outputId": "d05de7b4-dbc7-4638-e044-f0fac674a5a4"
      },
      "execution_count": null,
      "outputs": [
        {
          "output_type": "stream",
          "name": "stdout",
          "text": [
            "income-classification.zip: Skipping, found more recently modified local copy (use --force to force download)\n",
            "Archive:  income-classification.zip\n",
            "replace income_evaluation.csv? [y]es, [n]o, [A]ll, [N]one, [r]ename: y\n",
            "  inflating: income_evaluation.csv   \n"
          ]
        }
      ]
    },
    {
      "cell_type": "markdown",
      "source": [
        "##Opción cargar los datos de manera manual"
      ],
      "metadata": {
        "id": "7qPIy9lPSU_M"
      }
    },
    {
      "cell_type": "markdown",
      "source": [
        "Descargamos los datos de [este enlace](https://www.kaggle.com/datasets/lodetomasi1995/income-classification) a nuestro ordenador. Extraemos los ficheros correspondientes del archivo .zip descargado. Y subimos los ficheros .csv mediante la opción mostrada en la imagen.\n",
        "\n",
        "![Guardado_manual.png](data:image/png;base64,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)"
      ],
      "metadata": {
        "id": "Q0_hGl7SQs6u"
      }
    },
    {
      "cell_type": "markdown",
      "source": [
        "#Preprocesamiento de los datos"
      ],
      "metadata": {
        "id": "2djhxCc4SXYI"
      }
    },
    {
      "cell_type": "markdown",
      "source": [
        "Cargamos los datos y evaluamos las dimensiones del mismo, así como el tipo de variables que contiene."
      ],
      "metadata": {
        "id": "r4lyo0dJ3KPw"
      }
    },
    {
      "cell_type": "code",
      "execution_count": 3,
      "metadata": {
        "colab": {
          "base_uri": "https://localhost:8080/",
          "height": 224
        },
        "id": "jxVgsFfaK6tt",
        "outputId": "56a3484c-4f5f-4e67-cd4d-f4722e1dfd54"
      },
      "outputs": [
        {
          "output_type": "stream",
          "name": "stdout",
          "text": [
            "(32561, 15)\n"
          ]
        },
        {
          "output_type": "execute_result",
          "data": {
            "text/plain": [
              "   age          workclass   fnlwgt   education   education-num  \\\n",
              "0   39          State-gov    77516   Bachelors              13   \n",
              "1   50   Self-emp-not-inc    83311   Bachelors              13   \n",
              "2   38            Private   215646     HS-grad               9   \n",
              "3   53            Private   234721        11th               7   \n",
              "4   28            Private   338409   Bachelors              13   \n",
              "\n",
              "        marital-status          occupation    relationship    race      sex  \\\n",
              "0        Never-married        Adm-clerical   Not-in-family   White     Male   \n",
              "1   Married-civ-spouse     Exec-managerial         Husband   White     Male   \n",
              "2             Divorced   Handlers-cleaners   Not-in-family   White     Male   \n",
              "3   Married-civ-spouse   Handlers-cleaners         Husband   Black     Male   \n",
              "4   Married-civ-spouse      Prof-specialty            Wife   Black   Female   \n",
              "\n",
              "    capital-gain   capital-loss   hours-per-week  native-country  income  \n",
              "0           2174              0               40   United-States   <=50K  \n",
              "1              0              0               13   United-States   <=50K  \n",
              "2              0              0               40   United-States   <=50K  \n",
              "3              0              0               40   United-States   <=50K  \n",
              "4              0              0               40            Cuba   <=50K  "
            ],
            "text/html": [
              "\n",
              "  <div id=\"df-29931268-5c6f-45dc-9796-01b68dd5fede\">\n",
              "    <div class=\"colab-df-container\">\n",
              "      <div>\n",
              "<style scoped>\n",
              "    .dataframe tbody tr th:only-of-type {\n",
              "        vertical-align: middle;\n",
              "    }\n",
              "\n",
              "    .dataframe tbody tr th {\n",
              "        vertical-align: top;\n",
              "    }\n",
              "\n",
              "    .dataframe thead th {\n",
              "        text-align: right;\n",
              "    }\n",
              "</style>\n",
              "<table border=\"1\" class=\"dataframe\">\n",
              "  <thead>\n",
              "    <tr style=\"text-align: right;\">\n",
              "      <th></th>\n",
              "      <th>age</th>\n",
              "      <th>workclass</th>\n",
              "      <th>fnlwgt</th>\n",
              "      <th>education</th>\n",
              "      <th>education-num</th>\n",
              "      <th>marital-status</th>\n",
              "      <th>occupation</th>\n",
              "      <th>relationship</th>\n",
              "      <th>race</th>\n",
              "      <th>sex</th>\n",
              "      <th>capital-gain</th>\n",
              "      <th>capital-loss</th>\n",
              "      <th>hours-per-week</th>\n",
              "      <th>native-country</th>\n",
              "      <th>income</th>\n",
              "    </tr>\n",
              "  </thead>\n",
              "  <tbody>\n",
              "    <tr>\n",
              "      <th>0</th>\n",
              "      <td>39</td>\n",
              "      <td>State-gov</td>\n",
              "      <td>77516</td>\n",
              "      <td>Bachelors</td>\n",
              "      <td>13</td>\n",
              "      <td>Never-married</td>\n",
              "      <td>Adm-clerical</td>\n",
              "      <td>Not-in-family</td>\n",
              "      <td>White</td>\n",
              "      <td>Male</td>\n",
              "      <td>2174</td>\n",
              "      <td>0</td>\n",
              "      <td>40</td>\n",
              "      <td>United-States</td>\n",
              "      <td>&lt;=50K</td>\n",
              "    </tr>\n",
              "    <tr>\n",
              "      <th>1</th>\n",
              "      <td>50</td>\n",
              "      <td>Self-emp-not-inc</td>\n",
              "      <td>83311</td>\n",
              "      <td>Bachelors</td>\n",
              "      <td>13</td>\n",
              "      <td>Married-civ-spouse</td>\n",
              "      <td>Exec-managerial</td>\n",
              "      <td>Husband</td>\n",
              "      <td>White</td>\n",
              "      <td>Male</td>\n",
              "      <td>0</td>\n",
              "      <td>0</td>\n",
              "      <td>13</td>\n",
              "      <td>United-States</td>\n",
              "      <td>&lt;=50K</td>\n",
              "    </tr>\n",
              "    <tr>\n",
              "      <th>2</th>\n",
              "      <td>38</td>\n",
              "      <td>Private</td>\n",
              "      <td>215646</td>\n",
              "      <td>HS-grad</td>\n",
              "      <td>9</td>\n",
              "      <td>Divorced</td>\n",
              "      <td>Handlers-cleaners</td>\n",
              "      <td>Not-in-family</td>\n",
              "      <td>White</td>\n",
              "      <td>Male</td>\n",
              "      <td>0</td>\n",
              "      <td>0</td>\n",
              "      <td>40</td>\n",
              "      <td>United-States</td>\n",
              "      <td>&lt;=50K</td>\n",
              "    </tr>\n",
              "    <tr>\n",
              "      <th>3</th>\n",
              "      <td>53</td>\n",
              "      <td>Private</td>\n",
              "      <td>234721</td>\n",
              "      <td>11th</td>\n",
              "      <td>7</td>\n",
              "      <td>Married-civ-spouse</td>\n",
              "      <td>Handlers-cleaners</td>\n",
              "      <td>Husband</td>\n",
              "      <td>Black</td>\n",
              "      <td>Male</td>\n",
              "      <td>0</td>\n",
              "      <td>0</td>\n",
              "      <td>40</td>\n",
              "      <td>United-States</td>\n",
              "      <td>&lt;=50K</td>\n",
              "    </tr>\n",
              "    <tr>\n",
              "      <th>4</th>\n",
              "      <td>28</td>\n",
              "      <td>Private</td>\n",
              "      <td>338409</td>\n",
              "      <td>Bachelors</td>\n",
              "      <td>13</td>\n",
              "      <td>Married-civ-spouse</td>\n",
              "      <td>Prof-specialty</td>\n",
              "      <td>Wife</td>\n",
              "      <td>Black</td>\n",
              "      <td>Female</td>\n",
              "      <td>0</td>\n",
              "      <td>0</td>\n",
              "      <td>40</td>\n",
              "      <td>Cuba</td>\n",
              "      <td>&lt;=50K</td>\n",
              "    </tr>\n",
              "  </tbody>\n",
              "</table>\n",
              "</div>\n",
              "      <button class=\"colab-df-convert\" onclick=\"convertToInteractive('df-29931268-5c6f-45dc-9796-01b68dd5fede')\"\n",
              "              title=\"Convert this dataframe to an interactive table.\"\n",
              "              style=\"display:none;\">\n",
              "        \n",
              "  <svg xmlns=\"http://www.w3.org/2000/svg\" height=\"24px\"viewBox=\"0 0 24 24\"\n",
              "       width=\"24px\">\n",
              "    <path d=\"M0 0h24v24H0V0z\" fill=\"none\"/>\n",
              "    <path d=\"M18.56 5.44l.94 2.06.94-2.06 2.06-.94-2.06-.94-.94-2.06-.94 2.06-2.06.94zm-11 1L8.5 8.5l.94-2.06 2.06-.94-2.06-.94L8.5 2.5l-.94 2.06-2.06.94zm10 10l.94 2.06.94-2.06 2.06-.94-2.06-.94-.94-2.06-.94 2.06-2.06.94z\"/><path d=\"M17.41 7.96l-1.37-1.37c-.4-.4-.92-.59-1.43-.59-.52 0-1.04.2-1.43.59L10.3 9.45l-7.72 7.72c-.78.78-.78 2.05 0 2.83L4 21.41c.39.39.9.59 1.41.59.51 0 1.02-.2 1.41-.59l7.78-7.78 2.81-2.81c.8-.78.8-2.07 0-2.86zM5.41 20L4 18.59l7.72-7.72 1.47 1.35L5.41 20z\"/>\n",
              "  </svg>\n",
              "      </button>\n",
              "      \n",
              "  <style>\n",
              "    .colab-df-container {\n",
              "      display:flex;\n",
              "      flex-wrap:wrap;\n",
              "      gap: 12px;\n",
              "    }\n",
              "\n",
              "    .colab-df-convert {\n",
              "      background-color: #E8F0FE;\n",
              "      border: none;\n",
              "      border-radius: 50%;\n",
              "      cursor: pointer;\n",
              "      display: none;\n",
              "      fill: #1967D2;\n",
              "      height: 32px;\n",
              "      padding: 0 0 0 0;\n",
              "      width: 32px;\n",
              "    }\n",
              "\n",
              "    .colab-df-convert:hover {\n",
              "      background-color: #E2EBFA;\n",
              "      box-shadow: 0px 1px 2px rgba(60, 64, 67, 0.3), 0px 1px 3px 1px rgba(60, 64, 67, 0.15);\n",
              "      fill: #174EA6;\n",
              "    }\n",
              "\n",
              "    [theme=dark] .colab-df-convert {\n",
              "      background-color: #3B4455;\n",
              "      fill: #D2E3FC;\n",
              "    }\n",
              "\n",
              "    [theme=dark] .colab-df-convert:hover {\n",
              "      background-color: #434B5C;\n",
              "      box-shadow: 0px 1px 3px 1px rgba(0, 0, 0, 0.15);\n",
              "      filter: drop-shadow(0px 1px 2px rgba(0, 0, 0, 0.3));\n",
              "      fill: #FFFFFF;\n",
              "    }\n",
              "  </style>\n",
              "\n",
              "      <script>\n",
              "        const buttonEl =\n",
              "          document.querySelector('#df-29931268-5c6f-45dc-9796-01b68dd5fede button.colab-df-convert');\n",
              "        buttonEl.style.display =\n",
              "          google.colab.kernel.accessAllowed ? 'block' : 'none';\n",
              "\n",
              "        async function convertToInteractive(key) {\n",
              "          const element = document.querySelector('#df-29931268-5c6f-45dc-9796-01b68dd5fede');\n",
              "          const dataTable =\n",
              "            await google.colab.kernel.invokeFunction('convertToInteractive',\n",
              "                                                     [key], {});\n",
              "          if (!dataTable) return;\n",
              "\n",
              "          const docLinkHtml = 'Like what you see? Visit the ' +\n",
              "            '<a target=\"_blank\" href=https://colab.research.google.com/notebooks/data_table.ipynb>data table notebook</a>'\n",
              "            + ' to learn more about interactive tables.';\n",
              "          element.innerHTML = '';\n",
              "          dataTable['output_type'] = 'display_data';\n",
              "          await google.colab.output.renderOutput(dataTable, element);\n",
              "          const docLink = document.createElement('div');\n",
              "          docLink.innerHTML = docLinkHtml;\n",
              "          element.appendChild(docLink);\n",
              "        }\n",
              "      </script>\n",
              "    </div>\n",
              "  </div>\n",
              "  "
            ]
          },
          "metadata": {},
          "execution_count": 3
        }
      ],
      "source": [
        "# Cargamos los datos\n",
        "df = pd.read_csv('income_evaluation.csv')\n",
        "# dimensiones del fichero\n",
        "print(df.shape)\n",
        "# vemos algunos registros\n",
        "df.head()"
      ]
    },
    {
      "cell_type": "code",
      "execution_count": 4,
      "metadata": {
        "colab": {
          "base_uri": "https://localhost:8080/"
        },
        "id": "8TrzyxjtK6tv",
        "outputId": "0f0ce068-154d-4ecd-be1e-0f894f5e1e84"
      },
      "outputs": [
        {
          "output_type": "execute_result",
          "data": {
            "text/plain": [
              "Index(['age', ' workclass', ' fnlwgt', ' education', ' education-num',\n",
              "       ' marital-status', ' occupation', ' relationship', ' race', ' sex',\n",
              "       ' capital-gain', ' capital-loss', ' hours-per-week', ' native-country',\n",
              "       ' income'],\n",
              "      dtype='object')"
            ]
          },
          "metadata": {},
          "execution_count": 4
        }
      ],
      "source": [
        "# Las columnas que tiene este fichero son las siguientes:\n",
        "df.columns"
      ]
    },
    {
      "cell_type": "code",
      "source": [
        "df.dtypes"
      ],
      "metadata": {
        "colab": {
          "base_uri": "https://localhost:8080/"
        },
        "id": "2LKQwYwXxTcu",
        "outputId": "aac4a27a-03fc-4a33-b69f-39a62f5559a1"
      },
      "execution_count": 5,
      "outputs": [
        {
          "output_type": "execute_result",
          "data": {
            "text/plain": [
              "age                 int64\n",
              " workclass         object\n",
              " fnlwgt             int64\n",
              " education         object\n",
              " education-num      int64\n",
              " marital-status    object\n",
              " occupation        object\n",
              " relationship      object\n",
              " race              object\n",
              " sex               object\n",
              " capital-gain       int64\n",
              " capital-loss       int64\n",
              " hours-per-week     int64\n",
              " native-country    object\n",
              " income            object\n",
              "dtype: object"
            ]
          },
          "metadata": {},
          "execution_count": 5
        }
      ]
    },
    {
      "cell_type": "markdown",
      "metadata": {
        "id": "Pv0uN1gGK6tw"
      },
      "source": [
        "Podemos observar que hay muchas columnas con datos alfanuméricos (*object*), las cuales no pueden ser empleadas por este clasificador en este formato. Entonces estas variables las vamos adaptar a sus necesidades, para ello creamos las variables dummies que necesitamos mediante el método `OneHotEncoder()`. Lo hacemos de la siguiente manera:"
      ]
    },
    {
      "cell_type": "code",
      "execution_count": 6,
      "metadata": {
        "id": "4Q4o5QlWK6tx"
      },
      "outputs": [],
      "source": [
        "from sklearn.preprocessing import OneHotEncoder\n",
        "columns = [' workclass',' education',' marital-status',' occupation',' relationship',\n",
        "          ' race',' sex',' native-country']\n",
        "#Instanciamos el método que implementa one-hot-encoder\n",
        "encoder = OneHotEncoder(handle_unknown='ignore')\n",
        "#Llevamos a cabo one-hot encoding en las columnas seleccionadas\n",
        "encoder_df = pd.DataFrame(encoder.fit_transform(df[columns]).toarray())"
      ]
    },
    {
      "cell_type": "markdown",
      "source": [
        "El resultado del enconding es el siguiente."
      ],
      "metadata": {
        "id": "bnx_MLxDzzC1"
      }
    },
    {
      "cell_type": "code",
      "execution_count": 7,
      "metadata": {
        "colab": {
          "base_uri": "https://localhost:8080/",
          "height": 424
        },
        "id": "MGaGf-_QK6tz",
        "outputId": "6f5e769e-d1ad-41d6-c521-40b5707445d8"
      },
      "outputs": [
        {
          "output_type": "execute_result",
          "data": {
            "text/plain": [
              "       0    1    2    3    4    5    6    7    8    9    ...  92   93   94   \\\n",
              "0      0.0  0.0  0.0  0.0  0.0  0.0  0.0  1.0  0.0  0.0  ...  0.0  0.0  0.0   \n",
              "1      0.0  0.0  0.0  0.0  0.0  0.0  1.0  0.0  0.0  0.0  ...  0.0  0.0  0.0   \n",
              "2      0.0  0.0  0.0  0.0  1.0  0.0  0.0  0.0  0.0  0.0  ...  0.0  0.0  0.0   \n",
              "3      0.0  0.0  0.0  0.0  1.0  0.0  0.0  0.0  0.0  0.0  ...  0.0  0.0  0.0   \n",
              "4      0.0  0.0  0.0  0.0  1.0  0.0  0.0  0.0  0.0  0.0  ...  0.0  0.0  0.0   \n",
              "...    ...  ...  ...  ...  ...  ...  ...  ...  ...  ...  ...  ...  ...  ...   \n",
              "32556  0.0  0.0  0.0  0.0  1.0  0.0  0.0  0.0  0.0  0.0  ...  0.0  0.0  0.0   \n",
              "32557  0.0  0.0  0.0  0.0  1.0  0.0  0.0  0.0  0.0  0.0  ...  0.0  0.0  0.0   \n",
              "32558  0.0  0.0  0.0  0.0  1.0  0.0  0.0  0.0  0.0  0.0  ...  0.0  0.0  0.0   \n",
              "32559  0.0  0.0  0.0  0.0  1.0  0.0  0.0  0.0  0.0  0.0  ...  0.0  0.0  0.0   \n",
              "32560  0.0  0.0  0.0  0.0  0.0  1.0  0.0  0.0  0.0  0.0  ...  0.0  0.0  0.0   \n",
              "\n",
              "       95   96   97   98   99   100  101  \n",
              "0      0.0  0.0  0.0  0.0  1.0  0.0  0.0  \n",
              "1      0.0  0.0  0.0  0.0  1.0  0.0  0.0  \n",
              "2      0.0  0.0  0.0  0.0  1.0  0.0  0.0  \n",
              "3      0.0  0.0  0.0  0.0  1.0  0.0  0.0  \n",
              "4      0.0  0.0  0.0  0.0  0.0  0.0  0.0  \n",
              "...    ...  ...  ...  ...  ...  ...  ...  \n",
              "32556  0.0  0.0  0.0  0.0  1.0  0.0  0.0  \n",
              "32557  0.0  0.0  0.0  0.0  1.0  0.0  0.0  \n",
              "32558  0.0  0.0  0.0  0.0  1.0  0.0  0.0  \n",
              "32559  0.0  0.0  0.0  0.0  1.0  0.0  0.0  \n",
              "32560  0.0  0.0  0.0  0.0  1.0  0.0  0.0  \n",
              "\n",
              "[32561 rows x 102 columns]"
            ],
            "text/html": [
              "\n",
              "  <div id=\"df-c5e9bec5-7784-4d57-aff7-1bced21be376\">\n",
              "    <div class=\"colab-df-container\">\n",
              "      <div>\n",
              "<style scoped>\n",
              "    .dataframe tbody tr th:only-of-type {\n",
              "        vertical-align: middle;\n",
              "    }\n",
              "\n",
              "    .dataframe tbody tr th {\n",
              "        vertical-align: top;\n",
              "    }\n",
              "\n",
              "    .dataframe thead th {\n",
              "        text-align: right;\n",
              "    }\n",
              "</style>\n",
              "<table border=\"1\" class=\"dataframe\">\n",
              "  <thead>\n",
              "    <tr style=\"text-align: right;\">\n",
              "      <th></th>\n",
              "      <th>0</th>\n",
              "      <th>1</th>\n",
              "      <th>2</th>\n",
              "      <th>3</th>\n",
              "      <th>4</th>\n",
              "      <th>5</th>\n",
              "      <th>6</th>\n",
              "      <th>7</th>\n",
              "      <th>8</th>\n",
              "      <th>9</th>\n",
              "      <th>...</th>\n",
              "      <th>92</th>\n",
              "      <th>93</th>\n",
              "      <th>94</th>\n",
              "      <th>95</th>\n",
              "      <th>96</th>\n",
              "      <th>97</th>\n",
              "      <th>98</th>\n",
              "      <th>99</th>\n",
              "      <th>100</th>\n",
              "      <th>101</th>\n",
              "    </tr>\n",
              "  </thead>\n",
              "  <tbody>\n",
              "    <tr>\n",
              "      <th>0</th>\n",
              "      <td>0.0</td>\n",
              "      <td>0.0</td>\n",
              "      <td>0.0</td>\n",
              "      <td>0.0</td>\n",
              "      <td>0.0</td>\n",
              "      <td>0.0</td>\n",
              "      <td>0.0</td>\n",
              "      <td>1.0</td>\n",
              "      <td>0.0</td>\n",
              "      <td>0.0</td>\n",
              "      <td>...</td>\n",
              "      <td>0.0</td>\n",
              "      <td>0.0</td>\n",
              "      <td>0.0</td>\n",
              "      <td>0.0</td>\n",
              "      <td>0.0</td>\n",
              "      <td>0.0</td>\n",
              "      <td>0.0</td>\n",
              "      <td>1.0</td>\n",
              "      <td>0.0</td>\n",
              "      <td>0.0</td>\n",
              "    </tr>\n",
              "    <tr>\n",
              "      <th>1</th>\n",
              "      <td>0.0</td>\n",
              "      <td>0.0</td>\n",
              "      <td>0.0</td>\n",
              "      <td>0.0</td>\n",
              "      <td>0.0</td>\n",
              "      <td>0.0</td>\n",
              "      <td>1.0</td>\n",
              "      <td>0.0</td>\n",
              "      <td>0.0</td>\n",
              "      <td>0.0</td>\n",
              "      <td>...</td>\n",
              "      <td>0.0</td>\n",
              "      <td>0.0</td>\n",
              "      <td>0.0</td>\n",
              "      <td>0.0</td>\n",
              "      <td>0.0</td>\n",
              "      <td>0.0</td>\n",
              "      <td>0.0</td>\n",
              "      <td>1.0</td>\n",
              "      <td>0.0</td>\n",
              "      <td>0.0</td>\n",
              "    </tr>\n",
              "    <tr>\n",
              "      <th>2</th>\n",
              "      <td>0.0</td>\n",
              "      <td>0.0</td>\n",
              "      <td>0.0</td>\n",
              "      <td>0.0</td>\n",
              "      <td>1.0</td>\n",
              "      <td>0.0</td>\n",
              "      <td>0.0</td>\n",
              "      <td>0.0</td>\n",
              "      <td>0.0</td>\n",
              "      <td>0.0</td>\n",
              "      <td>...</td>\n",
              "      <td>0.0</td>\n",
              "      <td>0.0</td>\n",
              "      <td>0.0</td>\n",
              "      <td>0.0</td>\n",
              "      <td>0.0</td>\n",
              "      <td>0.0</td>\n",
              "      <td>0.0</td>\n",
              "      <td>1.0</td>\n",
              "      <td>0.0</td>\n",
              "      <td>0.0</td>\n",
              "    </tr>\n",
              "    <tr>\n",
              "      <th>3</th>\n",
              "      <td>0.0</td>\n",
              "      <td>0.0</td>\n",
              "      <td>0.0</td>\n",
              "      <td>0.0</td>\n",
              "      <td>1.0</td>\n",
              "      <td>0.0</td>\n",
              "      <td>0.0</td>\n",
              "      <td>0.0</td>\n",
              "      <td>0.0</td>\n",
              "      <td>0.0</td>\n",
              "      <td>...</td>\n",
              "      <td>0.0</td>\n",
              "      <td>0.0</td>\n",
              "      <td>0.0</td>\n",
              "      <td>0.0</td>\n",
              "      <td>0.0</td>\n",
              "      <td>0.0</td>\n",
              "      <td>0.0</td>\n",
              "      <td>1.0</td>\n",
              "      <td>0.0</td>\n",
              "      <td>0.0</td>\n",
              "    </tr>\n",
              "    <tr>\n",
              "      <th>4</th>\n",
              "      <td>0.0</td>\n",
              "      <td>0.0</td>\n",
              "      <td>0.0</td>\n",
              "      <td>0.0</td>\n",
              "      <td>1.0</td>\n",
              "      <td>0.0</td>\n",
              "      <td>0.0</td>\n",
              "      <td>0.0</td>\n",
              "      <td>0.0</td>\n",
              "      <td>0.0</td>\n",
              "      <td>...</td>\n",
              "      <td>0.0</td>\n",
              "      <td>0.0</td>\n",
              "      <td>0.0</td>\n",
              "      <td>0.0</td>\n",
              "      <td>0.0</td>\n",
              "      <td>0.0</td>\n",
              "      <td>0.0</td>\n",
              "      <td>0.0</td>\n",
              "      <td>0.0</td>\n",
              "      <td>0.0</td>\n",
              "    </tr>\n",
              "    <tr>\n",
              "      <th>...</th>\n",
              "      <td>...</td>\n",
              "      <td>...</td>\n",
              "      <td>...</td>\n",
              "      <td>...</td>\n",
              "      <td>...</td>\n",
              "      <td>...</td>\n",
              "      <td>...</td>\n",
              "      <td>...</td>\n",
              "      <td>...</td>\n",
              "      <td>...</td>\n",
              "      <td>...</td>\n",
              "      <td>...</td>\n",
              "      <td>...</td>\n",
              "      <td>...</td>\n",
              "      <td>...</td>\n",
              "      <td>...</td>\n",
              "      <td>...</td>\n",
              "      <td>...</td>\n",
              "      <td>...</td>\n",
              "      <td>...</td>\n",
              "      <td>...</td>\n",
              "    </tr>\n",
              "    <tr>\n",
              "      <th>32556</th>\n",
              "      <td>0.0</td>\n",
              "      <td>0.0</td>\n",
              "      <td>0.0</td>\n",
              "      <td>0.0</td>\n",
              "      <td>1.0</td>\n",
              "      <td>0.0</td>\n",
              "      <td>0.0</td>\n",
              "      <td>0.0</td>\n",
              "      <td>0.0</td>\n",
              "      <td>0.0</td>\n",
              "      <td>...</td>\n",
              "      <td>0.0</td>\n",
              "      <td>0.0</td>\n",
              "      <td>0.0</td>\n",
              "      <td>0.0</td>\n",
              "      <td>0.0</td>\n",
              "      <td>0.0</td>\n",
              "      <td>0.0</td>\n",
              "      <td>1.0</td>\n",
              "      <td>0.0</td>\n",
              "      <td>0.0</td>\n",
              "    </tr>\n",
              "    <tr>\n",
              "      <th>32557</th>\n",
              "      <td>0.0</td>\n",
              "      <td>0.0</td>\n",
              "      <td>0.0</td>\n",
              "      <td>0.0</td>\n",
              "      <td>1.0</td>\n",
              "      <td>0.0</td>\n",
              "      <td>0.0</td>\n",
              "      <td>0.0</td>\n",
              "      <td>0.0</td>\n",
              "      <td>0.0</td>\n",
              "      <td>...</td>\n",
              "      <td>0.0</td>\n",
              "      <td>0.0</td>\n",
              "      <td>0.0</td>\n",
              "      <td>0.0</td>\n",
              "      <td>0.0</td>\n",
              "      <td>0.0</td>\n",
              "      <td>0.0</td>\n",
              "      <td>1.0</td>\n",
              "      <td>0.0</td>\n",
              "      <td>0.0</td>\n",
              "    </tr>\n",
              "    <tr>\n",
              "      <th>32558</th>\n",
              "      <td>0.0</td>\n",
              "      <td>0.0</td>\n",
              "      <td>0.0</td>\n",
              "      <td>0.0</td>\n",
              "      <td>1.0</td>\n",
              "      <td>0.0</td>\n",
              "      <td>0.0</td>\n",
              "      <td>0.0</td>\n",
              "      <td>0.0</td>\n",
              "      <td>0.0</td>\n",
              "      <td>...</td>\n",
              "      <td>0.0</td>\n",
              "      <td>0.0</td>\n",
              "      <td>0.0</td>\n",
              "      <td>0.0</td>\n",
              "      <td>0.0</td>\n",
              "      <td>0.0</td>\n",
              "      <td>0.0</td>\n",
              "      <td>1.0</td>\n",
              "      <td>0.0</td>\n",
              "      <td>0.0</td>\n",
              "    </tr>\n",
              "    <tr>\n",
              "      <th>32559</th>\n",
              "      <td>0.0</td>\n",
              "      <td>0.0</td>\n",
              "      <td>0.0</td>\n",
              "      <td>0.0</td>\n",
              "      <td>1.0</td>\n",
              "      <td>0.0</td>\n",
              "      <td>0.0</td>\n",
              "      <td>0.0</td>\n",
              "      <td>0.0</td>\n",
              "      <td>0.0</td>\n",
              "      <td>...</td>\n",
              "      <td>0.0</td>\n",
              "      <td>0.0</td>\n",
              "      <td>0.0</td>\n",
              "      <td>0.0</td>\n",
              "      <td>0.0</td>\n",
              "      <td>0.0</td>\n",
              "      <td>0.0</td>\n",
              "      <td>1.0</td>\n",
              "      <td>0.0</td>\n",
              "      <td>0.0</td>\n",
              "    </tr>\n",
              "    <tr>\n",
              "      <th>32560</th>\n",
              "      <td>0.0</td>\n",
              "      <td>0.0</td>\n",
              "      <td>0.0</td>\n",
              "      <td>0.0</td>\n",
              "      <td>0.0</td>\n",
              "      <td>1.0</td>\n",
              "      <td>0.0</td>\n",
              "      <td>0.0</td>\n",
              "      <td>0.0</td>\n",
              "      <td>0.0</td>\n",
              "      <td>...</td>\n",
              "      <td>0.0</td>\n",
              "      <td>0.0</td>\n",
              "      <td>0.0</td>\n",
              "      <td>0.0</td>\n",
              "      <td>0.0</td>\n",
              "      <td>0.0</td>\n",
              "      <td>0.0</td>\n",
              "      <td>1.0</td>\n",
              "      <td>0.0</td>\n",
              "      <td>0.0</td>\n",
              "    </tr>\n",
              "  </tbody>\n",
              "</table>\n",
              "<p>32561 rows × 102 columns</p>\n",
              "</div>\n",
              "      <button class=\"colab-df-convert\" onclick=\"convertToInteractive('df-c5e9bec5-7784-4d57-aff7-1bced21be376')\"\n",
              "              title=\"Convert this dataframe to an interactive table.\"\n",
              "              style=\"display:none;\">\n",
              "        \n",
              "  <svg xmlns=\"http://www.w3.org/2000/svg\" height=\"24px\"viewBox=\"0 0 24 24\"\n",
              "       width=\"24px\">\n",
              "    <path d=\"M0 0h24v24H0V0z\" fill=\"none\"/>\n",
              "    <path d=\"M18.56 5.44l.94 2.06.94-2.06 2.06-.94-2.06-.94-.94-2.06-.94 2.06-2.06.94zm-11 1L8.5 8.5l.94-2.06 2.06-.94-2.06-.94L8.5 2.5l-.94 2.06-2.06.94zm10 10l.94 2.06.94-2.06 2.06-.94-2.06-.94-.94-2.06-.94 2.06-2.06.94z\"/><path d=\"M17.41 7.96l-1.37-1.37c-.4-.4-.92-.59-1.43-.59-.52 0-1.04.2-1.43.59L10.3 9.45l-7.72 7.72c-.78.78-.78 2.05 0 2.83L4 21.41c.39.39.9.59 1.41.59.51 0 1.02-.2 1.41-.59l7.78-7.78 2.81-2.81c.8-.78.8-2.07 0-2.86zM5.41 20L4 18.59l7.72-7.72 1.47 1.35L5.41 20z\"/>\n",
              "  </svg>\n",
              "      </button>\n",
              "      \n",
              "  <style>\n",
              "    .colab-df-container {\n",
              "      display:flex;\n",
              "      flex-wrap:wrap;\n",
              "      gap: 12px;\n",
              "    }\n",
              "\n",
              "    .colab-df-convert {\n",
              "      background-color: #E8F0FE;\n",
              "      border: none;\n",
              "      border-radius: 50%;\n",
              "      cursor: pointer;\n",
              "      display: none;\n",
              "      fill: #1967D2;\n",
              "      height: 32px;\n",
              "      padding: 0 0 0 0;\n",
              "      width: 32px;\n",
              "    }\n",
              "\n",
              "    .colab-df-convert:hover {\n",
              "      background-color: #E2EBFA;\n",
              "      box-shadow: 0px 1px 2px rgba(60, 64, 67, 0.3), 0px 1px 3px 1px rgba(60, 64, 67, 0.15);\n",
              "      fill: #174EA6;\n",
              "    }\n",
              "\n",
              "    [theme=dark] .colab-df-convert {\n",
              "      background-color: #3B4455;\n",
              "      fill: #D2E3FC;\n",
              "    }\n",
              "\n",
              "    [theme=dark] .colab-df-convert:hover {\n",
              "      background-color: #434B5C;\n",
              "      box-shadow: 0px 1px 3px 1px rgba(0, 0, 0, 0.15);\n",
              "      filter: drop-shadow(0px 1px 2px rgba(0, 0, 0, 0.3));\n",
              "      fill: #FFFFFF;\n",
              "    }\n",
              "  </style>\n",
              "\n",
              "      <script>\n",
              "        const buttonEl =\n",
              "          document.querySelector('#df-c5e9bec5-7784-4d57-aff7-1bced21be376 button.colab-df-convert');\n",
              "        buttonEl.style.display =\n",
              "          google.colab.kernel.accessAllowed ? 'block' : 'none';\n",
              "\n",
              "        async function convertToInteractive(key) {\n",
              "          const element = document.querySelector('#df-c5e9bec5-7784-4d57-aff7-1bced21be376');\n",
              "          const dataTable =\n",
              "            await google.colab.kernel.invokeFunction('convertToInteractive',\n",
              "                                                     [key], {});\n",
              "          if (!dataTable) return;\n",
              "\n",
              "          const docLinkHtml = 'Like what you see? Visit the ' +\n",
              "            '<a target=\"_blank\" href=https://colab.research.google.com/notebooks/data_table.ipynb>data table notebook</a>'\n",
              "            + ' to learn more about interactive tables.';\n",
              "          element.innerHTML = '';\n",
              "          dataTable['output_type'] = 'display_data';\n",
              "          await google.colab.output.renderOutput(dataTable, element);\n",
              "          const docLink = document.createElement('div');\n",
              "          docLink.innerHTML = docLinkHtml;\n",
              "          element.appendChild(docLink);\n",
              "        }\n",
              "      </script>\n",
              "    </div>\n",
              "  </div>\n",
              "  "
            ]
          },
          "metadata": {},
          "execution_count": 7
        }
      ],
      "source": [
        "encoder_df"
      ]
    },
    {
      "cell_type": "markdown",
      "source": [
        "Estas variables por sí solas carecen de contexto. Es por ello que añadimos las nuevas variables al fichero inicial."
      ],
      "metadata": {
        "id": "EJ29wNR7z6l-"
      }
    },
    {
      "cell_type": "code",
      "execution_count": 8,
      "metadata": {
        "colab": {
          "base_uri": "https://localhost:8080/"
        },
        "id": "zU4w-W4CK6tz",
        "outputId": "8279ed7f-8971-44fa-b3eb-0440d7797c6d"
      },
      "outputs": [
        {
          "output_type": "execute_result",
          "data": {
            "text/plain": [
              "Index([            'age',      ' workclass',         ' fnlwgt',\n",
              "            ' education',  ' education-num', ' marital-status',\n",
              "           ' occupation',   ' relationship',           ' race',\n",
              "                  ' sex',\n",
              "       ...\n",
              "                      92,                93,                94,\n",
              "                      95,                96,                97,\n",
              "                      98,                99,               100,\n",
              "                     101],\n",
              "      dtype='object', length=117)"
            ]
          },
          "metadata": {},
          "execution_count": 8
        }
      ],
      "source": [
        "final_df = df.join(encoder_df)\n",
        "final_df.columns"
      ]
    },
    {
      "cell_type": "markdown",
      "source": [
        "Y procedemos a borrar las columnas iniciales que hemos convertido a variables de tipo dummy."
      ],
      "metadata": {
        "id": "FQTJCXBt0EgM"
      }
    },
    {
      "cell_type": "code",
      "execution_count": 9,
      "metadata": {
        "colab": {
          "base_uri": "https://localhost:8080/",
          "height": 236
        },
        "id": "L5HKIO6wK6t0",
        "outputId": "4dcbdee1-75c8-4b4d-923f-294856336f68"
      },
      "outputs": [
        {
          "output_type": "execute_result",
          "data": {
            "text/plain": [
              "   age   fnlwgt   education-num   capital-gain   capital-loss  \\\n",
              "0   39    77516              13           2174              0   \n",
              "1   50    83311              13              0              0   \n",
              "2   38   215646               9              0              0   \n",
              "3   53   234721               7              0              0   \n",
              "4   28   338409              13              0              0   \n",
              "\n",
              "    hours-per-week  income    0    1    2  ...   92   93   94   95   96   97  \\\n",
              "0               40   <=50K  0.0  0.0  0.0  ...  0.0  0.0  0.0  0.0  0.0  0.0   \n",
              "1               13   <=50K  0.0  0.0  0.0  ...  0.0  0.0  0.0  0.0  0.0  0.0   \n",
              "2               40   <=50K  0.0  0.0  0.0  ...  0.0  0.0  0.0  0.0  0.0  0.0   \n",
              "3               40   <=50K  0.0  0.0  0.0  ...  0.0  0.0  0.0  0.0  0.0  0.0   \n",
              "4               40   <=50K  0.0  0.0  0.0  ...  0.0  0.0  0.0  0.0  0.0  0.0   \n",
              "\n",
              "    98   99  100  101  \n",
              "0  0.0  1.0  0.0  0.0  \n",
              "1  0.0  1.0  0.0  0.0  \n",
              "2  0.0  1.0  0.0  0.0  \n",
              "3  0.0  1.0  0.0  0.0  \n",
              "4  0.0  0.0  0.0  0.0  \n",
              "\n",
              "[5 rows x 109 columns]"
            ],
            "text/html": [
              "\n",
              "  <div id=\"df-7639ab25-f710-4400-bcbd-bd19440ca3ac\">\n",
              "    <div class=\"colab-df-container\">\n",
              "      <div>\n",
              "<style scoped>\n",
              "    .dataframe tbody tr th:only-of-type {\n",
              "        vertical-align: middle;\n",
              "    }\n",
              "\n",
              "    .dataframe tbody tr th {\n",
              "        vertical-align: top;\n",
              "    }\n",
              "\n",
              "    .dataframe thead th {\n",
              "        text-align: right;\n",
              "    }\n",
              "</style>\n",
              "<table border=\"1\" class=\"dataframe\">\n",
              "  <thead>\n",
              "    <tr style=\"text-align: right;\">\n",
              "      <th></th>\n",
              "      <th>age</th>\n",
              "      <th>fnlwgt</th>\n",
              "      <th>education-num</th>\n",
              "      <th>capital-gain</th>\n",
              "      <th>capital-loss</th>\n",
              "      <th>hours-per-week</th>\n",
              "      <th>income</th>\n",
              "      <th>0</th>\n",
              "      <th>1</th>\n",
              "      <th>2</th>\n",
              "      <th>...</th>\n",
              "      <th>92</th>\n",
              "      <th>93</th>\n",
              "      <th>94</th>\n",
              "      <th>95</th>\n",
              "      <th>96</th>\n",
              "      <th>97</th>\n",
              "      <th>98</th>\n",
              "      <th>99</th>\n",
              "      <th>100</th>\n",
              "      <th>101</th>\n",
              "    </tr>\n",
              "  </thead>\n",
              "  <tbody>\n",
              "    <tr>\n",
              "      <th>0</th>\n",
              "      <td>39</td>\n",
              "      <td>77516</td>\n",
              "      <td>13</td>\n",
              "      <td>2174</td>\n",
              "      <td>0</td>\n",
              "      <td>40</td>\n",
              "      <td>&lt;=50K</td>\n",
              "      <td>0.0</td>\n",
              "      <td>0.0</td>\n",
              "      <td>0.0</td>\n",
              "      <td>...</td>\n",
              "      <td>0.0</td>\n",
              "      <td>0.0</td>\n",
              "      <td>0.0</td>\n",
              "      <td>0.0</td>\n",
              "      <td>0.0</td>\n",
              "      <td>0.0</td>\n",
              "      <td>0.0</td>\n",
              "      <td>1.0</td>\n",
              "      <td>0.0</td>\n",
              "      <td>0.0</td>\n",
              "    </tr>\n",
              "    <tr>\n",
              "      <th>1</th>\n",
              "      <td>50</td>\n",
              "      <td>83311</td>\n",
              "      <td>13</td>\n",
              "      <td>0</td>\n",
              "      <td>0</td>\n",
              "      <td>13</td>\n",
              "      <td>&lt;=50K</td>\n",
              "      <td>0.0</td>\n",
              "      <td>0.0</td>\n",
              "      <td>0.0</td>\n",
              "      <td>...</td>\n",
              "      <td>0.0</td>\n",
              "      <td>0.0</td>\n",
              "      <td>0.0</td>\n",
              "      <td>0.0</td>\n",
              "      <td>0.0</td>\n",
              "      <td>0.0</td>\n",
              "      <td>0.0</td>\n",
              "      <td>1.0</td>\n",
              "      <td>0.0</td>\n",
              "      <td>0.0</td>\n",
              "    </tr>\n",
              "    <tr>\n",
              "      <th>2</th>\n",
              "      <td>38</td>\n",
              "      <td>215646</td>\n",
              "      <td>9</td>\n",
              "      <td>0</td>\n",
              "      <td>0</td>\n",
              "      <td>40</td>\n",
              "      <td>&lt;=50K</td>\n",
              "      <td>0.0</td>\n",
              "      <td>0.0</td>\n",
              "      <td>0.0</td>\n",
              "      <td>...</td>\n",
              "      <td>0.0</td>\n",
              "      <td>0.0</td>\n",
              "      <td>0.0</td>\n",
              "      <td>0.0</td>\n",
              "      <td>0.0</td>\n",
              "      <td>0.0</td>\n",
              "      <td>0.0</td>\n",
              "      <td>1.0</td>\n",
              "      <td>0.0</td>\n",
              "      <td>0.0</td>\n",
              "    </tr>\n",
              "    <tr>\n",
              "      <th>3</th>\n",
              "      <td>53</td>\n",
              "      <td>234721</td>\n",
              "      <td>7</td>\n",
              "      <td>0</td>\n",
              "      <td>0</td>\n",
              "      <td>40</td>\n",
              "      <td>&lt;=50K</td>\n",
              "      <td>0.0</td>\n",
              "      <td>0.0</td>\n",
              "      <td>0.0</td>\n",
              "      <td>...</td>\n",
              "      <td>0.0</td>\n",
              "      <td>0.0</td>\n",
              "      <td>0.0</td>\n",
              "      <td>0.0</td>\n",
              "      <td>0.0</td>\n",
              "      <td>0.0</td>\n",
              "      <td>0.0</td>\n",
              "      <td>1.0</td>\n",
              "      <td>0.0</td>\n",
              "      <td>0.0</td>\n",
              "    </tr>\n",
              "    <tr>\n",
              "      <th>4</th>\n",
              "      <td>28</td>\n",
              "      <td>338409</td>\n",
              "      <td>13</td>\n",
              "      <td>0</td>\n",
              "      <td>0</td>\n",
              "      <td>40</td>\n",
              "      <td>&lt;=50K</td>\n",
              "      <td>0.0</td>\n",
              "      <td>0.0</td>\n",
              "      <td>0.0</td>\n",
              "      <td>...</td>\n",
              "      <td>0.0</td>\n",
              "      <td>0.0</td>\n",
              "      <td>0.0</td>\n",
              "      <td>0.0</td>\n",
              "      <td>0.0</td>\n",
              "      <td>0.0</td>\n",
              "      <td>0.0</td>\n",
              "      <td>0.0</td>\n",
              "      <td>0.0</td>\n",
              "      <td>0.0</td>\n",
              "    </tr>\n",
              "  </tbody>\n",
              "</table>\n",
              "<p>5 rows × 109 columns</p>\n",
              "</div>\n",
              "      <button class=\"colab-df-convert\" onclick=\"convertToInteractive('df-7639ab25-f710-4400-bcbd-bd19440ca3ac')\"\n",
              "              title=\"Convert this dataframe to an interactive table.\"\n",
              "              style=\"display:none;\">\n",
              "        \n",
              "  <svg xmlns=\"http://www.w3.org/2000/svg\" height=\"24px\"viewBox=\"0 0 24 24\"\n",
              "       width=\"24px\">\n",
              "    <path d=\"M0 0h24v24H0V0z\" fill=\"none\"/>\n",
              "    <path d=\"M18.56 5.44l.94 2.06.94-2.06 2.06-.94-2.06-.94-.94-2.06-.94 2.06-2.06.94zm-11 1L8.5 8.5l.94-2.06 2.06-.94-2.06-.94L8.5 2.5l-.94 2.06-2.06.94zm10 10l.94 2.06.94-2.06 2.06-.94-2.06-.94-.94-2.06-.94 2.06-2.06.94z\"/><path d=\"M17.41 7.96l-1.37-1.37c-.4-.4-.92-.59-1.43-.59-.52 0-1.04.2-1.43.59L10.3 9.45l-7.72 7.72c-.78.78-.78 2.05 0 2.83L4 21.41c.39.39.9.59 1.41.59.51 0 1.02-.2 1.41-.59l7.78-7.78 2.81-2.81c.8-.78.8-2.07 0-2.86zM5.41 20L4 18.59l7.72-7.72 1.47 1.35L5.41 20z\"/>\n",
              "  </svg>\n",
              "      </button>\n",
              "      \n",
              "  <style>\n",
              "    .colab-df-container {\n",
              "      display:flex;\n",
              "      flex-wrap:wrap;\n",
              "      gap: 12px;\n",
              "    }\n",
              "\n",
              "    .colab-df-convert {\n",
              "      background-color: #E8F0FE;\n",
              "      border: none;\n",
              "      border-radius: 50%;\n",
              "      cursor: pointer;\n",
              "      display: none;\n",
              "      fill: #1967D2;\n",
              "      height: 32px;\n",
              "      padding: 0 0 0 0;\n",
              "      width: 32px;\n",
              "    }\n",
              "\n",
              "    .colab-df-convert:hover {\n",
              "      background-color: #E2EBFA;\n",
              "      box-shadow: 0px 1px 2px rgba(60, 64, 67, 0.3), 0px 1px 3px 1px rgba(60, 64, 67, 0.15);\n",
              "      fill: #174EA6;\n",
              "    }\n",
              "\n",
              "    [theme=dark] .colab-df-convert {\n",
              "      background-color: #3B4455;\n",
              "      fill: #D2E3FC;\n",
              "    }\n",
              "\n",
              "    [theme=dark] .colab-df-convert:hover {\n",
              "      background-color: #434B5C;\n",
              "      box-shadow: 0px 1px 3px 1px rgba(0, 0, 0, 0.15);\n",
              "      filter: drop-shadow(0px 1px 2px rgba(0, 0, 0, 0.3));\n",
              "      fill: #FFFFFF;\n",
              "    }\n",
              "  </style>\n",
              "\n",
              "      <script>\n",
              "        const buttonEl =\n",
              "          document.querySelector('#df-7639ab25-f710-4400-bcbd-bd19440ca3ac button.colab-df-convert');\n",
              "        buttonEl.style.display =\n",
              "          google.colab.kernel.accessAllowed ? 'block' : 'none';\n",
              "\n",
              "        async function convertToInteractive(key) {\n",
              "          const element = document.querySelector('#df-7639ab25-f710-4400-bcbd-bd19440ca3ac');\n",
              "          const dataTable =\n",
              "            await google.colab.kernel.invokeFunction('convertToInteractive',\n",
              "                                                     [key], {});\n",
              "          if (!dataTable) return;\n",
              "\n",
              "          const docLinkHtml = 'Like what you see? Visit the ' +\n",
              "            '<a target=\"_blank\" href=https://colab.research.google.com/notebooks/data_table.ipynb>data table notebook</a>'\n",
              "            + ' to learn more about interactive tables.';\n",
              "          element.innerHTML = '';\n",
              "          dataTable['output_type'] = 'display_data';\n",
              "          await google.colab.output.renderOutput(dataTable, element);\n",
              "          const docLink = document.createElement('div');\n",
              "          docLink.innerHTML = docLinkHtml;\n",
              "          element.appendChild(docLink);\n",
              "        }\n",
              "      </script>\n",
              "    </div>\n",
              "  </div>\n",
              "  "
            ]
          },
          "metadata": {},
          "execution_count": 9
        }
      ],
      "source": [
        "final_df.drop([' workclass',' education',' marital-status',' occupation',' relationship',\n",
        "              ' race',' sex',' native-country'], axis=1, inplace=True)\n",
        "final_df.head()"
      ]
    },
    {
      "cell_type": "markdown",
      "source": [
        "El dataframe `final_df` contiene los datos en el formato adecuado para ser alimentadas al algoritmo de Gradient Boosting."
      ],
      "metadata": {
        "id": "jEhTdbqo30QF"
      }
    },
    {
      "cell_type": "markdown",
      "source": [
        "# Entrenamiento del modelo de Gradient Boosting"
      ],
      "metadata": {
        "id": "BCBWZLxC5G4L"
      }
    },
    {
      "cell_type": "markdown",
      "source": [
        "Dividimos el dataset en observaciones test y de entrenamiento"
      ],
      "metadata": {
        "id": "rVkvLTMJN7r6"
      }
    },
    {
      "cell_type": "code",
      "execution_count": 10,
      "metadata": {
        "id": "-1xnO-giK6t1"
      },
      "outputs": [],
      "source": [
        "X_train, X_test, y_train, y_test = train_test_split(final_df.drop(\" income\", axis=1), final_df[\" income\"], test_size=0.2)"
      ]
    },
    {
      "cell_type": "markdown",
      "source": [
        "Definimos Gradient Boosting Classifier con algunos hiperparámetros:\n",
        "\n",
        "*   **n_estimators**: El número de etapas de boosting a realizar. Gradient boosting es bastante robusto al sobreajuste, por lo que un número grande suele dar lugar a un mejor rendimiento. Sin embargo, a mayor número de iteraciones mayor tiempo emplea en el entrenamiento.\n",
        "*   **max_features**: El número de características a tener en cuenta a la hora de buscar el mejor split o división en cada nodo del árbol.\n",
        "*   **learning_rate**: La tasa de aprendizaje reduce la contribución de cada árbol por el valor especificado en este parámetro."
      ],
      "metadata": {
        "id": "nEh8M1ev1pTN"
      }
    },
    {
      "cell_type": "code",
      "execution_count": 11,
      "metadata": {
        "colab": {
          "base_uri": "https://localhost:8080/"
        },
        "id": "CW-70wLVK6t1",
        "outputId": "14289b5f-ecfd-484c-8b87-768b7497f80a"
      },
      "outputs": [
        {
          "output_type": "execute_result",
          "data": {
            "text/plain": [
              "GradientBoostingClassifier(learning_rate=0.05, max_features=5, n_estimators=500,\n",
              "                           random_state=100)"
            ]
          },
          "metadata": {},
          "execution_count": 11
        }
      ],
      "source": [
        "# Definimos el modelo\n",
        "gbc=GradientBoostingClassifier(n_estimators=500,learning_rate=0.05,random_state=100,max_features=5 )\n",
        "\n",
        "# Ajustamos a los datos (entrenamiento)\n",
        "gbc.fit(X_train,y_train)\n"
      ]
    },
    {
      "cell_type": "code",
      "execution_count": 12,
      "metadata": {
        "colab": {
          "base_uri": "https://localhost:8080/"
        },
        "id": "Cg9tAnVdK6t2",
        "outputId": "f44dee39-df71-49a5-d74d-588602237d86"
      },
      "outputs": [
        {
          "output_type": "stream",
          "name": "stdout",
          "text": [
            "[[4622  292]\n",
            " [ 602  997]]\n"
          ]
        }
      ],
      "source": [
        "# La matriz de confusión nos da los valores correctos e\n",
        "# incorrectamente clasificados\n",
        "print(confusion_matrix(y_test, gbc.predict(X_test)))"
      ]
    },
    {
      "cell_type": "code",
      "execution_count": 13,
      "metadata": {
        "colab": {
          "base_uri": "https://localhost:8080/"
        },
        "id": "Aa2LGutuK6t3",
        "outputId": "08940613-dfd2-499e-b355-4a4997599bea"
      },
      "outputs": [
        {
          "output_type": "stream",
          "name": "stdout",
          "text": [
            "GBC accuracy es 0.86\n"
          ]
        }
      ],
      "source": [
        "# Accuracy del modelo\n",
        "\n",
        "print(\"GBC accuracy es %2.2f\" % accuracy_score( \n",
        "     y_test, gbc.predict(X_test)))"
      ]
    },
    {
      "cell_type": "code",
      "execution_count": 14,
      "metadata": {
        "colab": {
          "base_uri": "https://localhost:8080/"
        },
        "id": "dv4aWkSHK6t3",
        "outputId": "700da5f2-10f4-4d0c-d96b-b6f187e87827"
      },
      "outputs": [
        {
          "output_type": "stream",
          "name": "stdout",
          "text": [
            "              precision    recall  f1-score   support\n",
            "\n",
            "       <=50K       0.88      0.94      0.91      4914\n",
            "        >50K       0.77      0.62      0.69      1599\n",
            "\n",
            "    accuracy                           0.86      6513\n",
            "   macro avg       0.83      0.78      0.80      6513\n",
            "weighted avg       0.86      0.86      0.86      6513\n",
            "\n"
          ]
        }
      ],
      "source": [
        "from sklearn.metrics import classification_report\n",
        "\n",
        "pred=gbc.predict(X_test)\n",
        "\n",
        "print(classification_report(y_test, pred))"
      ]
    },
    {
      "cell_type": "markdown",
      "metadata": {
        "id": "Z1sHBDYrK6t4"
      },
      "source": [
        "Podemos observar que las métricas anteriores que el modelo no tiene unos niveles de acierto (clasificación correcta) muy elevados, por lo que intentamos buscar otros hiperparámetros que mejoren estos resultados. Lo hacemos apoyándonos en `GridSearchCV()`, de la siguiente manera."
      ]
    },
    {
      "cell_type": "code",
      "execution_count": 15,
      "metadata": {
        "id": "555oqVBVK6t5"
      },
      "outputs": [],
      "source": [
        "from sklearn.model_selection import GridSearchCV\n",
        "import time"
      ]
    },
    {
      "cell_type": "code",
      "execution_count": null,
      "metadata": {
        "colab": {
          "base_uri": "https://localhost:8080/"
        },
        "id": "mSnE-9GdK6t5",
        "outputId": "4012d4fb-0538-4f88-db26-2889498a51a2"
      },
      "outputs": [
        {
          "output_type": "stream",
          "name": "stdout",
          "text": [
            "Comenzamos el Grid Search\n",
            "Tiempo empleado:  1158.34250998497\n",
            "Mejores parámetros: {'learning_rate': 0.05, 'max_depth': 5}\n",
            "Train Score: 0.8711609336609337\n",
            "Test Score: 0.8740979579302932\n"
          ]
        }
      ],
      "source": [
        "from pandas.core.common import random_state\n",
        "# ¡¡¡¡La ejecuación de esto tarda bastante tiempo !!!!\n",
        "start = time.time()\n",
        "print(\"Comenzamos el Grid Search\")\n",
        "# Definimos los parámetros que queremos probar\n",
        "grid = {\n",
        "    'learning_rate':[0.01,0.05,0.1],\n",
        "    'max_depth':[3,5,7]\n",
        "}\n",
        "\n",
        "\n",
        "gb = GradientBoostingClassifier(n_estimators= 400, random_state=10)\n",
        "gb_cv = GridSearchCV(gb, grid, cv = 4)\n",
        "gb_cv.fit(X_train,y_train)\n",
        "end = time.time()\n",
        "print(\"Tiempo empleado: \",end - start)\n",
        "print(\"Mejores parámetros:\",gb_cv.best_params_)\n",
        "print(\"Train Score:\",gb_cv.best_score_)\n",
        "print(\"Test Score:\",gb_cv.score(X_test,y_test))"
      ]
    },
    {
      "cell_type": "markdown",
      "metadata": {
        "id": "4vazNbkTK6t6"
      },
      "source": [
        "Observamos que algo hemos mejorado, pero no lo suficiente, por lo que intentamos también buscar el número óptimo de árboles (estimadores) que nos permita mejorar los resultado, lo hacemos de la siguiente manera:"
      ]
    },
    {
      "cell_type": "code",
      "execution_count": null,
      "metadata": {
        "colab": {
          "base_uri": "https://localhost:8080/"
        },
        "id": "OXhi_aglK6t6",
        "outputId": "c3ba0280-7545-4065-857d-69b56df395be"
      },
      "outputs": [
        {
          "output_type": "stream",
          "name": "stdout",
          "text": [
            "Mejores parámetros: {'n_estimators': 300}\n",
            "Train Score: 0.871698402948403\n",
            "Test Score: 0.8744050360816827\n"
          ]
        }
      ],
      "source": [
        "# ¡¡¡¡La ejecuación de esto tarda bastante tiempo !!!!\n",
        "\n",
        "grid = {'n_estimators':np.arange(0,500,100)}\n",
        "\n",
        "gb = GradientBoostingClassifier(learning_rate=0.05,max_depth=5)\n",
        "\n",
        "gb_cv = GridSearchCV(gb, grid, cv = 4)\n",
        "\n",
        "gb_cv.fit(X_train,y_train)\n",
        "\n",
        "print(\"Mejores parámetros:\",gb_cv.best_params_)\n",
        "\n",
        "print(\"Train Score:\",gb_cv.best_score_)\n",
        "\n",
        "print(\"Test Score:\",gb_cv.score(X_test,y_test))"
      ]
    },
    {
      "cell_type": "markdown",
      "source": [
        "En los casos de la búsqueda por Grid Search, podemos apreciar que el entrenamiento de `GradientBoostingClassifier()` emplea demasiado tiempo. \n",
        "\n",
        "Como vimos en la teoría, existe otro algoritmo llamado [`HistGradientBoostingClassifier`](https://scikit-learn.org/stable/modules/generated/sklearn.ensemble.HistGradientBoostingClassifier.html), el cual es mucho más rápidos para conjuntos de datos grandes como es este caso. Es por ello que vamos a probar el Grid Search con este otro modelo a ver si se obtienen mejores resultados en un periodo más corto de tiempo."
      ],
      "metadata": {
        "id": "fR3xZyr04cp1"
      }
    },
    {
      "cell_type": "markdown",
      "source": [
        "# HistGradientBoostingClassifier"
      ],
      "metadata": {
        "id": "iFbLXAkglo-P"
      }
    },
    {
      "cell_type": "code",
      "source": [
        "from sklearn.ensemble import HistGradientBoostingClassifier"
      ],
      "metadata": {
        "id": "MIAyNQ9zlyDs"
      },
      "execution_count": 16,
      "outputs": []
    },
    {
      "cell_type": "code",
      "execution_count": 17,
      "metadata": {
        "id": "fOelaR9kK6t6",
        "colab": {
          "base_uri": "https://localhost:8080/"
        },
        "outputId": "07768a94-81f3-4fff-c51c-a67e0953a549"
      },
      "outputs": [
        {
          "output_type": "execute_result",
          "data": {
            "text/plain": [
              "HistGradientBoostingClassifier(learning_rate=0.05, random_state=100)"
            ]
          },
          "metadata": {},
          "execution_count": 17
        }
      ],
      "source": [
        "# Definimos Gradient Boosting Classifier con algunos hiperparámetros\n",
        "hgbc=HistGradientBoostingClassifier(learning_rate=0.05,random_state=100)\n",
        "\n",
        "# Ajustamos los datos\n",
        "\n",
        "hgbc.fit(X_train,y_train)"
      ]
    },
    {
      "cell_type": "markdown",
      "source": [
        "Una vez entrenado el modelo, validamos los resultados obtenidos contra el conjunto de test."
      ],
      "metadata": {
        "id": "90MHRm3AOaiO"
      }
    },
    {
      "cell_type": "code",
      "source": [
        "# La matriz de confusión nos da los valores correctos e\n",
        "# incorrectamente clasificados\n",
        "print(confusion_matrix(y_test, hgbc.predict(X_test)))\n",
        "\n",
        "# Accuracy del modelo\n",
        "print(\"HGBC accuracy es %2.2f\" % accuracy_score( \n",
        "     y_test, gbc.predict(X_test)))"
      ],
      "metadata": {
        "colab": {
          "base_uri": "https://localhost:8080/"
        },
        "id": "8OPb_Suwl5DO",
        "outputId": "9029df78-658e-4bed-efe3-a8d40d647bdd"
      },
      "execution_count": 18,
      "outputs": [
        {
          "output_type": "stream",
          "name": "stdout",
          "text": [
            "[[4628  286]\n",
            " [ 550 1049]]\n",
            "HGBC accuracy es 0.86\n"
          ]
        }
      ]
    },
    {
      "cell_type": "markdown",
      "source": [
        "Vamos a evaluar si efectivamente esta implementación es más rápida que la anterior. Para ello realizamos el mismo tipo de GridSearch y comparamos el tiempo que lleva completar cada uno de los procesos."
      ],
      "metadata": {
        "id": "UTcV3z4WOiFW"
      }
    },
    {
      "cell_type": "code",
      "source": [
        "# ¡¡¡¡La ejecuación de esto tarda bastante tiempo !!!!\n",
        "start = time.time()\n",
        "print(\"Comenzamos el Grid Search\")\n",
        "# Definimos los parámetros que queremos probar\n",
        "grid = {\n",
        "    'learning_rate':[0.01,0.05,0.1],\n",
        "    'max_depth':[3,5,7]\n",
        "}\n",
        "\n",
        "\n",
        "hgb = HistGradientBoostingClassifier(random_state=100)\n",
        "hgb_cv = GridSearchCV(hgb, grid, cv = 4)\n",
        "hgb_cv.fit(X_train,y_train)\n",
        "end = time.time()\n",
        "print(\"Tiempo empleado: \",end - start)\n",
        "print(\"Mejores parámetros:\",hgb_cv.best_params_)\n",
        "print(\"Train Score:\",hgb_cv.best_score_)\n",
        "print(\"Test Score:\",hgb_cv.score(X_test,y_test))"
      ],
      "metadata": {
        "colab": {
          "base_uri": "https://localhost:8080/"
        },
        "id": "YTdexfISmcJj",
        "outputId": "b6882957-c1dd-4dca-b778-ef14228527dc"
      },
      "execution_count": null,
      "outputs": [
        {
          "output_type": "stream",
          "name": "stdout",
          "text": [
            "Comenzamos el Grid Search\n",
            "Tiempo empleado:  74.06858444213867\n",
            "Mejores parámetros: {'learning_rate': 0.1, 'max_depth': 7}\n",
            "Train Score: 0.8709305896805897\n",
            "Test Score: 0.8731767234761246\n"
          ]
        }
      ]
    },
    {
      "cell_type": "markdown",
      "source": [
        "Vemos que este segundo algoritmo es mucho **más rápido y los resultados son similares**. El anterior tardó 1158 seg (casi 20 mins), mientras que en este caso ha tadado 74 seg, ¡poco más de 1 minuto! 😯\n",
        "\n",
        "El motivo de este incremento de velocidad es que el algoritmo tradicional de GBT requiere la ordenación de las muestras en cada nodo del árbol (para cada atributo). Por el contrario, `HistGradientBoostingClassifier`no requieren este proceso de ordenación, en su lugar, utiliza una estructura llamada histograma, donde las muestras se ordenan de manera implícita. Este proceso de construcción del histograma se conoce como binning.\n",
        "\n",
        "Este proceso de binning requiere también la odenación de los valores, pero solo al principio del proceso de boosting y no en cada nodo como en el caso de GBT."
      ],
      "metadata": {
        "id": "bn4N8Img0T_B"
      }
    },
    {
      "cell_type": "markdown",
      "source": [
        "# ¿Existe alguna forma de evitar  `OneHotEncoding`? **CatBoost**"
      ],
      "metadata": {
        "id": "uj1SBAVcsBVJ"
      }
    },
    {
      "cell_type": "markdown",
      "source": [
        "Como se ha explicado en la parte de teoría, una de las grandes ventajas del algoritmo *CatBoos* es que no es necesario hacer ningún preprocesamiento de las variables categóricas, puesto que el algoritmo tiene ya implementado procedimientos para tratarlas de manera automática. Además podemos observar que los resultados obtenidos con este algoritmo son algo mejores que los obtenidos con `HistGradientBoostingClassifier` y `GradientBoostingClassifier`.\n",
        "\n",
        "Veamos como aplicarlo para este conjunto de datos."
      ],
      "metadata": {
        "id": "Jy5PvQMNxglS"
      }
    },
    {
      "cell_type": "code",
      "source": [
        "# Primeramente descargamos la librería\n",
        "!pip install catboost"
      ],
      "metadata": {
        "colab": {
          "base_uri": "https://localhost:8080/"
        },
        "id": "xieWsPNss-ck",
        "outputId": "ac079b04-0c57-4594-b121-b8f01213076e"
      },
      "execution_count": 19,
      "outputs": [
        {
          "output_type": "stream",
          "name": "stdout",
          "text": [
            "Looking in indexes: https://pypi.org/simple, https://us-python.pkg.dev/colab-wheels/public/simple/\n",
            "Collecting catboost\n",
            "  Downloading catboost-1.1.1-cp38-none-manylinux1_x86_64.whl (76.6 MB)\n",
            "\u001b[2K     \u001b[90m━━━━━━━━━━━━━━━━━━━━━━━━━━━━━━━━━━━━━━━━\u001b[0m \u001b[32m76.6/76.6 MB\u001b[0m \u001b[31m11.9 MB/s\u001b[0m eta \u001b[36m0:00:00\u001b[0m\n",
            "\u001b[?25hRequirement already satisfied: plotly in /usr/local/lib/python3.8/dist-packages (from catboost) (5.5.0)\n",
            "Requirement already satisfied: scipy in /usr/local/lib/python3.8/dist-packages (from catboost) (1.7.3)\n",
            "Requirement already satisfied: pandas>=0.24.0 in /usr/local/lib/python3.8/dist-packages (from catboost) (1.3.5)\n",
            "Requirement already satisfied: graphviz in /usr/local/lib/python3.8/dist-packages (from catboost) (0.10.1)\n",
            "Requirement already satisfied: matplotlib in /usr/local/lib/python3.8/dist-packages (from catboost) (3.2.2)\n",
            "Requirement already satisfied: numpy>=1.16.0 in /usr/local/lib/python3.8/dist-packages (from catboost) (1.21.6)\n",
            "Requirement already satisfied: six in /usr/local/lib/python3.8/dist-packages (from catboost) (1.15.0)\n",
            "Requirement already satisfied: pytz>=2017.3 in /usr/local/lib/python3.8/dist-packages (from pandas>=0.24.0->catboost) (2022.7.1)\n",
            "Requirement already satisfied: python-dateutil>=2.7.3 in /usr/local/lib/python3.8/dist-packages (from pandas>=0.24.0->catboost) (2.8.2)\n",
            "Requirement already satisfied: cycler>=0.10 in /usr/local/lib/python3.8/dist-packages (from matplotlib->catboost) (0.11.0)\n",
            "Requirement already satisfied: pyparsing!=2.0.4,!=2.1.2,!=2.1.6,>=2.0.1 in /usr/local/lib/python3.8/dist-packages (from matplotlib->catboost) (3.0.9)\n",
            "Requirement already satisfied: kiwisolver>=1.0.1 in /usr/local/lib/python3.8/dist-packages (from matplotlib->catboost) (1.4.4)\n",
            "Requirement already satisfied: tenacity>=6.2.0 in /usr/local/lib/python3.8/dist-packages (from plotly->catboost) (8.2.1)\n",
            "Installing collected packages: catboost\n",
            "Successfully installed catboost-1.1.1\n"
          ]
        }
      ]
    },
    {
      "cell_type": "code",
      "source": [
        "# Importamos la librería para su uso\n",
        "from catboost import CatBoostClassifier"
      ],
      "metadata": {
        "id": "qcad7O44sQob"
      },
      "execution_count": 20,
      "outputs": []
    },
    {
      "cell_type": "markdown",
      "source": [
        "Recordemos rápidamente cómo era el dataset orignal que cargamos al principio de este notebook."
      ],
      "metadata": {
        "id": "q4DqnSvH3VM5"
      }
    },
    {
      "cell_type": "code",
      "source": [
        "# dimensiones del fichero\n",
        "print(\"Dimensiones del fichero: {} filas y {} columnas\\n\".format(df.shape[0],df.shape[1]))\n",
        "# vemos algunos registros\n",
        "df.head()"
      ],
      "metadata": {
        "id": "bYQBDQajfd9q",
        "colab": {
          "base_uri": "https://localhost:8080/",
          "height": 241
        },
        "outputId": "77d09c33-4b20-45fb-981b-b477f60d8f8c"
      },
      "execution_count": 21,
      "outputs": [
        {
          "output_type": "stream",
          "name": "stdout",
          "text": [
            "Dimensiones del fichero: 32561 filas y 15 columnas\n",
            "\n"
          ]
        },
        {
          "output_type": "execute_result",
          "data": {
            "text/plain": [
              "   age          workclass   fnlwgt   education   education-num  \\\n",
              "0   39          State-gov    77516   Bachelors              13   \n",
              "1   50   Self-emp-not-inc    83311   Bachelors              13   \n",
              "2   38            Private   215646     HS-grad               9   \n",
              "3   53            Private   234721        11th               7   \n",
              "4   28            Private   338409   Bachelors              13   \n",
              "\n",
              "        marital-status          occupation    relationship    race      sex  \\\n",
              "0        Never-married        Adm-clerical   Not-in-family   White     Male   \n",
              "1   Married-civ-spouse     Exec-managerial         Husband   White     Male   \n",
              "2             Divorced   Handlers-cleaners   Not-in-family   White     Male   \n",
              "3   Married-civ-spouse   Handlers-cleaners         Husband   Black     Male   \n",
              "4   Married-civ-spouse      Prof-specialty            Wife   Black   Female   \n",
              "\n",
              "    capital-gain   capital-loss   hours-per-week  native-country  income  \n",
              "0           2174              0               40   United-States   <=50K  \n",
              "1              0              0               13   United-States   <=50K  \n",
              "2              0              0               40   United-States   <=50K  \n",
              "3              0              0               40   United-States   <=50K  \n",
              "4              0              0               40            Cuba   <=50K  "
            ],
            "text/html": [
              "\n",
              "  <div id=\"df-c9b54417-f275-430f-a09c-7d08365e51b7\">\n",
              "    <div class=\"colab-df-container\">\n",
              "      <div>\n",
              "<style scoped>\n",
              "    .dataframe tbody tr th:only-of-type {\n",
              "        vertical-align: middle;\n",
              "    }\n",
              "\n",
              "    .dataframe tbody tr th {\n",
              "        vertical-align: top;\n",
              "    }\n",
              "\n",
              "    .dataframe thead th {\n",
              "        text-align: right;\n",
              "    }\n",
              "</style>\n",
              "<table border=\"1\" class=\"dataframe\">\n",
              "  <thead>\n",
              "    <tr style=\"text-align: right;\">\n",
              "      <th></th>\n",
              "      <th>age</th>\n",
              "      <th>workclass</th>\n",
              "      <th>fnlwgt</th>\n",
              "      <th>education</th>\n",
              "      <th>education-num</th>\n",
              "      <th>marital-status</th>\n",
              "      <th>occupation</th>\n",
              "      <th>relationship</th>\n",
              "      <th>race</th>\n",
              "      <th>sex</th>\n",
              "      <th>capital-gain</th>\n",
              "      <th>capital-loss</th>\n",
              "      <th>hours-per-week</th>\n",
              "      <th>native-country</th>\n",
              "      <th>income</th>\n",
              "    </tr>\n",
              "  </thead>\n",
              "  <tbody>\n",
              "    <tr>\n",
              "      <th>0</th>\n",
              "      <td>39</td>\n",
              "      <td>State-gov</td>\n",
              "      <td>77516</td>\n",
              "      <td>Bachelors</td>\n",
              "      <td>13</td>\n",
              "      <td>Never-married</td>\n",
              "      <td>Adm-clerical</td>\n",
              "      <td>Not-in-family</td>\n",
              "      <td>White</td>\n",
              "      <td>Male</td>\n",
              "      <td>2174</td>\n",
              "      <td>0</td>\n",
              "      <td>40</td>\n",
              "      <td>United-States</td>\n",
              "      <td>&lt;=50K</td>\n",
              "    </tr>\n",
              "    <tr>\n",
              "      <th>1</th>\n",
              "      <td>50</td>\n",
              "      <td>Self-emp-not-inc</td>\n",
              "      <td>83311</td>\n",
              "      <td>Bachelors</td>\n",
              "      <td>13</td>\n",
              "      <td>Married-civ-spouse</td>\n",
              "      <td>Exec-managerial</td>\n",
              "      <td>Husband</td>\n",
              "      <td>White</td>\n",
              "      <td>Male</td>\n",
              "      <td>0</td>\n",
              "      <td>0</td>\n",
              "      <td>13</td>\n",
              "      <td>United-States</td>\n",
              "      <td>&lt;=50K</td>\n",
              "    </tr>\n",
              "    <tr>\n",
              "      <th>2</th>\n",
              "      <td>38</td>\n",
              "      <td>Private</td>\n",
              "      <td>215646</td>\n",
              "      <td>HS-grad</td>\n",
              "      <td>9</td>\n",
              "      <td>Divorced</td>\n",
              "      <td>Handlers-cleaners</td>\n",
              "      <td>Not-in-family</td>\n",
              "      <td>White</td>\n",
              "      <td>Male</td>\n",
              "      <td>0</td>\n",
              "      <td>0</td>\n",
              "      <td>40</td>\n",
              "      <td>United-States</td>\n",
              "      <td>&lt;=50K</td>\n",
              "    </tr>\n",
              "    <tr>\n",
              "      <th>3</th>\n",
              "      <td>53</td>\n",
              "      <td>Private</td>\n",
              "      <td>234721</td>\n",
              "      <td>11th</td>\n",
              "      <td>7</td>\n",
              "      <td>Married-civ-spouse</td>\n",
              "      <td>Handlers-cleaners</td>\n",
              "      <td>Husband</td>\n",
              "      <td>Black</td>\n",
              "      <td>Male</td>\n",
              "      <td>0</td>\n",
              "      <td>0</td>\n",
              "      <td>40</td>\n",
              "      <td>United-States</td>\n",
              "      <td>&lt;=50K</td>\n",
              "    </tr>\n",
              "    <tr>\n",
              "      <th>4</th>\n",
              "      <td>28</td>\n",
              "      <td>Private</td>\n",
              "      <td>338409</td>\n",
              "      <td>Bachelors</td>\n",
              "      <td>13</td>\n",
              "      <td>Married-civ-spouse</td>\n",
              "      <td>Prof-specialty</td>\n",
              "      <td>Wife</td>\n",
              "      <td>Black</td>\n",
              "      <td>Female</td>\n",
              "      <td>0</td>\n",
              "      <td>0</td>\n",
              "      <td>40</td>\n",
              "      <td>Cuba</td>\n",
              "      <td>&lt;=50K</td>\n",
              "    </tr>\n",
              "  </tbody>\n",
              "</table>\n",
              "</div>\n",
              "      <button class=\"colab-df-convert\" onclick=\"convertToInteractive('df-c9b54417-f275-430f-a09c-7d08365e51b7')\"\n",
              "              title=\"Convert this dataframe to an interactive table.\"\n",
              "              style=\"display:none;\">\n",
              "        \n",
              "  <svg xmlns=\"http://www.w3.org/2000/svg\" height=\"24px\"viewBox=\"0 0 24 24\"\n",
              "       width=\"24px\">\n",
              "    <path d=\"M0 0h24v24H0V0z\" fill=\"none\"/>\n",
              "    <path d=\"M18.56 5.44l.94 2.06.94-2.06 2.06-.94-2.06-.94-.94-2.06-.94 2.06-2.06.94zm-11 1L8.5 8.5l.94-2.06 2.06-.94-2.06-.94L8.5 2.5l-.94 2.06-2.06.94zm10 10l.94 2.06.94-2.06 2.06-.94-2.06-.94-.94-2.06-.94 2.06-2.06.94z\"/><path d=\"M17.41 7.96l-1.37-1.37c-.4-.4-.92-.59-1.43-.59-.52 0-1.04.2-1.43.59L10.3 9.45l-7.72 7.72c-.78.78-.78 2.05 0 2.83L4 21.41c.39.39.9.59 1.41.59.51 0 1.02-.2 1.41-.59l7.78-7.78 2.81-2.81c.8-.78.8-2.07 0-2.86zM5.41 20L4 18.59l7.72-7.72 1.47 1.35L5.41 20z\"/>\n",
              "  </svg>\n",
              "      </button>\n",
              "      \n",
              "  <style>\n",
              "    .colab-df-container {\n",
              "      display:flex;\n",
              "      flex-wrap:wrap;\n",
              "      gap: 12px;\n",
              "    }\n",
              "\n",
              "    .colab-df-convert {\n",
              "      background-color: #E8F0FE;\n",
              "      border: none;\n",
              "      border-radius: 50%;\n",
              "      cursor: pointer;\n",
              "      display: none;\n",
              "      fill: #1967D2;\n",
              "      height: 32px;\n",
              "      padding: 0 0 0 0;\n",
              "      width: 32px;\n",
              "    }\n",
              "\n",
              "    .colab-df-convert:hover {\n",
              "      background-color: #E2EBFA;\n",
              "      box-shadow: 0px 1px 2px rgba(60, 64, 67, 0.3), 0px 1px 3px 1px rgba(60, 64, 67, 0.15);\n",
              "      fill: #174EA6;\n",
              "    }\n",
              "\n",
              "    [theme=dark] .colab-df-convert {\n",
              "      background-color: #3B4455;\n",
              "      fill: #D2E3FC;\n",
              "    }\n",
              "\n",
              "    [theme=dark] .colab-df-convert:hover {\n",
              "      background-color: #434B5C;\n",
              "      box-shadow: 0px 1px 3px 1px rgba(0, 0, 0, 0.15);\n",
              "      filter: drop-shadow(0px 1px 2px rgba(0, 0, 0, 0.3));\n",
              "      fill: #FFFFFF;\n",
              "    }\n",
              "  </style>\n",
              "\n",
              "      <script>\n",
              "        const buttonEl =\n",
              "          document.querySelector('#df-c9b54417-f275-430f-a09c-7d08365e51b7 button.colab-df-convert');\n",
              "        buttonEl.style.display =\n",
              "          google.colab.kernel.accessAllowed ? 'block' : 'none';\n",
              "\n",
              "        async function convertToInteractive(key) {\n",
              "          const element = document.querySelector('#df-c9b54417-f275-430f-a09c-7d08365e51b7');\n",
              "          const dataTable =\n",
              "            await google.colab.kernel.invokeFunction('convertToInteractive',\n",
              "                                                     [key], {});\n",
              "          if (!dataTable) return;\n",
              "\n",
              "          const docLinkHtml = 'Like what you see? Visit the ' +\n",
              "            '<a target=\"_blank\" href=https://colab.research.google.com/notebooks/data_table.ipynb>data table notebook</a>'\n",
              "            + ' to learn more about interactive tables.';\n",
              "          element.innerHTML = '';\n",
              "          dataTable['output_type'] = 'display_data';\n",
              "          await google.colab.output.renderOutput(dataTable, element);\n",
              "          const docLink = document.createElement('div');\n",
              "          docLink.innerHTML = docLinkHtml;\n",
              "          element.appendChild(docLink);\n",
              "        }\n",
              "      </script>\n",
              "    </div>\n",
              "  </div>\n",
              "  "
            ]
          },
          "metadata": {},
          "execution_count": 21
        }
      ]
    },
    {
      "cell_type": "code",
      "source": [
        "df.dtypes"
      ],
      "metadata": {
        "colab": {
          "base_uri": "https://localhost:8080/"
        },
        "id": "Nx-acpjQsLq1",
        "outputId": "0eba1c59-10ef-44a8-b1d4-fa520274389d"
      },
      "execution_count": null,
      "outputs": [
        {
          "output_type": "execute_result",
          "data": {
            "text/plain": [
              "age                 int64\n",
              " workclass         object\n",
              " fnlwgt             int64\n",
              " education         object\n",
              " education-num      int64\n",
              " marital-status    object\n",
              " occupation        object\n",
              " relationship      object\n",
              " race              object\n",
              " sex               object\n",
              " capital-gain       int64\n",
              " capital-loss       int64\n",
              " hours-per-week     int64\n",
              " native-country    object\n",
              " income            object\n",
              "dtype: object"
            ]
          },
          "metadata": {},
          "execution_count": 97
        }
      ]
    },
    {
      "cell_type": "markdown",
      "source": [
        "Creamos un nuevo conjunto de train/test con los datos originales."
      ],
      "metadata": {
        "id": "41SOsRfd31zk"
      }
    },
    {
      "cell_type": "code",
      "source": [
        "X_train, X_test, y_train, y_test = train_test_split(df.drop(\" income\", axis=1), df[\" income\"], test_size=0.2, random_state=456)"
      ],
      "metadata": {
        "id": "4HwWo2q2sSR6"
      },
      "execution_count": 22,
      "outputs": []
    },
    {
      "cell_type": "code",
      "source": [
        "cat_clf = CatBoostClassifier(\n",
        "    iterations=50,\n",
        "    random_seed=42,\n",
        "    learning_rate=0.5,\n",
        "    custom_loss=['AUC', 'Accuracy'],\n",
        "    train_dir = \"content\" #Directorio para almacenar datos del proceso de entrenamiento\n",
        ")"
      ],
      "metadata": {
        "id": "9H9w-wVQsvTP"
      },
      "execution_count": 23,
      "outputs": []
    },
    {
      "cell_type": "code",
      "source": [
        "feat_cols = list(range(0, X_train.shape[1]))"
      ],
      "metadata": {
        "id": "RTtPLCIRtgvJ"
      },
      "execution_count": 24,
      "outputs": []
    },
    {
      "cell_type": "code",
      "source": [
        "cat_clf.fit(\n",
        "    X_train, y_train,\n",
        "    cat_features=feat_cols,\n",
        "    eval_set=(X_test, y_test)\n",
        ")"
      ],
      "metadata": {
        "colab": {
          "base_uri": "https://localhost:8080/"
        },
        "id": "QVLtSqGLtrsm",
        "outputId": "250c4091-19d9-4424-82b4-185f32999a06"
      },
      "execution_count": 25,
      "outputs": [
        {
          "output_type": "stream",
          "name": "stdout",
          "text": [
            "0:\tlearn: 0.4731143\ttest: 0.4666534\tbest: 0.4666534 (0)\ttotal: 85.1ms\tremaining: 4.17s\n",
            "1:\tlearn: 0.3927283\ttest: 0.3823539\tbest: 0.3823539 (1)\ttotal: 112ms\tremaining: 2.69s\n",
            "2:\tlearn: 0.3504563\ttest: 0.3377438\tbest: 0.3377438 (2)\ttotal: 135ms\tremaining: 2.11s\n",
            "3:\tlearn: 0.3291641\ttest: 0.3146809\tbest: 0.3146809 (3)\ttotal: 166ms\tremaining: 1.91s\n",
            "4:\tlearn: 0.3167738\ttest: 0.3008089\tbest: 0.3008089 (4)\ttotal: 187ms\tremaining: 1.68s\n",
            "5:\tlearn: 0.3073434\ttest: 0.2909214\tbest: 0.2909214 (5)\ttotal: 214ms\tremaining: 1.57s\n",
            "6:\tlearn: 0.3017504\ttest: 0.2845078\tbest: 0.2845078 (6)\ttotal: 236ms\tremaining: 1.45s\n",
            "7:\tlearn: 0.2972274\ttest: 0.2797331\tbest: 0.2797331 (7)\ttotal: 263ms\tremaining: 1.38s\n",
            "8:\tlearn: 0.2933762\ttest: 0.2753779\tbest: 0.2753779 (8)\ttotal: 285ms\tremaining: 1.3s\n",
            "9:\tlearn: 0.2914909\ttest: 0.2736517\tbest: 0.2736517 (9)\ttotal: 309ms\tremaining: 1.24s\n",
            "10:\tlearn: 0.2900955\ttest: 0.2720795\tbest: 0.2720795 (10)\ttotal: 347ms\tremaining: 1.23s\n",
            "11:\tlearn: 0.2884783\ttest: 0.2698768\tbest: 0.2698768 (11)\ttotal: 393ms\tremaining: 1.24s\n",
            "12:\tlearn: 0.2874083\ttest: 0.2687983\tbest: 0.2687983 (12)\ttotal: 418ms\tremaining: 1.19s\n",
            "13:\tlearn: 0.2849131\ttest: 0.2665867\tbest: 0.2665867 (13)\ttotal: 448ms\tremaining: 1.15s\n",
            "14:\tlearn: 0.2841178\ttest: 0.2656927\tbest: 0.2656927 (14)\ttotal: 496ms\tremaining: 1.16s\n",
            "15:\tlearn: 0.2830529\ttest: 0.2652004\tbest: 0.2652004 (15)\ttotal: 534ms\tremaining: 1.14s\n",
            "16:\tlearn: 0.2819852\ttest: 0.2647757\tbest: 0.2647757 (16)\ttotal: 602ms\tremaining: 1.17s\n",
            "17:\tlearn: 0.2810840\ttest: 0.2639927\tbest: 0.2639927 (17)\ttotal: 658ms\tremaining: 1.17s\n",
            "18:\tlearn: 0.2802997\ttest: 0.2631925\tbest: 0.2631925 (18)\ttotal: 711ms\tremaining: 1.16s\n",
            "19:\tlearn: 0.2799081\ttest: 0.2629427\tbest: 0.2629427 (19)\ttotal: 768ms\tremaining: 1.15s\n",
            "20:\tlearn: 0.2791561\ttest: 0.2625124\tbest: 0.2625124 (20)\ttotal: 828ms\tremaining: 1.14s\n",
            "21:\tlearn: 0.2786748\ttest: 0.2623444\tbest: 0.2623444 (21)\ttotal: 870ms\tremaining: 1.11s\n",
            "22:\tlearn: 0.2782747\ttest: 0.2623262\tbest: 0.2623262 (22)\ttotal: 925ms\tremaining: 1.09s\n",
            "23:\tlearn: 0.2781737\ttest: 0.2623222\tbest: 0.2623222 (23)\ttotal: 991ms\tremaining: 1.07s\n",
            "24:\tlearn: 0.2776713\ttest: 0.2617799\tbest: 0.2617799 (24)\ttotal: 1.04s\tremaining: 1.04s\n",
            "25:\tlearn: 0.2772982\ttest: 0.2616717\tbest: 0.2616717 (25)\ttotal: 1.09s\tremaining: 1s\n",
            "26:\tlearn: 0.2770972\ttest: 0.2615261\tbest: 0.2615261 (26)\ttotal: 1.13s\tremaining: 966ms\n",
            "27:\tlearn: 0.2768435\ttest: 0.2612887\tbest: 0.2612887 (27)\ttotal: 1.18s\tremaining: 927ms\n",
            "28:\tlearn: 0.2768020\ttest: 0.2613094\tbest: 0.2612887 (27)\ttotal: 1.23s\tremaining: 892ms\n",
            "29:\tlearn: 0.2764424\ttest: 0.2611948\tbest: 0.2611948 (29)\ttotal: 1.28s\tremaining: 851ms\n",
            "30:\tlearn: 0.2763287\ttest: 0.2610706\tbest: 0.2610706 (30)\ttotal: 1.32s\tremaining: 807ms\n",
            "31:\tlearn: 0.2760546\ttest: 0.2608103\tbest: 0.2608103 (31)\ttotal: 1.37s\tremaining: 770ms\n",
            "32:\tlearn: 0.2759866\ttest: 0.2607221\tbest: 0.2607221 (32)\ttotal: 1.42s\tremaining: 730ms\n",
            "33:\tlearn: 0.2757790\ttest: 0.2604578\tbest: 0.2604578 (33)\ttotal: 1.48s\tremaining: 696ms\n",
            "34:\tlearn: 0.2757510\ttest: 0.2604867\tbest: 0.2604578 (33)\ttotal: 1.52s\tremaining: 654ms\n",
            "35:\tlearn: 0.2749453\ttest: 0.2600053\tbest: 0.2600053 (35)\ttotal: 1.58s\tremaining: 616ms\n",
            "36:\tlearn: 0.2746161\ttest: 0.2596686\tbest: 0.2596686 (36)\ttotal: 1.63s\tremaining: 571ms\n",
            "37:\tlearn: 0.2743804\ttest: 0.2596066\tbest: 0.2596066 (37)\ttotal: 1.66s\tremaining: 524ms\n",
            "38:\tlearn: 0.2738619\ttest: 0.2592772\tbest: 0.2592772 (38)\ttotal: 1.72s\tremaining: 484ms\n",
            "39:\tlearn: 0.2736970\ttest: 0.2593944\tbest: 0.2592772 (38)\ttotal: 1.75s\tremaining: 439ms\n",
            "40:\tlearn: 0.2734053\ttest: 0.2591900\tbest: 0.2591900 (40)\ttotal: 1.8s\tremaining: 396ms\n",
            "41:\tlearn: 0.2732461\ttest: 0.2592414\tbest: 0.2591900 (40)\ttotal: 1.86s\tremaining: 355ms\n",
            "42:\tlearn: 0.2730956\ttest: 0.2590676\tbest: 0.2590676 (42)\ttotal: 1.9s\tremaining: 309ms\n",
            "43:\tlearn: 0.2726384\ttest: 0.2589865\tbest: 0.2589865 (43)\ttotal: 1.95s\tremaining: 267ms\n",
            "44:\tlearn: 0.2723945\ttest: 0.2588538\tbest: 0.2588538 (44)\ttotal: 2s\tremaining: 222ms\n",
            "45:\tlearn: 0.2719572\ttest: 0.2588835\tbest: 0.2588538 (44)\ttotal: 2.07s\tremaining: 180ms\n",
            "46:\tlearn: 0.2718661\ttest: 0.2588289\tbest: 0.2588289 (46)\ttotal: 2.12s\tremaining: 135ms\n",
            "47:\tlearn: 0.2717635\ttest: 0.2589005\tbest: 0.2588289 (46)\ttotal: 2.17s\tremaining: 90.2ms\n",
            "48:\tlearn: 0.2712530\ttest: 0.2587142\tbest: 0.2587142 (48)\ttotal: 2.21s\tremaining: 45.1ms\n",
            "49:\tlearn: 0.2709861\ttest: 0.2586282\tbest: 0.2586282 (49)\ttotal: 2.26s\tremaining: 0us\n",
            "\n",
            "bestTest = 0.2586282442\n",
            "bestIteration = 49\n",
            "\n"
          ]
        },
        {
          "output_type": "execute_result",
          "data": {
            "text/plain": [
              "<catboost.core.CatBoostClassifier at 0x7fc3accf55e0>"
            ]
          },
          "metadata": {},
          "execution_count": 25
        }
      ]
    },
    {
      "cell_type": "code",
      "source": [
        "print(confusion_matrix(y_test, cat_clf.predict(X_test)))"
      ],
      "metadata": {
        "colab": {
          "base_uri": "https://localhost:8080/"
        },
        "id": "3yLjujXnt1eV",
        "outputId": "a8dc054c-388a-444f-faeb-e16bfeffeacb"
      },
      "execution_count": 26,
      "outputs": [
        {
          "output_type": "stream",
          "name": "stdout",
          "text": [
            "[[4691  263]\n",
            " [ 508 1051]]\n"
          ]
        }
      ]
    },
    {
      "cell_type": "code",
      "source": [
        "print(\"GBC accuracy is %2.2f\" % accuracy_score( \n",
        "     y_test, cat_clf.predict(X_test)))"
      ],
      "metadata": {
        "colab": {
          "base_uri": "https://localhost:8080/"
        },
        "id": "dj7qFUv-uah3",
        "outputId": "41f20646-e49d-4a37-cadb-08a6f150ca01"
      },
      "execution_count": 27,
      "outputs": [
        {
          "output_type": "stream",
          "name": "stdout",
          "text": [
            "GBC accuracy is 0.88\n"
          ]
        }
      ]
    },
    {
      "cell_type": "code",
      "source": [
        "from sklearn.metrics import classification_report\n",
        "\n",
        "pred=cat_clf.predict(X_test)\n",
        "\n",
        "print(classification_report(y_test, pred))"
      ],
      "metadata": {
        "colab": {
          "base_uri": "https://localhost:8080/"
        },
        "id": "ypEx2qFOuWGe",
        "outputId": "d502be3b-7a51-4517-c11c-310b3157bda8"
      },
      "execution_count": 28,
      "outputs": [
        {
          "output_type": "stream",
          "name": "stdout",
          "text": [
            "              precision    recall  f1-score   support\n",
            "\n",
            "       <=50K       0.90      0.95      0.92      4954\n",
            "        >50K       0.80      0.67      0.73      1559\n",
            "\n",
            "    accuracy                           0.88      6513\n",
            "   macro avg       0.85      0.81      0.83      6513\n",
            "weighted avg       0.88      0.88      0.88      6513\n",
            "\n"
          ]
        }
      ]
    },
    {
      "cell_type": "code",
      "source": [
        "from pandas.core.common import random_state\n",
        "from sklearn.model_selection import GridSearchCV\n",
        "import time\n",
        "# ¡¡¡¡La ejecuación de esto tarda bastante tiempo !!!!\n",
        "start = time.time()\n",
        "print(\"Comenzamos el Grid Search\")\n",
        "# Definimos los parámetros que queremos probar\n",
        "grid = {\n",
        "    'learning_rate':[0.01,0.05,0.1],\n",
        "    'depth':[3,5,7]\n",
        "}\n",
        "\n",
        "\n",
        "cb = CatBoostClassifier(n_estimators= 400, random_state=10)\n",
        "cb_cv = GridSearchCV(cb, grid, cv = 4)\n",
        "cb_cv.fit(X_train,y_train,\n",
        "          cat_features=feat_cols,\n",
        "          eval_set=(X_test, y_test),\n",
        "          verbose=False)\n",
        "end = time.time()\n",
        "print(\"Tiempo empleado: \",end - start)\n",
        "print(\"Mejores parámetros:\",cb_cv.best_params_)\n",
        "print(\"Train Score:\",cb_cv.best_score_)\n",
        "print(\"Test Score:\",cb_cv.score(X_test,y_test))"
      ],
      "metadata": {
        "colab": {
          "base_uri": "https://localhost:8080/"
        },
        "outputId": "bc3c756d-a9c9-4723-8fa3-299c1a53a04a",
        "id": "jw7yQ6sM6j2V"
      },
      "execution_count": null,
      "outputs": [
        {
          "output_type": "stream",
          "name": "stdout",
          "text": [
            "Comenzamos el Grid Search\n",
            "Tiempo empleado:  605.0252690315247\n",
            "Mejores parámetros: {'learning_rate': 0.05, 'max_depth': 3}\n",
            "Train Score: 0.8730804668304668\n",
            "Test Score: 0.8811607554122525\n"
          ]
        }
      ]
    },
    {
      "cell_type": "markdown",
      "source": [
        "Tarda menos que `GradientBoostingClassifier`, pero más que `HistGradientBoostingClassifier`. Esto puede deberse, entre otros motivos, al tratamiento automático que hace de las variables categoricas."
      ],
      "metadata": {
        "id": "WzOKQW1Q6q8t"
      }
    },
    {
      "cell_type": "code",
      "source": [],
      "metadata": {
        "id": "nu_n89BuZznB"
      },
      "execution_count": null,
      "outputs": []
    }
  ],
  "metadata": {
    "kernelspec": {
      "display_name": "Python 3",
      "language": "python",
      "name": "python3"
    },
    "language_info": {
      "codemirror_mode": {
        "name": "ipython",
        "version": 3
      },
      "file_extension": ".py",
      "mimetype": "text/x-python",
      "name": "python",
      "nbconvert_exporter": "python",
      "pygments_lexer": "ipython3",
      "version": "3.7.6"
    },
    "toc": {
      "base_numbering": 1,
      "nav_menu": {},
      "number_sections": true,
      "sideBar": true,
      "skip_h1_title": false,
      "title_cell": "Table of Contents",
      "title_sidebar": "Contents",
      "toc_cell": false,
      "toc_position": {},
      "toc_section_display": true,
      "toc_window_display": true
    },
    "varInspector": {
      "cols": {
        "lenName": 16,
        "lenType": 16,
        "lenVar": 40
      },
      "kernels_config": {
        "python": {
          "delete_cmd_postfix": "",
          "delete_cmd_prefix": "del ",
          "library": "var_list.py",
          "varRefreshCmd": "print(var_dic_list())"
        },
        "r": {
          "delete_cmd_postfix": ") ",
          "delete_cmd_prefix": "rm(",
          "library": "var_list.r",
          "varRefreshCmd": "cat(var_dic_list()) "
        }
      },
      "types_to_exclude": [
        "module",
        "function",
        "builtin_function_or_method",
        "instance",
        "_Feature"
      ],
      "window_display": false
    },
    "colab": {
      "provenance": [],
      "include_colab_link": true
    }
  },
  "nbformat": 4,
  "nbformat_minor": 0
}