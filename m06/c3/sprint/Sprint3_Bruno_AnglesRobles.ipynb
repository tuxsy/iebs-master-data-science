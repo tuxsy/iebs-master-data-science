{
  "cells": [
    {
      "cell_type": "markdown",
      "metadata": {
        "id": "view-in-github",
        "colab_type": "text"
      },
      "source": [
        "<a href=\"https://colab.research.google.com/github/tuxsy/iebs-master-data-science/blob/main/m06/c3/sprint/Sprint3_Bruno_AnglesRobles.ipynb\" target=\"_parent\"><img src=\"https://colab.research.google.com/assets/colab-badge.svg\" alt=\"Open In Colab\"/></a>"
      ]
    },
    {
      "cell_type": "markdown",
      "metadata": {
        "id": "Wt8CRU2dPBKL"
      },
      "source": [
        "# Datos del alumno\n",
        "\n",
        "**Nombre**: Bruno\n",
        "\n",
        "\n",
        "**Apellidos**: Anglés Robles\n",
        "\n",
        "\n",
        "**Grupo:** B2"
      ]
    },
    {
      "cell_type": "markdown",
      "metadata": {
        "id": "TavneBS6aYu6"
      },
      "source": [
        "# Introducción\n",
        "\n",
        "El cliente ya se encuentra más cómodo con la explicación que le hemos aportado con los árboles de decisión, y nos ha solicitado continuar por esa vía, intentando mejorar los resultados. Para ello vamos a emplear los métodos de ensemble que utilicen como modelo base los árboles de decisión.\n",
        "\n",
        "**Concretamente se pide:**\n",
        "\n",
        "- Aplicar al menos dos tipos diferentes de ensemble (uno de Bagging y otro de Boosting) de los vistos en clase, empleando como modelo base los árboles de decisión y probando con dos configuraciones de hiperparámetros diferentes para cada tipo de ensemble elegido.\n",
        "- Comparar y discutir los resultados, identificando el mejor ensemble en cuanto a poder predictivo.\n",
        "- Obtención de las variables más relevantes del modelo. ¿Tiene sentido que sean las variables con mayor peso?\n",
        "- PARTE OPCIONAL: utiliza para algún método de ensemble que lo permita (AdaBoostClassifier, BaggingClassifier, etc.)  un modelo base diferente a los árboles de decisión y estudiar la influencia que tiene en los resultados, así como en la varianza y sesgo.\n",
        "\n",
        "\n",
        "Este cuaderno es una continuación del que se desarrolló en los sprints 1 y 2\n",
        "\n",
        "- Enlace Google Colab: [Sprint 1](https://colab.research.google.com/drive/1E_PXauQA95SVK2Y19QILm8avfqGFdm9U?usp=sharing), [Sprint 2](https://colab.research.google.com/drive/1GAhs1dnr50ULcBYIsxMbl3vgw5CgRItz?usp=share_link)\n",
        "- Enlace Github: [Sprint 1](https://github.com/tuxsy/iebs-master-data-science/blob/main/m06/c1/sprint/Sprint1_Bruno_AnglesRobles.ipynb), [Sprint 2](https://github.com/tuxsy/iebs-master-data-science/blob/main/m06/c2/sprint/Sprint2_Bruno_Angl%C3%A9sRobles_ipynb.ipynb)\n"
      ]
    },
    {
      "cell_type": "markdown",
      "metadata": {
        "id": "htXkYCDIbOhu"
      },
      "source": [
        "# Preparación"
      ]
    },
    {
      "cell_type": "code",
      "execution_count": 1,
      "metadata": {
        "id": "oivcDAYNbSaf"
      },
      "outputs": [],
      "source": [
        "# IMPORTACIÓN DE LIBRERÍAS\n",
        "\n",
        "import pandas as pd\n",
        "import numpy as np\n",
        "from scipy import stats\n",
        "import matplotlib.pyplot as plt\n",
        "from mpl_toolkits.mplot3d import Axes3D\n",
        "import seaborn as sns\n",
        "from matplotlib import style\n",
        "from sklearn.model_selection import train_test_split # Importamos función train_test_split \n",
        "from sklearn import metrics #Importamos métricas del módulo de scikit-learn para calcular lel accuracy del modelo\n",
        "# style.use('ggplot') or plt.style.use('ggplot')\n",
        "from IPython.display import display\n",
        "import time\n",
        "import warnings\n",
        "warnings.filterwarnings('ignore')\n",
        "%matplotlib inline"
      ]
    },
    {
      "cell_type": "code",
      "execution_count": 2,
      "metadata": {
        "colab": {
          "base_uri": "https://localhost:8080/",
          "height": 521
        },
        "id": "ke6t4kLqbtyp",
        "outputId": "ef8616e0-d062-431e-b15e-9cdd00d7e834"
      },
      "outputs": [
        {
          "output_type": "stream",
          "name": "stdout",
          "text": [
            "--2023-02-22 18:25:18--  https://drive.google.com/uc?export=download&id=1ZwgdmI525zInDh1SQVm7FZt8kWxfrvOK\n",
            "Resolving drive.google.com (drive.google.com)... 142.251.111.138, 142.251.111.139, 142.251.111.101, ...\n",
            "Connecting to drive.google.com (drive.google.com)|142.251.111.138|:443... connected.\n",
            "HTTP request sent, awaiting response... 303 See Other\n",
            "Location: https://doc-08-b0-docs.googleusercontent.com/docs/securesc/ha0ro937gcuc7l7deffksulhg5h7mbp1/qgs2l4b4j83vbv90p094lj495rgmj77h/1677090300000/14644984037434537262/*/1ZwgdmI525zInDh1SQVm7FZt8kWxfrvOK?e=download&uuid=99408fc9-9e23-4454-94fc-c0c8961035e7 [following]\n",
            "Warning: wildcards not supported in HTTP.\n",
            "--2023-02-22 18:25:18--  https://doc-08-b0-docs.googleusercontent.com/docs/securesc/ha0ro937gcuc7l7deffksulhg5h7mbp1/qgs2l4b4j83vbv90p094lj495rgmj77h/1677090300000/14644984037434537262/*/1ZwgdmI525zInDh1SQVm7FZt8kWxfrvOK?e=download&uuid=99408fc9-9e23-4454-94fc-c0c8961035e7\n",
            "Resolving doc-08-b0-docs.googleusercontent.com (doc-08-b0-docs.googleusercontent.com)... 142.251.163.132, 2607:f8b0:4004:c1b::84\n",
            "Connecting to doc-08-b0-docs.googleusercontent.com (doc-08-b0-docs.googleusercontent.com)|142.251.163.132|:443... connected.\n",
            "HTTP request sent, awaiting response... 200 OK\n",
            "Length: 551779 (539K) [text/csv]\n",
            "Saving to: ‘Rotacion_empleados.csv’\n",
            "\n",
            "Rotacion_empleados. 100%[===================>] 538.85K  --.-KB/s    in 0.007s  \n",
            "\n",
            "2023-02-22 18:25:18 (75.1 MB/s) - ‘Rotacion_empleados.csv’ saved [551779/551779]\n",
            "\n"
          ]
        },
        {
          "output_type": "execute_result",
          "data": {
            "text/plain": [
              "   satisfaction_level  last_evaluation  number_project  average_montly_hours  \\\n",
              "0                0.38             0.53               2                   157   \n",
              "1                0.80             0.86               5                   262   \n",
              "2                0.11             0.88               7                   272   \n",
              "3                0.72             0.87               5                   223   \n",
              "4                0.37             0.52               2                   159   \n",
              "\n",
              "   time_spend_company  Work_accident  left  promotion_last_5years department  \\\n",
              "0                   3              0     1                      0      sales   \n",
              "1                   6              0     1                      0      sales   \n",
              "2                   4              0     1                      0      sales   \n",
              "3                   5              0     1                      0      sales   \n",
              "4                   3              0     1                      0      sales   \n",
              "\n",
              "   salary  \n",
              "0     low  \n",
              "1  medium  \n",
              "2  medium  \n",
              "3     low  \n",
              "4     low  "
            ],
            "text/html": [
              "\n",
              "  <div id=\"df-e0c89c4a-f3b1-4857-a6d3-abd0c7970444\">\n",
              "    <div class=\"colab-df-container\">\n",
              "      <div>\n",
              "<style scoped>\n",
              "    .dataframe tbody tr th:only-of-type {\n",
              "        vertical-align: middle;\n",
              "    }\n",
              "\n",
              "    .dataframe tbody tr th {\n",
              "        vertical-align: top;\n",
              "    }\n",
              "\n",
              "    .dataframe thead th {\n",
              "        text-align: right;\n",
              "    }\n",
              "</style>\n",
              "<table border=\"1\" class=\"dataframe\">\n",
              "  <thead>\n",
              "    <tr style=\"text-align: right;\">\n",
              "      <th></th>\n",
              "      <th>satisfaction_level</th>\n",
              "      <th>last_evaluation</th>\n",
              "      <th>number_project</th>\n",
              "      <th>average_montly_hours</th>\n",
              "      <th>time_spend_company</th>\n",
              "      <th>Work_accident</th>\n",
              "      <th>left</th>\n",
              "      <th>promotion_last_5years</th>\n",
              "      <th>department</th>\n",
              "      <th>salary</th>\n",
              "    </tr>\n",
              "  </thead>\n",
              "  <tbody>\n",
              "    <tr>\n",
              "      <th>0</th>\n",
              "      <td>0.38</td>\n",
              "      <td>0.53</td>\n",
              "      <td>2</td>\n",
              "      <td>157</td>\n",
              "      <td>3</td>\n",
              "      <td>0</td>\n",
              "      <td>1</td>\n",
              "      <td>0</td>\n",
              "      <td>sales</td>\n",
              "      <td>low</td>\n",
              "    </tr>\n",
              "    <tr>\n",
              "      <th>1</th>\n",
              "      <td>0.80</td>\n",
              "      <td>0.86</td>\n",
              "      <td>5</td>\n",
              "      <td>262</td>\n",
              "      <td>6</td>\n",
              "      <td>0</td>\n",
              "      <td>1</td>\n",
              "      <td>0</td>\n",
              "      <td>sales</td>\n",
              "      <td>medium</td>\n",
              "    </tr>\n",
              "    <tr>\n",
              "      <th>2</th>\n",
              "      <td>0.11</td>\n",
              "      <td>0.88</td>\n",
              "      <td>7</td>\n",
              "      <td>272</td>\n",
              "      <td>4</td>\n",
              "      <td>0</td>\n",
              "      <td>1</td>\n",
              "      <td>0</td>\n",
              "      <td>sales</td>\n",
              "      <td>medium</td>\n",
              "    </tr>\n",
              "    <tr>\n",
              "      <th>3</th>\n",
              "      <td>0.72</td>\n",
              "      <td>0.87</td>\n",
              "      <td>5</td>\n",
              "      <td>223</td>\n",
              "      <td>5</td>\n",
              "      <td>0</td>\n",
              "      <td>1</td>\n",
              "      <td>0</td>\n",
              "      <td>sales</td>\n",
              "      <td>low</td>\n",
              "    </tr>\n",
              "    <tr>\n",
              "      <th>4</th>\n",
              "      <td>0.37</td>\n",
              "      <td>0.52</td>\n",
              "      <td>2</td>\n",
              "      <td>159</td>\n",
              "      <td>3</td>\n",
              "      <td>0</td>\n",
              "      <td>1</td>\n",
              "      <td>0</td>\n",
              "      <td>sales</td>\n",
              "      <td>low</td>\n",
              "    </tr>\n",
              "  </tbody>\n",
              "</table>\n",
              "</div>\n",
              "      <button class=\"colab-df-convert\" onclick=\"convertToInteractive('df-e0c89c4a-f3b1-4857-a6d3-abd0c7970444')\"\n",
              "              title=\"Convert this dataframe to an interactive table.\"\n",
              "              style=\"display:none;\">\n",
              "        \n",
              "  <svg xmlns=\"http://www.w3.org/2000/svg\" height=\"24px\"viewBox=\"0 0 24 24\"\n",
              "       width=\"24px\">\n",
              "    <path d=\"M0 0h24v24H0V0z\" fill=\"none\"/>\n",
              "    <path d=\"M18.56 5.44l.94 2.06.94-2.06 2.06-.94-2.06-.94-.94-2.06-.94 2.06-2.06.94zm-11 1L8.5 8.5l.94-2.06 2.06-.94-2.06-.94L8.5 2.5l-.94 2.06-2.06.94zm10 10l.94 2.06.94-2.06 2.06-.94-2.06-.94-.94-2.06-.94 2.06-2.06.94z\"/><path d=\"M17.41 7.96l-1.37-1.37c-.4-.4-.92-.59-1.43-.59-.52 0-1.04.2-1.43.59L10.3 9.45l-7.72 7.72c-.78.78-.78 2.05 0 2.83L4 21.41c.39.39.9.59 1.41.59.51 0 1.02-.2 1.41-.59l7.78-7.78 2.81-2.81c.8-.78.8-2.07 0-2.86zM5.41 20L4 18.59l7.72-7.72 1.47 1.35L5.41 20z\"/>\n",
              "  </svg>\n",
              "      </button>\n",
              "      \n",
              "  <style>\n",
              "    .colab-df-container {\n",
              "      display:flex;\n",
              "      flex-wrap:wrap;\n",
              "      gap: 12px;\n",
              "    }\n",
              "\n",
              "    .colab-df-convert {\n",
              "      background-color: #E8F0FE;\n",
              "      border: none;\n",
              "      border-radius: 50%;\n",
              "      cursor: pointer;\n",
              "      display: none;\n",
              "      fill: #1967D2;\n",
              "      height: 32px;\n",
              "      padding: 0 0 0 0;\n",
              "      width: 32px;\n",
              "    }\n",
              "\n",
              "    .colab-df-convert:hover {\n",
              "      background-color: #E2EBFA;\n",
              "      box-shadow: 0px 1px 2px rgba(60, 64, 67, 0.3), 0px 1px 3px 1px rgba(60, 64, 67, 0.15);\n",
              "      fill: #174EA6;\n",
              "    }\n",
              "\n",
              "    [theme=dark] .colab-df-convert {\n",
              "      background-color: #3B4455;\n",
              "      fill: #D2E3FC;\n",
              "    }\n",
              "\n",
              "    [theme=dark] .colab-df-convert:hover {\n",
              "      background-color: #434B5C;\n",
              "      box-shadow: 0px 1px 3px 1px rgba(0, 0, 0, 0.15);\n",
              "      filter: drop-shadow(0px 1px 2px rgba(0, 0, 0, 0.3));\n",
              "      fill: #FFFFFF;\n",
              "    }\n",
              "  </style>\n",
              "\n",
              "      <script>\n",
              "        const buttonEl =\n",
              "          document.querySelector('#df-e0c89c4a-f3b1-4857-a6d3-abd0c7970444 button.colab-df-convert');\n",
              "        buttonEl.style.display =\n",
              "          google.colab.kernel.accessAllowed ? 'block' : 'none';\n",
              "\n",
              "        async function convertToInteractive(key) {\n",
              "          const element = document.querySelector('#df-e0c89c4a-f3b1-4857-a6d3-abd0c7970444');\n",
              "          const dataTable =\n",
              "            await google.colab.kernel.invokeFunction('convertToInteractive',\n",
              "                                                     [key], {});\n",
              "          if (!dataTable) return;\n",
              "\n",
              "          const docLinkHtml = 'Like what you see? Visit the ' +\n",
              "            '<a target=\"_blank\" href=https://colab.research.google.com/notebooks/data_table.ipynb>data table notebook</a>'\n",
              "            + ' to learn more about interactive tables.';\n",
              "          element.innerHTML = '';\n",
              "          dataTable['output_type'] = 'display_data';\n",
              "          await google.colab.output.renderOutput(dataTable, element);\n",
              "          const docLink = document.createElement('div');\n",
              "          docLink.innerHTML = docLinkHtml;\n",
              "          element.appendChild(docLink);\n",
              "        }\n",
              "      </script>\n",
              "    </div>\n",
              "  </div>\n",
              "  "
            ]
          },
          "metadata": {},
          "execution_count": 2
        }
      ],
      "source": [
        "# CARGA DE DATOS\n",
        "!wget --no-check-certificate 'https://drive.google.com/uc?export=download&id=1ZwgdmI525zInDh1SQVm7FZt8kWxfrvOK' -O 'Rotacion_empleados.csv'\n",
        "datos = pd.read_csv(\"Rotacion_empleados.csv\")\n",
        "# El dataset contiene una varialbe llamada \"sales\" que debemos renombrar a \"department\"\n",
        "datos = datos.rename(columns={\"sales\": \"department\"})\n",
        "datos.head()"
      ]
    },
    {
      "cell_type": "code",
      "source": [
        "# COPIA DE SEGURIDAD\n",
        "datos_orig = datos.loc[:,:]"
      ],
      "metadata": {
        "id": "l55hjhNrLlP5"
      },
      "execution_count": 3,
      "outputs": []
    },
    {
      "cell_type": "markdown",
      "metadata": {
        "id": "v5614PBZcT_6"
      },
      "source": [
        "En este caso la variable a predecir es left: `{1: abandonó, 0: no abandonó}`.\n",
        "\n",
        "Los datos contienen dos variables categóricas: `department, salary`. Que vamos a tener que transformar a numéricas.\n",
        "\n",
        "- Usaré la técnica de OneHotEncoding para `department` ya que esta variable no está ordenada.\n",
        "- La variable `salary` la transformaré manualmente según el orden: `{1: low, 2: medium, 3: high}`."
      ]
    },
    {
      "cell_type": "code",
      "execution_count": 4,
      "metadata": {
        "colab": {
          "base_uri": "https://localhost:8080/"
        },
        "id": "IUYTSaE5d6Mg",
        "outputId": "2aa8de94-bc72-4bc1-fb33-8b0a6b278221"
      },
      "outputs": [
        {
          "output_type": "stream",
          "name": "stdout",
          "text": [
            "Before: ['sales' 'sales' 'sales' 'sales' 'sales' 'sales' 'sales' 'sales' 'sales'\n",
            " 'sales' 'sales']\n",
            "After: [[0 0 0 0 0 0 0 1 0 0]\n",
            " [0 0 0 0 0 0 0 1 0 0]\n",
            " [0 0 0 0 0 0 0 1 0 0]\n",
            " [0 0 0 0 0 0 0 1 0 0]\n",
            " [0 0 0 0 0 0 0 1 0 0]\n",
            " [0 0 0 0 0 0 0 1 0 0]\n",
            " [0 0 0 0 0 0 0 1 0 0]\n",
            " [0 0 0 0 0 0 0 1 0 0]\n",
            " [0 0 0 0 0 0 0 1 0 0]\n",
            " [0 0 0 0 0 0 0 1 0 0]\n",
            " [0 0 0 0 0 0 0 1 0 0]]\n"
          ]
        }
      ],
      "source": [
        "# Transformación de la variable categórica \"department\"\n",
        "\n",
        "print(\"Before:\", datos.loc[:10, \"department\"].values)\n",
        "\n",
        "datos = (\n",
        "    pd.get_dummies(\n",
        "        datos, \n",
        "        columns=[\"department\"],\n",
        "        )\n",
        "    )\n",
        "\n",
        "print(\"After:\", datos.loc[:10, [c for c in datos.columns if \"department\" in c]].values)"
      ]
    },
    {
      "cell_type": "code",
      "execution_count": 5,
      "metadata": {
        "colab": {
          "base_uri": "https://localhost:8080/"
        },
        "id": "smNh9wc-evTE",
        "outputId": "7dc7835e-d48d-4ef8-8e11-9688a03e0896"
      },
      "outputs": [
        {
          "output_type": "stream",
          "name": "stdout",
          "text": [
            "Before: {'high', 'low', 'medium'}\n",
            "After: {1, 2, 3}\n"
          ]
        }
      ],
      "source": [
        "# Transformación de la variable categórica \"salary\"\n",
        "print(\"Before:\", set(datos.salary))\n",
        "datos.salary = datos.salary.map({\"low\": 1, \"medium\": 2, \"high\":3})\n",
        "print(\"After:\", set(datos.salary))"
      ]
    },
    {
      "cell_type": "markdown",
      "metadata": {
        "id": "55BEJEE5hjt8"
      },
      "source": [
        "# Análisis exploratorio"
      ]
    },
    {
      "cell_type": "code",
      "execution_count": 6,
      "metadata": {
        "colab": {
          "base_uri": "https://localhost:8080/",
          "height": 1000
        },
        "id": "l3UAVAyuhoco",
        "outputId": "ad034369-7f69-4628-c3ca-bf540feebe9c"
      },
      "outputs": [
        {
          "output_type": "display_data",
          "data": {
            "text/plain": [
              "<Figure size 864x1440 with 18 Axes>"
            ],
            "image/png": "[encoded data removed]"
          },
          "metadata": {
            "needs_background": "light"
          }
        }
      ],
      "source": [
        "# Mostramos los histogramas de las variables explicativas\n",
        "features = datos.columns[datos.columns != \"left\"]\n",
        "colors = [\"red\", \"blue\", \"orange\", \"green\", \"cyan\", \"brown\", \"black\"]\n",
        "\n",
        "cols = 2\n",
        "rows = int(np.ceil(len(features) / cols))\n",
        "f, axes = plt.subplots(rows, cols, figsize=(12, 20))\n",
        "for i, var in enumerate(features):\n",
        "  a = int(np.floor(i / cols))\n",
        "  b = int(i % cols)\n",
        "  c = colors[i % len(colors)]\n",
        "  sns.histplot(datos[var], color=c, ax=axes[a, b] , kde=True)\n",
        "\n",
        "plt.tight_layout()"
      ]
    },
    {
      "cell_type": "markdown",
      "metadata": {
        "id": "76a9S9GplSEL"
      },
      "source": [
        "La mayoría de variables son discretas y están en el rango `[0. 1]`. Hay algunas variables discretas con un rango distinto y otras son contínuas.\n",
        "\n",
        "Como los métodos de *Bagging* y *Boosting* van a estar basados en árboles de decisión no necesitaremos transformar las variables.\n",
        "\n",
        "Voy a centrarme ahora en la variable a predecir (`left`)"
      ]
    },
    {
      "cell_type": "code",
      "execution_count": 7,
      "metadata": {
        "colab": {
          "base_uri": "https://localhost:8080/",
          "height": 330
        },
        "id": "pdgBthaVm1a4",
        "outputId": "ea272869-0754-49a8-bd02-8d2c9f31f823"
      },
      "outputs": [
        {
          "output_type": "display_data",
          "data": {
            "text/plain": [
              "<Figure size 432x288 with 1 Axes>"
            ],
            "image/png": "[encoded data removed]"
          },
          "metadata": {
            "needs_background": "light"
          }
        },
        {
          "output_type": "stream",
          "name": "stdout",
          "text": [
            "0    11428\n",
            "1     3571\n",
            "Name: left, dtype: int64\n"
          ]
        }
      ],
      "source": [
        "# Mostramos la distribución de la variable a predecir\n",
        "\n",
        "value_counts = datos.left.value_counts()\n",
        "plt.title(\"Distribución de la variable a predecir\")\n",
        "value_counts.plot(kind=\"bar\")\n",
        "plt.show()\n",
        "print(value_counts)"
      ]
    },
    {
      "cell_type": "markdown",
      "metadata": {
        "id": "IJEjJD20pIFc"
      },
      "source": [
        "Vemos que tenemos un problema de desbalanceo. Hay más casos de \"no abandono\" que de \"abandono\". Esto puede representar un problema con los árboles de decisión.\n",
        "\n",
        "Para abordar este problema voy a usar la técnica de *Cross Validation*, concretamente mediante *Stratified KFold*."
      ]
    },
    {
      "cell_type": "markdown",
      "metadata": {
        "id": "9glHyieSr_QE"
      },
      "source": [
        "# Muestreo\n",
        "\n",
        "En esta sección no vamos a hacer la típica separación entre *train* y *test*, eso se lo dejamos *StratifiedKFold*.\n",
        "\n",
        "La separación entre *train* y *test* se hará a la hora de entrenar cada modelo según las particiones de datos que determine el algoritmo."
      ]
    },
    {
      "cell_type": "code",
      "execution_count": 8,
      "metadata": {
        "id": "kS_p1lmIsFmE"
      },
      "outputs": [],
      "source": [
        "# Separamos el conjunto de datos en features (X) y target (y)\n",
        "X = datos.loc[:, datos.columns != \"left\"].values\n",
        "y = datos.loc[:, datos.columns == \"left\"].values.flatten()"
      ]
    },
    {
      "cell_type": "code",
      "source": [
        "# Instanca de StratifiedKFold que reutilizaremos a lo largo del cuaderno\n",
        "from sklearn.model_selection import StratifiedKFold, cross_val_predict, cross_val_score\n",
        "\n",
        "n_folds = 5\n",
        "skf = StratifiedKFold(n_splits=n_folds, shuffle = True, random_state = 42)\n",
        "\n"
      ],
      "metadata": {
        "id": "TMLYYla5l4SJ"
      },
      "execution_count": 9,
      "outputs": []
    },
    {
      "cell_type": "markdown",
      "metadata": {
        "id": "cqbQW74bsyDp"
      },
      "source": [
        "# Entrenamiento algoritmo de Bagging\n",
        "\n",
        "Como algoritmo de *bagging* usaremos un **Random Forest**. \n",
        "\n",
        "Como en el sprint pasado ya entrenamos árboles de decisión sabemos a partir de qué profundidad éstos empiezan a sobreentrenar. Usaremos esta información para limitar la profundidad máxima de nuestros árboles.\n",
        "\n",
        "Para la primera selección de hiperparámetros empezaremos con la profundidad en la que entrenamos el árbol de decisión en el sprint pasado."
      ]
    },
    {
      "cell_type": "code",
      "source": [
        "# Especificamos el primer hiperparámetro con el que vamos a entrenar\n",
        "max_depth = 4\n",
        "\n",
        "# No nos importa entrenar árboles más profundos siempre que no sobrepasemos\n",
        "#   la profundidad a la que sabemos que éstos empiezan a sobreentrenar.\n",
        "max_depth_range = np.arange(4, 10)"
      ],
      "metadata": {
        "id": "mfciuj0Bm2Rv"
      },
      "execution_count": 10,
      "outputs": []
    },
    {
      "cell_type": "markdown",
      "source": [
        "## Primer conjunto de hiperparámetros"
      ],
      "metadata": {
        "id": "gZT9ZY62TK8i"
      }
    },
    {
      "cell_type": "code",
      "source": [
        "# ENTRENAMIENTO DE RANDOM FOREST\n",
        "from sklearn.ensemble import RandomForestClassifier\n",
        "\n",
        "\n",
        "rf_1 = RandomForestClassifier(\n",
        "    max_depth = max_depth,\n",
        "    n_estimators=100, n_jobs=-1, random_state=42)\n",
        "print(\"RandomForest #1:\", rf_1)\n",
        "print()\n",
        "\n",
        "\n",
        "train_scores_rf_1 = []\n",
        "test_scores_rf_1 = []\n",
        "\n",
        "start = time.time()\n",
        "for train_index, test_index in skf.split(X, y):\n",
        "    X_train = datos.iloc[train_index].loc[:, features]\n",
        "    X_test = datos.iloc[test_index].loc[:,features]\n",
        "    y_train = datos.iloc[train_index].loc[:,'left']\n",
        "    y_test = datos.loc[test_index].loc[:,'left']\n",
        "\n",
        "    rf_1.fit(X_train, y_train) #Training the model\n",
        "\n",
        "    # Save train / test scores\n",
        "    train_scores_rf_1.append(rf_1.score(X_train, y_train))\n",
        "    test_scores_rf_1.append(rf_1.score(X_test, y_test))\n",
        "end = time.time()\n",
        "\n",
        "print(f\"Tiempo empleado: {end - start:.2f} segundos\")\n",
        "print()\n",
        "\n",
        "acc_mean_rf_1 = np.mean(test_scores_rf_1)\n",
        "acc_mean_rf_1_train = np.mean(train_scores_rf_1)\n",
        "print(f\"Train score for Random Forest: mean={acc_mean_rf_1_train:.4f}, std={np.std(train_scores_rf_1):.6f}\")\n",
        "print(f\"Test score for Random Forest: mean={acc_mean_rf_1:.4f}, std={np.std(test_scores_rf_1):.6f}\")\n",
        "print()\n",
        "\n",
        "# Use cross_val_predict to get predicted labels\n",
        "y_pred_rf_1 = cross_val_predict(rf_1, X, y, cv=skf)\n",
        "\n",
        "# Calculate the bias and variance\n",
        "bias_rf_1 = np.abs(y - y_pred_rf_1).mean()\n",
        "variance_rf_1 = acc_mean_rf_1 - bias_rf_1\n",
        "print(\"Bias:\", \"%.3f\" % bias_rf_1)\n",
        "print(\"Variance:\", \"%.3f\" % variance_rf_1)\n",
        "print()\n",
        "\n",
        "# Print confussion matrix\n",
        "conf_matrix_rf_1 = metrics.confusion_matrix(y_true=y, y_pred=y_pred_rf_1)\n",
        "print(\"Confussion Matrix:\")\n",
        "print(conf_matrix_rf_1)\n",
        "print()\n",
        "\n",
        "# Print classification report\n",
        "clf_report_rf_1 = metrics.classification_report(y_true=y, y_pred=y_pred_rf_1)\n",
        "print(\"Classification report:\")\n",
        "print(clf_report_rf_1)\n",
        "print()\n",
        "\n"
      ],
      "metadata": {
        "colab": {
          "base_uri": "https://localhost:8080/"
        },
        "id": "Rce0AT4Uy4_t",
        "outputId": "8d287b5a-f806-4534-a725-65f9c0560739"
      },
      "execution_count": 11,
      "outputs": [
        {
          "output_type": "stream",
          "name": "stdout",
          "text": [
            "RandomForest #1: RandomForestClassifier(max_depth=4, n_jobs=-1, random_state=42)\n",
            "\n",
            "Tiempo empleado: 6.80 segundos\n",
            "\n",
            "Train score for Random Forest: mean=0.9185, std=0.000464\n",
            "Test score for Random Forest: mean=0.9183, std=0.001490\n",
            "\n",
            "Bias: 0.082\n",
            "Variance: 0.837\n",
            "\n",
            "Confussion Matrix:\n",
            "[[11369    59]\n",
            " [ 1166  2405]]\n",
            "\n",
            "Classification report:\n",
            "              precision    recall  f1-score   support\n",
            "\n",
            "           0       0.91      0.99      0.95     11428\n",
            "           1       0.98      0.67      0.80      3571\n",
            "\n",
            "    accuracy                           0.92     14999\n",
            "   macro avg       0.94      0.83      0.87     14999\n",
            "weighted avg       0.92      0.92      0.91     14999\n",
            "\n",
            "\n"
          ]
        }
      ]
    },
    {
      "cell_type": "markdown",
      "source": [
        "El accuracy es prácticamente igual para *train* que para *test*, es posible que este modelo esté sub-entrenado.\n",
        "\n",
        "El pasado sprint vimos que para este problema nos interesa fijarnos en el *recall* de la clase positiva. Según está métrica este modelo es muy mejorable."
      ],
      "metadata": {
        "id": "V7JZCLOb6E1f"
      }
    },
    {
      "cell_type": "code",
      "source": [
        "# Mostramos la matriz de confusión de una forma más estética\n",
        "import itertools\n",
        "def plot_confusion_matrix(cm, classes=[\"No Abandona\", \"Abandona\"],\n",
        "                          normalize=False,\n",
        "                          title='Confusion matrix',\n",
        "                          cmap=plt.cm.Blues):\n",
        "    \"\"\"\n",
        "    Esta función imprime y representa la matriz de confusión\n",
        "    Puede aplicarse la normalización de la matriz con el parámetro `normalize=True`.\n",
        "    \"\"\"\n",
        "    # if normalize:\n",
        "    #     cm = cm.astype('float') / cm.sum(axis=1)[:, np.newaxis]\n",
        "    #     print(\"Matriz de confusión normalizada\")\n",
        "    # else:\n",
        "    #     print('Matriz de confusión sin normalización')\n",
        "\n",
        "    # print(cm)\n",
        "\n",
        "    plt.imshow(cm, interpolation='nearest', cmap=cmap)\n",
        "    plt.title(title)\n",
        "    plt.colorbar()\n",
        "    tick_marks = np.arange(len(classes))\n",
        "    plt.xticks(tick_marks, classes, rotation=45)\n",
        "    plt.yticks(tick_marks, classes)\n",
        "\n",
        "    fmt = '.2f' if normalize else 'd'\n",
        "    thresh = cm.max() / 2.\n",
        "    for i, j in itertools.product(range(cm.shape[0]), range(cm.shape[1])):\n",
        "        plt.text(j, i, format(cm[i, j], fmt),\n",
        "                 horizontalalignment=\"center\",\n",
        "                 color=\"white\" if cm[i, j] > thresh else \"black\")\n",
        "\n",
        "    plt.ylabel('Categoría verdadera')\n",
        "    plt.xlabel('Categoría predicha')\n",
        "    plt.tight_layout()\n",
        "\n",
        "plot_confusion_matrix(conf_matrix_rf_1)"
      ],
      "metadata": {
        "colab": {
          "base_uri": "https://localhost:8080/",
          "height": 297
        },
        "id": "9nphEaBoTPF1",
        "outputId": "b7694732-801f-4924-99bd-427c8c4f8ed0"
      },
      "execution_count": 12,
      "outputs": [
        {
          "output_type": "display_data",
          "data": {
            "text/plain": [
              "<Figure size 432x288 with 2 Axes>"
            ],
            "image/png": "[encoded data removed]"
          },
          "metadata": {
            "needs_background": "light"
          }
        }
      ]
    },
    {
      "cell_type": "markdown",
      "source": [
        "La matriz de confusión nos muestra la gran cantidad de errores que el modelo ha cometido al clasificar los casos que *Abandonan*.\n",
        "\n",
        "Voy a entrenar con un segundo conjunto de hiperparámetros."
      ],
      "metadata": {
        "id": "X0yWvPr263SM"
      }
    },
    {
      "cell_type": "markdown",
      "source": [
        "## Segundo conjunto de hiperparámetros\n",
        "\n",
        "Primero que nada voy a echar un vistazo a los hiperparámetros del primer modelo y seleccionaré algunos que me parezcan interesantes para probar.\n",
        "\n",
        "Para seleccionar unos nuevos hiperparámetros combinaré *RandomSearch* con *GridSearch*. En ambos casos me apoyaré en la instancia de *StratifiedKFold* que hemos creado antes para la validación cruzada."
      ],
      "metadata": {
        "id": "7UgeuNwrqON4"
      }
    },
    {
      "cell_type": "code",
      "source": [
        "# ¿Con qué hiperparámetros hemos entrenado el modelo anterior?\n",
        "\n",
        "print(\"Hiperparameters:\")\n",
        "rf_1.get_params()"
      ],
      "metadata": {
        "colab": {
          "base_uri": "https://localhost:8080/"
        },
        "id": "Sarycw_gpjj1",
        "outputId": "009310dc-675f-46c3-f780-30113fda1777"
      },
      "execution_count": 13,
      "outputs": [
        {
          "output_type": "stream",
          "name": "stdout",
          "text": [
            "Hiperparameters:\n"
          ]
        },
        {
          "output_type": "execute_result",
          "data": {
            "text/plain": [
              "{'bootstrap': True,\n",
              " 'ccp_alpha': 0.0,\n",
              " 'class_weight': None,\n",
              " 'criterion': 'gini',\n",
              " 'max_depth': 4,\n",
              " 'max_features': 'auto',\n",
              " 'max_leaf_nodes': None,\n",
              " 'max_samples': None,\n",
              " 'min_impurity_decrease': 0.0,\n",
              " 'min_samples_leaf': 1,\n",
              " 'min_samples_split': 2,\n",
              " 'min_weight_fraction_leaf': 0.0,\n",
              " 'n_estimators': 100,\n",
              " 'n_jobs': -1,\n",
              " 'oob_score': False,\n",
              " 'random_state': 42,\n",
              " 'verbose': 0,\n",
              " 'warm_start': False}"
            ]
          },
          "metadata": {},
          "execution_count": 13
        }
      ]
    },
    {
      "cell_type": "code",
      "source": [
        "# BUSCAR LOS MEJORES HIPERPARÁMETROS PARA RANDOM FOREST\n",
        "# RandomSearch\n",
        "\n",
        "from sklearn.model_selection import RandomizedSearchCV\n",
        "\n",
        "random_grid = {'n_estimators': [int(x) for x in np.linspace(start = 100, stop = 300, num = 10)],\n",
        "               'max_features': ['auto', 'sqrt'],\n",
        "               'min_samples_split': [2, 5, 10],\n",
        "               'min_samples_leaf': [1, 2, 4],\n",
        "               'bootstrap': [True, False]}\n",
        "\n",
        "rf = RandomForestClassifier(random_state=42)\n",
        "\n",
        "\n",
        "rf_random = RandomizedSearchCV(\n",
        "    estimator = rf, \n",
        "    param_distributions = random_grid, \n",
        "    n_iter = 10, \n",
        "    cv = skf.split(X, y), \n",
        "    verbose=2, \n",
        "    random_state=42, \n",
        "    n_jobs = -1,\n",
        "    scoring=\"accuracy\"\n",
        ")\n",
        "\n",
        "start = time.time()\n",
        "rf_random.fit(X, y)\n",
        "end = time.time()\n",
        "\n",
        "print(f\"Tiempo empleado: {end - start:.2f} segundos\")\n",
        "cv_res = rf_random.cv_results_\n",
        "print(\n",
        "    \"Accuracy for Random Forest (Random Search):\",\n",
        "    f\"mean={cv_res['mean_test_score'].mean():.4f},\", \n",
        "    f\"std={cv_res['std_test_score'].mean():.6f}\"\n",
        ")\n",
        "rf_random_best_params = rf_random.best_params_\n",
        "rf_random_best_params"
      ],
      "metadata": {
        "colab": {
          "base_uri": "https://localhost:8080/"
        },
        "id": "i1xNKe8mgyBd",
        "outputId": "3dba6205-32d6-4f63-c1fa-6a99ff2e3025"
      },
      "execution_count": 14,
      "outputs": [
        {
          "output_type": "stream",
          "name": "stdout",
          "text": [
            "Fitting 5 folds for each of 10 candidates, totalling 50 fits\n",
            "Tiempo empleado: 98.62 segundos\n",
            "Accuracy for Random Forest (Random Search): mean=0.9862, std=0.001628\n"
          ]
        },
        {
          "output_type": "execute_result",
          "data": {
            "text/plain": [
              "{'n_estimators': 211,\n",
              " 'min_samples_split': 5,\n",
              " 'min_samples_leaf': 1,\n",
              " 'max_features': 'sqrt',\n",
              " 'bootstrap': False}"
            ]
          },
          "metadata": {},
          "execution_count": 14
        }
      ]
    },
    {
      "cell_type": "code",
      "source": [
        "# BUSCAR LOS MEJORES HIPERPARÁMETROS PARA RANDOM FOREST\n",
        "# GridSearch\n",
        "from sklearn.model_selection import GridSearchCV\n",
        "\n",
        "# Create the parameter grid based on the results of random search \n",
        "min_samples_leaf = rf_random_best_params['min_samples_leaf']\n",
        "min_samples_split = rf_random_best_params['min_samples_split']\n",
        "\n",
        "n_estimators = rf_random_best_params['n_estimators']\n",
        "\n",
        "param_grid = {\n",
        "    'bootstrap': [rf_random_best_params['bootstrap']],\n",
        "    'max_depth': max_depth_range,\n",
        "    'max_features': [rf_random_best_params['max_features']],\n",
        "    'min_samples_leaf': np.arange(max(1, min_samples_leaf-1), min_samples_leaf+2),\n",
        "    'min_samples_split': np.arange(max(2, min_samples_split-1), min_samples_split+2),\n",
        "    'n_estimators': [(n_estimators - 10), n_estimators, (n_estimators + 10)]\n",
        "}\n",
        "\n",
        "# Create a based model\n",
        "rf = RandomForestClassifier(random_state=42)\n",
        "\n",
        "# Instantiate the grid search model\n",
        "rf_grid = GridSearchCV(\n",
        "    estimator = rf, \n",
        "    param_grid = param_grid, \n",
        "    cv = skf.split(X,y), \n",
        "    n_jobs = -1, \n",
        "    verbose = 2\n",
        ")\n",
        "start = time.time()\n",
        "rf_grid.fit(X, y)\n",
        "end = time.time()\n",
        "\n",
        "print(f\"Tiempo empleado: {end - start:.2f} segundos\")\n",
        "cv_res = rf_grid.cv_results_\n",
        "print(\n",
        "    \"Accuracy for Random Forest (Grid Search):\",\n",
        "    f\"mean={cv_res['mean_test_score'].mean():.4f},\", \n",
        "    f\"std={cv_res['std_test_score'].mean():.6f}\"\n",
        ")\n",
        "rf_grid_best_param = rf_grid.best_params_\n",
        "rf_grid_best_param"
      ],
      "metadata": {
        "colab": {
          "base_uri": "https://localhost:8080/"
        },
        "id": "L3N4S9r69uRf",
        "outputId": "faf3758d-b7d5-4bf3-cb7e-05f3bd04b23f"
      },
      "execution_count": 15,
      "outputs": [
        {
          "output_type": "stream",
          "name": "stdout",
          "text": [
            "Fitting 5 folds for each of 108 candidates, totalling 540 fits\n",
            "Tiempo empleado: 711.77 segundos\n",
            "Accuracy for Random Forest (Grid Search): mean=0.9611, std=0.002093\n"
          ]
        },
        {
          "output_type": "execute_result",
          "data": {
            "text/plain": [
              "{'bootstrap': False,\n",
              " 'max_depth': 9,\n",
              " 'max_features': 'sqrt',\n",
              " 'min_samples_leaf': 1,\n",
              " 'min_samples_split': 4,\n",
              " 'n_estimators': 201}"
            ]
          },
          "metadata": {},
          "execution_count": 15
        }
      ]
    },
    {
      "cell_type": "code",
      "source": [
        "# ENTRENAMIENTO DE RANDOM FOREST (MEJORES HIPERPARÁMETROS)\n",
        "rf_2 = RandomForestClassifier(\n",
        "    n_jobs=-1, random_state=42,\n",
        "    **rf_grid_best_param)\n",
        "print(\"RandomForest #2:\", rf_2)\n",
        "print()\n",
        "\n",
        "\n",
        "train_scores_rf_2 = []\n",
        "test_scores_rf_2 = []\n",
        "\n",
        "start = time.time()\n",
        "for train_index, test_index in skf.split(X, y):\n",
        "    X_train = datos.iloc[train_index].loc[:, features]\n",
        "    X_test = datos.iloc[test_index].loc[:,features]\n",
        "    y_train = datos.iloc[train_index].loc[:,'left']\n",
        "    y_test = datos.loc[test_index].loc[:,'left']\n",
        "\n",
        "    rf_2.fit(X_train, y_train) #Training the model\n",
        "\n",
        "    # Save train / test scores\n",
        "    train_scores_rf_2.append(rf_2.score(X_train, y_train))\n",
        "    test_scores_rf_2.append(rf_2.score(X_test, y_test))\n",
        "end = time.time()\n",
        "\n",
        "print(f\"Tiempo empleado: {end - start:.2f} segundos\")\n",
        "print()\n",
        "\n",
        "acc_mean_rf_2 = np.mean(test_scores_rf_2)\n",
        "acc_mean_rf_2_train = np.mean(train_scores_rf_2)\n",
        "print(f\"Train score for Random Forest: mean={acc_mean_rf_2_train:.4f}, std={np.std(train_scores_rf_2):.6f}\")\n",
        "print(f\"Test score for Random Forest: mean={acc_mean_rf_2:.4f}, std={np.std(test_scores_rf_2):.6f}\")\n",
        "print()\n",
        "\n",
        "# Use cross_val_predict to get predicted labels\n",
        "y_pred_rf_2 = cross_val_predict(rf_2, X, y, cv=skf)\n",
        "\n",
        "# Calculate the bias and variance\n",
        "bias_rf_2 = np.abs(y - y_pred_rf_2).mean()\n",
        "variance_rf_2 = acc_mean_rf_2 - bias_rf_2\n",
        "print(\"Bias:\", \"%.3f\" % bias_rf_2)\n",
        "print(\"Variance:\", \"%.3f\" % variance_rf_2)\n",
        "print()\n",
        "\n",
        "# Print confussion matrix\n",
        "conf_matrix_rf_2 = metrics.confusion_matrix(y_true=y, y_pred=y_pred_rf_2)\n",
        "print(\"Confussion Matrix:\")\n",
        "print(conf_matrix_rf_2)\n",
        "print()\n",
        "\n",
        "# Print classification report\n",
        "clf_report_rf_2 = metrics.classification_report(y_true=y, y_pred=y_pred_rf_2)\n",
        "print(\"Classification report:\")\n",
        "print(clf_report_rf_2)\n",
        "print()"
      ],
      "metadata": {
        "colab": {
          "base_uri": "https://localhost:8080/"
        },
        "id": "Ld1A2v1jymq3",
        "outputId": "94a43836-586c-4a70-8d7f-c326ce2ad0ea"
      },
      "execution_count": 16,
      "outputs": [
        {
          "output_type": "stream",
          "name": "stdout",
          "text": [
            "RandomForest #2: RandomForestClassifier(bootstrap=False, max_depth=9, max_features='sqrt',\n",
            "                       min_samples_split=4, n_estimators=201, n_jobs=-1,\n",
            "                       random_state=42)\n",
            "\n",
            "Tiempo empleado: 9.62 segundos\n",
            "\n",
            "Train score for Random Forest: mean=0.9812, std=0.000733\n",
            "Test score for Random Forest: mean=0.9795, std=0.002030\n",
            "\n",
            "Bias: 0.020\n",
            "Variance: 0.959\n",
            "\n",
            "Confussion Matrix:\n",
            "[[11393    35]\n",
            " [  272  3299]]\n",
            "\n",
            "Classification report:\n",
            "              precision    recall  f1-score   support\n",
            "\n",
            "           0       0.98      1.00      0.99     11428\n",
            "           1       0.99      0.92      0.96      3571\n",
            "\n",
            "    accuracy                           0.98     14999\n",
            "   macro avg       0.98      0.96      0.97     14999\n",
            "weighted avg       0.98      0.98      0.98     14999\n",
            "\n",
            "\n"
          ]
        }
      ]
    },
    {
      "cell_type": "markdown",
      "source": [
        "En términos de *recall* este modelo predice mejor que el anterior.\n",
        "\n",
        "Además vemos que el *accuracy* de *test* es ligeramente inferior al de *train*. Según esto parece que este modelo no sufre de subentrenamiento pero tampoco de sobreentrenamiento."
      ],
      "metadata": {
        "id": "pJmlddLY8FWi"
      }
    },
    {
      "cell_type": "code",
      "source": [
        "# Comparo las matrices de confusión\n",
        "plt.figure(figsize=(16, 5))\n",
        "plt.subplot(121)\n",
        "plot_confusion_matrix(conf_matrix_rf_1, title=\"Random Forest\")\n",
        "\n",
        "plt.subplot(122)\n",
        "plot_confusion_matrix(conf_matrix_rf_2, title=\"Random Forest - Mejores hiperparámetros\")"
      ],
      "metadata": {
        "colab": {
          "base_uri": "https://localhost:8080/",
          "height": 369
        },
        "id": "ZQcvOqJ1ScBs",
        "outputId": "1ceef1e6-c5fa-4f0f-9a58-dab80daed083"
      },
      "execution_count": 17,
      "outputs": [
        {
          "output_type": "display_data",
          "data": {
            "text/plain": [
              "<Figure size 1152x360 with 4 Axes>"
            ],
            "image/png": "[encoded data removed]"
          },
          "metadata": {
            "needs_background": "light"
          }
        }
      ]
    },
    {
      "cell_type": "markdown",
      "source": [
        "La nueva matriz de confusión nos idica cuánto de mejor es este nuevo modelo respecto al anterior. Ha cometido muchos menos errores en la clase que más nos interesa."
      ],
      "metadata": {
        "id": "WoBQ9vjX8oE8"
      }
    },
    {
      "cell_type": "code",
      "source": [
        "# Curva ROC \n",
        "\n",
        "\n",
        "def plot_ROC(clf, title, ax, X_test=X_test, y_test=y_test):\n",
        "  y_pred_test = clf.predict_proba(X_test)[:,1]\n",
        "\n",
        "  fpr, tpr, _ = metrics.roc_curve(y_test, y_pred_test)\n",
        "  roc_auc = metrics.auc(fpr, tpr)\n",
        "  display = metrics.RocCurveDisplay(fpr=fpr, tpr=tpr, roc_auc=roc_auc)\n",
        "  display.plot(ax=ax, name=title)\n",
        "  return roc_auc\n",
        "\n",
        "fig = plt.figure(figsize=(12 , 6))\n",
        "ax = ax=plt.subplot(111)\n",
        "ax.set_title(\"Comparativa curvas ROC para Random Forest\")\n",
        "auc_rf_1 = plot_ROC(rf_1, title=\"Curva ROC - RandomForest 1\", ax=ax)\n",
        "auc_rf_2 = plot_ROC(rf_2, title=\"Curva ROC - RandomForest 2\", ax=ax)"
      ],
      "metadata": {
        "colab": {
          "base_uri": "https://localhost:8080/",
          "height": 404
        },
        "id": "LW241Rl2rNfi",
        "outputId": "17644ade-2089-4025-d33b-bc19a78ed19b"
      },
      "execution_count": 18,
      "outputs": [
        {
          "output_type": "display_data",
          "data": {
            "text/plain": [
              "<Figure size 864x432 with 1 Axes>"
            ],
            "image/png": "[encoded data removed]"
          },
          "metadata": {
            "needs_background": "light"
          }
        }
      ]
    },
    {
      "cell_type": "markdown",
      "source": [
        "El área bajo la curva es parecida en ambos casos. Muy alta."
      ],
      "metadata": {
        "id": "drUAKQFI-Fj_"
      }
    },
    {
      "cell_type": "markdown",
      "source": [
        "# Entrenamiento Algoritmo de Boosting\n",
        "\n",
        "En la primera parte del cuaderno hemos entrenado un algoritmo de *Bagging*.\n",
        "\n",
        "En esta parte voy a probar con otra aproximación: *Boosting* a ver si conseguimos un mayor poder de predicción.\n",
        "\n",
        "Seguiremos la misma metodología que en elcaso anterior.\n",
        "\n",
        "- Primero entrenaremos con un primer conjunto de hiperparámetros que van a estar basados en los del mejor modelo de *Bagging*.\n",
        "- Luego usaremos una combinación de *RandomSearch* y *GridSearch* para encontrar un segundo conjunto de hiperparámetros.\n",
        "\n",
        "En este caso también emplearemos la validación cruzada mediante *StratifiedKFold*."
      ],
      "metadata": {
        "id": "ccWQcuQrtmvU"
      }
    },
    {
      "cell_type": "markdown",
      "source": [
        "## Primer conjunto de hiperparámetros"
      ],
      "metadata": {
        "id": "I0B-T1Zctnl_"
      }
    },
    {
      "cell_type": "code",
      "source": [
        "# Hiperparámetros de partida.\n",
        "rf_2.get_params()"
      ],
      "metadata": {
        "colab": {
          "base_uri": "https://localhost:8080/"
        },
        "id": "HBKNnE4AuGwR",
        "outputId": "16fcd0ba-38e6-40c0-86f3-0c19e38ee643"
      },
      "execution_count": 19,
      "outputs": [
        {
          "output_type": "execute_result",
          "data": {
            "text/plain": [
              "{'bootstrap': False,\n",
              " 'ccp_alpha': 0.0,\n",
              " 'class_weight': None,\n",
              " 'criterion': 'gini',\n",
              " 'max_depth': 9,\n",
              " 'max_features': 'sqrt',\n",
              " 'max_leaf_nodes': None,\n",
              " 'max_samples': None,\n",
              " 'min_impurity_decrease': 0.0,\n",
              " 'min_samples_leaf': 1,\n",
              " 'min_samples_split': 4,\n",
              " 'min_weight_fraction_leaf': 0.0,\n",
              " 'n_estimators': 201,\n",
              " 'n_jobs': -1,\n",
              " 'oob_score': False,\n",
              " 'random_state': 42,\n",
              " 'verbose': 0,\n",
              " 'warm_start': False}"
            ]
          },
          "metadata": {},
          "execution_count": 19
        }
      ]
    },
    {
      "cell_type": "code",
      "source": [
        "# Copiamos algunos hiperparámetros del mejor modelo Random Forest\n",
        "print(\"Primeros hiperparámetros para Gradient Boosting Clasifier\")\n",
        "print()\n",
        "params = rf_2.get_params()\n",
        "\n",
        "n_estimators = params.get(\"n_estimators\")\n",
        "print(\"n_estimators:\", n_estimators)\n",
        "\n",
        "max_depth = params.get(\"max_depth\")\n",
        "print(\"max_depth:\", max_depth)\n",
        "\n",
        "max_features = params.get(\"max_features\")\n",
        "print(\"max_features:\", max_features)\n",
        "\n",
        "min_samples_leaf = params.get(\"min_samples_leaf\")\n",
        "print(\"min_samples_leaf:\", min_samples_leaf)\n",
        "\n",
        "min_samples_split = params.get(\"min_samples_split\")\n",
        "print(\"min_samples_split:\",  min_samples_split)"
      ],
      "metadata": {
        "colab": {
          "base_uri": "https://localhost:8080/"
        },
        "id": "iL8355pguOxJ",
        "outputId": "f64fb48c-6256-4054-a31d-3a9b5c47cae8"
      },
      "execution_count": 20,
      "outputs": [
        {
          "output_type": "stream",
          "name": "stdout",
          "text": [
            "Primeros hiperparámetros para Gradient Boosting Clasifier\n",
            "\n",
            "n_estimators: 201\n",
            "max_depth: 9\n",
            "max_features: sqrt\n",
            "min_samples_leaf: 1\n",
            "min_samples_split: 4\n"
          ]
        }
      ]
    },
    {
      "cell_type": "code",
      "source": [
        "# ENTRENAMIENTO GRADIENT BOOSTING (MISMOS HIPER. QUE RF)\n",
        "from sklearn.ensemble import GradientBoostingClassifier\n",
        "\n",
        "gbc_1 = GradientBoostingClassifier(\n",
        "    random_state=42,\n",
        "    n_estimators=n_estimators,\n",
        "    max_depth=max_depth,\n",
        "    max_features=max_features,\n",
        "    min_samples_leaf=min_samples_leaf,\n",
        "    min_samples_split=min_samples_split,\n",
        "    # Early stopping para que pare antes si ya no mejora\n",
        "    validation_fraction=0.2,\n",
        "    n_iter_no_change=5,\n",
        "    tol=0.001\n",
        ")\n",
        "print(\"GradientBoostingClassifier #1:\", gbc_1)\n",
        "print()\n",
        "\n",
        "train_scores_gbc_1 = []\n",
        "test_scores_gbc_1 = []\n",
        "\n",
        "start = time.time()\n",
        "for train_index, test_index in skf.split(X, y):\n",
        "    X_train = datos.iloc[train_index].loc[:, features]\n",
        "    X_test = datos.iloc[test_index].loc[:,features]\n",
        "    y_train = datos.iloc[train_index].loc[:,'left']\n",
        "    y_test = datos.loc[test_index].loc[:,'left']\n",
        "\n",
        "    gbc_1.fit(X_train, y_train) #Training the model\n",
        "\n",
        "    # Save train / test scores\n",
        "    train_scores_gbc_1.append(gbc_1.score(X_train, y_train))\n",
        "    test_scores_gbc_1.append(gbc_1.score(X_test, y_test))\n",
        "end = time.time()\n",
        "\n",
        "print(f\"Tiempo empleado: {end - start:.2f} segundos\")\n",
        "print()\n",
        "\n",
        "acc_mean_gbc_1 = np.mean(test_scores_gbc_1)\n",
        "acc_mean_gbc_1_train = np.mean(train_scores_gbc_1)\n",
        "print(f\"Train score for Gradient Boosting: mean={acc_mean_gbc_1_train:.4f}, std={np.std(train_scores_gbc_1):.6f}\")\n",
        "print(f\"Test score for Gradient Boosting: mean={acc_mean_gbc_1:.4f}, std={np.std(test_scores_gbc_1):.6f}\")\n",
        "print()\n",
        "\n",
        "# Use cross_val_predict to get predicted labels\n",
        "y_pred_gbc_1 = cross_val_predict(gbc_1, X, y, cv=skf)\n",
        "\n",
        "# Calculate the bias and variance\n",
        "bias_gbc_1 = np.abs(y - y_pred_gbc_1).mean()\n",
        "variance_gbc_1 = acc_mean_gbc_1 - bias_gbc_1\n",
        "print(\"Bias:\", \"%.3f\" % bias_gbc_1)\n",
        "print(\"Variance:\", \"%.3f\" % variance_gbc_1)\n",
        "print()\n",
        "\n",
        "# Print confussion matrix\n",
        "conf_matrix_gbc_1 = metrics.confusion_matrix(y_true=y, y_pred=y_pred_gbc_1)\n",
        "print(\"Confussion Matrix:\")\n",
        "print(conf_matrix_gbc_1)\n",
        "print()\n",
        "\n",
        "# Print classification report\n",
        "clf_report_gbc_1 = metrics.classification_report(y_true=y, y_pred=y_pred_gbc_1)\n",
        "print(\"Classification report:\")\n",
        "print(clf_report_gbc_1)\n",
        "print()"
      ],
      "metadata": {
        "colab": {
          "base_uri": "https://localhost:8080/"
        },
        "id": "XQFfAUBTr86b",
        "outputId": "16cad107-9044-4831-f6a7-b01475dfc227"
      },
      "execution_count": 21,
      "outputs": [
        {
          "output_type": "stream",
          "name": "stdout",
          "text": [
            "GradientBoostingClassifier #1: GradientBoostingClassifier(max_depth=9, max_features='sqrt',\n",
            "                           min_samples_split=4, n_estimators=201,\n",
            "                           n_iter_no_change=5, random_state=42, tol=0.001,\n",
            "                           validation_fraction=0.2)\n",
            "\n",
            "Tiempo empleado: 5.68 segundos\n",
            "\n",
            "Train score for Gradient Boosting: mean=0.9942, std=0.001357\n",
            "Test score for Gradient Boosting: mean=0.9869, std=0.002537\n",
            "\n",
            "Bias: 0.013\n",
            "Variance: 0.974\n",
            "\n",
            "Confussion Matrix:\n",
            "[[11386    42]\n",
            " [  155  3416]]\n",
            "\n",
            "Classification report:\n",
            "              precision    recall  f1-score   support\n",
            "\n",
            "           0       0.99      1.00      0.99     11428\n",
            "           1       0.99      0.96      0.97      3571\n",
            "\n",
            "    accuracy                           0.99     14999\n",
            "   macro avg       0.99      0.98      0.98     14999\n",
            "weighted avg       0.99      0.99      0.99     14999\n",
            "\n",
            "\n"
          ]
        }
      ]
    },
    {
      "cell_type": "markdown",
      "source": [
        "A la vista de esta información, parece que este modelo se comporta igual que *RandomForest*. Esto es esperable ya que ambos modelos se basan en árboles de decisión y se han entrenado con casi los mismos hiperparámetros.\n",
        "\n",
        "Parece que el tipo de *Ensemble* no influye mucho, en este caso, salvo por el tema de ejecución:\n",
        "\n",
        "- Random Forest $\\sim$ 9s\n",
        "- Gradien Boosting $\\sim$ 5s\n",
        "\n",
        "Con Gradient Boosting hemos conseguido bajar el tiempo de entrenamiento gracias al *early stopping* que nos permite abortar si vemos que ya no estamos mejorando y no esperarnos a terminar todas las iteraciones."
      ],
      "metadata": {
        "id": "D-hW5jE9AH_9"
      }
    },
    {
      "cell_type": "code",
      "source": [
        "# Comparo las matrices de confusión de Gradient Boosting y Random Forest\n",
        "plt.figure(figsize=(16, 5))\n",
        "plt.subplot(121)\n",
        "plot_confusion_matrix(conf_matrix_rf_2, title=\"Random Forest - Mejores hiperparámetros\")\n",
        "\n",
        "plt.subplot(122)\n",
        "plot_confusion_matrix(conf_matrix_gbc_1, title=\"Gradient Boosting - Mismos hiperparámetros que RF\")"
      ],
      "metadata": {
        "colab": {
          "base_uri": "https://localhost:8080/",
          "height": 369
        },
        "id": "x44zVJ970Ahl",
        "outputId": "7b2efd00-d787-46cb-92b7-4af6ac89211b"
      },
      "execution_count": 22,
      "outputs": [
        {
          "output_type": "display_data",
          "data": {
            "text/plain": [
              "<Figure size 1152x360 with 4 Axes>"
            ],
            "image/png": "[encoded data removed]"
          },
          "metadata": {
            "needs_background": "light"
          }
        }
      ]
    },
    {
      "cell_type": "markdown",
      "source": [
        "Aquí vemos que Gradient Boosting es algo mejor prediciendo la clase que más nos interesa."
      ],
      "metadata": {
        "id": "bgnqFhcLBxNf"
      }
    },
    {
      "cell_type": "markdown",
      "source": [
        "## Segundo conjunto de hiperparámetros\n",
        "\n",
        "En esta sección comprobaremos si podemos encontrar unos hiperparámetros mejores gracias a *RandomSearch* y *GridSearch*."
      ],
      "metadata": {
        "id": "ws1CicWv0SGT"
      }
    },
    {
      "cell_type": "code",
      "source": [
        "# BUSCAR LOS MEJORES HIPERPARÁMETROS PARA GRADIENT BOOSTING\n",
        "# RandomSearch\n",
        "from sklearn.model_selection import RandomizedSearchCV\n",
        "\n",
        "max_feat = X.shape[1]\n",
        "random_grid = {'n_estimators': [int(x) for x in np.linspace(start = 100, stop = 1000, num = 20)],\n",
        "               'learning_rate': np.linspace(0.1, 0.9, 9),\n",
        "               'max_features': np.linspace(3, max_feat, round(max_feat / 3),dtype=\"int\"),\n",
        "               'min_samples_split': [2, 5, 10],\n",
        "               'min_samples_leaf': [1, 2, 4]}\n",
        "\n",
        "gbc = GradientBoostingClassifier(\n",
        "    random_state=42,\n",
        "    # Early stopping para que pare antes si ya no mejora\n",
        "    validation_fraction=0.2,\n",
        "    n_iter_no_change=5,\n",
        "    tol=0.001\n",
        ")\n",
        "\n",
        "\n",
        "gbc_random = RandomizedSearchCV(\n",
        "    estimator = gbc, \n",
        "    param_distributions = random_grid, \n",
        "    n_iter = 10, \n",
        "    cv = skf.split(X, y), \n",
        "    verbose=2, \n",
        "    random_state=42, \n",
        "    n_jobs = -1,\n",
        "    scoring=\"accuracy\"\n",
        ")\n",
        "\n",
        "start = time.time()\n",
        "gbc_random.fit(X, y)\n",
        "end = time.time()\n",
        "\n",
        "print(f\"Tiempo empleado: {end - start:.2f} segundos\")\n",
        "cv_res = gbc_random.cv_results_\n",
        "print(\n",
        "    \"Accuracy for Gradient Boosting (Random Search):\",\n",
        "    f\"mean={cv_res['mean_test_score'].mean():.4f},\", \n",
        "    f\"std={cv_res['std_test_score'].mean():.6f}\"\n",
        ")\n",
        "gbc_random_best_params = gbc_random.best_params_\n",
        "gbc_random_best_params"
      ],
      "metadata": {
        "colab": {
          "base_uri": "https://localhost:8080/"
        },
        "id": "s9TjFMeZ0kr9",
        "outputId": "edb30e92-c2c3-458e-c6d9-559d742aa176"
      },
      "execution_count": 23,
      "outputs": [
        {
          "output_type": "stream",
          "name": "stdout",
          "text": [
            "Fitting 5 folds for each of 10 candidates, totalling 50 fits\n",
            "Tiempo empleado: 16.67 segundos\n",
            "Accuracy for Gradient Boosting (Random Search): mean=0.9753, std=0.002884\n"
          ]
        },
        {
          "output_type": "execute_result",
          "data": {
            "text/plain": [
              "{'n_estimators': 573,\n",
              " 'min_samples_split': 10,\n",
              " 'min_samples_leaf': 4,\n",
              " 'max_features': 18,\n",
              " 'learning_rate': 0.5}"
            ]
          },
          "metadata": {},
          "execution_count": 23
        }
      ]
    },
    {
      "cell_type": "code",
      "source": [
        "# BUSCAR LOS MEJORES HIPERPARÁMETROS PARA RANDOM FOREST\n",
        "# GridSearch\n",
        "from sklearn.model_selection import GridSearchCV\n",
        "\n",
        "# Create the parameter grid based on the results of random search \n",
        "min_samples_leaf = gbc_random_best_params['min_samples_leaf']\n",
        "min_samples_split = gbc_random_best_params['min_samples_split']\n",
        "n_estimators = gbc_random_best_params['n_estimators']\n",
        "learning_rate = gbc_random_best_params['learning_rate']\n",
        "max_features = gbc_random_best_params['max_features']\n",
        "\n",
        "param_grid = {\n",
        "    'max_features': np.arange(max(2, max_features-1), min(18, max_features+2)),\n",
        "    'min_samples_leaf': np.arange(max(1, min_samples_leaf-1), min_samples_leaf+2),\n",
        "    'min_samples_split': np.arange(max(2, min_samples_split-1), min_samples_split+2),\n",
        "    'n_estimators': [\n",
        "        (n_estimators - 20), (n_estimators - 10), \n",
        "        n_estimators, \n",
        "        (n_estimators + 10), (n_estimators + 20)],\n",
        "    'learning_rate': [(learning_rate - 0.1), learning_rate, (learning_rate + 0.1)]\n",
        "}\n",
        "\n",
        "# Create a based model\n",
        "gbc = GradientBoostingClassifier(\n",
        "    random_state=42,\n",
        "    # Early stopping para que pare antes si ya no mejora\n",
        "    validation_fraction=0.2,\n",
        "    n_iter_no_change=5,\n",
        "    tol=0.001\n",
        ")\n",
        "\n",
        "# Instantiate the grid search model\n",
        "gbc_grid = GridSearchCV(\n",
        "    estimator = gbc, \n",
        "    param_grid = param_grid, \n",
        "    cv = skf.split(X,y), \n",
        "    n_jobs = -1, \n",
        "    verbose = 2\n",
        ")\n",
        "start = time.time()\n",
        "gbc_grid.fit(X, y)\n",
        "end = time.time()\n",
        "\n",
        "print(f\"Tiempo empleado: {end - start:.2f} segundos\")\n",
        "cv_res = gbc_grid.cv_results_\n",
        "print(\n",
        "    \"Accuracy for Gradient Boosting (Grid Search):\",\n",
        "    f\"mean={cv_res['mean_test_score'].mean():.4f},\", \n",
        "    f\"std={cv_res['std_test_score'].mean():.6f}\"\n",
        ")\n",
        "gbc_grid_best_params = gbc_grid.best_params_\n",
        "gbc_grid_best_params"
      ],
      "metadata": {
        "colab": {
          "base_uri": "https://localhost:8080/"
        },
        "id": "wdcouctZ1mnV",
        "outputId": "6aeef953-9cab-43b7-ea99-29502ea1f305"
      },
      "execution_count": 24,
      "outputs": [
        {
          "output_type": "stream",
          "name": "stdout",
          "text": [
            "Fitting 5 folds for each of 135 candidates, totalling 675 fits\n",
            "Tiempo empleado: 210.15 segundos\n",
            "Accuracy for Gradient Boosting (Grid Search): mean=0.9765, std=0.002718\n"
          ]
        },
        {
          "output_type": "execute_result",
          "data": {
            "text/plain": [
              "{'learning_rate': 0.4,\n",
              " 'max_features': 17,\n",
              " 'min_samples_leaf': 3,\n",
              " 'min_samples_split': 9,\n",
              " 'n_estimators': 553}"
            ]
          },
          "metadata": {},
          "execution_count": 24
        }
      ]
    },
    {
      "cell_type": "code",
      "source": [
        "# ENTRENAMIENTO GRADIENT BOOSTING (MEJORES HIPERPARÁMETROS)\n",
        "from sklearn.ensemble import GradientBoostingClassifier\n",
        "\n",
        "gbc_2 = GradientBoostingClassifier(\n",
        "    random_state=42,\n",
        "    # Early stopping para que pare antes si ya no mejora\n",
        "    validation_fraction=0.2,\n",
        "    n_iter_no_change=5,\n",
        "    tol=0.001,\n",
        "    # Hiper parámetros propuestos por Grid Search\n",
        "    **gbc_grid_best_params\n",
        ")\n",
        "print(\"GradientBoostingClassifier #1:\", gbc_2)\n",
        "print()\n",
        "\n",
        "train_scores_gbc_2 = []\n",
        "test_scores_gbc_2 = []\n",
        "\n",
        "start = time.time()\n",
        "for train_index, test_index in skf.split(X, y):\n",
        "    X_train = datos.iloc[train_index].loc[:, features]\n",
        "    X_test = datos.iloc[test_index].loc[:,features]\n",
        "    y_train = datos.iloc[train_index].loc[:,'left']\n",
        "    y_test = datos.loc[test_index].loc[:,'left']\n",
        "\n",
        "    gbc_2.fit(X_train, y_train) #Training the model\n",
        "\n",
        "    # Save train / test scores\n",
        "    train_scores_gbc_2.append(gbc_2.score(X_train, y_train))\n",
        "    test_scores_gbc_2.append(gbc_2.score(X_test, y_test))\n",
        "end = time.time()\n",
        "\n",
        "print(f\"Tiempo empleado: {end - start:.2f} segundos\")\n",
        "print()\n",
        "\n",
        "acc_mean_gbc_2 = np.mean(test_scores_gbc_2)\n",
        "acc_mean_gbc_2_train= np.mean(train_scores_gbc_2)\n",
        "print(f\"Train score for Gradient Boosting: mean={acc_mean_gbc_2_train:.4f}, std={np.std(train_scores_gbc_2):.6f}\")\n",
        "print(f\"Test score for Gradient Boosting: mean={acc_mean_gbc_2:.4f}, std={np.std(test_scores_gbc_2):.6f}\")\n",
        "print()\n",
        "\n",
        "# Use cross_val_predict to get predicted labels\n",
        "y_pred_gbc_2 = cross_val_predict(gbc_2, X, y, cv=skf)\n",
        "\n",
        "# Calculate the bias and variance\n",
        "bias_gbc_2 = np.abs(y - y_pred_gbc_2).mean()\n",
        "variance_gbc_2 = acc_mean_gbc_2 - bias_gbc_2\n",
        "print(\"Bias:\", \"%.3f\" % bias_gbc_2)\n",
        "print(\"Variance:\", \"%.3f\" % variance_gbc_2)\n",
        "print()\n",
        "\n",
        "# Print confussion matrix\n",
        "conf_matrix_gbc_2 = metrics.confusion_matrix(y_true=y, y_pred=y_pred_gbc_2)\n",
        "print(\"Confussion Matrix:\")\n",
        "print(conf_matrix_gbc_2)\n",
        "print()\n",
        "\n",
        "# Print classification report\n",
        "clf_report_gbc_2 = metrics.classification_report(y_true=y, y_pred=y_pred_gbc_2)\n",
        "print(\"Classification report:\")\n",
        "print(clf_report_gbc_2)\n",
        "print()"
      ],
      "metadata": {
        "colab": {
          "base_uri": "https://localhost:8080/"
        },
        "id": "2Zg4vcbO9PAa",
        "outputId": "9b7588d9-4231-470a-a69e-f56a835bc270"
      },
      "execution_count": 25,
      "outputs": [
        {
          "output_type": "stream",
          "name": "stdout",
          "text": [
            "GradientBoostingClassifier #1: GradientBoostingClassifier(learning_rate=0.4, max_features=17,\n",
            "                           min_samples_leaf=3, min_samples_split=9,\n",
            "                           n_estimators=553, n_iter_no_change=5,\n",
            "                           random_state=42, tol=0.001, validation_fraction=0.2)\n",
            "\n",
            "Tiempo empleado: 3.35 segundos\n",
            "\n",
            "Train score for Gradient Boosting: mean=0.9803, std=0.000504\n",
            "Test score for Gradient Boosting: mean=0.9777, std=0.002946\n",
            "\n",
            "Bias: 0.022\n",
            "Variance: 0.955\n",
            "\n",
            "Confussion Matrix:\n",
            "[[11319   109]\n",
            " [  226  3345]]\n",
            "\n",
            "Classification report:\n",
            "              precision    recall  f1-score   support\n",
            "\n",
            "           0       0.98      0.99      0.99     11428\n",
            "           1       0.97      0.94      0.95      3571\n",
            "\n",
            "    accuracy                           0.98     14999\n",
            "   macro avg       0.97      0.96      0.97     14999\n",
            "weighted avg       0.98      0.98      0.98     14999\n",
            "\n",
            "\n"
          ]
        }
      ]
    },
    {
      "cell_type": "code",
      "source": [
        "plt.figure(figsize=(16, 5))\n",
        "plt.subplot(121)\n",
        "plot_confusion_matrix(conf_matrix_gbc_1, title=\"Gradient Boosting\")\n",
        "\n",
        "plt.subplot(122)\n",
        "plot_confusion_matrix(conf_matrix_gbc_2, title=\"Gradient Boosting - Mejores hiperparámetros\")"
      ],
      "metadata": {
        "colab": {
          "base_uri": "https://localhost:8080/",
          "height": 369
        },
        "id": "ioCgWycfAeiN",
        "outputId": "ea93e43a-8a0b-4d3c-e49d-45135c4ceaa9"
      },
      "execution_count": 26,
      "outputs": [
        {
          "output_type": "display_data",
          "data": {
            "text/plain": [
              "<Figure size 1152x360 with 4 Axes>"
            ],
            "image/png": "[encoded data removed]"
          },
          "metadata": {
            "needs_background": "light"
          }
        }
      ]
    },
    {
      "cell_type": "markdown",
      "source": [
        "En este caso, el afinado de hiperparámetros no ha funcionado. Debería probar con otras combinaciones y rangos de valores.\n",
        "\n",
        "No obstante lo dejo así ya que realizar el *Random Search* + *Grid Search* consume bastante tiempo.\n",
        "\n",
        "Además estamos consiguiendo un buen poder de decisión."
      ],
      "metadata": {
        "id": "tZmHgvEGCRJV"
      }
    },
    {
      "cell_type": "code",
      "source": [
        "fig = plt.figure(figsize=(12 , 6))\n",
        "ax = ax=plt.subplot(111)\n",
        "ax.set_title(\"Comparativa curvas ROC para Gradient Boosting\")\n",
        "auc_gbc_1 = plot_ROC(gbc_1, title=\"Curva ROC - GradientBoostingClassifier 1\", ax=ax)\n",
        "auc_gbc_2 = plot_ROC(gbc_2, title=\"Curva ROC - GradientBoostingClassifier 2\", ax=ax)"
      ],
      "metadata": {
        "colab": {
          "base_uri": "https://localhost:8080/",
          "height": 404
        },
        "id": "TZVgWlMDAvGG",
        "outputId": "a6f6a256-4793-4396-8eae-721fd0c1acb9"
      },
      "execution_count": 27,
      "outputs": [
        {
          "output_type": "display_data",
          "data": {
            "text/plain": [
              "<Figure size 864x432 with 1 Axes>"
            ],
            "image/png": "[encoded data removed]"
          },
          "metadata": {
            "needs_background": "light"
          }
        }
      ]
    },
    {
      "cell_type": "markdown",
      "source": [
        "Las curvas ROC no nos dan mucha más información, ambas son muy similares."
      ],
      "metadata": {
        "id": "TJd1yvriC6F3"
      }
    },
    {
      "cell_type": "markdown",
      "source": [
        "# Entrenar Bagging Classifier con Logistic Regression\n",
        "\n",
        "En esta sección usaré un *weak learner* diferente a los árboles de decisión.\n",
        "\n",
        "Me he inclinado por una regresión logística ya que, aunque no me dió un buen resultado en el sprint 1, es relativamente rápido de entrenar.\n",
        "\n",
        "Con este ejercicio no espero conseguir un gran poder de predicción, pero me puede servir para ver cómo se comporta el *bias* y la *varianza* respecto a los anteriores."
      ],
      "metadata": {
        "id": "soweu5kwZXbg"
      }
    },
    {
      "cell_type": "code",
      "source": [
        "# BÚSQUEDA DE HIPERPARÁMETROS CON GRID SEARCH\n",
        "from sklearn.preprocessing import StandardScaler\n",
        "from sklearn.linear_model import LogisticRegression\n",
        "from sklearn.pipeline import make_pipeline\n",
        "from sklearn.ensemble import BaggingClassifier\n",
        "from sklearn.model_selection import GridSearchCV\n",
        "\n",
        "pip_lr = make_pipeline(StandardScaler(), LogisticRegression(class_weight=\"balanced\"))\n",
        "\n",
        "bc_lr = BaggingClassifier(base_estimator=pip_lr, random_state=42)\n",
        "\n",
        "\n",
        "param_grid = {\n",
        "  'base_estimator__logisticregression__C': np.arange(0.5, 3.0, 0.5),\n",
        "  'base_estimator__logisticregression__fit_intercept': [True, False],\n",
        "  'base_estimator__logisticregression__penalty': ['none', 'l2'],\n",
        "  'n_estimators': np.arange(10, 100, 30),\n",
        "  'max_samples': np.linspace(0.4, 1.0, 4),\n",
        "}\n",
        "\n",
        "bc_lr_grid = GridSearchCV(\n",
        "    estimator = bc_lr, \n",
        "    param_grid = param_grid, \n",
        "    cv = skf.split(X,y), \n",
        "    n_jobs = -1, \n",
        "    verbose = 10\n",
        ")\n",
        "start = time.time()\n",
        "bc_lr_grid.fit(X, y)\n",
        "end = time.time()\n",
        "\n",
        "print(f\"Tiempo empleado: {end - start:.2f} segundos\")\n",
        "cv_res = bc_lr_grid.cv_results_\n",
        "print(\n",
        "    \"Accuracy for Bagging Classifier (Grid Search):\",\n",
        "    f\"mean={cv_res['mean_test_score'].mean():.4f},\", \n",
        "    f\"std={cv_res['std_test_score'].mean():.6f}\"\n",
        ")\n",
        "bc_lr_grid_best_params = bc_lr_grid.best_params_\n",
        "bc_lr_grid_best_params"
      ],
      "metadata": {
        "colab": {
          "base_uri": "https://localhost:8080/"
        },
        "id": "0Ew1v1QFysxt",
        "outputId": "b4e41775-c5e1-469f-b1bc-25ebf9845e05"
      },
      "execution_count": 28,
      "outputs": [
        {
          "output_type": "stream",
          "name": "stdout",
          "text": [
            "Fitting 5 folds for each of 240 candidates, totalling 1200 fits\n",
            "Tiempo empleado: 754.28 segundos\n",
            "Accuracy for Bagging Classifier (Grid Search): mean=0.7294, std=0.006276\n"
          ]
        },
        {
          "output_type": "execute_result",
          "data": {
            "text/plain": [
              "{'base_estimator__logisticregression__C': 0.5,\n",
              " 'base_estimator__logisticregression__fit_intercept': True,\n",
              " 'base_estimator__logisticregression__penalty': 'none',\n",
              " 'max_samples': 0.4,\n",
              " 'n_estimators': 10}"
            ]
          },
          "metadata": {},
          "execution_count": 28
        }
      ]
    },
    {
      "cell_type": "code",
      "source": [
        "# ENTRENAR EL BAGGING CLASSIFIER\n",
        "from sklearn.ensemble import BaggingClassifier\n",
        "from sklearn.preprocessing import StandardScaler\n",
        "from sklearn.linear_model import LogisticRegression\n",
        "from sklearn.pipeline import make_pipeline\n",
        "\n",
        "\n",
        "def get_grid_param(name):\n",
        "  params = bc_lr_grid_best_params\n",
        "  key_value_list = list(filter(lambda kv: name in kv[0], bc_lr_grid_best_params.items()))\n",
        "  value = key_value_list[0][1]\n",
        "  return None if value == 'none' else value\n",
        "\n",
        "pip_lr = make_pipeline(\n",
        "    StandardScaler(), \n",
        "    LogisticRegression(\n",
        "        class_weight=\"balanced\",\n",
        "        C=get_grid_param(\"C\"),\n",
        "        fit_intercept=get_grid_param(\"fit_intercept\"),\n",
        "        penalty='none'\n",
        "    )\n",
        ")\n",
        "bc_lr = BaggingClassifier(\n",
        "  base_estimator=pip_lr, \n",
        "  random_state=42,\n",
        "  max_samples=get_grid_param(\"max_samples\"),\n",
        "  n_estimators=get_grid_param(\"n_estimators\")\n",
        ")\n",
        "print(bc_lr)\n",
        "print()\n",
        "\n",
        "\n",
        "train_scores_bc_lr = []\n",
        "test_scores_bc_lr = []\n",
        "\n",
        "start = time.time()\n",
        "for train_index, test_index in skf.split(X, y):\n",
        "    X_train = datos.iloc[train_index].loc[:, features]\n",
        "    X_test = datos.iloc[test_index].loc[:,features]\n",
        "    y_train = datos.iloc[train_index].loc[:,'left']\n",
        "    y_test = datos.loc[test_index].loc[:,'left']\n",
        "\n",
        "    bc_lr.fit(X_train, y_train) #Training the model\n",
        "\n",
        "    # Save train / test scores\n",
        "    train_scores_bc_lr.append(bc_lr.score(X_train, y_train))\n",
        "    test_scores_bc_lr.append(bc_lr.score(X_test, y_test))\n",
        "end = time.time()\n",
        "\n",
        "print(f\"Tiempo empleado: {end - start:.2f} segundos\")\n",
        "print()\n",
        "\n",
        "acc_mean_bc_lr = np.mean(test_scores_bc_lr)\n",
        "acc_mean_bc_lr_train= np.mean(train_scores_bc_lr)\n",
        "print(f\"Train score for Bagging Classifier: mean={acc_mean_bc_lr_train:.4f}, std={np.std(train_scores_bc_lr):.6f}\")\n",
        "print(f\"Test score for Bagging Classifier: mean={acc_mean_bc_lr:.4f}, std={np.std(test_scores_bc_lr):.6f}\")\n",
        "print()\n",
        "\n",
        "# Use cross_val_predict to get predicted labels\n",
        "y_pred_bc_lr = cross_val_predict(bc_lr, X, y, cv=skf)\n",
        "\n",
        "# Calculate the bias and variance\n",
        "bias_bc_lr = np.abs(y - y_pred_bc_lr).mean()\n",
        "variance_bc_lr = acc_mean_bc_lr - bias_bc_lr\n",
        "print(\"Bias:\", \"%.3f\" % bias_bc_lr)\n",
        "print(\"Variance:\", \"%.3f\" % variance_bc_lr)\n",
        "print()\n",
        "\n",
        "# Print confussion matrix\n",
        "conf_matrix_bc_lr = metrics.confusion_matrix(y_true=y, y_pred=y_pred_bc_lr)\n",
        "print(\"Confussion Matrix:\")\n",
        "print(conf_matrix_bc_lr)\n",
        "print()\n",
        "\n",
        "# Print classification report\n",
        "clf_report_bc_lr = metrics.classification_report(y_true=y, y_pred=y_pred_bc_lr)\n",
        "print(\"Classification report:\")\n",
        "print(clf_report_bc_lr)\n",
        "print()"
      ],
      "metadata": {
        "colab": {
          "base_uri": "https://localhost:8080/"
        },
        "id": "fze2K8f_d0u5",
        "outputId": "af957599-db31-489a-efec-e975960cc6e1"
      },
      "execution_count": 29,
      "outputs": [
        {
          "output_type": "stream",
          "name": "stdout",
          "text": [
            "BaggingClassifier(base_estimator=Pipeline(steps=[('standardscaler',\n",
            "                                                  StandardScaler()),\n",
            "                                                 ('logisticregression',\n",
            "                                                  LogisticRegression(C=0.5,\n",
            "                                                                     class_weight='balanced',\n",
            "                                                                     penalty='none'))]),\n",
            "                  max_samples=0.4, random_state=42)\n",
            "\n",
            "Tiempo empleado: 2.30 segundos\n",
            "\n",
            "Train score for Bagging Classifier: mean=0.7604, std=0.001518\n",
            "Test score for Bagging Classifier: mean=0.7595, std=0.004383\n",
            "\n",
            "Bias: 0.240\n",
            "Variance: 0.519\n",
            "\n",
            "Confussion Matrix:\n",
            "[[8534 2894]\n",
            " [ 713 2858]]\n",
            "\n",
            "Classification report:\n",
            "              precision    recall  f1-score   support\n",
            "\n",
            "           0       0.92      0.75      0.83     11428\n",
            "           1       0.50      0.80      0.61      3571\n",
            "\n",
            "    accuracy                           0.76     14999\n",
            "   macro avg       0.71      0.77      0.72     14999\n",
            "weighted avg       0.82      0.76      0.77     14999\n",
            "\n",
            "\n"
          ]
        }
      ]
    },
    {
      "cell_type": "markdown",
      "source": [
        "Lo que más llama la atención es una *precision* del 50% para la clase positiva. \n",
        "\n",
        "Esto significa que la probabilidad de que el candidato abandone si este modelo dice que lo hará, es básicamente la misma que si lanzamos una moneda al aire."
      ],
      "metadata": {
        "id": "8mshU9HsEY6N"
      }
    },
    {
      "cell_type": "code",
      "source": [
        "# Comparo la matriz de confusión con la del mejor modelo hasta el momento.\n",
        "\n",
        "plt.figure(figsize=(16, 5))\n",
        "plt.subplot(121)\n",
        "plot_confusion_matrix(conf_matrix_gbc_1, title=\"Gradient Boosting - Mismos hiperparámetros que RF\")\n",
        "\n",
        "plt.subplot(122)\n",
        "plot_confusion_matrix(conf_matrix_bc_lr, title=\"Bagging Classifier con Regresión Logísitca\")"
      ],
      "metadata": {
        "colab": {
          "base_uri": "https://localhost:8080/",
          "height": 369
        },
        "id": "8pmqnMT7n4Hp",
        "outputId": "95d2218c-9271-477d-b09b-b3c23d896f28"
      },
      "execution_count": 30,
      "outputs": [
        {
          "output_type": "display_data",
          "data": {
            "text/plain": [
              "<Figure size 1152x360 with 4 Axes>"
            ],
            "image/png": "[encoded data removed]"
          },
          "metadata": {
            "needs_background": "light"
          }
        }
      ]
    },
    {
      "cell_type": "markdown",
      "source": [
        "Aquí se puede ver que el modelo se ha equivocado bastante más al predecir la clase \"Abandona\", además del efecto de una *precision* del 50%."
      ],
      "metadata": {
        "id": "8E-qNc-zE8f_"
      }
    },
    {
      "cell_type": "code",
      "source": [
        "fig = plt.figure(figsize=(12 , 6))\n",
        "ax = ax=plt.subplot(111)\n",
        "ax.set_title(\"Curva ROC para Bagging Classifier\")\n",
        "auc_bc_lr = plot_ROC(bc_lr, title=\"Curva ROC - BaggingClassifier (LogisticRegression)\", ax=ax)\n",
        "auc_gbc_1 = plot_ROC(gbc_1, title=\"Curva ROC - GradientBoostingClassifier 1\", ax=ax)"
      ],
      "metadata": {
        "colab": {
          "base_uri": "https://localhost:8080/",
          "height": 404
        },
        "id": "m2AcbrM5oRju",
        "outputId": "e2295f91-9e38-4012-d0e4-a74e3792aadf"
      },
      "execution_count": 31,
      "outputs": [
        {
          "output_type": "display_data",
          "data": {
            "text/plain": [
              "<Figure size 864x432 with 1 Axes>"
            ],
            "image/png": "[encoded data removed]"
          },
          "metadata": {
            "needs_background": "light"
          }
        }
      ]
    },
    {
      "cell_type": "markdown",
      "source": [
        "Comparando las curvas ROC se puede ver de forma rápida que ese modelo funciona bastante peor que Gradient Boosting."
      ],
      "metadata": {
        "id": "t5cKqq1qFbc1"
      }
    },
    {
      "cell_type": "markdown",
      "source": [
        "# Comparar y discutir resultados"
      ],
      "metadata": {
        "id": "ACV3q6E2PeJC"
      }
    },
    {
      "cell_type": "code",
      "source": [
        "# RECOLECCIÓN DE MÉTRICAS\n",
        "metricas = dict()\n",
        "metricas[\"Modelo\"] = [\n",
        "    \"RandomForest #1\", \"RandomForest #2\", \"GradientBoostingClassifier #1\", \"GradientBoostingClassifier #2\",\n",
        "    \"BaggingClassifier (LogisticRegression)\"\n",
        "]\n",
        "metricas[\"Weak Learner\"] = [\n",
        "    \"DecissionTreeClassifier\", \"DecissionTreeClassifier\", \"DecissionTreeClassifier\", \n",
        "    \"DecissionTreeClassifier\", \"LogisticRegression\"\n",
        "]\n",
        "metricas[\"Accuracy\"] = [\n",
        "    acc_mean_rf_1, acc_mean_rf_2, acc_mean_gbc_1, acc_mean_gbc_2, acc_mean_bc_lr\n",
        "]\n",
        "metricas[\"ROC / AUC\"] = [\n",
        "    auc_rf_1, auc_rf_2, auc_gbc_1, auc_gbc_2, auc_bc_lr\n",
        "]\n",
        "metricas[\"Recall (clase 1)\"] = [\n",
        "    metrics.recall_score(y_true=y, y_pred=y_pred_rf_1),\n",
        "    metrics.recall_score(y_true=y, y_pred=y_pred_rf_2),\n",
        "    metrics.recall_score(y_true=y, y_pred=y_pred_gbc_1),\n",
        "    metrics.recall_score(y_true=y, y_pred=y_pred_gbc_2),\n",
        "    metrics.recall_score(y_true=y, y_pred=y_pred_bc_lr),\n",
        "]\n",
        "metricas[\"f1-score (clase 1)\"] = [\n",
        "    metrics.f1_score(y_true=y, y_pred=y_pred_rf_1),\n",
        "    metrics.f1_score(y_true=y, y_pred=y_pred_rf_2),\n",
        "    metrics.f1_score(y_true=y, y_pred=y_pred_gbc_1),\n",
        "    metrics.f1_score(y_true=y, y_pred=y_pred_gbc_2),\n",
        "    metrics.f1_score(y_true=y, y_pred=y_pred_bc_lr)\n",
        "]\n",
        "metricas[\"Bias\"] = [\n",
        "    bias_rf_1, bias_rf_2, bias_gbc_1, bias_gbc_2, bias_bc_lr\n",
        "]\n",
        "metricas[\"Variance\"] = [\n",
        "    variance_rf_1, variance_rf_2, variance_gbc_1, variance_gbc_2, variance_bc_lr\n",
        "]\n",
        "\n",
        "df_metricas = pd.DataFrame(metricas)\n",
        "\n",
        "df_metricas"
      ],
      "metadata": {
        "colab": {
          "base_uri": "https://localhost:8080/",
          "height": 206
        },
        "id": "xV0RaRGmPixk",
        "outputId": "50eb611d-fcab-4009-ce43-e3bd99e1b167"
      },
      "execution_count": 32,
      "outputs": [
        {
          "output_type": "execute_result",
          "data": {
            "text/plain": [
              "                                   Modelo             Weak Learner  Accuracy  \\\n",
              "0                         RandomForest #1  DecissionTreeClassifier  0.918328   \n",
              "1                         RandomForest #2  DecissionTreeClassifier  0.979532   \n",
              "2           GradientBoostingClassifier #1  DecissionTreeClassifier  0.986866   \n",
              "3           GradientBoostingClassifier #2  DecissionTreeClassifier  0.977665   \n",
              "4  BaggingClassifier (LogisticRegression)       LogisticRegression  0.759517   \n",
              "\n",
              "   ROC / AUC  Recall (clase 1)  f1-score (clase 1)      Bias  Variance  \n",
              "0   0.975183          0.673481            0.797017  0.081672  0.836656  \n",
              "1   0.989955          0.923831            0.955539  0.020468  0.959064  \n",
              "2   0.992850          0.956595            0.971973  0.013134  0.973731  \n",
              "3   0.989114          0.936712            0.952313  0.022335  0.955330  \n",
              "4   0.824063          0.800336            0.613107  0.240483  0.519035  "
            ],
            "text/html": [
              "\n",
              "  <div id=\"df-89996fc6-571f-482a-9738-232dab5b7250\">\n",
              "    <div class=\"colab-df-container\">\n",
              "      <div>\n",
              "<style scoped>\n",
              "    .dataframe tbody tr th:only-of-type {\n",
              "        vertical-align: middle;\n",
              "    }\n",
              "\n",
              "    .dataframe tbody tr th {\n",
              "        vertical-align: top;\n",
              "    }\n",
              "\n",
              "    .dataframe thead th {\n",
              "        text-align: right;\n",
              "    }\n",
              "</style>\n",
              "<table border=\"1\" class=\"dataframe\">\n",
              "  <thead>\n",
              "    <tr style=\"text-align: right;\">\n",
              "      <th></th>\n",
              "      <th>Modelo</th>\n",
              "      <th>Weak Learner</th>\n",
              "      <th>Accuracy</th>\n",
              "      <th>ROC / AUC</th>\n",
              "      <th>Recall (clase 1)</th>\n",
              "      <th>f1-score (clase 1)</th>\n",
              "      <th>Bias</th>\n",
              "      <th>Variance</th>\n",
              "    </tr>\n",
              "  </thead>\n",
              "  <tbody>\n",
              "    <tr>\n",
              "      <th>0</th>\n",
              "      <td>RandomForest #1</td>\n",
              "      <td>DecissionTreeClassifier</td>\n",
              "      <td>0.918328</td>\n",
              "      <td>0.975183</td>\n",
              "      <td>0.673481</td>\n",
              "      <td>0.797017</td>\n",
              "      <td>0.081672</td>\n",
              "      <td>0.836656</td>\n",
              "    </tr>\n",
              "    <tr>\n",
              "      <th>1</th>\n",
              "      <td>RandomForest #2</td>\n",
              "      <td>DecissionTreeClassifier</td>\n",
              "      <td>0.979532</td>\n",
              "      <td>0.989955</td>\n",
              "      <td>0.923831</td>\n",
              "      <td>0.955539</td>\n",
              "      <td>0.020468</td>\n",
              "      <td>0.959064</td>\n",
              "    </tr>\n",
              "    <tr>\n",
              "      <th>2</th>\n",
              "      <td>GradientBoostingClassifier #1</td>\n",
              "      <td>DecissionTreeClassifier</td>\n",
              "      <td>0.986866</td>\n",
              "      <td>0.992850</td>\n",
              "      <td>0.956595</td>\n",
              "      <td>0.971973</td>\n",
              "      <td>0.013134</td>\n",
              "      <td>0.973731</td>\n",
              "    </tr>\n",
              "    <tr>\n",
              "      <th>3</th>\n",
              "      <td>GradientBoostingClassifier #2</td>\n",
              "      <td>DecissionTreeClassifier</td>\n",
              "      <td>0.977665</td>\n",
              "      <td>0.989114</td>\n",
              "      <td>0.936712</td>\n",
              "      <td>0.952313</td>\n",
              "      <td>0.022335</td>\n",
              "      <td>0.955330</td>\n",
              "    </tr>\n",
              "    <tr>\n",
              "      <th>4</th>\n",
              "      <td>BaggingClassifier (LogisticRegression)</td>\n",
              "      <td>LogisticRegression</td>\n",
              "      <td>0.759517</td>\n",
              "      <td>0.824063</td>\n",
              "      <td>0.800336</td>\n",
              "      <td>0.613107</td>\n",
              "      <td>0.240483</td>\n",
              "      <td>0.519035</td>\n",
              "    </tr>\n",
              "  </tbody>\n",
              "</table>\n",
              "</div>\n",
              "      <button class=\"colab-df-convert\" onclick=\"convertToInteractive('df-89996fc6-571f-482a-9738-232dab5b7250')\"\n",
              "              title=\"Convert this dataframe to an interactive table.\"\n",
              "              style=\"display:none;\">\n",
              "        \n",
              "  <svg xmlns=\"http://www.w3.org/2000/svg\" height=\"24px\"viewBox=\"0 0 24 24\"\n",
              "       width=\"24px\">\n",
              "    <path d=\"M0 0h24v24H0V0z\" fill=\"none\"/>\n",
              "    <path d=\"M18.56 5.44l.94 2.06.94-2.06 2.06-.94-2.06-.94-.94-2.06-.94 2.06-2.06.94zm-11 1L8.5 8.5l.94-2.06 2.06-.94-2.06-.94L8.5 2.5l-.94 2.06-2.06.94zm10 10l.94 2.06.94-2.06 2.06-.94-2.06-.94-.94-2.06-.94 2.06-2.06.94z\"/><path d=\"M17.41 7.96l-1.37-1.37c-.4-.4-.92-.59-1.43-.59-.52 0-1.04.2-1.43.59L10.3 9.45l-7.72 7.72c-.78.78-.78 2.05 0 2.83L4 21.41c.39.39.9.59 1.41.59.51 0 1.02-.2 1.41-.59l7.78-7.78 2.81-2.81c.8-.78.8-2.07 0-2.86zM5.41 20L4 18.59l7.72-7.72 1.47 1.35L5.41 20z\"/>\n",
              "  </svg>\n",
              "      </button>\n",
              "      \n",
              "  <style>\n",
              "    .colab-df-container {\n",
              "      display:flex;\n",
              "      flex-wrap:wrap;\n",
              "      gap: 12px;\n",
              "    }\n",
              "\n",
              "    .colab-df-convert {\n",
              "      background-color: #E8F0FE;\n",
              "      border: none;\n",
              "      border-radius: 50%;\n",
              "      cursor: pointer;\n",
              "      display: none;\n",
              "      fill: #1967D2;\n",
              "      height: 32px;\n",
              "      padding: 0 0 0 0;\n",
              "      width: 32px;\n",
              "    }\n",
              "\n",
              "    .colab-df-convert:hover {\n",
              "      background-color: #E2EBFA;\n",
              "      box-shadow: 0px 1px 2px rgba(60, 64, 67, 0.3), 0px 1px 3px 1px rgba(60, 64, 67, 0.15);\n",
              "      fill: #174EA6;\n",
              "    }\n",
              "\n",
              "    [theme=dark] .colab-df-convert {\n",
              "      background-color: #3B4455;\n",
              "      fill: #D2E3FC;\n",
              "    }\n",
              "\n",
              "    [theme=dark] .colab-df-convert:hover {\n",
              "      background-color: #434B5C;\n",
              "      box-shadow: 0px 1px 3px 1px rgba(0, 0, 0, 0.15);\n",
              "      filter: drop-shadow(0px 1px 2px rgba(0, 0, 0, 0.3));\n",
              "      fill: #FFFFFF;\n",
              "    }\n",
              "  </style>\n",
              "\n",
              "      <script>\n",
              "        const buttonEl =\n",
              "          document.querySelector('#df-89996fc6-571f-482a-9738-232dab5b7250 button.colab-df-convert');\n",
              "        buttonEl.style.display =\n",
              "          google.colab.kernel.accessAllowed ? 'block' : 'none';\n",
              "\n",
              "        async function convertToInteractive(key) {\n",
              "          const element = document.querySelector('#df-89996fc6-571f-482a-9738-232dab5b7250');\n",
              "          const dataTable =\n",
              "            await google.colab.kernel.invokeFunction('convertToInteractive',\n",
              "                                                     [key], {});\n",
              "          if (!dataTable) return;\n",
              "\n",
              "          const docLinkHtml = 'Like what you see? Visit the ' +\n",
              "            '<a target=\"_blank\" href=https://colab.research.google.com/notebooks/data_table.ipynb>data table notebook</a>'\n",
              "            + ' to learn more about interactive tables.';\n",
              "          element.innerHTML = '';\n",
              "          dataTable['output_type'] = 'display_data';\n",
              "          await google.colab.output.renderOutput(dataTable, element);\n",
              "          const docLink = document.createElement('div');\n",
              "          docLink.innerHTML = docLinkHtml;\n",
              "          element.appendChild(docLink);\n",
              "        }\n",
              "      </script>\n",
              "    </div>\n",
              "  </div>\n",
              "  "
            ]
          },
          "metadata": {},
          "execution_count": 32
        }
      ]
    },
    {
      "cell_type": "markdown",
      "source": [
        "## ¿Con qué algoritmo hemos conseguido un mayor poder de predicción?"
      ],
      "metadata": {
        "id": "-xvFxu4-Ft11"
      }
    },
    {
      "cell_type": "code",
      "source": [
        "df_metricas.nlargest(3, \"f1-score (clase 1)\")"
      ],
      "metadata": {
        "colab": {
          "base_uri": "https://localhost:8080/",
          "height": 143
        },
        "id": "McnsXbesFtcD",
        "outputId": "f9d34d3c-0853-4d48-de70-c81c02813dc0"
      },
      "execution_count": 33,
      "outputs": [
        {
          "output_type": "execute_result",
          "data": {
            "text/plain": [
              "                          Modelo             Weak Learner  Accuracy  \\\n",
              "2  GradientBoostingClassifier #1  DecissionTreeClassifier  0.986866   \n",
              "1                RandomForest #2  DecissionTreeClassifier  0.979532   \n",
              "3  GradientBoostingClassifier #2  DecissionTreeClassifier  0.977665   \n",
              "\n",
              "   ROC / AUC  Recall (clase 1)  f1-score (clase 1)      Bias  Variance  \n",
              "2   0.992850          0.956595            0.971973  0.013134  0.973731  \n",
              "1   0.989955          0.923831            0.955539  0.020468  0.959064  \n",
              "3   0.989114          0.936712            0.952313  0.022335  0.955330  "
            ],
            "text/html": [
              "\n",
              "  <div id=\"df-28f45e43-b305-4b35-be24-710940ac8bfe\">\n",
              "    <div class=\"colab-df-container\">\n",
              "      <div>\n",
              "<style scoped>\n",
              "    .dataframe tbody tr th:only-of-type {\n",
              "        vertical-align: middle;\n",
              "    }\n",
              "\n",
              "    .dataframe tbody tr th {\n",
              "        vertical-align: top;\n",
              "    }\n",
              "\n",
              "    .dataframe thead th {\n",
              "        text-align: right;\n",
              "    }\n",
              "</style>\n",
              "<table border=\"1\" class=\"dataframe\">\n",
              "  <thead>\n",
              "    <tr style=\"text-align: right;\">\n",
              "      <th></th>\n",
              "      <th>Modelo</th>\n",
              "      <th>Weak Learner</th>\n",
              "      <th>Accuracy</th>\n",
              "      <th>ROC / AUC</th>\n",
              "      <th>Recall (clase 1)</th>\n",
              "      <th>f1-score (clase 1)</th>\n",
              "      <th>Bias</th>\n",
              "      <th>Variance</th>\n",
              "    </tr>\n",
              "  </thead>\n",
              "  <tbody>\n",
              "    <tr>\n",
              "      <th>2</th>\n",
              "      <td>GradientBoostingClassifier #1</td>\n",
              "      <td>DecissionTreeClassifier</td>\n",
              "      <td>0.986866</td>\n",
              "      <td>0.992850</td>\n",
              "      <td>0.956595</td>\n",
              "      <td>0.971973</td>\n",
              "      <td>0.013134</td>\n",
              "      <td>0.973731</td>\n",
              "    </tr>\n",
              "    <tr>\n",
              "      <th>1</th>\n",
              "      <td>RandomForest #2</td>\n",
              "      <td>DecissionTreeClassifier</td>\n",
              "      <td>0.979532</td>\n",
              "      <td>0.989955</td>\n",
              "      <td>0.923831</td>\n",
              "      <td>0.955539</td>\n",
              "      <td>0.020468</td>\n",
              "      <td>0.959064</td>\n",
              "    </tr>\n",
              "    <tr>\n",
              "      <th>3</th>\n",
              "      <td>GradientBoostingClassifier #2</td>\n",
              "      <td>DecissionTreeClassifier</td>\n",
              "      <td>0.977665</td>\n",
              "      <td>0.989114</td>\n",
              "      <td>0.936712</td>\n",
              "      <td>0.952313</td>\n",
              "      <td>0.022335</td>\n",
              "      <td>0.955330</td>\n",
              "    </tr>\n",
              "  </tbody>\n",
              "</table>\n",
              "</div>\n",
              "      <button class=\"colab-df-convert\" onclick=\"convertToInteractive('df-28f45e43-b305-4b35-be24-710940ac8bfe')\"\n",
              "              title=\"Convert this dataframe to an interactive table.\"\n",
              "              style=\"display:none;\">\n",
              "        \n",
              "  <svg xmlns=\"http://www.w3.org/2000/svg\" height=\"24px\"viewBox=\"0 0 24 24\"\n",
              "       width=\"24px\">\n",
              "    <path d=\"M0 0h24v24H0V0z\" fill=\"none\"/>\n",
              "    <path d=\"M18.56 5.44l.94 2.06.94-2.06 2.06-.94-2.06-.94-.94-2.06-.94 2.06-2.06.94zm-11 1L8.5 8.5l.94-2.06 2.06-.94-2.06-.94L8.5 2.5l-.94 2.06-2.06.94zm10 10l.94 2.06.94-2.06 2.06-.94-2.06-.94-.94-2.06-.94 2.06-2.06.94z\"/><path d=\"M17.41 7.96l-1.37-1.37c-.4-.4-.92-.59-1.43-.59-.52 0-1.04.2-1.43.59L10.3 9.45l-7.72 7.72c-.78.78-.78 2.05 0 2.83L4 21.41c.39.39.9.59 1.41.59.51 0 1.02-.2 1.41-.59l7.78-7.78 2.81-2.81c.8-.78.8-2.07 0-2.86zM5.41 20L4 18.59l7.72-7.72 1.47 1.35L5.41 20z\"/>\n",
              "  </svg>\n",
              "      </button>\n",
              "      \n",
              "  <style>\n",
              "    .colab-df-container {\n",
              "      display:flex;\n",
              "      flex-wrap:wrap;\n",
              "      gap: 12px;\n",
              "    }\n",
              "\n",
              "    .colab-df-convert {\n",
              "      background-color: #E8F0FE;\n",
              "      border: none;\n",
              "      border-radius: 50%;\n",
              "      cursor: pointer;\n",
              "      display: none;\n",
              "      fill: #1967D2;\n",
              "      height: 32px;\n",
              "      padding: 0 0 0 0;\n",
              "      width: 32px;\n",
              "    }\n",
              "\n",
              "    .colab-df-convert:hover {\n",
              "      background-color: #E2EBFA;\n",
              "      box-shadow: 0px 1px 2px rgba(60, 64, 67, 0.3), 0px 1px 3px 1px rgba(60, 64, 67, 0.15);\n",
              "      fill: #174EA6;\n",
              "    }\n",
              "\n",
              "    [theme=dark] .colab-df-convert {\n",
              "      background-color: #3B4455;\n",
              "      fill: #D2E3FC;\n",
              "    }\n",
              "\n",
              "    [theme=dark] .colab-df-convert:hover {\n",
              "      background-color: #434B5C;\n",
              "      box-shadow: 0px 1px 3px 1px rgba(0, 0, 0, 0.15);\n",
              "      filter: drop-shadow(0px 1px 2px rgba(0, 0, 0, 0.3));\n",
              "      fill: #FFFFFF;\n",
              "    }\n",
              "  </style>\n",
              "\n",
              "      <script>\n",
              "        const buttonEl =\n",
              "          document.querySelector('#df-28f45e43-b305-4b35-be24-710940ac8bfe button.colab-df-convert');\n",
              "        buttonEl.style.display =\n",
              "          google.colab.kernel.accessAllowed ? 'block' : 'none';\n",
              "\n",
              "        async function convertToInteractive(key) {\n",
              "          const element = document.querySelector('#df-28f45e43-b305-4b35-be24-710940ac8bfe');\n",
              "          const dataTable =\n",
              "            await google.colab.kernel.invokeFunction('convertToInteractive',\n",
              "                                                     [key], {});\n",
              "          if (!dataTable) return;\n",
              "\n",
              "          const docLinkHtml = 'Like what you see? Visit the ' +\n",
              "            '<a target=\"_blank\" href=https://colab.research.google.com/notebooks/data_table.ipynb>data table notebook</a>'\n",
              "            + ' to learn more about interactive tables.';\n",
              "          element.innerHTML = '';\n",
              "          dataTable['output_type'] = 'display_data';\n",
              "          await google.colab.output.renderOutput(dataTable, element);\n",
              "          const docLink = document.createElement('div');\n",
              "          docLink.innerHTML = docLinkHtml;\n",
              "          element.appendChild(docLink);\n",
              "        }\n",
              "      </script>\n",
              "    </div>\n",
              "  </div>\n",
              "  "
            ]
          },
          "metadata": {},
          "execution_count": 33
        }
      ]
    },
    {
      "cell_type": "markdown",
      "source": [
        "El mayor poder de predicción lo he conseguido con Gradient Boosting usando prácticamente los mismos hiperparámetros que para Random Forest.\n"
      ],
      "metadata": {
        "id": "tdGQD-0tGTp5"
      }
    },
    {
      "cell_type": "markdown",
      "source": [
        "## ¿Cómo influye usar un clasificador distinto a los árboles de decisión?"
      ],
      "metadata": {
        "id": "8iv_NQBNH4Dw"
      }
    },
    {
      "cell_type": "code",
      "source": [
        "# Comparación del promedio de las métricas\n",
        "df_metricas.groupby(\"Weak Learner\").mean()"
      ],
      "metadata": {
        "colab": {
          "base_uri": "https://localhost:8080/",
          "height": 143
        },
        "id": "VZqCNgl19NXS",
        "outputId": "d7f9043e-4bee-4bcd-a543-fd0a2a77569d"
      },
      "execution_count": 34,
      "outputs": [
        {
          "output_type": "execute_result",
          "data": {
            "text/plain": [
              "                         Accuracy  ROC / AUC  Recall (clase 1)  \\\n",
              "Weak Learner                                                     \n",
              "DecissionTreeClassifier  0.965598   0.986776          0.872655   \n",
              "LogisticRegression       0.759517   0.824063          0.800336   \n",
              "\n",
              "                         f1-score (clase 1)      Bias  Variance  \n",
              "Weak Learner                                                     \n",
              "DecissionTreeClassifier            0.919211  0.034402  0.931195  \n",
              "LogisticRegression                 0.613107  0.240483  0.519035  "
            ],
            "text/html": [
              "\n",
              "  <div id=\"df-58a2469f-c835-438f-9b00-67a4e6cab5e1\">\n",
              "    <div class=\"colab-df-container\">\n",
              "      <div>\n",
              "<style scoped>\n",
              "    .dataframe tbody tr th:only-of-type {\n",
              "        vertical-align: middle;\n",
              "    }\n",
              "\n",
              "    .dataframe tbody tr th {\n",
              "        vertical-align: top;\n",
              "    }\n",
              "\n",
              "    .dataframe thead th {\n",
              "        text-align: right;\n",
              "    }\n",
              "</style>\n",
              "<table border=\"1\" class=\"dataframe\">\n",
              "  <thead>\n",
              "    <tr style=\"text-align: right;\">\n",
              "      <th></th>\n",
              "      <th>Accuracy</th>\n",
              "      <th>ROC / AUC</th>\n",
              "      <th>Recall (clase 1)</th>\n",
              "      <th>f1-score (clase 1)</th>\n",
              "      <th>Bias</th>\n",
              "      <th>Variance</th>\n",
              "    </tr>\n",
              "    <tr>\n",
              "      <th>Weak Learner</th>\n",
              "      <th></th>\n",
              "      <th></th>\n",
              "      <th></th>\n",
              "      <th></th>\n",
              "      <th></th>\n",
              "      <th></th>\n",
              "    </tr>\n",
              "  </thead>\n",
              "  <tbody>\n",
              "    <tr>\n",
              "      <th>DecissionTreeClassifier</th>\n",
              "      <td>0.965598</td>\n",
              "      <td>0.986776</td>\n",
              "      <td>0.872655</td>\n",
              "      <td>0.919211</td>\n",
              "      <td>0.034402</td>\n",
              "      <td>0.931195</td>\n",
              "    </tr>\n",
              "    <tr>\n",
              "      <th>LogisticRegression</th>\n",
              "      <td>0.759517</td>\n",
              "      <td>0.824063</td>\n",
              "      <td>0.800336</td>\n",
              "      <td>0.613107</td>\n",
              "      <td>0.240483</td>\n",
              "      <td>0.519035</td>\n",
              "    </tr>\n",
              "  </tbody>\n",
              "</table>\n",
              "</div>\n",
              "      <button class=\"colab-df-convert\" onclick=\"convertToInteractive('df-58a2469f-c835-438f-9b00-67a4e6cab5e1')\"\n",
              "              title=\"Convert this dataframe to an interactive table.\"\n",
              "              style=\"display:none;\">\n",
              "        \n",
              "  <svg xmlns=\"http://www.w3.org/2000/svg\" height=\"24px\"viewBox=\"0 0 24 24\"\n",
              "       width=\"24px\">\n",
              "    <path d=\"M0 0h24v24H0V0z\" fill=\"none\"/>\n",
              "    <path d=\"M18.56 5.44l.94 2.06.94-2.06 2.06-.94-2.06-.94-.94-2.06-.94 2.06-2.06.94zm-11 1L8.5 8.5l.94-2.06 2.06-.94-2.06-.94L8.5 2.5l-.94 2.06-2.06.94zm10 10l.94 2.06.94-2.06 2.06-.94-2.06-.94-.94-2.06-.94 2.06-2.06.94z\"/><path d=\"M17.41 7.96l-1.37-1.37c-.4-.4-.92-.59-1.43-.59-.52 0-1.04.2-1.43.59L10.3 9.45l-7.72 7.72c-.78.78-.78 2.05 0 2.83L4 21.41c.39.39.9.59 1.41.59.51 0 1.02-.2 1.41-.59l7.78-7.78 2.81-2.81c.8-.78.8-2.07 0-2.86zM5.41 20L4 18.59l7.72-7.72 1.47 1.35L5.41 20z\"/>\n",
              "  </svg>\n",
              "      </button>\n",
              "      \n",
              "  <style>\n",
              "    .colab-df-container {\n",
              "      display:flex;\n",
              "      flex-wrap:wrap;\n",
              "      gap: 12px;\n",
              "    }\n",
              "\n",
              "    .colab-df-convert {\n",
              "      background-color: #E8F0FE;\n",
              "      border: none;\n",
              "      border-radius: 50%;\n",
              "      cursor: pointer;\n",
              "      display: none;\n",
              "      fill: #1967D2;\n",
              "      height: 32px;\n",
              "      padding: 0 0 0 0;\n",
              "      width: 32px;\n",
              "    }\n",
              "\n",
              "    .colab-df-convert:hover {\n",
              "      background-color: #E2EBFA;\n",
              "      box-shadow: 0px 1px 2px rgba(60, 64, 67, 0.3), 0px 1px 3px 1px rgba(60, 64, 67, 0.15);\n",
              "      fill: #174EA6;\n",
              "    }\n",
              "\n",
              "    [theme=dark] .colab-df-convert {\n",
              "      background-color: #3B4455;\n",
              "      fill: #D2E3FC;\n",
              "    }\n",
              "\n",
              "    [theme=dark] .colab-df-convert:hover {\n",
              "      background-color: #434B5C;\n",
              "      box-shadow: 0px 1px 3px 1px rgba(0, 0, 0, 0.15);\n",
              "      filter: drop-shadow(0px 1px 2px rgba(0, 0, 0, 0.3));\n",
              "      fill: #FFFFFF;\n",
              "    }\n",
              "  </style>\n",
              "\n",
              "      <script>\n",
              "        const buttonEl =\n",
              "          document.querySelector('#df-58a2469f-c835-438f-9b00-67a4e6cab5e1 button.colab-df-convert');\n",
              "        buttonEl.style.display =\n",
              "          google.colab.kernel.accessAllowed ? 'block' : 'none';\n",
              "\n",
              "        async function convertToInteractive(key) {\n",
              "          const element = document.querySelector('#df-58a2469f-c835-438f-9b00-67a4e6cab5e1');\n",
              "          const dataTable =\n",
              "            await google.colab.kernel.invokeFunction('convertToInteractive',\n",
              "                                                     [key], {});\n",
              "          if (!dataTable) return;\n",
              "\n",
              "          const docLinkHtml = 'Like what you see? Visit the ' +\n",
              "            '<a target=\"_blank\" href=https://colab.research.google.com/notebooks/data_table.ipynb>data table notebook</a>'\n",
              "            + ' to learn more about interactive tables.';\n",
              "          element.innerHTML = '';\n",
              "          dataTable['output_type'] = 'display_data';\n",
              "          await google.colab.output.renderOutput(dataTable, element);\n",
              "          const docLink = document.createElement('div');\n",
              "          docLink.innerHTML = docLinkHtml;\n",
              "          element.appendChild(docLink);\n",
              "        }\n",
              "      </script>\n",
              "    </div>\n",
              "  </div>\n",
              "  "
            ]
          },
          "metadata": {},
          "execution_count": 34
        }
      ]
    },
    {
      "cell_type": "markdown",
      "source": [
        "Los *ensembles* basados en árboles de decisión han resultado ser superiores en cuanto a poder de precisión (Accuracy, AUC y f1-score).\n",
        "\n",
        "Los árboles de decisión han demostrado tener **menor sesgo (bias)** y **mayor varianza** que la regresión logística.\n",
        "\n",
        "- Un sesgo (bias) más alto puede indicar que los datos no cumplen ciertas condiciones que supone el modelo. Las regresiones dan por supuesto que las variables explicativas son independientes entre sí. En cambio los árboles de decisión no se ven afectados por esto.\n",
        "- Una varianza más alta, indica que quizás los árboles de decisión hayan resultado demasiado sensibles a este conjunto de datos y probablemente se comporten peor con datos nuevos.\n"
      ],
      "metadata": {
        "id": "zkYIX9YbIQmg"
      }
    },
    {
      "cell_type": "markdown",
      "source": [
        "# Obtención de las variables más relevantes del modelo.\n",
        "\n",
        "Nos vamos a basar en el mejor modelo del ejercicio: `GradientBoostingClassifier #1`"
      ],
      "metadata": {
        "id": "EQ-meklQKL0F"
      }
    },
    {
      "cell_type": "code",
      "source": [
        "plt.figure(figsize=(10,8))\n",
        "\n",
        "feature_imp=pd.Series(gbc_1.feature_importances_,\n",
        "index=list(features)).sort_values(ascending=False)\n",
        "\n",
        "sns.barplot(x=feature_imp, y=feature_imp.index)\n",
        "plt.xlabel('Score de Feature Importance usando Decision Tree')\n",
        "plt.ylabel('Features')\n",
        "plt.title(\"Ranking de Feature Importance\")\n",
        "\n",
        "plt.show()"
      ],
      "metadata": {
        "colab": {
          "base_uri": "https://localhost:8080/",
          "height": 513
        },
        "id": "2-S_GqIJLRjZ",
        "outputId": "32a30bc0-9960-4d0a-caf3-57d5726c1d75"
      },
      "execution_count": 35,
      "outputs": [
        {
          "output_type": "display_data",
          "data": {
            "text/plain": [
              "<Figure size 720x576 with 1 Axes>"
            ],
            "image/png": "[encoded data removed]"
          },
          "metadata": {
            "needs_background": "light"
          }
        }
      ]
    },
    {
      "cell_type": "markdown",
      "source": [
        "## ¿Tiene sentido que sean las variables con más peso?\n",
        "\n",
        "Si definimos el peso como **en qué medida influye la variable en que el candidato tome una decisión u otra**, las variables con más importancia sí que serían las variables con mayor peso.\n",
        "\n",
        "Aprovechando que hemos entrenado una regresión logística podemos extraer los pesos de los coeficientes de la regresión."
      ],
      "metadata": {
        "id": "Kzdu7VlKRsGj"
      }
    },
    {
      "cell_type": "code",
      "source": [
        "# Extraemos los coeficientes e la regresión (pesos)\n",
        "coef_list = [estimator[\"logisticregression\"].coef_ for estimator in bc_lr.estimators_]\n",
        "coef_list = np.array([a[0,:] for a in coef_list])\n",
        "\n",
        "feature_weights = coef_list.mean(axis=0)\n",
        "print(feature_weights.shape)"
      ],
      "metadata": {
        "colab": {
          "base_uri": "https://localhost:8080/"
        },
        "id": "YqxFOTNaQf0s",
        "outputId": "0793cc09-182d-4b2a-b1fd-fb6574e54686"
      },
      "execution_count": 36,
      "outputs": [
        {
          "output_type": "stream",
          "name": "stdout",
          "text": [
            "(18,)\n"
          ]
        }
      ]
    },
    {
      "cell_type": "code",
      "source": [
        "# Relevancia de las variables\n",
        "feature_importances = gbc_1.feature_importances_\n",
        "feature_importances.shape"
      ],
      "metadata": {
        "colab": {
          "base_uri": "https://localhost:8080/"
        },
        "id": "bFywHVe-S7xq",
        "outputId": "ecfe3ed5-cfc2-4251-a2f5-e5ff8a586080"
      },
      "execution_count": 37,
      "outputs": [
        {
          "output_type": "execute_result",
          "data": {
            "text/plain": [
              "(18,)"
            ]
          },
          "metadata": {},
          "execution_count": 37
        }
      ]
    },
    {
      "cell_type": "code",
      "source": [
        "# Cargamos ambas dimensiones en un dataframe\n",
        "df = df = pd.DataFrame({\n",
        "    \"importance\": gbc_1.feature_importances_,\n",
        "    \"weight\": feature_weights\n",
        "})\n",
        "df.shape"
      ],
      "metadata": {
        "colab": {
          "base_uri": "https://localhost:8080/"
        },
        "id": "VEGZpv4LTlf0",
        "outputId": "07d89701-e4d6-479d-840f-af7fc13632b9"
      },
      "execution_count": 38,
      "outputs": [
        {
          "output_type": "execute_result",
          "data": {
            "text/plain": [
              "(18, 2)"
            ]
          },
          "metadata": {},
          "execution_count": 38
        }
      ]
    },
    {
      "cell_type": "code",
      "source": [
        "# Comparamos ambas en un gráfico de dispersión\n",
        "fig = plt.figure(figsize=(12,6))\n",
        "sns.scatterplot(data=df, x=\"importance\", y=\"weight\")\n",
        "plt.show()"
      ],
      "metadata": {
        "colab": {
          "base_uri": "https://localhost:8080/",
          "height": 388
        },
        "id": "6v6PbdfvTQtq",
        "outputId": "648ec0c5-44fa-4e93-8004-b8b3ec77bfd1"
      },
      "execution_count": 40,
      "outputs": [
        {
          "output_type": "display_data",
          "data": {
            "text/plain": [
              "<Figure size 864x432 with 1 Axes>"
            ],
            "image/png": "[encoded data removed]"
          },
          "metadata": {
            "needs_background": "light"
          }
        }
      ]
    },
    {
      "cell_type": "markdown",
      "source": [
        "Aparentemente los pesos que le ha dado la regresión logística a cada variable no se corresponde con la importancia que le ha dado el árbol de regresión. En este gráfico no se detecta ningún patrón."
      ],
      "metadata": {
        "id": "k4dypf9pVES7"
      }
    },
    {
      "cell_type": "code",
      "source": [
        "# Mostramos los coeficientes de correlación\n",
        "df.corr()"
      ],
      "metadata": {
        "colab": {
          "base_uri": "https://localhost:8080/",
          "height": 112
        },
        "id": "Pknxqz9rMIPE",
        "outputId": "ca12140e-a08f-4df6-a056-4d5a18fc07b4"
      },
      "execution_count": 41,
      "outputs": [
        {
          "output_type": "execute_result",
          "data": {
            "text/plain": [
              "            importance    weight\n",
              "importance    1.000000 -0.222603\n",
              "weight       -0.222603  1.000000"
            ],
            "text/html": [
              "\n",
              "  <div id=\"df-808a179c-8fe5-4a25-a286-35adbdef8dd3\">\n",
              "    <div class=\"colab-df-container\">\n",
              "      <div>\n",
              "<style scoped>\n",
              "    .dataframe tbody tr th:only-of-type {\n",
              "        vertical-align: middle;\n",
              "    }\n",
              "\n",
              "    .dataframe tbody tr th {\n",
              "        vertical-align: top;\n",
              "    }\n",
              "\n",
              "    .dataframe thead th {\n",
              "        text-align: right;\n",
              "    }\n",
              "</style>\n",
              "<table border=\"1\" class=\"dataframe\">\n",
              "  <thead>\n",
              "    <tr style=\"text-align: right;\">\n",
              "      <th></th>\n",
              "      <th>importance</th>\n",
              "      <th>weight</th>\n",
              "    </tr>\n",
              "  </thead>\n",
              "  <tbody>\n",
              "    <tr>\n",
              "      <th>importance</th>\n",
              "      <td>1.000000</td>\n",
              "      <td>-0.222603</td>\n",
              "    </tr>\n",
              "    <tr>\n",
              "      <th>weight</th>\n",
              "      <td>-0.222603</td>\n",
              "      <td>1.000000</td>\n",
              "    </tr>\n",
              "  </tbody>\n",
              "</table>\n",
              "</div>\n",
              "      <button class=\"colab-df-convert\" onclick=\"convertToInteractive('df-808a179c-8fe5-4a25-a286-35adbdef8dd3')\"\n",
              "              title=\"Convert this dataframe to an interactive table.\"\n",
              "              style=\"display:none;\">\n",
              "        \n",
              "  <svg xmlns=\"http://www.w3.org/2000/svg\" height=\"24px\"viewBox=\"0 0 24 24\"\n",
              "       width=\"24px\">\n",
              "    <path d=\"M0 0h24v24H0V0z\" fill=\"none\"/>\n",
              "    <path d=\"M18.56 5.44l.94 2.06.94-2.06 2.06-.94-2.06-.94-.94-2.06-.94 2.06-2.06.94zm-11 1L8.5 8.5l.94-2.06 2.06-.94-2.06-.94L8.5 2.5l-.94 2.06-2.06.94zm10 10l.94 2.06.94-2.06 2.06-.94-2.06-.94-.94-2.06-.94 2.06-2.06.94z\"/><path d=\"M17.41 7.96l-1.37-1.37c-.4-.4-.92-.59-1.43-.59-.52 0-1.04.2-1.43.59L10.3 9.45l-7.72 7.72c-.78.78-.78 2.05 0 2.83L4 21.41c.39.39.9.59 1.41.59.51 0 1.02-.2 1.41-.59l7.78-7.78 2.81-2.81c.8-.78.8-2.07 0-2.86zM5.41 20L4 18.59l7.72-7.72 1.47 1.35L5.41 20z\"/>\n",
              "  </svg>\n",
              "      </button>\n",
              "      \n",
              "  <style>\n",
              "    .colab-df-container {\n",
              "      display:flex;\n",
              "      flex-wrap:wrap;\n",
              "      gap: 12px;\n",
              "    }\n",
              "\n",
              "    .colab-df-convert {\n",
              "      background-color: #E8F0FE;\n",
              "      border: none;\n",
              "      border-radius: 50%;\n",
              "      cursor: pointer;\n",
              "      display: none;\n",
              "      fill: #1967D2;\n",
              "      height: 32px;\n",
              "      padding: 0 0 0 0;\n",
              "      width: 32px;\n",
              "    }\n",
              "\n",
              "    .colab-df-convert:hover {\n",
              "      background-color: #E2EBFA;\n",
              "      box-shadow: 0px 1px 2px rgba(60, 64, 67, 0.3), 0px 1px 3px 1px rgba(60, 64, 67, 0.15);\n",
              "      fill: #174EA6;\n",
              "    }\n",
              "\n",
              "    [theme=dark] .colab-df-convert {\n",
              "      background-color: #3B4455;\n",
              "      fill: #D2E3FC;\n",
              "    }\n",
              "\n",
              "    [theme=dark] .colab-df-convert:hover {\n",
              "      background-color: #434B5C;\n",
              "      box-shadow: 0px 1px 3px 1px rgba(0, 0, 0, 0.15);\n",
              "      filter: drop-shadow(0px 1px 2px rgba(0, 0, 0, 0.3));\n",
              "      fill: #FFFFFF;\n",
              "    }\n",
              "  </style>\n",
              "\n",
              "      <script>\n",
              "        const buttonEl =\n",
              "          document.querySelector('#df-808a179c-8fe5-4a25-a286-35adbdef8dd3 button.colab-df-convert');\n",
              "        buttonEl.style.display =\n",
              "          google.colab.kernel.accessAllowed ? 'block' : 'none';\n",
              "\n",
              "        async function convertToInteractive(key) {\n",
              "          const element = document.querySelector('#df-808a179c-8fe5-4a25-a286-35adbdef8dd3');\n",
              "          const dataTable =\n",
              "            await google.colab.kernel.invokeFunction('convertToInteractive',\n",
              "                                                     [key], {});\n",
              "          if (!dataTable) return;\n",
              "\n",
              "          const docLinkHtml = 'Like what you see? Visit the ' +\n",
              "            '<a target=\"_blank\" href=https://colab.research.google.com/notebooks/data_table.ipynb>data table notebook</a>'\n",
              "            + ' to learn more about interactive tables.';\n",
              "          element.innerHTML = '';\n",
              "          dataTable['output_type'] = 'display_data';\n",
              "          await google.colab.output.renderOutput(dataTable, element);\n",
              "          const docLink = document.createElement('div');\n",
              "          docLink.innerHTML = docLinkHtml;\n",
              "          element.appendChild(docLink);\n",
              "        }\n",
              "      </script>\n",
              "    </div>\n",
              "  </div>\n",
              "  "
            ]
          },
          "metadata": {},
          "execution_count": 41
        }
      ]
    },
    {
      "cell_type": "markdown",
      "source": [
        "En cambio sí que hay una ligera correlación inversa. Cuanto mayor es el peso que le otorga la regresión, menor es la importancia que le da a la variable el árbol de regresión.\n",
        "\n",
        "Recordemos que el sesgo (bias) obtenido con los árboles de decisión es mayor que con la regresión logística. Por lo tanto, es posible que sean más fiables los pesos (regresión) que las importancias (árboles de decisión)."
      ],
      "metadata": {
        "id": "pLu49-IYVhsW"
      }
    }
  ],
  "metadata": {
    "colab": {
      "toc_visible": true,
      "provenance": [],
      "authorship_tag": "ABX9TyOjnkxD0Rn8ctqatpY0jWDs",
      "include_colab_link": true
    },
    "kernelspec": {
      "display_name": "Python 3",
      "name": "python3"
    },
    "language_info": {
      "name": "python"
    },
    "gpuClass": "standard"
  },
  "nbformat": 4,
  "nbformat_minor": 0
}