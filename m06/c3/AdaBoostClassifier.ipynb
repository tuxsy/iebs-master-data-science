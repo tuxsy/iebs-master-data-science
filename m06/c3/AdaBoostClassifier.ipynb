{
  "cells": [
    {
      "cell_type": "markdown",
      "metadata": {
        "id": "view-in-github",
        "colab_type": "text"
      },
      "source": [
        "<a href=\"https://colab.research.google.com/github/tuxsy/iebs-master-data-science/blob/main/m06/c3/AdaBoostClassifier.ipynb\" target=\"_parent\"><img src=\"https://colab.research.google.com/assets/colab-badge.svg\" alt=\"Open In Colab\"/></a>"
      ]
    },
    {
      "cell_type": "markdown",
      "metadata": {
        "id": "brFge43OK1Ki"
      },
      "source": [
        "En este ejemplo vamos a mostrar como emplear el algoritmo AdaBoost para tareas de clasificación. Para ello, vamos a generar una serie de datos sitéticos, y generar una serie de clasificaciones empleando la clase `AdaBoostClassifier()`. \n",
        "\n",
        "Recordemos que este algoritmo es recursivo, intentando disminuir el error de predicción a medida que incrementamos los pasos del mismo. Esto se puede verificar en el gráfico de salida que se muestra al final del notebook.\n",
        "\n",
        "**NOTA**: debido a las características del código creado y a la naturaleza recursiva del algoritmo, la ejecución tarda un poco, así que paciencia! 😀"
      ]
    },
    {
      "cell_type": "code",
      "execution_count": null,
      "metadata": {
        "id": "nIIxxaEXK1Kp"
      },
      "outputs": [],
      "source": [
        "### Clasificador Adaboost\n",
        "\n",
        "## Importamos librerias\n",
        "from sklearn.ensemble import AdaBoostClassifier\n",
        "from sklearn.tree import DecisionTreeClassifier\n",
        "from sklearn.metrics import accuracy_score\n",
        "import matplotlib.pyplot as plt\n",
        "from sklearn.datasets import make_classification\n",
        "from sklearn.model_selection import train_test_split, cross_val_score\n"
      ]
    },
    {
      "cell_type": "markdown",
      "source": [
        "Generamos los datos sintéticos en función de los parámetros especificados, y dividimos el conjunto generado en train y test."
      ],
      "metadata": {
        "id": "8xQWo-UGUdpX"
      }
    },
    {
      "cell_type": "code",
      "source": [
        "# Generamos los datos\n",
        "X, y = make_classification(n_samples=4000, n_features=10, n_informative=5, n_redundant=5,\n",
        "n_classes=4, random_state=1)\n",
        "\n",
        "X_train, X_test, y_train, y_test = train_test_split(X, y, test_size=0.33, random_state=42)"
      ],
      "metadata": {
        "id": "XX7lMaB1UdVd"
      },
      "execution_count": null,
      "outputs": []
    },
    {
      "cell_type": "markdown",
      "source": [
        "Ajustamos el modelo Adaboost a los datos generados, empleando como clasificador débil o weak learner a los árboles de decisión. "
      ],
      "metadata": {
        "id": "6836mgbkUxd2"
      }
    },
    {
      "cell_type": "code",
      "execution_count": null,
      "metadata": {
        "id": "aaamcnFXK1Kt",
        "colab": {
          "base_uri": "https://localhost:8080/"
        },
        "outputId": "de5d105c-a213-43b1-9682-f43a6ed95323"
      },
      "outputs": [
        {
          "output_type": "stream",
          "name": "stdout",
          "text": [
            "El número de árboles empleados en el ensemble es:  600\n"
          ]
        }
      ],
      "source": [
        "## Adaptador Adaboost\n",
        "bdt_real=AdaBoostClassifier(DecisionTreeClassifier(max_depth=5),\n",
        "                            n_estimators=600,learning_rate=1) \n",
        "# El clasificador débil es un árbol de decisiones que produce 600 clasificadores débiles\n",
        "bdt_real.fit(X_train,y_train)\n",
        "n_tree=len(bdt_real) \n",
        "print(\"El número de árboles empleados en el ensemble es: \", n_tree) # El número de árboles es 600"
      ]
    },
    {
      "cell_type": "code",
      "source": [
        "## Precisión promedio de predicción del clasificador\n",
        "scores=cross_val_score(bdt_real,X_test,y_test)\n",
        "print(\"Precisión media de la predicción del clasificador:\",scores.mean())"
      ],
      "metadata": {
        "colab": {
          "base_uri": "https://localhost:8080/"
        },
        "id": "0SCf2p9JUbt_",
        "outputId": "5b8508ed-a601-40c6-de12-7411a5f11ac9"
      },
      "execution_count": null,
      "outputs": [
        {
          "output_type": "stream",
          "name": "stdout",
          "text": [
            "Precisión media de la predicción del clasificador: 0.7674242424242423\n"
          ]
        }
      ]
    },
    {
      "cell_type": "markdown",
      "source": [
        "En el siguiente gráfico vamos a ver cómo evoluciona el error en el conjunto de test a medida que vamos añadiendo más árboles al ensemble. Del mismo se puede deducir que a medida que avanzamos en el número de iteraciones, el error disminuye, hasta llegar a aproximadamente 500 árboles. A partir de este punto el error no solo deja de reducirse sino que incluso aumenta, lo cual puede ser un idicador de que llegado a un punto, no es necesario seguir ajustando más árboles de decisión."
      ],
      "metadata": {
        "id": "bv1Pg-qdV4HP"
      }
    },
    {
      "cell_type": "code",
      "source": [
        "## Conjunto de datos de predicción y dibujo de tasa de error\n",
        "real_test_errors=[]\n",
        "for y_predict in bdt_real.staged_predict(X_test): \n",
        "    #La forma de datos de # bdt_real.staged_predict (x_test) es un generador, aquí se generan 600 generadores,\n",
        "    #Ese es el resultado de la predicción formado por 600 árboles de decisión generados por 600 iteraciones\n",
        "    real_test_errors.append(1.-accuracy_score(y_predict,y_test))\n",
        "plt.figure(figsize=(10,8))\n",
        "plt.plot(range(1,n_tree+1),real_test_errors,c='black',linestyle='dashed')\n",
        "plt.legend()\n",
        "plt.ylim(0.18,0.40)\n",
        "plt.ylabel('Test Error')\n",
        "plt.xlabel('Número de árboles')\n",
        "plt.title('Evolución del error en función del número de árboles')\n",
        "plt.show()"
      ],
      "metadata": {
        "colab": {
          "base_uri": "https://localhost:8080/",
          "height": 530
        },
        "id": "n_GpcfnKVREo",
        "outputId": "d750d57a-790e-4bf3-fdfb-2de79e1f4adb"
      },
      "execution_count": null,
      "outputs": [
        {
          "output_type": "stream",
          "name": "stderr",
          "text": [
            "WARNING:matplotlib.legend:No handles with labels found to put in legend.\n"
          ]
        },
        {
          "output_type": "display_data",
          "data": {
            "text/plain": [
              "<Figure size 720x576 with 1 Axes>"
            ],
            "image/png": "[encoded data removed]"
          },
          "metadata": {
            "needs_background": "light"
          }
        }
      ]
    },
    {
      "cell_type": "code",
      "source": [],
      "metadata": {
        "id": "HGAqQNXUVTsO"
      },
      "execution_count": null,
      "outputs": []
    }
  ],
  "metadata": {
    "kernelspec": {
      "display_name": "Python 3",
      "language": "python",
      "name": "python3"
    },
    "language_info": {
      "codemirror_mode": {
        "name": "ipython",
        "version": 3
      },
      "file_extension": ".py",
      "mimetype": "text/x-python",
      "name": "python",
      "nbconvert_exporter": "python",
      "pygments_lexer": "ipython3",
      "version": "3.7.6"
    },
    "toc": {
      "base_numbering": 1,
      "nav_menu": {},
      "number_sections": true,
      "sideBar": true,
      "skip_h1_title": false,
      "title_cell": "Table of Contents",
      "title_sidebar": "Contents",
      "toc_cell": false,
      "toc_position": {},
      "toc_section_display": true,
      "toc_window_display": true
    },
    "varInspector": {
      "cols": {
        "lenName": 16,
        "lenType": 16,
        "lenVar": 40
      },
      "kernels_config": {
        "python": {
          "delete_cmd_postfix": "",
          "delete_cmd_prefix": "del ",
          "library": "var_list.py",
          "varRefreshCmd": "print(var_dic_list())"
        },
        "r": {
          "delete_cmd_postfix": ") ",
          "delete_cmd_prefix": "rm(",
          "library": "var_list.r",
          "varRefreshCmd": "cat(var_dic_list()) "
        }
      },
      "types_to_exclude": [
        "module",
        "function",
        "builtin_function_or_method",
        "instance",
        "_Feature"
      ],
      "window_display": false
    },
    "colab": {
      "provenance": [],
      "include_colab_link": true
    }
  },
  "nbformat": 4,
  "nbformat_minor": 0
}