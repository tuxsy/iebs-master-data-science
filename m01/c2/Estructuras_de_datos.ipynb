{
  "cells": [
    {
      "cell_type": "markdown",
      "metadata": {
        "id": "view-in-github",
        "colab_type": "text"
      },
      "source": [
        "<a href=\"https://colab.research.google.com/github/tuxsy/iebs-master-data-science/blob/main/m01/c2/Estructuras_de_datos.ipynb\" target=\"_parent\"><img src=\"https://colab.research.google.com/assets/colab-badge.svg\" alt=\"Open In Colab\"/></a>"
      ]
    },
    {
      "cell_type": "markdown",
      "metadata": {
        "id": "k0lcB7OUcoEw"
      },
      "source": [
        "<img src=\"https://marketing4ecommerce.net/wp-content/uploads/2015/09/logo-iebs.jpg\" style=\"float:right\" width=\"400\">\n",
        "\n",
        "# Introducción a los lenguajes de programación\n",
        "\n",
        "## Estructuras de datos en Python\n",
        "\n",
        "### Javier Cózar\n",
        "\n",
        "*Uploaded by Bruno Anglés*\n"
      ]
    },
    {
      "cell_type": "markdown",
      "metadata": {
        "id": "nbXCytm2coE0"
      },
      "source": [
        "# Estructuras de datos\n",
        "\n",
        "Las estructuras de datos permiten almacenar información de diferente índole en cualquier lenguaje de programación. Más allá de los tipos básicos vistos anteriormente, como valores numéricos, caracteres y valores booleanos, existen estructuras más complejas."
      ]
    },
    {
      "cell_type": "markdown",
      "metadata": {
        "id": "1yIN3frVcoE1"
      },
      "source": [
        "## Listas"
      ]
    },
    {
      "cell_type": "markdown",
      "metadata": {
        "id": "E9G_GxqQcoE1"
      },
      "source": [
        "Las listas son **secuencias de elementos** (análogo a los arrays en otros lenguajes). **No es necesario especificar el tamaño máximo** (crece según sea necesario) **ni el tipo de datos que albergará** (puede ser cualquier combinación).\n",
        "\n",
        "Las funciones que utlizaremos para gestionar las listas son:\n",
        "* **Creacón de listas**: `list` o `[]`\n",
        "* **Indexación**: acceso a los elementos de la lista usando los corchetes `[]`\n",
        "* **Insertar elementos al final**: `append`\n",
        "* **Concatenar**: Operador `+`\n",
        "* **Insertar un elemento en cualquier posición**: `insert`\n",
        "* **Borrar un elemento**: `del`\n",
        "* **Número de elementos en la lista**: `len`"
      ]
    },
    {
      "cell_type": "markdown",
      "metadata": {
        "id": "u9ynXozzcoE2"
      },
      "source": [
        "### Creación de listas"
      ]
    },
    {
      "cell_type": "code",
      "execution_count": null,
      "metadata": {
        "id": "duCnKE6jcoE2"
      },
      "outputs": [],
      "source": [
        "# Se crean de dos formas distintas:\n",
        "\n",
        "# Usando la función built-in list\n",
        "lista = list()\n",
        "# O usando los corchetes\n",
        "lista = []\n",
        "\n",
        "# La ventaja de usar los corchetes es que la podemos inicializar con una secuencia de valores:\n",
        "lista = [1, 2, 3, \"a\", \"b\", 4]\n",
        "print(lista)"
      ]
    },
    {
      "cell_type": "markdown",
      "metadata": {
        "id": "qTHN2ZMpcoE4"
      },
      "source": [
        "### Indexación: acceso a los elementos de una lista"
      ]
    },
    {
      "cell_type": "code",
      "execution_count": null,
      "metadata": {
        "id": "MgutDs72coE4"
      },
      "outputs": [],
      "source": [
        "lista = [1, 2, 3]\n",
        "\n",
        "# El acceso es mediante el índice (posición dentro de la lista). El primer elemento tiene el índice 0, y el último\n",
        "# el número de elementos menos 1\n",
        "x = lista[0]\n",
        "print(\"Imprimo el primer elemento {}\".format(x))\n",
        "\n",
        "x = lista[2]\n",
        "print(\"Imprimo el último elemento {}\".format(x))\n",
        "\n",
        "# Los índices pueden ser negativos. Esto indica que se empieza a contar en orden inverso (desde la última posición)\n",
        "# En este caso, -1 indica el último elemento, y el número de elementos negativo es el primer elemento.\n",
        "x = lista[-1]\n",
        "print(\"Imprimo el último elemento {}\".format(x))\n",
        "\n",
        "x = lista[-3]\n",
        "print(\"Imprimo el primer elemento {}\".format(x))\n",
        "\n",
        "print(\"====\")\n",
        "\n",
        "# Se puede acceder a una secuencia de elementos utilizando los denominados slice indices\n",
        "print(lista[1:2])    # Obtiene los elementos desde el índice 1 (inclusive) hasta el índice 2 (exclusive)\n",
        "\n",
        "# Se puede obviar tanto el índice a la izquierda como el de la derecha de los :\n",
        "# Si obviamos el de la izquierda, se supone el primer índice como 0\n",
        "print(lista[:2])     # Obtiene los elementos desde 0 (inclusive) hasta 2 (exclusive)\n",
        "\n",
        "# Si obviamos el de la derecha, se supone el último índice como el número de elementos (es decir, todos los elementos hasta el final)\n",
        "print(lista[1:])     # Obtiene los elementos desde 1 (inclusive) hasta 3 (exclusive)\n",
        "\n",
        "# Un tercer campo se utiliza para especificar el incremento, por defecto de +1 en +1\n",
        "print(lista[0:3:2])  # Obtiene los elementos 1 y 3"
      ]
    },
    {
      "cell_type": "markdown",
      "metadata": {
        "id": "10mAD0C6coE6"
      },
      "source": [
        "### Añadir elementos"
      ]
    },
    {
      "cell_type": "code",
      "execution_count": null,
      "metadata": {
        "id": "54t-bNsMcoE6"
      },
      "outputs": [],
      "source": [
        "# Podemos extender la lista añadiendole nuevos elementos por el final\n",
        "lista = [1, 2, 3]\n",
        "lista.append('c')\n",
        "print(lista)"
      ]
    },
    {
      "cell_type": "markdown",
      "metadata": {
        "id": "-8-nQhGjcoE7"
      },
      "source": [
        "<div class=\"alert alert-block alert-warning\">\n",
        "<i class=\"fa fa-exclamation-circle\" aria-hidden=\"true\"></i>\n",
        "Como una lista puede albergar cualquier elemento, puede albergar una lista también. Si ejecutamos `lista.append([1, 2, 3])` no introduce los elementos 1, 2 y 3, sino que introduce un elemento (lista) que contiene los elementos 1, 2 y 3.\n",
        "</div>"
      ]
    },
    {
      "cell_type": "code",
      "execution_count": null,
      "metadata": {
        "id": "C8eMSEaXcoE7"
      },
      "outputs": [],
      "source": [
        "lista = [1, 2, 3]\n",
        "lista.append([1, 2, 3])\n",
        "print(lista)"
      ]
    },
    {
      "cell_type": "markdown",
      "metadata": {
        "id": "3lfE--hpcoE7"
      },
      "source": [
        "### Concatenación de elementos"
      ]
    },
    {
      "cell_type": "code",
      "execution_count": null,
      "metadata": {
        "id": "TiEW3H0jcoE8"
      },
      "outputs": [],
      "source": [
        "# Al igual que con los strings, las listas se pueden concatenar usando el operador +\n",
        "l1 = [1, 2, 3]\n",
        "l2 = ['a', 'b', 'c']\n",
        "print(l1 + l2)\n",
        "\n",
        "# Las listas l1 y l2 no han sido modificadas\n",
        "print(l1)\n",
        "print(l2)"
      ]
    },
    {
      "cell_type": "markdown",
      "metadata": {
        "id": "wPYZANTYcoE8"
      },
      "source": [
        "### Inserción de elementos"
      ]
    },
    {
      "cell_type": "code",
      "execution_count": null,
      "metadata": {
        "id": "U68-dWwecoE8"
      },
      "outputs": [],
      "source": [
        "# Existe la función insert para insertar un elemento en una posición determinada\n",
        "\n",
        "l = [1, 2, 3]\n",
        "l.insert(1, 'a')                 # Inserta el elemento 'a' (segundo argumento) en la posición 1 (primer argumento)\n",
        "                                 # Los índices van desde el 0 (primera posición) hasta la última (número de elementos menos 1)\n",
        "print(l)\n",
        "\n",
        "l.insert(0, 'primer elemento')   # Insertamos un elemento en la primera posición\n",
        "print(l)\n",
        "\n",
        "l.insert(5, 'último elemento')   # Insertamos un elemento en la última posición (la lista tiene 6 elementos)\n",
        "print(l)"
      ]
    },
    {
      "cell_type": "markdown",
      "metadata": {
        "id": "gEEAhQymcoE9"
      },
      "source": [
        "### Borrado de elementos"
      ]
    },
    {
      "cell_type": "code",
      "execution_count": null,
      "metadata": {
        "id": "JOjRuTUxcoE9"
      },
      "outputs": [],
      "source": [
        "# Permite borrar elementos de la lista. Para ello se indexa los elementos que queremos borrar, y se precede la palabra \"del\"\n",
        "l = [1, 2, 3, 4, 5]\n",
        "print( l[2] ) # Indexamos un elemento (el 3)\n",
        "\n",
        "del l[2]      # Lo borramos\n",
        "print(l)\n",
        "\n",
        "# Borramos una secuencia de elementos utilizando slice indices\n",
        "del l[1:3]\n",
        "print(l)"
      ]
    },
    {
      "cell_type": "code",
      "execution_count": null,
      "metadata": {
        "id": "DJ9OK-1ScoE9"
      },
      "outputs": [],
      "source": [
        "l = [1, 2, 3, 4, 5]\n",
        "len(l)"
      ]
    },
    {
      "cell_type": "markdown",
      "metadata": {
        "id": "BfuR6lsbcoE9"
      },
      "source": [
        "### Tamaño de la lista"
      ]
    },
    {
      "cell_type": "code",
      "execution_count": null,
      "metadata": {
        "id": "_yrTRS6xcoE9"
      },
      "outputs": [],
      "source": [
        "# Función que devuelve el número de elementos que tiene una lista\n",
        "l = ['a', 'b', 'c']\n",
        "print( len(l) )   # Imprimie el número de elementos: 'c'\n",
        "\n",
        "# Es útil para acceder al último elemento\n",
        "print(l[len(l)-1])\n",
        "\n",
        "# Aunque es mucho más simple utilizar los índices negativos\n",
        "print(l[-1])"
      ]
    },
    {
      "cell_type": "markdown",
      "metadata": {
        "id": "SHeQew1ccoE-"
      },
      "source": [
        "### Operaciones sobre iterables\n",
        "\n",
        "Un elemento **iterable** representa una secuencia de elementos: ejemplo de elementos iterables son las listas, los conjuntos, las tuplas y los diccionarios (tanto las claves como los valores). Las operaciones sobre iterables son operaciones que se pueden ejecutar recibiendo como argumento un elemento iterable."
      ]
    },
    {
      "cell_type": "markdown",
      "metadata": {
        "id": "bdgTfuO9coE-"
      },
      "source": [
        "### all\n",
        "\n",
        "Devuelve `True` si todos los elementos son `True``\n"
      ]
    },
    {
      "cell_type": "code",
      "execution_count": null,
      "metadata": {
        "ExecuteTime": {
          "end_time": "2019-01-12T11:28:56.694849Z",
          "start_time": "2019-01-12T11:28:56.691164Z"
        },
        "id": "zcwNj_ZYcoE-"
      },
      "outputs": [],
      "source": [
        "# Si la lista es una lista de booleanos, devuelve True si todos los elementos son True, y False en caso contrario\n",
        "l = [True, False, True]\n",
        "print(all(l))   # Imprime False\n",
        "\n",
        "l = [True, True, True]\n",
        "print(all(l))   # Imprime True"
      ]
    },
    {
      "cell_type": "markdown",
      "metadata": {
        "id": "WS2_TV_mcoE-"
      },
      "source": [
        "### any\n",
        "\n",
        "Devuelve `True` si algún elemento es `True`"
      ]
    },
    {
      "cell_type": "code",
      "execution_count": null,
      "metadata": {
        "ExecuteTime": {
          "end_time": "2019-01-12T11:29:05.539437Z",
          "start_time": "2019-01-12T11:29:05.535679Z"
        },
        "id": "GewOnpwmcoE-"
      },
      "outputs": [],
      "source": [
        "# Si la lista es una lista de booleanos, devuelve True si alguno de los elementos es True, y False en caso contrario\n",
        "l = [True, False, True]\n",
        "print(any(l))   # Imprime True\n",
        "\n",
        "l = [False, False, False]\n",
        "print(any(l))   # Imprime True"
      ]
    },
    {
      "cell_type": "markdown",
      "metadata": {
        "id": "urAIwSy0coE-"
      },
      "source": [
        "### max, min y sum\n",
        "\n",
        "Devuelven el valor máximo, minimo y la suma de la lista"
      ]
    },
    {
      "cell_type": "code",
      "execution_count": null,
      "metadata": {
        "ExecuteTime": {
          "end_time": "2019-01-12T11:29:16.642274Z",
          "start_time": "2019-01-12T11:29:16.637995Z"
        },
        "id": "e_TKBFZTcoE-"
      },
      "outputs": [],
      "source": [
        "# Max también puede ser utilizado pasando una lista como único argumento, analizando todos los elementos de la lista para computar el máximo\n",
        "max([1,2,3,9,8,7,6]) # Computa 9"
      ]
    },
    {
      "cell_type": "code",
      "execution_count": null,
      "metadata": {
        "ExecuteTime": {
          "end_time": "2019-01-12T11:29:16.920682Z",
          "start_time": "2019-01-12T11:29:16.916263Z"
        },
        "id": "Kj1zvqPxcoE_"
      },
      "outputs": [],
      "source": [
        "# Min también puede ser utilizado pasando una lista como único argumento, analizando todos los elementos de la lista para computar el mínimo\n",
        "min([1,2,3,9,8,7,6]) # Computa 1"
      ]
    },
    {
      "cell_type": "code",
      "execution_count": null,
      "metadata": {
        "ExecuteTime": {
          "end_time": "2019-01-12T11:29:17.331044Z",
          "start_time": "2019-01-12T11:29:17.327224Z"
        },
        "id": "tFVhDRsvcoE_"
      },
      "outputs": [],
      "source": [
        "# Computa la suma de todos los elementos de una lista, pasada como argumento\n",
        "sum([1, 2, 3, 4, 5]) # Devuelve 15"
      ]
    },
    {
      "cell_type": "markdown",
      "metadata": {
        "id": "xy96qFhacoE_"
      },
      "source": [
        "---\n",
        "## Tuplas y conjuntos"
      ]
    },
    {
      "cell_type": "markdown",
      "metadata": {
        "id": "KOciuhcScoE_"
      },
      "source": [
        "Las tuplas son secuencias de elementos, de forma similar a las listas, pero que son **inmutables**. Esto significa que una tupla no se puede modificar una vez ésta ha sido creada.\n",
        "\n",
        "Una de las ventajas de las tuplas, más allá de la definición conceptual, es que permiten operaciones de comparación muy eficiente.\n",
        "\n",
        "Al ser una especialización de las listas, tanto la **indexación** como las funciones descritas anteriormente para las listas sirven para las tuplas. La **excepción** son las funciones que modifican la lista (¡ya que las tuplas son inmutables!). Éstas son las funciones `append`, `insert` y `del`, además de las que trabajan con **iterables**: all, any, max, min y sum.\n",
        "\n",
        "Por lo tanto, a modo de índice, éstas son las funciones que usaremos para gestionar las tuplas:\n",
        "* **Creación de tuplas**: `tuple` o `()`\n",
        "* **Indexación**: acceso a los elementos de la tupla usando los corchetes `[]` **(igual que para listas)**.\n",
        "* **Concatenar**: Operador `+` **(igual que para listas)**\n",
        "* **Número de elementos en la tupla**: `len` **(igual que para listas)**\n"
      ]
    },
    {
      "cell_type": "markdown",
      "metadata": {
        "id": "btbdwuvXcoE_"
      },
      "source": [
        "### Inmutabilidad"
      ]
    },
    {
      "cell_type": "code",
      "execution_count": null,
      "metadata": {
        "ExecuteTime": {
          "end_time": "2019-01-12T11:32:52.101587Z",
          "start_time": "2019-01-12T11:32:52.098697Z"
        },
        "id": "ZjW8EiqFcoE_"
      },
      "outputs": [],
      "source": [
        "t = (1,2)"
      ]
    },
    {
      "cell_type": "code",
      "execution_count": null,
      "metadata": {
        "ExecuteTime": {
          "end_time": "2019-01-12T11:32:55.248190Z",
          "start_time": "2019-01-12T11:32:55.241071Z"
        },
        "id": "dRJRNEiVcoE_"
      },
      "outputs": [],
      "source": [
        "t[0] = 3  # TypeError: 'tuple' object does not support item assignment"
      ]
    },
    {
      "cell_type": "code",
      "execution_count": null,
      "metadata": {
        "ExecuteTime": {
          "end_time": "2019-01-11T18:18:38.905214Z",
          "start_time": "2019-01-11T18:18:38.901890Z"
        },
        "id": "IbLowpGscoE_"
      },
      "outputs": [],
      "source": [
        "t"
      ]
    },
    {
      "cell_type": "markdown",
      "metadata": {
        "id": "xnJmPq_McoE_"
      },
      "source": [
        "### Creación de tuplas"
      ]
    },
    {
      "cell_type": "code",
      "execution_count": null,
      "metadata": {
        "ExecuteTime": {
          "end_time": "2019-01-12T11:33:16.116179Z",
          "start_time": "2019-01-12T11:33:16.111516Z"
        },
        "id": "ZgZIyoQWcoFA"
      },
      "outputs": [],
      "source": [
        "# Mediante la función built-in tuple, a la que se le pasa una lista (si no se indican argumentos, construye una tupla vacía)\n",
        "t = tuple([1, 2, 3])   # Tupla con los elementos 1, 2, 3\n",
        "print(t)\n",
        "\n",
        "# También se puede crear mediante el uso de paréntesis:\n",
        "t = (1, 2, 3)\n",
        "print(t)\n",
        "\n",
        "# Creación de tuplas vacías:\n",
        "print(tuple())         # Función tuple sin argumentos\n",
        "print(())              # Paréntesis sin elementos."
      ]
    },
    {
      "cell_type": "markdown",
      "metadata": {
        "id": "zpmvpJo3coFA"
      },
      "source": [
        "### Desestructuración (asignación múltiple)\n",
        "\n",
        "En Python se permite asignación múltiple: `x, y, z = 1, 2, 3`\n",
        "\n",
        "En realidad, el código al que se traduce es el siguiente: `(x, y, z) = (1, 2, 3)`.\n",
        "\n",
        "Puede ser muy útil, por ejemplo, en la descomposición de strings o para devolver varias salidas en una sola función."
      ]
    },
    {
      "cell_type": "code",
      "execution_count": null,
      "metadata": {
        "ExecuteTime": {
          "end_time": "2019-01-11T18:19:54.960410Z",
          "start_time": "2019-01-11T18:19:54.956656Z"
        },
        "id": "n2mc6ihmcoFA"
      },
      "outputs": [],
      "source": [
        "nombre, apellido1, apellido2 = \"Pedro López Santos\".split(\" \")\n",
        "\n",
        "print(nombre)\n",
        "print(apellido1)\n",
        "print(apellido2)"
      ]
    },
    {
      "cell_type": "markdown",
      "metadata": {
        "id": "__NGkuYicoFA"
      },
      "source": [
        "### Conjuntos\n",
        "\n",
        "Los conjuntos son **conjuntos de elementos no repetidos**. En este caso la indexación no tiene sentido, únicamente la comprobación de pertenencia de un elemento al conjunto. Para ello haremos uso de la palabra reservada `in`.\n",
        "\n",
        "Las funciones utilizadas para gestionar un conjunto son:\n",
        "* **Creación de conjuntos**: `set`\n",
        "* **Insertar elementos**: `add`\n",
        "* **Eliminar elementos**: `remove`\n",
        "* **Pertenencia de elementos al conjunto**: operador infijo `in`\n",
        "* **Operaciones básicas de conjuntos**: unión, intersección y diferencia\n",
        "* **Número de elementos en el conjunto**: `len`"
      ]
    },
    {
      "cell_type": "markdown",
      "metadata": {
        "id": "jOMrKO9kcoFA"
      },
      "source": [
        "<div class=\"alert alert-block alert-info\">\n",
        "<i class=\"fa fa-info-circle\" aria-hidden=\"true\"></i>\n",
        "Se puede almacenar los tipos básicos (int, float, bool y str, además de tuplas.\n",
        "</div>"
      ]
    },
    {
      "cell_type": "markdown",
      "metadata": {
        "id": "oExDBoC3coFA"
      },
      "source": [
        "### Creación"
      ]
    },
    {
      "cell_type": "code",
      "execution_count": null,
      "metadata": {
        "ExecuteTime": {
          "end_time": "2019-01-12T11:40:25.961905Z",
          "start_time": "2019-01-12T11:40:25.958009Z"
        },
        "id": "v95UlicZcoFA"
      },
      "outputs": [],
      "source": [
        "# Se crean usando la función built-in set\n",
        "print(set())\n",
        "\n",
        "# También se puede crear un conjunto con una lista de elementos incial\n",
        "print(set([1,2,3,4]))"
      ]
    },
    {
      "cell_type": "markdown",
      "metadata": {
        "id": "anQe1VRpcoFA"
      },
      "source": [
        "### Inserción de elementos"
      ]
    },
    {
      "cell_type": "code",
      "execution_count": null,
      "metadata": {
        "ExecuteTime": {
          "end_time": "2019-01-12T11:40:40.118405Z",
          "start_time": "2019-01-12T11:40:40.114017Z"
        },
        "id": "smQlT9h9coFA"
      },
      "outputs": [],
      "source": [
        "# Se utiliza la función add\n",
        "s = set()      # Creamos el conjunto\n",
        "s.add(1)       # Añadimos el 1\n",
        "s.add(\"Hola\")  # Añadimos el string \"Hola\"\n",
        "s.add(2.3)     # Añadimos el flotante 2.3\n",
        "print(s)\n",
        "\n",
        "# Ahora si añadimos un elemento repetido no hace nada (el conjunto sigue siendo el mismo)\n",
        "s.add(1)       # Añadimos el 1\n",
        "s.add(\"Hola\")  # Añadimos el string \"Hola\"\n",
        "s.add(2.3)     # Añadimos el flotante 2.3\n",
        "print(s)"
      ]
    },
    {
      "cell_type": "markdown",
      "metadata": {
        "id": "18_sWsOvcoFB"
      },
      "source": [
        "### Eliminación de elementos"
      ]
    },
    {
      "cell_type": "code",
      "execution_count": null,
      "metadata": {
        "ExecuteTime": {
          "end_time": "2019-01-12T11:40:54.412168Z",
          "start_time": "2019-01-12T11:40:54.408578Z"
        },
        "id": "0fgVPKAJcoFB"
      },
      "outputs": [],
      "source": [
        "s = set(['a','b','c'])\n",
        "print(s)\n",
        "\n",
        "s.remove('b')  # Extraemos el elemento 'b'\n",
        "print(s)"
      ]
    },
    {
      "cell_type": "markdown",
      "metadata": {
        "id": "nFQvJ1gBcoFB"
      },
      "source": [
        "### Pertenencia"
      ]
    },
    {
      "cell_type": "code",
      "execution_count": null,
      "metadata": {
        "ExecuteTime": {
          "end_time": "2019-01-11T18:22:46.246908Z",
          "start_time": "2019-01-11T18:22:46.243387Z"
        },
        "id": "mDNExYiLcoFB"
      },
      "outputs": [],
      "source": [
        "# Con el operador infijo \"in\" se puede comprobar la petenencia de elementos en un set\n",
        "# Comprueba si el elemento a la izquierda existe en el elemento de la derecha\n",
        "\n",
        "s = set([1,2,3])\n",
        "\n",
        "print(2 in s) # Devuelve True\n",
        "print(5 in s) # Devuelve False"
      ]
    },
    {
      "cell_type": "markdown",
      "metadata": {
        "id": "6gYK2DTMcoFB"
      },
      "source": [
        "<div class=\"alert alert-block alert-info\">\n",
        "<i class=\"fa fa-info-circle\" aria-hidden=\"true\"></i>\n",
        "En realidad el operador infijo <i>in</i> se puede utilizar sobre cualquier elemento que sea iterable (como listas, tuplas o diccionarios).\n",
        "    \n",
        "Por ejemplo: `'b' in ['a', 'b', 'c']` devolvería `True`\n",
        "</div>"
      ]
    },
    {
      "cell_type": "markdown",
      "metadata": {
        "id": "2RF4PonOcoFB"
      },
      "source": [
        "### Operaciones  sobre conjuntos\n",
        "* unión: union\n",
        "* intersección: intersection\n",
        "* diferencia: difference (-)"
      ]
    },
    {
      "cell_type": "code",
      "execution_count": null,
      "metadata": {
        "ExecuteTime": {
          "end_time": "2019-01-11T18:25:34.827399Z",
          "start_time": "2019-01-11T18:25:34.822056Z"
        },
        "id": "Se9FJI4ycoFB"
      },
      "outputs": [],
      "source": [
        "s1 = set([1,2,3,4,5])\n",
        "s2 = set([4,5,6,7,8])\n",
        "\n",
        "s_union = s1.union(s2)\n",
        "s_inter = s1.intersection(s2)\n",
        "s_difer1 = s1.difference(s2)\n",
        "s_difer2 = s1 - s2\n",
        "\n",
        "print(\"Unión de conjuntos: {}\".format(s_union))\n",
        "print(\"Intersección de conjuntos: {}\".format(s_inter))\n",
        "print(\"Diferencia entre conjuntos: {}, igual que {}\".format(s_difer1, s_difer2))"
      ]
    },
    {
      "cell_type": "markdown",
      "metadata": {
        "id": "5HWHGSobcoFB"
      },
      "source": [
        "---\n",
        "## Diccionarios\n",
        "\n",
        "Los diccionarios son elementos que relacionan una **clave** con un **valor**. La clave tiene que ser hasheable (al igual que pasaba con los elementos de un **set**). El valor puede ser cualquier elemento.\n",
        "\n",
        "Las siguientes funciones son las utilizadas para gestionar diccionarios:\n",
        "\n",
        "* **Creacón de diccionarios**: `dict` o `{}`\n",
        "* **Indexación**: acceso a los elementos de la tupla usando los corchetes `[]`, donde dentro de los corchetes se especifica una clave\n",
        "* **Borrar un elementos**: `del` **(igual que para listas)**\n",
        "* **Número de elementos en el diccionario**: `len` **(igual que para listas)**"
      ]
    },
    {
      "cell_type": "markdown",
      "metadata": {
        "id": "Qv49zWMucoFB"
      },
      "source": [
        "### Creación de diccionarios"
      ]
    },
    {
      "cell_type": "code",
      "execution_count": null,
      "metadata": {
        "id": "8DCscvwscoFC"
      },
      "outputs": [],
      "source": [
        "# Se crean usando la función built-in dict, y como argumentos asignaciones \"clave=valor\"\n",
        "print(dict(a=1, b=2))\n",
        "\n",
        "# También se puede crear utilizando las llaves, y elemenos \"clave:valor\" separados por comas\n",
        "print({'a':1, 'b':2})"
      ]
    },
    {
      "cell_type": "markdown",
      "metadata": {
        "id": "1tc8WCF2coFC"
      },
      "source": [
        "<div class=\"alert alert-block alert-info\">\n",
        "<i class=\"fa fa-info-circle\" aria-hidden=\"true\"></i>\n",
        "La ventaja de crear los diccionarios con la palabra reservada `dict` es que puede resultar más cómodo de recordar, al seguir el formato de agumentos en funciones.\n",
        "\n",
        "<br>\n",
        "<i class=\"fa fa-info-circle\" aria-hidden=\"true\"></i>\n",
        "La desventaja es que las claves en este formato siempre se toman como caracteres. Si queremos utilizar enteros o flotantes como clave, hay que hacerlo usando el constructor basado en llaves `{}`\n",
        "</div>"
      ]
    },
    {
      "cell_type": "code",
      "execution_count": null,
      "metadata": {
        "id": "EbXiktzGcoFC"
      },
      "outputs": [],
      "source": [
        "# Ejemplo de creación de un diccionario con claves numéricas:\n",
        "print({1:\"entero\", 2.65:\"flotante\"})"
      ]
    },
    {
      "cell_type": "markdown",
      "metadata": {
        "id": "oE62ch5_coFC"
      },
      "source": [
        "### Indexación: acceso a los elementos de un diccionario"
      ]
    },
    {
      "cell_type": "code",
      "execution_count": null,
      "metadata": {
        "id": "4MCUK0lWcoFC"
      },
      "outputs": [],
      "source": [
        "# El acceso se realiza mediante el uso de corchetes\n",
        "d = {1:\"entero\", 2.5: \"flotante\", \"hola\": \"string\"}\n",
        "\n",
        "print(d[1])       # \"entero\"\n",
        "print(d[2.5])     # \"flotante\"\n",
        "print(d[\"hola\"])  # \"string\""
      ]
    },
    {
      "cell_type": "markdown",
      "metadata": {
        "id": "AZXumD1XcoFC"
      },
      "source": [
        "Se puede acceder a la lista de claves, la lista de valores, y la lista de tuplas (clave, valor). Para ello, existen las funciones `keys`, `values` e `items`."
      ]
    },
    {
      "cell_type": "code",
      "execution_count": null,
      "metadata": {
        "id": "ZhL5MjigcoFC"
      },
      "outputs": [],
      "source": [
        "d = {1:\"entero\", 2.5: \"flotante\", \"hola\": \"string\"}\n",
        "\n",
        "print( list(d.keys()) )    # Imprime la lista de claves\n",
        "print( list(d.values()) )  # Imprime la lista de valores\n",
        "print( list(d.items()) )   # Imprime la lista de tuplas (clave, valor)"
      ]
    },
    {
      "cell_type": "markdown",
      "metadata": {
        "id": "Djvh90aacoFC"
      },
      "source": [
        "<div class=\"alert alert-block alert-warning\">\n",
        "<i class=\"fa fa-exclamation-circle\" aria-hidden=\"true\"></i> Hay que tener cuidado, si accedemos a un elemento que no existe obtendremos un error del tipo KeyError\n",
        "\n",
        "</div>"
      ]
    },
    {
      "cell_type": "code",
      "execution_count": null,
      "metadata": {
        "ExecuteTime": {
          "end_time": "2019-01-12T11:48:29.288996Z",
          "start_time": "2019-01-12T11:48:29.281828Z"
        },
        "id": "f_aBvc0mcoFC"
      },
      "outputs": [],
      "source": [
        "print(d['mal'])"
      ]
    },
    {
      "cell_type": "markdown",
      "metadata": {
        "id": "DAwbj_w8coFD"
      },
      "source": [
        "Podemos evitar estos errores usando un tipo de diccionario especial llamado `defaultdict` muy útil para procesar datos.\n",
        "\n",
        "En estos diccionarios podemos expecificar un valor por defecto para cualquier clave que no exista en el diccionario."
      ]
    },
    {
      "cell_type": "code",
      "execution_count": null,
      "metadata": {
        "ExecuteTime": {
          "end_time": "2019-01-12T11:49:40.903567Z",
          "start_time": "2019-01-12T11:49:40.899742Z"
        },
        "id": "LVN7INzXcoFD"
      },
      "outputs": [],
      "source": [
        "from collections import defaultdict\n",
        "\n",
        "d = defaultdict(int)\n",
        "\n",
        "d['perro'] = 1\n",
        "\n",
        "print(d['perro'])\n",
        "print(d['gato'])"
      ]
    },
    {
      "cell_type": "markdown",
      "metadata": {
        "id": "PBeSe3PncoFD"
      },
      "source": [
        "### Añadir elementos\n",
        "\n",
        "Basta con usar la sintáxis de indexación junto con el operador `=`."
      ]
    },
    {
      "cell_type": "code",
      "execution_count": null,
      "metadata": {
        "ExecuteTime": {
          "end_time": "2019-01-12T11:50:31.908678Z",
          "start_time": "2019-01-12T11:50:31.903695Z"
        },
        "id": "kniaSfRwcoFD"
      },
      "outputs": [],
      "source": [
        "d = {}\n",
        "\n",
        "d['hola'] = 'mundo'\n",
        "d['uno'] = 1\n",
        "\n",
        "d"
      ]
    },
    {
      "cell_type": "markdown",
      "metadata": {
        "id": "_XnFGW8McoFD"
      },
      "source": [
        "### Borrar elementos\n",
        "\n",
        "Basta con usar la sintáxis de indexación predecida de la palabra `del`."
      ]
    },
    {
      "cell_type": "code",
      "execution_count": null,
      "metadata": {
        "ExecuteTime": {
          "end_time": "2019-01-12T11:50:31.908678Z",
          "start_time": "2019-01-12T11:50:31.903695Z"
        },
        "id": "eQU_I4qHcoFD"
      },
      "outputs": [],
      "source": [
        "d = {\"Pepe\": 47, \"Ana\": 33}\n",
        "\n",
        "del d[\"Pepe\"]\n",
        "\n",
        "d"
      ]
    },
    {
      "cell_type": "markdown",
      "metadata": {
        "id": "I60C-62dcoFD"
      },
      "source": [
        "# I/O"
      ]
    },
    {
      "cell_type": "markdown",
      "metadata": {
        "id": "cvQUaykbcoFD"
      },
      "source": [
        "Como en cualquier lenguaje de programación, los ficheros se manejan en dos fases:\n",
        "\n",
        "- Primero se obtiene el descriptor del fichero. Éste es un objeto que permite efectuar operaciones de entrada / salida sobre el fichero. Se crea con la llamada `open`.\n",
        "- Sobre el descriptor se pueden efectuar operaciones de lectura (función `read`) y escritura (función `write`). La función `open` debe ser correctamente parametrizada para poder efectuar correctamente estas operaciones.\n",
        "\n",
        "Hay que recordar cerrar el fichero una vez éste ha sido utilizado. Para ello, se usa la función `close`."
      ]
    },
    {
      "cell_type": "markdown",
      "metadata": {
        "id": "SxapdjOMcoFD"
      },
      "source": [
        "## Escritura"
      ]
    },
    {
      "cell_type": "code",
      "execution_count": null,
      "metadata": {
        "ExecuteTime": {
          "end_time": "2019-01-12T11:53:05.411282Z",
          "start_time": "2019-01-12T11:53:05.407775Z"
        },
        "id": "xrkBZG0XcoFD"
      },
      "outputs": [],
      "source": [
        "file = open('fichero.txt', 'a')\n",
        "file.write('Nuevo texto\\n')\n",
        "# Cerramos el descriptor del fichero\n",
        "file.close()"
      ]
    },
    {
      "cell_type": "markdown",
      "metadata": {
        "id": "6D2h3QcLcoFD"
      },
      "source": [
        "## Lectura"
      ]
    },
    {
      "cell_type": "code",
      "execution_count": null,
      "metadata": {
        "ExecuteTime": {
          "end_time": "2019-01-12T11:53:19.299643Z",
          "start_time": "2019-01-12T11:53:19.294985Z"
        },
        "id": "f0dHtRlDcoFD"
      },
      "outputs": [],
      "source": [
        "# Abre el fichero\n",
        "file = open('fichero.txt', 'r')\n",
        "\n",
        "# Lee el contenido\n",
        "texto = file.read()\n",
        "print(texto)\n",
        "\n",
        "# Cerramos el descriptor del fichero\n",
        "file.close()"
      ]
    },
    {
      "cell_type": "markdown",
      "metadata": {
        "id": "oo5kVXjEcoFE"
      },
      "source": [
        "Para escribir el fichero, hemos utilizado un segundo parámetro en la función `write`. Este parámetro indica de qué forma se debe abrir el fichero. Los modos en los que se puede abrir un fichero son _(se pueden combinar dos letras para elegir modo texto o binario, por ejemplo 'rb' para leer en binario)_:\n",
        "\n",
        "\n",
        "| Carácter | Significado|\n",
        "|------|------|\n",
        "| 'r' | en modo lectura (por defecto)| \n",
        "| 'w' | en modo escritura (primero vacía el fichero)| \n",
        "| 'x' | en modo escritura, pero lanza una excepción si el fichero ya existe | \n",
        "| 'a' | en modo escritura, pero no vacía el fichero. Lo que se escribe, se pone al final | \n",
        "| '+' | en modo actualización (permite leer y escribir) | \n",
        "| 'b' | modo binario | \n",
        "| 't' | modo texto (por defecto)| "
      ]
    },
    {
      "cell_type": "markdown",
      "metadata": {
        "id": "KHZMZgtkcoFE"
      },
      "source": [
        "\n",
        "# Excepciones"
      ]
    },
    {
      "cell_type": "markdown",
      "metadata": {
        "id": "qPpRj_2tcoFE"
      },
      "source": [
        "Hay ocasiones en las que sabemos que el código puede fallar, pero queremos gestionar esa excepción de forma controlada. Por ejemplo, hemos visto que es posible que esperemos un valor en un diccionario que luego no está, o que intentamos leer un fichero que no existe.\n",
        "\n",
        "Para gestionar las excepciones, se debe situar el código que puede lanzar esta excepción entre las palabras `try` y `except`. En la parte de `except` se introduce el código para tratar dicha excepción."
      ]
    },
    {
      "cell_type": "code",
      "execution_count": null,
      "metadata": {
        "ExecuteTime": {
          "end_time": "2019-01-12T12:10:25.769256Z",
          "start_time": "2019-01-12T12:10:25.765755Z"
        },
        "id": "Jp4yleBMcoFE"
      },
      "outputs": [],
      "source": [
        "try:\n",
        "    numerador = 10\n",
        "    denominador = 0\n",
        "    print(f\"{numerador} / {denominador} = {numerador / denominador}\")\n",
        "    \n",
        "except:\n",
        "    print(\"No se puede dividir por 0!\")"
      ]
    },
    {
      "cell_type": "markdown",
      "metadata": {
        "id": "dbLdSxOycoFE"
      },
      "source": [
        "En la parte del except se puede, además, especificar el tipo de error esperado y utilizar más de un bloque `except`. Es decir, se puede gestionar más de un posible error en el código `try`."
      ]
    },
    {
      "cell_type": "code",
      "execution_count": null,
      "metadata": {
        "ExecuteTime": {
          "end_time": "2019-01-12T12:13:32.124067Z",
          "start_time": "2019-01-12T12:13:32.119339Z"
        },
        "id": "dmB2gCI-coFE"
      },
      "outputs": [],
      "source": [
        "try:\n",
        "    numerador = 10\n",
        "    denominador = 'a'\n",
        "    resultado = numerador / denominador\n",
        "    print(f\"{numerador} / {denominador} = {resultado}\")\n",
        "    \n",
        "except ZeroDivisionError:\n",
        "    print(\"No se puede dividir por 0!\")\n",
        "    \n",
        "except ValueError as ve:\n",
        "    print(f\"Debes introducir un número como denominador! Error: {ve}\")\n",
        "    \n",
        "except TypeError: \n",
        "    print('Tipo no valido')\n",
        "except:\n",
        "    print('Error no reconocido')"
      ]
    }
  ],
  "metadata": {
    "kernelspec": {
      "display_name": "Python 3",
      "language": "python",
      "name": "python3"
    },
    "language_info": {
      "codemirror_mode": {
        "name": "ipython",
        "version": 3
      },
      "file_extension": ".py",
      "mimetype": "text/x-python",
      "name": "python",
      "nbconvert_exporter": "python",
      "pygments_lexer": "ipython3",
      "version": "3.6.2"
    },
    "colab": {
      "provenance": [],
      "toc_visible": true,
      "include_colab_link": true
    }
  },
  "nbformat": 4,
  "nbformat_minor": 0
}