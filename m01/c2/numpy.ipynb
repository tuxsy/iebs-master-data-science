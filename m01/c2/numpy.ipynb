{
 "cells": [
  {
   "cell_type": "markdown",
   "metadata": {},
   "source": [
    "<img src=\"https://marketing4ecommerce.net/wp-content/uploads/2015/09/logo-iebs.jpg\" style=\"float:right\" width=\"400\">\n",
    "\n",
    "# Introducción a los lenguajes de programación\n",
    "\n",
    "## Estructuras de datos en Python\n",
    "\n",
    "### Javier Cózar\n"
   ]
  },
  {
   "cell_type": "markdown",
   "metadata": {},
   "source": [
    "[__NumPy__](http://www.numpy.org) es la librería para procesamiento numérico de Python. Proporciona funcionalidades para el manejo _eficiente_ de vectores, y es la base de otras librerías, como _SciPy_, _Pandas_ o _Scikit-learn_.\n",
    "\n",
    "Es importante tener un conocimiento en profundidad de numpy para dominar el stack de data science de python. No obstante, cuando se está empezando se suele utilizar menos ya que sus funciones son de bajo nivel y solo se aprovechan para optimizar otras librerías o para implementar métodos personalizados.\n",
    "\n",
    "A continuación vamos a explorar los conceptos básicos de numpy.  Esta introducción puede completarse con la abundante información existente en la red, y con la [documentación oficial](https://docs.scipy.org/doc/numpy/index.html). "
   ]
  },
  {
   "cell_type": "markdown",
   "metadata": {},
   "source": [
    "## Instalación\n",
    "\n",
    "numpy no viene instalado por defecto en python, por lo que será necesario instalarlo previamente usando un gestor de paquetes desde el terminal.\n",
    "\n",
    "`pip install numpy`"
   ]
  },
  {
   "cell_type": "code",
   "execution_count": null,
   "metadata": {},
   "outputs": [],
   "source": [
    "# ! pip install numpy"
   ]
  },
  {
   "cell_type": "code",
   "execution_count": null,
   "metadata": {
    "ExecuteTime": {
     "end_time": "2019-01-18T15:46:11.714782Z",
     "start_time": "2019-01-18T15:46:11.612682Z"
    }
   },
   "outputs": [],
   "source": [
    "import numpy as np"
   ]
  },
  {
   "cell_type": "markdown",
   "metadata": {},
   "source": [
    "<div class=\"alert alert-block alert-info\">\n",
    "<i class=\"fa fa-info-circle\" aria-hidden=\"true\"></i> Numpy se suele renombrar de esta forma por convención.\n",
    "</div>"
   ]
  },
  {
   "cell_type": "markdown",
   "metadata": {},
   "source": [
    "## Vectores (Arrays)\n",
    "\n",
    "En _NumPy_, un array (un objeto de la clase `ndarray`) es una secuencia _multidimensional_ de valores del mismo tipo, indexada por enteros.\n",
    "\n",
    "Se diferencian de las listas y otras estructuras de python estándar por sus optimizaciones."
   ]
  },
  {
   "cell_type": "code",
   "execution_count": null,
   "metadata": {
    "ExecuteTime": {
     "end_time": "2019-01-18T15:47:26.614549Z",
     "start_time": "2019-01-18T15:47:26.610360Z"
    }
   },
   "outputs": [],
   "source": [
    "# Crea un vector de 6 elementos a partir de una lista\n",
    "v = np.array([2, 4, 6, 8, 10, 12])  \n",
    "\n",
    "print(v)    "
   ]
  },
  {
   "cell_type": "markdown",
   "metadata": {},
   "source": [
    "## Tipado\n",
    "\n",
    "El tipo de los elementos del array es definido por la propiedad `dtype`, y se establece de manera automática en función de los valores del array, a menos que se especifique en el constructor. \n",
    "\n",
    "Aunque los tipos más comunes son `int64` y `float64`, _Numpy_ implementa una gran cantidad de tipos. Información detallada al respecto puede encontrarse en la [documentación oficial](https://docs.scipy.org/doc/numpy/reference/arrays.dtypes.html)."
   ]
  },
  {
   "cell_type": "code",
   "execution_count": null,
   "metadata": {
    "ExecuteTime": {
     "end_time": "2019-01-18T15:47:59.479761Z",
     "start_time": "2019-01-18T15:47:59.474526Z"
    }
   },
   "outputs": [],
   "source": [
    "# Imprime el tipo de datos del vector anterior.\n",
    "v = np.array([2, 4, 6, 8, 10, 12])  \n",
    "print(v)\n",
    "print(f\"Tipo de v: {v.dtype}\")   \n",
    "\n",
    "print()\n",
    "\n",
    "# Crea un vector similar, pero de tipo float\n",
    "vf = np.array([2, 4, 6, 8, 10, 12], dtype = np.float64)\n",
    "print(vf)\n",
    "print(f\"Tipo de vf: {vf.dtype}\") "
   ]
  },
  {
   "cell_type": "markdown",
   "metadata": {},
   "source": [
    "Adicionalmente, la función `astype` nos permite cambiar el tipo de un array (genera otro array diferente con el dtype especificado)."
   ]
  },
  {
   "cell_type": "code",
   "execution_count": null,
   "metadata": {},
   "outputs": [],
   "source": [
    "vf.astype(np.str)"
   ]
  },
  {
   "cell_type": "markdown",
   "metadata": {},
   "source": [
    "## Vectores multidimensionales (matrices)\n",
    "\n",
    "Se puede crear con una \"lista de listas\" (en realidad, secuencia de secuencias). Por defecto, cada una de ellas corresponde a una dimensión. \n",
    "\n",
    "Por ejemplo, en la siguiente celda se construye esta matriz:\n",
    "\n",
    "$$\n",
    "m = \\begin{bmatrix}\n",
    "    1 & 2 & 3 \\\\\n",
    "    4 & 5 & 6 \\\\\n",
    "    \\end{bmatrix}\n",
    "$$"
   ]
  },
  {
   "cell_type": "code",
   "execution_count": null,
   "metadata": {
    "ExecuteTime": {
     "end_time": "2019-01-18T15:49:57.838170Z",
     "start_time": "2019-01-18T15:49:57.834898Z"
    }
   },
   "outputs": [],
   "source": [
    "# Crea una matriz bidimensional\n",
    "m = np.array([[1,2,3],[4,5,6]])\n",
    "print(m)       "
   ]
  },
  {
   "cell_type": "markdown",
   "metadata": {},
   "source": [
    "### Dimensiones\n",
    "\n",
    "La propiedad `ndim` contiene el número de dimensiones del array, mientras que la propiedad denominada `shape` (una tupla) contiene el tamaño del array en cada dimensión."
   ]
  },
  {
   "cell_type": "code",
   "execution_count": null,
   "metadata": {
    "ExecuteTime": {
     "end_time": "2019-01-18T15:49:58.810097Z",
     "start_time": "2019-01-18T15:49:58.806069Z"
    }
   },
   "outputs": [],
   "source": [
    "print(v.ndim)\n",
    "print(v.shape)\n",
    "\n",
    "print(m.ndim)\n",
    "print(m.shape)"
   ]
  },
  {
   "cell_type": "markdown",
   "metadata": {},
   "source": [
    "<div class=\"alert alert-block alert-info\">\n",
    "<i class=\"fa fa-info-circle\" aria-hidden=\"true\"></i>\n",
    "En matrices bidimensionales, se considera que la primera dimensión se refiere a la fila y la segunda a la columna.</div>"
   ]
  },
  {
   "cell_type": "markdown",
   "metadata": {
    "ExecuteTime": {
     "end_time": "2019-01-11T20:59:27.840291Z",
     "start_time": "2019-01-11T20:59:27.835249Z"
    }
   },
   "source": [
    "Cambiando los valores de la propiedad `shape` se redimensiona el array. Se consigue el mismo resultado con la función reshape, salvo que esta función devuelve una nueva variable."
   ]
  },
  {
   "cell_type": "code",
   "execution_count": null,
   "metadata": {
    "ExecuteTime": {
     "end_time": "2019-01-18T15:51:13.893409Z",
     "start_time": "2019-01-18T15:51:13.888514Z"
    }
   },
   "outputs": [],
   "source": [
    "v = np.array([2, 4, 6, 8, 10, 12])  \n",
    "\n",
    "print(v)                                \n",
    "print()\n",
    "\n",
    "v.shape = (3,2)                         \n",
    "print(v)\n",
    "print()\n",
    "\n",
    "v.shape=(6,)\n",
    "print(v)"
   ]
  },
  {
   "cell_type": "code",
   "execution_count": null,
   "metadata": {},
   "outputs": [],
   "source": [
    "print(v)                                \n",
    "print()\n",
    "\n",
    "m = v.reshape(3,2)\n",
    "print(m)\n",
    "print()\n",
    "\n",
    "v2 = m.reshape(6)\n",
    "print(v2)"
   ]
  },
  {
   "cell_type": "markdown",
   "metadata": {},
   "source": [
    "## Inicialización de arrays\n",
    "\n",
    "_NumPy_ proporciona funciones para llevar a cabo distintas inicializaciones de una matriz sin necesidad de especificar los elementos. En todos los casos, el primer argumento es **una tupla**, indicando la **dimensión**."
   ]
  },
  {
   "cell_type": "code",
   "execution_count": null,
   "metadata": {
    "ExecuteTime": {
     "end_time": "2019-01-18T15:51:55.717059Z",
     "start_time": "2019-01-18T15:51:55.706680Z"
    }
   },
   "outputs": [],
   "source": [
    "print(\"\\nMatriz vacía:\")\n",
    "mv = np.empty((2,2))                                    # Crea la matriz vacía con valores indeterminados.\n",
    "print(mv,'\\n')  \n",
    "\n",
    "print(\"Matriz de ceros:\")\n",
    "mz = np.zeros((2,3))                                    # Inicializa un array con ceros.\n",
    "print(mz,'\\n')  \n",
    "\n",
    "print(\"\\nMatriz de unos:\")\n",
    "mu = np.ones((2,3))                                     # Inicializa un array con unos.\n",
    "print(mu,'\\n')                \n",
    "\n",
    "print(\"\\nMatriz inicializada a un valor constante:\")\n",
    "mc = np.full((2,2), 7.2)                                # Inicializa un array con un valor constante.\n",
    "print(mc,'\\n')  \n",
    "\n",
    "print(\"\\nMatriz identidad:\")\n",
    "mi = np.eye(2)                                          # Crea la matriz identidad\n",
    "print(mi,'\\n')  \n",
    "    \n",
    "print(\"\\nMatriz con valores aleatorios:\")\n",
    "mr = np.random.random((2,2))                            # Crea un array con valores aleatorios\n",
    "print(mr,'\\n')"
   ]
  },
  {
   "cell_type": "markdown",
   "metadata": {},
   "source": [
    "### A partir de rangos numéricos\n",
    "\n",
    "La función `np.arange()` devuelve un vector de valores distribuidos uniformemente en el rango especificado."
   ]
  },
  {
   "cell_type": "code",
   "execution_count": null,
   "metadata": {
    "ExecuteTime": {
     "end_time": "2019-01-18T15:52:23.908644Z",
     "start_time": "2019-01-18T15:52:23.904118Z"
    }
   },
   "outputs": [],
   "source": [
    "# Crea un array con valores del 0 al 9\n",
    "x = np.arange(10)                           \n",
    "print(x)\n",
    "\n",
    "# Crea un array con valores del 2 al 9\n",
    "x = np.arange(2, 10)                         \n",
    "print(x)\n",
    "\n",
    "# Crea un array con valores del 2 al 9 separados por intervalos de 2.5\n",
    "x = np.arange(2, 10, 2.5)                       \n",
    "print(x)\n"
   ]
  },
  {
   "cell_type": "markdown",
   "metadata": {},
   "source": [
    "La función `np.linspace()` es muy parecida a la anterior, pero en lugar de especificar la distancia entre valores, permite especificar el número de valores dentro del intervalo (**por defecto, ambos extremos inclusive**)."
   ]
  },
  {
   "cell_type": "code",
   "execution_count": null,
   "metadata": {
    "ExecuteTime": {
     "end_time": "2019-01-18T15:52:24.678609Z",
     "start_time": "2019-01-18T15:52:24.675181Z"
    }
   },
   "outputs": [],
   "source": [
    "# Crea un vector con 5 valores igualmente espaciados que van del 10 al 20\n",
    "x = np.linspace(10, 20, 5)                  \n",
    "print(x)        "
   ]
  },
  {
   "cell_type": "markdown",
   "metadata": {},
   "source": [
    "## Indexación\n",
    "\n",
    "Al igual que en las secuencias de Python, y los vectores y matrices en todos los lenguajes de programación, los elementos pueden ser accedidos mediante índices especificados entre corchetes."
   ]
  },
  {
   "cell_type": "code",
   "execution_count": null,
   "metadata": {
    "ExecuteTime": {
     "end_time": "2019-01-18T15:53:55.399202Z",
     "start_time": "2019-01-18T15:53:55.394757Z"
    }
   },
   "outputs": [],
   "source": [
    "v = np.arange(6)\n",
    "print(v)\n",
    "\n",
    "print(v[0])                               \n",
    "\n",
    "print(v[-1])\n",
    "\n",
    "print(v[2:4])\n",
    "\n",
    "v[5] = 10 \n",
    "print(v[-1])"
   ]
  },
  {
   "cell_type": "markdown",
   "metadata": {},
   "source": [
    "En arrays multidimensionales, se especifica el rango para cada dimensión del array independientemente. "
   ]
  },
  {
   "cell_type": "code",
   "execution_count": null,
   "metadata": {
    "ExecuteTime": {
     "end_time": "2019-01-18T15:54:02.857131Z",
     "start_time": "2019-01-18T15:54:02.853503Z"
    }
   },
   "outputs": [],
   "source": [
    "a = np.arange(20)\n",
    "m = a.reshape(4,5)\n",
    "print(m)"
   ]
  },
  {
   "cell_type": "code",
   "execution_count": null,
   "metadata": {
    "ExecuteTime": {
     "end_time": "2019-01-11T21:06:44.006154Z",
     "start_time": "2019-01-11T21:06:44.002693Z"
    }
   },
   "outputs": [],
   "source": [
    "# Imprime las posiciones (1,2) y (2,4)\n",
    "print(m[1,2])                          \n",
    "print(m[2,4])"
   ]
  },
  {
   "cell_type": "code",
   "execution_count": null,
   "metadata": {
    "ExecuteTime": {
     "end_time": "2019-01-18T15:55:54.061611Z",
     "start_time": "2019-01-18T15:55:54.058135Z"
    }
   },
   "outputs": [],
   "source": [
    "# Imprime la segunda fila de dos modos distintos\n",
    "print(m[1])\n",
    "print(m[1,:])"
   ]
  },
  {
   "cell_type": "code",
   "execution_count": null,
   "metadata": {
    "ExecuteTime": {
     "end_time": "2019-01-18T15:55:54.486164Z",
     "start_time": "2019-01-18T15:55:54.482779Z"
    }
   },
   "outputs": [],
   "source": [
    "# Imprime las dos primeras filas\n",
    "print(m[:2])"
   ]
  },
  {
   "cell_type": "code",
   "execution_count": null,
   "metadata": {
    "ExecuteTime": {
     "end_time": "2019-01-18T15:55:55.249218Z",
     "start_time": "2019-01-18T15:55:55.245438Z"
    }
   },
   "outputs": [],
   "source": [
    "# Imprime desde la primera a la tercera columna\n",
    "print(m[:, 1:4])"
   ]
  },
  {
   "cell_type": "code",
   "execution_count": null,
   "metadata": {
    "ExecuteTime": {
     "end_time": "2019-01-18T15:55:55.574489Z",
     "start_time": "2019-01-18T15:55:55.571140Z"
    }
   },
   "outputs": [],
   "source": [
    "# Imprime desde la segunda fila en adelante, y de la primera a la tercera columna\")\n",
    "print(m[1:, 1:4])"
   ]
  },
  {
   "cell_type": "markdown",
   "metadata": {},
   "source": [
    "### Indexación mediante arrays\n",
    "\n",
    "La indexación permite acceder a los elementos del array siguiendo un patrón. En el caso de que este patrón no exista, es decir, queramos acceder a una serie de índices arbitrario, se puede conseguir usando un array o lista con los índices que nos interese seleccionar."
   ]
  },
  {
   "cell_type": "code",
   "execution_count": null,
   "metadata": {
    "ExecuteTime": {
     "end_time": "2019-01-18T15:56:08.741481Z",
     "start_time": "2019-01-18T15:56:08.737238Z"
    }
   },
   "outputs": [],
   "source": [
    "v = np.arange(10)*2\n",
    "print(v)\n",
    "\n",
    "# Imprime las posiciones 0,3,5 y 6 del array v\n",
    "print(v[[0,3,5,6]])"
   ]
  },
  {
   "cell_type": "code",
   "execution_count": null,
   "metadata": {
    "ExecuteTime": {
     "end_time": "2019-01-18T15:56:48.104208Z",
     "start_time": "2019-01-18T15:56:48.098624Z"
    }
   },
   "outputs": [],
   "source": [
    "a = np.arange(20)                                   \n",
    "m = a.reshape(4,5)\n",
    "print(m)\n",
    "\n",
    "print()\n",
    "\n",
    "# Imprime un array con las filas 0, 1 y 2\n",
    "print(m[[0, 1, 2]])\n",
    "\n",
    "print()\n",
    "\n",
    "# Imprime un array con m[0,0], m[0,2], m[1,3], m[2,4]\n",
    "print(m[[0, 0, 1, 2],[0, 2, 3, 4]])                "
   ]
  },
  {
   "cell_type": "markdown",
   "metadata": {},
   "source": [
    "### Indexación con booleanos\n",
    "\n",
    "Permite acceder a elementos de un array arbitrariamente. Se suele usar para seleccionar elementos que satisfacen alguna condición.  El tamaño del array de booleanos debe coincidir con el del array al que se está indexando.\n",
    "\n",
    "En el caso de usarse sobre arrays multidimensionales, estos se **aplanan** (transforman a array unidimensional)."
   ]
  },
  {
   "cell_type": "code",
   "execution_count": null,
   "metadata": {
    "ExecuteTime": {
     "end_time": "2019-01-18T15:58:18.328745Z",
     "start_time": "2019-01-18T15:58:18.321635Z"
    }
   },
   "outputs": [],
   "source": [
    "v = np.array([0,1,2,3,4,5])\n",
    "b = np.array([True, False, False, False, False, True])\n",
    "print(v)\n",
    "\n",
    "# v2 es un array que contiene el primer y último valor de v.\n",
    "v2 = v[b];                                               \n",
    "print(v2)                                                \n",
    "print()\n",
    "\n",
    "a = np.arange(20)\n",
    "m = a.reshape(4,5)\n",
    "print(m)\n",
    "print()\n",
    "\n",
    "# Imprime un array bidimensional de valores booleanos\n",
    "# True si elvalor de m es par y False si es impar\n",
    "b = m % 2 == 0\n",
    "print(b) \n",
    "print()                                                  \n",
    "\n",
    "# Crea un vector con los elemenentos pares de m.\n",
    "mb = m[b]                                       \n",
    "print(mb)"
   ]
  },
  {
   "cell_type": "code",
   "execution_count": null,
   "metadata": {
    "ExecuteTime": {
     "end_time": "2019-01-18T15:58:47.230915Z",
     "start_time": "2019-01-18T15:58:47.228036Z"
    }
   },
   "outputs": [],
   "source": [
    "v = np.array([0,1,2,3,4,5])"
   ]
  },
  {
   "cell_type": "code",
   "execution_count": null,
   "metadata": {
    "ExecuteTime": {
     "end_time": "2019-01-18T15:59:44.716616Z",
     "start_time": "2019-01-18T15:59:44.712433Z"
    }
   },
   "outputs": [],
   "source": [
    "v[v % 2 == 0]"
   ]
  },
  {
   "cell_type": "markdown",
   "metadata": {},
   "source": [
    "## Vectorización\n",
    "\n",
    "Acabamos de ver como aplicar una transformación a toda una lista a partir de un escalar. Esto se conoce como una operación __vectorizada__.\n",
    "\n",
    "Una de las principales ventajas que aporta _Numpy_ es que muchas funciones se implementan internamente de esta forma, lo que supone un aumento de la eficiencia _muy importante_ (varios órdenes de magnitud) con respecto a las operaciones secuenciales.\n",
    "\n"
   ]
  },
  {
   "cell_type": "code",
   "execution_count": null,
   "metadata": {
    "ExecuteTime": {
     "end_time": "2019-01-18T16:02:12.370543Z",
     "start_time": "2019-01-18T16:02:12.356539Z"
    }
   },
   "outputs": [],
   "source": [
    "# Crea un vector de 100000 números aleatorios.\n",
    "gran_vector = np.random.randint(0,1000,1000000)\n",
    "print(gran_vector.shape)"
   ]
  },
  {
   "cell_type": "markdown",
   "metadata": {},
   "source": [
    "En esta primera llamada, se obtiene la suma de los elementos del vector mediante un bucle."
   ]
  },
  {
   "cell_type": "code",
   "execution_count": null,
   "metadata": {
    "ExecuteTime": {
     "end_time": "2019-01-18T16:02:42.065588Z",
     "start_time": "2019-01-18T16:02:35.381629Z"
    }
   },
   "outputs": [],
   "source": [
    "%%timeit -n 10\n",
    "suma = 0\n",
    "for elem in gran_vector:\n",
    "    suma+=elem"
   ]
  },
  {
   "cell_type": "markdown",
   "metadata": {},
   "source": [
    "En esta llamada se suman los elementos mediante la función vectorizada `np.sum()` (se verán las funciones en el siguiente apartado). Puede verse que el tiempo necesario se reduce en varios órdenes de magnitud."
   ]
  },
  {
   "cell_type": "code",
   "execution_count": null,
   "metadata": {
    "ExecuteTime": {
     "end_time": "2019-01-18T16:02:54.126652Z",
     "start_time": "2019-01-18T16:02:54.083741Z"
    }
   },
   "outputs": [],
   "source": [
    "%%timeit -n 10\n",
    "suma = np.sum(gran_vector)"
   ]
  },
  {
   "cell_type": "markdown",
   "metadata": {},
   "source": [
    "### Operaciones y funciones universales\n",
    "\n",
    "_NumPy_ implementa numerosas funciones. Algunas de ellas, denominadas _universales_ (_ufunc_), se aplican de manera eficiente (son implementaciones _vectorizadas_) elemento por elemento. También se pueden aplicar entre cada elemento de un array y un escalar.\n",
    "\n",
    "A continuación se describen algunas de las funciones universales de uso más frecuente. Una lista completa de este tipo de funciones puede consultarse [aquí](https://docs.scipy.org/doc/numpy/reference/ufuncs.html#available-ufuncs). El resto de funciones disponibles (también las no universales) pueden consultarse en la [referencia de Numpy](https://docs.scipy.org/doc/numpy/reference/index.html)."
   ]
  },
  {
   "cell_type": "code",
   "execution_count": null,
   "metadata": {
    "ExecuteTime": {
     "end_time": "2019-01-18T16:03:56.281699Z",
     "start_time": "2019-01-18T16:03:56.276862Z"
    }
   },
   "outputs": [],
   "source": [
    "x = np.array([[1,2,3],[4,5,6]], dtype=np.float64)\n",
    "y = np.array([[10,10,10],[20,20,20]], dtype=np.float64)\n",
    "\n",
    "print(x)\n",
    "print(y)"
   ]
  },
  {
   "cell_type": "code",
   "execution_count": null,
   "metadata": {
    "ExecuteTime": {
     "end_time": "2019-01-18T16:03:56.914997Z",
     "start_time": "2019-01-18T16:03:56.911898Z"
    }
   },
   "outputs": [],
   "source": [
    "# Suma\n",
    "print(np.add(x, y)) "
   ]
  },
  {
   "cell_type": "code",
   "execution_count": null,
   "metadata": {
    "ExecuteTime": {
     "end_time": "2019-01-18T16:04:15.774234Z",
     "start_time": "2019-01-18T16:04:15.771161Z"
    }
   },
   "outputs": [],
   "source": [
    "# Resta (con escalar)\n",
    "print(np.subtract(y,5))"
   ]
  },
  {
   "cell_type": "code",
   "execution_count": null,
   "metadata": {
    "ExecuteTime": {
     "end_time": "2019-01-18T16:04:17.652743Z",
     "start_time": "2019-01-18T16:04:17.648893Z"
    }
   },
   "outputs": [],
   "source": [
    "# Multiplicación\n",
    "print(np.multiply(x,y))"
   ]
  },
  {
   "cell_type": "code",
   "execution_count": null,
   "metadata": {
    "ExecuteTime": {
     "end_time": "2019-01-18T16:04:22.721634Z",
     "start_time": "2019-01-18T16:04:22.718131Z"
    }
   },
   "outputs": [],
   "source": [
    "# División\n",
    "print(np.divide(y,x))"
   ]
  },
  {
   "cell_type": "markdown",
   "metadata": {},
   "source": [
    "Estas operaciones también están implementadas en forma de operador."
   ]
  },
  {
   "cell_type": "code",
   "execution_count": null,
   "metadata": {
    "ExecuteTime": {
     "end_time": "2019-01-11T21:18:00.257065Z",
     "start_time": "2019-01-11T21:18:00.252899Z"
    }
   },
   "outputs": [],
   "source": [
    "print(x + y)                     \n",
    "print(y - 5)                      \n",
    "print(x * y)                    \n",
    "print(y / x) "
   ]
  },
  {
   "cell_type": "markdown",
   "metadata": {},
   "source": [
    "## Operaciones matriciales\n",
    "\n",
    "_NumPy_ implementa funciones optimizadas (vectorizadas) para el cálculo con arrays (no a nivel de elemento). Las de uso más común son el producto, la inversa y la transposición.\n"
   ]
  },
  {
   "cell_type": "markdown",
   "metadata": {},
   "source": [
    "## Producto vectorial\n",
    "\n",
    "La función `np.dot()`implementa el producto vectorial entre dos vectores o dos matrices.  En el caso de dos vectores, el producto vectorial se calcula como:\n",
    "\n",
    "$$\n",
    "[u_1, ... , u_n] \\cdot \\left[\\begin{array}{c}\n",
    "v_1 \\cr\n",
    "\\ldots \\cr\n",
    "v_n\n",
    "\\end{array} \\right] = u_1\\cdot v_1 + \\cdots + u_n \\cdot v_n\n",
    "$$\n",
    "\n",
    "Por ejemplo:\n",
    "\n",
    "$$\n",
    "\\left[\\begin{array}{c c c} 1 & 2 & 3 \\end{array} \\right] \\cdot \\left[\\begin{array}{c}\n",
    "10 \\cr\n",
    "20 \\cr\n",
    "30\n",
    "\\end{array} \\right] = 1\\cdot 10 + 2\\cdot 20 + 3 \\cdot 30 = 140\n",
    "$$"
   ]
  },
  {
   "cell_type": "code",
   "execution_count": null,
   "metadata": {
    "ExecuteTime": {
     "end_time": "2019-01-11T21:20:14.465460Z",
     "start_time": "2019-01-11T21:20:14.461034Z"
    }
   },
   "outputs": [],
   "source": [
    "u = np.array([1,2,3])\n",
    "v = np.array([10,20,30])\n",
    "\n",
    "# Se puede llamar la función de las dos maneras. \n",
    "print(np.dot(u,v))              \n",
    "print(u.dot(v))"
   ]
  },
  {
   "cell_type": "markdown",
   "metadata": {
    "ExecuteTime": {
     "end_time": "2019-01-11T21:20:44.304523Z",
     "start_time": "2019-01-11T21:20:44.290381Z"
    }
   },
   "source": [
    "El producto vectorial de una matriz de tamaño ($m \\times n$) y otra de tamaño ($n \\times o$), es una nueva matriz, de tamaño ($m \\times o$), en la que el valor de la posición ($i,j$) es obtenido como el producto vectorial de la fila $i$ de la primera matriz, y la columna $j$ de la segunda matriz.\n",
    "\n",
    "<br>\n",
    "\n",
    "$$\n",
    " \\left[\\begin{array}{c c c}\n",
    "u_{11} & \\cdots & u_{1n} \\cr\n",
    "\\cdots & \\cdots & \\cdots\\cr\n",
    "u_{m1} &\\cdots & u_{mn} \\cr\n",
    "\\end{array} \\right] \\cdot  \\left[\\begin{array}{c c c}\n",
    "v_{11} & \\cdots & v_{1o} \\cr\n",
    "\\cdots &\\cdots & \\cdots \\cr\n",
    "v_{n1} & \\cdots & v_{no} \\cr\n",
    "\\end{array} \\right] =\n",
    "\\left[\\begin{array}{c c c}\n",
    "u_{11}\\cdot v_{11} + \\cdots + u_{1n}\\cdot v_{n1}& \\cdots & u_{11}\\cdot v_{10} + \\cdots + u_{1n}\\cdot v_{n0}\\cr\n",
    "\\cdots &\\cdots & \\cdots \\cr\n",
    "u_{m1}\\cdot v_{11} + \\cdots + u_{mn}\\cdot v_{n1}& \\cdots & u_{m1}\\cdot v_{10} + \\cdots + u_{mn}\\cdot v_{n0} \\cr\n",
    "\\end{array} \\right]\n",
    "$$\n",
    "\n",
    "Por ejemplo:\n",
    "$$\n",
    "\\left[\\begin{array}{c c}\n",
    "1 & 2 \\cr\n",
    "3 & 4  \\cr\n",
    "5 & 6  \\cr\n",
    "\\end{array} \\right] \\cdot\n",
    "\\left[\\begin{array}{c c c c}\n",
    "1&  10 & 100& 200\\cr\n",
    "2 & 4 &  6 & 8 \\cr\n",
    "\\end{array} \\right] = \n",
    "\\left[\\begin{array}{c c c c}\n",
    "5 & 18 & 112& 216 \\cr\n",
    "11 & 46 & 324 & 632 \\cr\n",
    "17 & 74 & 536 & 1048 \\cr\n",
    "\\end{array} \\right]\n",
    "$$\n",
    "\n",
    "<br> \n",
    "Si el número de columnas de la primera matriz es distinto del número de filas de la segunda, las matrices no se pueden multiplicar."
   ]
  },
  {
   "cell_type": "code",
   "execution_count": null,
   "metadata": {
    "ExecuteTime": {
     "end_time": "2019-01-11T21:21:32.769456Z",
     "start_time": "2019-01-11T21:21:32.764355Z"
    }
   },
   "outputs": [],
   "source": [
    "u = np.array([[1,2],[3,4],[5,6]])\n",
    "v = np.array([[1,10,100,200],[2,4,6,8]])\n",
    "\n",
    "print(np.dot(u,v))             \n",
    "print()\n",
    "# Se puede llamar a la función de los dos modos. \n",
    "print(u.dot(v))"
   ]
  },
  {
   "cell_type": "markdown",
   "metadata": {},
   "source": [
    "## Inversa\n",
    "\n",
    "La función `numpy.linalg.inv()` devuelve la inversa de una matriz."
   ]
  },
  {
   "cell_type": "code",
   "execution_count": null,
   "metadata": {
    "ExecuteTime": {
     "end_time": "2019-01-11T21:21:57.871650Z",
     "start_time": "2019-01-11T21:21:57.866484Z"
    }
   },
   "outputs": [],
   "source": [
    "m = np.array([[1,1,1],[0,2,5],[2,5,-1]]) \n",
    "\n",
    "m_inv = np.linalg.inv(m)\n",
    "print(m_inv)\n",
    "print()\n",
    "\n",
    "# El producto de una matriz por su inversa devuelve la matriz identidad\n",
    "# Por precisión numérica, aparecen algunos decimales ínfimos. \n",
    "print(np.dot(m, m_inv))               "
   ]
  },
  {
   "cell_type": "markdown",
   "metadata": {},
   "source": [
    "### Transposición\n",
    "\n",
    "\n",
    "Aunque existen algunos otros métodos, `transpose` y `ndarray.T` son los más importantes."
   ]
  },
  {
   "cell_type": "code",
   "execution_count": null,
   "metadata": {
    "ExecuteTime": {
     "end_time": "2019-01-11T21:22:37.051899Z",
     "start_time": "2019-01-11T21:22:37.046417Z"
    }
   },
   "outputs": [],
   "source": [
    "a = np.array([[0,1,2,3],[4,5,6,7],[8,9,10,11]])\n",
    "print(a)\n",
    "print()\n",
    "\n",
    "a_t = a.transpose()\n",
    "print(a_t)\n",
    "print()\n",
    "\n",
    "a_t[0,0]=10\n",
    "print(a)"
   ]
  },
  {
   "cell_type": "code",
   "execution_count": null,
   "metadata": {},
   "outputs": [],
   "source": []
  }
 ],
 "metadata": {
  "kernelspec": {
   "display_name": "Python 3",
   "language": "python",
   "name": "python3"
  },
  "language_info": {
   "codemirror_mode": {
    "name": "ipython",
    "version": 3
   },
   "file_extension": ".py",
   "mimetype": "text/x-python",
   "name": "python",
   "nbconvert_exporter": "python",
   "pygments_lexer": "ipython3",
   "version": "3.6.2"
  },
  "toc": {
   "base_numbering": 1,
   "nav_menu": {},
   "number_sections": false,
   "sideBar": true,
   "skip_h1_title": true,
   "title_cell": "Table of Contents",
   "title_sidebar": "Contents",
   "toc_cell": false,
   "toc_position": {},
   "toc_section_display": true,
   "toc_window_display": false
  }
 },
 "nbformat": 4,
 "nbformat_minor": 4
}
