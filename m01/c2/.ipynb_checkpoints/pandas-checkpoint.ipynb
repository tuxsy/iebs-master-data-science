{
 "cells": [
  {
   "cell_type": "markdown",
   "metadata": {},
   "source": [
    "<img src=\"https://marketing4ecommerce.net/wp-content/uploads/2015/09/logo-iebs.jpg\" style=\"float:right\" width=\"400\">\n",
    "\n",
    "# Introducción a los lenguajes de programación\n",
    "\n",
    "## Estructuras de datos en Python\n",
    "\n",
    "### Javier Cózar\n"
   ]
  },
  {
   "cell_type": "markdown",
   "metadata": {},
   "source": [
    "[**Pandas**](http://pandas.pydata.org) es una librería para manipular datos estructurados.\n",
    "\n",
    "Para ello permite definir una estructura tabular llamada __DataFrame__ que nos permite realizar operaciones sobre datos definiendo columnas, que generalmente representan variables y filas, que generalmente representan casos.\n",
    "\n",
    "||col2|col3|\n",
    "|-|-|-|\n",
    "|**idx1**|val1|val2|\n",
    "|**idx2**|val3|val4|\n",
    "\n",
    "\n",
    "\n",
    "\n",
    "Para empezar, debemos asegurarnos de que pandas esta instalado e importarlo.\n",
    "\n",
    "`! pip install pandas`"
   ]
  },
  {
   "cell_type": "code",
   "execution_count": null,
   "metadata": {
    "ExecuteTime": {
     "end_time": "2019-01-18T16:13:26.984765Z",
     "start_time": "2019-01-18T16:13:26.552666Z"
    }
   },
   "outputs": [],
   "source": [
    "import pandas as pd"
   ]
  },
  {
   "cell_type": "markdown",
   "metadata": {},
   "source": [
    "## DataFrames"
   ]
  },
  {
   "cell_type": "markdown",
   "metadata": {},
   "source": [
    "### Creación mediante listas\n",
    "\n",
    "Existen _múltiples formas_ de crear un objeto `DataFrame` a partir de otros objetos como colecciones, diccionarios, etc. Éstas son útiles, por ejemplo,  a la hora de construir el `DataFrame` a partir de datos procedentes de fuentes heterogéneas. \n",
    "\n",
    "Lo más directo es organizar listas como si fuesen casos de una tabla."
   ]
  },
  {
   "cell_type": "code",
   "execution_count": null,
   "metadata": {
    "ExecuteTime": {
     "end_time": "2019-01-18T16:17:58.558144Z",
     "start_time": "2019-01-18T16:17:58.546303Z"
    }
   },
   "outputs": [],
   "source": [
    "ventas = [('Álvaro', 22.5, 'Queso'),\n",
    "         ('Benito', 14.5, 'Vino'),\n",
    "         ('Fernando', 50, 'Jamón'),\n",
    "         ('Martín', 20.0, 'Aceite'),\n",
    "         ('Hernán',pd.NA, pd.NA)]\n",
    "\n",
    "columnas = ['Nombre', 'Precio', 'Producto']\n",
    "indice = ['Tienda 1', 'Tienda 1', 'Tienda 2', 'Tienda 3','Tienda 3']\n",
    "\n",
    "df_compras = pd.DataFrame.from_records(\n",
    "    ventas, \n",
    "    columns=columnas, \n",
    "#     index=indice\n",
    ")\n",
    "\n",
    "df_compras"
   ]
  },
  {
   "cell_type": "markdown",
   "metadata": {},
   "source": [
    "Podemos ver que jupyter y pandas interoperan muy cómodamente ya que nos permiten dibujar la tabla de manera gráfica en la libreta."
   ]
  },
  {
   "cell_type": "code",
   "execution_count": null,
   "metadata": {
    "ExecuteTime": {
     "end_time": "2019-01-18T16:19:08.449863Z",
     "start_time": "2019-01-18T16:19:08.440041Z"
    }
   },
   "outputs": [],
   "source": [
    "ventas = [\n",
    "    {'nombre': 'Alvaro', 'precio': 10, 'producto': 'queso'},\n",
    "    {'nombre': 'Benito', 'precio': 20, 'producto': 'vino'}\n",
    "]\n",
    "\n",
    "df_compras = pd.DataFrame.from_records(\n",
    "    ventas, \n",
    "#     columns=columnas, \n",
    "#     index=indice\n",
    ")\n",
    "\n",
    "df_compras"
   ]
  },
  {
   "cell_type": "markdown",
   "metadata": {},
   "source": [
    "### Creación mediante ficheros\n",
    "\n",
    "Lo más habitual es crear un dataframe a partir de un fichero de datos, ya que es la forma natural en la que nos encontraremos los datos en nuestras aplicaciones.\n",
    "\n",
    "Pandas proporciona funciones muy flexibles que permiten leer objetos `DataFrame` desde diversas fuentes de datos, como archivos csv, excel, JSON, HDF5, HTML, fuentes SQL, o incluso el portapapeles del sistema ([documentación](http://pandas.pydata.org/pandas-docs/version/0.20/io.html)). \n",
    "\n",
    "\n",
    "Uno de los formatos más habituales son los ficheros separados por comas o __csv__.\n",
    "\n",
    "En la carpeta `data/` podéis encontrar el fichero `titanic`, que representa un problema de machine learning clásico.\n",
    "\n",
    "Vamos a intentar cargarlo con pandas.\n",
    "\n",
    "Para ello utilizaremos la función `read_csv()`. El parámetro `index_col` permite especificar si alguna de las columnas ha de ser utilizada como índice del `DataFrame`."
   ]
  },
  {
   "cell_type": "markdown",
   "metadata": {},
   "source": [
    "<div class=\"alert alert-block alert-info\">\n",
    "<i class=\"fa fa-info-circle\" aria-hidden=\"true\"></i>\n",
    "Si el resultado de mostrar los datos es muy grande prueba a reducir la celda con ctrl+o o pinchando en el lateral\n",
    "</div>"
   ]
  },
  {
   "cell_type": "code",
   "execution_count": null,
   "metadata": {
    "ExecuteTime": {
     "end_time": "2019-01-18T16:22:54.245809Z",
     "start_time": "2019-01-18T16:22:54.213418Z"
    },
    "scrolled": true
   },
   "outputs": [],
   "source": [
    "df = pd.read_csv('Titanic.csv')\n",
    "\n",
    "df"
   ]
  },
  {
   "cell_type": "markdown",
   "metadata": {},
   "source": [
    "## Filas y columnas\n",
    "\n",
    "Para trabajar con un dataframe solemos utilizar las columnas a modo de variables y las filas como casos que toman valores para cada variable.\n",
    "\n",
    "Tenemos funciones para manipular los datos de distinta forma.\n",
    "\n",
    "Lo primero exploremos las dimensiones del data frame.\n",
    "\n",
    "Para ello podemos utilzar `shape`, `len` o `size`. Esta última es peligrosa porque puede malinterpretarse."
   ]
  },
  {
   "cell_type": "code",
   "execution_count": null,
   "metadata": {
    "ExecuteTime": {
     "end_time": "2019-01-18T16:24:40.370142Z",
     "start_time": "2019-01-18T16:24:40.366241Z"
    }
   },
   "outputs": [],
   "source": [
    "# Dimensiones de la tabla filas X columnas\n",
    "df.shape"
   ]
  },
  {
   "cell_type": "code",
   "execution_count": null,
   "metadata": {
    "ExecuteTime": {
     "end_time": "2019-01-18T16:24:40.925600Z",
     "start_time": "2019-01-18T16:24:40.921539Z"
    }
   },
   "outputs": [],
   "source": [
    "# Casos o filas en el dataframe\n",
    "len(df)"
   ]
  },
  {
   "cell_type": "code",
   "execution_count": null,
   "metadata": {
    "ExecuteTime": {
     "end_time": "2019-01-18T16:24:41.537167Z",
     "start_time": "2019-01-18T16:24:41.533470Z"
    }
   },
   "outputs": [],
   "source": [
    "# Total de datos filas multiplicado por columas\n",
    "df.size"
   ]
  },
  {
   "cell_type": "markdown",
   "metadata": {
    "ExecuteTime": {
     "end_time": "2019-01-11T21:50:00.103912Z",
     "start_time": "2019-01-11T21:50:00.092475Z"
    }
   },
   "source": [
    "### Acceso a filas\n",
    "\n",
    "Generalmente no suele ser necesario acceder a filas concretas del dataframe, ya que nuestro objetivo suele ser trabajar estadísticamente con los datos. Si desea hacerse, es posible utilizar la funcion `loc`, a la cual se le puede pasar el valor de un índice o una lista de valores.\n",
    "\n",
    "__Importante__: La función loc usa corchetes y no paréntesis."
   ]
  },
  {
   "cell_type": "code",
   "execution_count": null,
   "metadata": {
    "ExecuteTime": {
     "end_time": "2019-01-18T16:25:42.546997Z",
     "start_time": "2019-01-18T16:25:42.541592Z"
    }
   },
   "outputs": [],
   "source": [
    "# Un unico elemento, en forma de objeto\n",
    "df.loc[1]"
   ]
  },
  {
   "cell_type": "code",
   "execution_count": null,
   "metadata": {
    "ExecuteTime": {
     "end_time": "2019-01-18T16:26:29.295618Z",
     "start_time": "2019-01-18T16:26:29.284696Z"
    }
   },
   "outputs": [],
   "source": [
    "# Un unico elemento, la lista preserva la tabla\n",
    "df.loc[[1]]"
   ]
  },
  {
   "cell_type": "code",
   "execution_count": null,
   "metadata": {
    "ExecuteTime": {
     "end_time": "2019-01-18T16:26:45.294544Z",
     "start_time": "2019-01-18T16:26:45.282831Z"
    }
   },
   "outputs": [],
   "source": [
    "# Un subconjunto de los datos\n",
    "df.loc[[1,3,5,6,8,4]]"
   ]
  },
  {
   "cell_type": "markdown",
   "metadata": {},
   "source": [
    "### Muestreo\n",
    "\n",
    "Cuando estamos evaluando operaciones en datos muy grandes, no queremos que se imprima la tabla entera por pantalla como en el caso anterior. Por ello podemos utilizar funciones de muestreo para poder obtener unicamente un subconjunto de los datos."
   ]
  },
  {
   "cell_type": "code",
   "execution_count": null,
   "metadata": {
    "ExecuteTime": {
     "end_time": "2019-01-18T16:27:18.713108Z",
     "start_time": "2019-01-18T16:27:18.701581Z"
    }
   },
   "outputs": [],
   "source": [
    "# Muestra n registros en orden\n",
    "df.head(5)"
   ]
  },
  {
   "cell_type": "code",
   "execution_count": null,
   "metadata": {
    "ExecuteTime": {
     "end_time": "2019-01-18T16:29:27.534856Z",
     "start_time": "2019-01-18T16:29:27.524239Z"
    }
   },
   "outputs": [],
   "source": [
    "# Muestra n registros aleatoriamente\n",
    "df.sample(5)"
   ]
  },
  {
   "cell_type": "markdown",
   "metadata": {},
   "source": [
    "### Acceso a columnas\n",
    "\n",
    "Podemos obtener el nombre de las columnas, proyectar un subconjunto de ellas u obtener una única columna como un vector"
   ]
  },
  {
   "cell_type": "code",
   "execution_count": null,
   "metadata": {
    "ExecuteTime": {
     "end_time": "2019-01-18T16:29:39.169609Z",
     "start_time": "2019-01-18T16:29:39.166000Z"
    }
   },
   "outputs": [],
   "source": [
    "# Obtener el nombre de las columnas\n",
    "df.columns"
   ]
  },
  {
   "cell_type": "markdown",
   "metadata": {},
   "source": [
    "<div class=\"alert alert-block alert-info\">\n",
    "<i class=\"fa fa-info-circle\" aria-hidden=\"true\"></i>\n",
    "El objeto de tipo index es un tipo interno de pandas que se utiliza para operaciones avanzadas.\n",
    "</div>"
   ]
  },
  {
   "cell_type": "markdown",
   "metadata": {},
   "source": [
    "Podemos obtener un subconjunto de columnas a modo de indexación mediante el nombre."
   ]
  },
  {
   "cell_type": "code",
   "execution_count": null,
   "metadata": {
    "ExecuteTime": {
     "end_time": "2019-01-18T16:32:00.836627Z",
     "start_time": "2019-01-18T16:32:00.827436Z"
    },
    "scrolled": true
   },
   "outputs": [],
   "source": [
    "df[['Age', 'Sex']].head()"
   ]
  },
  {
   "cell_type": "markdown",
   "metadata": {},
   "source": [
    "Por último podemos acceder a una columna individual como si fuese un vector de especial `numpy`, encapsulado en un tipo de pandas llamado `Series`."
   ]
  },
  {
   "cell_type": "code",
   "execution_count": null,
   "metadata": {
    "ExecuteTime": {
     "end_time": "2019-01-18T16:32:15.258952Z",
     "start_time": "2019-01-18T16:32:15.252141Z"
    },
    "scrolled": true
   },
   "outputs": [],
   "source": [
    "df.Age"
   ]
  },
  {
   "cell_type": "code",
   "execution_count": null,
   "metadata": {
    "ExecuteTime": {
     "end_time": "2019-01-18T16:32:31.765447Z",
     "start_time": "2019-01-18T16:32:31.759425Z"
    },
    "scrolled": true
   },
   "outputs": [],
   "source": [
    "df['Age']"
   ]
  },
  {
   "cell_type": "code",
   "execution_count": null,
   "metadata": {
    "ExecuteTime": {
     "end_time": "2019-01-18T16:32:37.287181Z",
     "start_time": "2019-01-18T16:32:37.282758Z"
    }
   },
   "outputs": [],
   "source": [
    "type(df['Age'])"
   ]
  },
  {
   "cell_type": "markdown",
   "metadata": {},
   "source": [
    "Las series permiten operaciones vectorizadas como en el caso de los vectores vistos anteriormente.\n",
    "\n",
    "Su propósito es poder realizar operaciones entre columnas, para poder calcular nuevos valores o hacer comprobaciones."
   ]
  },
  {
   "cell_type": "markdown",
   "metadata": {},
   "source": [
    "## Modificación de un DataFrame\n",
    "\n",
    "El acceso de para escritura es similar del acceso para lectura. Cuando se escriben varias posiciones, las dimensiones de los conjuntos de elementos a ambos lados de la asignación han de ser similares (salvo en el caso en que se asignen escalares).\n",
    "\n",
    "No obstante, no suele ser habitual cambiar valores individuales de un dataframe, sino que generalmente se suelen realizar operacioens reproducibles que afecten a todos los datos o transformaciones estadísticas.\n",
    "\n",
    "El caso más habitual es el de añadir una columna. Para eso basta con asignar una serie o un literal a un nuevo nombre de columna."
   ]
  },
  {
   "cell_type": "code",
   "execution_count": null,
   "metadata": {
    "ExecuteTime": {
     "end_time": "2019-01-18T16:36:10.895337Z",
     "start_time": "2019-01-18T16:36:10.892514Z"
    }
   },
   "outputs": [],
   "source": [
    "# Una columna literal\n",
    "df['Nueva'] = 1"
   ]
  },
  {
   "cell_type": "code",
   "execution_count": null,
   "metadata": {
    "ExecuteTime": {
     "end_time": "2019-01-18T16:36:11.341676Z",
     "start_time": "2019-01-18T16:36:11.337394Z"
    }
   },
   "outputs": [],
   "source": [
    "df.columns"
   ]
  },
  {
   "cell_type": "code",
   "execution_count": null,
   "metadata": {
    "ExecuteTime": {
     "end_time": "2019-01-18T16:36:19.400474Z",
     "start_time": "2019-01-18T16:36:19.388939Z"
    }
   },
   "outputs": [],
   "source": [
    "df.head()"
   ]
  },
  {
   "cell_type": "markdown",
   "metadata": {},
   "source": [
    "Se puede modificar una columna ya existente realizando una operación sobre la misma."
   ]
  },
  {
   "cell_type": "code",
   "execution_count": null,
   "metadata": {
    "ExecuteTime": {
     "end_time": "2019-01-18T16:36:39.370496Z",
     "start_time": "2019-01-18T16:36:39.365364Z"
    }
   },
   "outputs": [],
   "source": [
    "df['Nueva'] = df['Nueva'] * 2"
   ]
  },
  {
   "cell_type": "code",
   "execution_count": null,
   "metadata": {
    "ExecuteTime": {
     "end_time": "2019-01-18T16:36:39.928111Z",
     "start_time": "2019-01-18T16:36:39.916654Z"
    }
   },
   "outputs": [],
   "source": [
    "df.head()"
   ]
  },
  {
   "cell_type": "markdown",
   "metadata": {},
   "source": [
    "También podemos combinar varias columnas"
   ]
  },
  {
   "cell_type": "code",
   "execution_count": null,
   "metadata": {
    "ExecuteTime": {
     "end_time": "2019-01-18T16:36:54.803587Z",
     "start_time": "2019-01-18T16:36:54.800076Z"
    }
   },
   "outputs": [],
   "source": [
    "df['Nueva'] = df['Age'] + df['Nueva']"
   ]
  },
  {
   "cell_type": "code",
   "execution_count": null,
   "metadata": {
    "ExecuteTime": {
     "end_time": "2019-01-18T16:36:55.160909Z",
     "start_time": "2019-01-18T16:36:55.148860Z"
    }
   },
   "outputs": [],
   "source": [
    "df.head()"
   ]
  },
  {
   "cell_type": "markdown",
   "metadata": {},
   "source": [
    "### Renombrado de columnas\n",
    "\n",
    "Pueden renombrarse mediante el método `rename()`. Lo más habitual es tomar como argumento un diccionario con las correspondencias."
   ]
  },
  {
   "cell_type": "code",
   "execution_count": null,
   "metadata": {
    "ExecuteTime": {
     "end_time": "2019-01-18T16:37:44.166958Z",
     "start_time": "2019-01-18T16:37:44.153594Z"
    }
   },
   "outputs": [],
   "source": [
    "df = df.rename(columns = {'Nueva': 'Vieja'})\n",
    "df.head()"
   ]
  },
  {
   "cell_type": "markdown",
   "metadata": {},
   "source": [
    "### Reordenación de columnas\n",
    "\n",
    "Para reordenar columnas podemos utilizar el método de selección anterior, simplemente cambiando el orden."
   ]
  },
  {
   "cell_type": "code",
   "execution_count": null,
   "metadata": {
    "ExecuteTime": {
     "end_time": "2019-01-18T16:40:01.144732Z",
     "start_time": "2019-01-18T16:40:01.129886Z"
    }
   },
   "outputs": [],
   "source": [
    "df = df[['Name', 'Vieja', 'PClass', 'Age', 'Sex', 'Survived', 'SexCode']]\n",
    "df.sample(10)"
   ]
  },
  {
   "cell_type": "markdown",
   "metadata": {},
   "source": [
    "### Eliminación\n",
    "\n",
    "Para eliminar filas o columnas se utiliza el método `drop`. Este método utiliza un parámetro muy común en pandas llamado `axis` que nos indica filas cuando vale 0 y columnas cuando vale 1.\n",
    "\n",
    "Para eliminar colimmnas hay que indicar el nombre de la columna y el eje correcto."
   ]
  },
  {
   "cell_type": "code",
   "execution_count": null,
   "metadata": {
    "ExecuteTime": {
     "end_time": "2019-01-18T16:40:33.884769Z",
     "start_time": "2019-01-18T16:40:33.881064Z"
    }
   },
   "outputs": [],
   "source": [
    "df = df.drop('Vieja', axis=1)"
   ]
  },
  {
   "cell_type": "code",
   "execution_count": null,
   "metadata": {
    "ExecuteTime": {
     "end_time": "2019-01-18T16:40:34.117331Z",
     "start_time": "2019-01-18T16:40:34.106897Z"
    }
   },
   "outputs": [],
   "source": [
    "df.head()"
   ]
  },
  {
   "cell_type": "markdown",
   "metadata": {},
   "source": [
    "## Selección y ordenación de datos\n",
    "\n",
    "Lo más habitual a la hora de trabajar con pandas es hacer operaciones de búsqueda y transformaciones sobre todos los datos del dataframe. Muy inspirado a cómo se trabaja con una tabla de una base de datos relacional o a la de una hoja de cálculo.\n",
    "\n",
    "Lo más básico es reordenar y filtrar los datos, para lo que tenemos una serie de funciones muy potentes.\n",
    "\n",
    "La mayoría de las veces basta con usar el propio indexado del dataframe utilizando valores booleanos conforme a condiciones.\n",
    "\n",
    "Aprovechando que hemos visto que las columnas de un dataframe son vectores, podemos aplicar operaciones de comparación vectorizaas para tranformarlas en índices booleanos."
   ]
  },
  {
   "cell_type": "code",
   "execution_count": null,
   "metadata": {
    "ExecuteTime": {
     "end_time": "2019-01-18T16:40:54.592235Z",
     "start_time": "2019-01-18T16:40:54.587237Z"
    }
   },
   "outputs": [],
   "source": [
    "df.head().Age"
   ]
  },
  {
   "cell_type": "code",
   "execution_count": null,
   "metadata": {
    "ExecuteTime": {
     "end_time": "2019-01-18T16:41:09.143204Z",
     "start_time": "2019-01-18T16:41:09.137417Z"
    }
   },
   "outputs": [],
   "source": [
    "df.head().Age > 25"
   ]
  },
  {
   "cell_type": "markdown",
   "metadata": {},
   "source": [
    "Este vector lo podemos utilizar como índice para filtrar los datos a través del atributo `loc`. Si lo escribimos todo junto queda bastante expresivo."
   ]
  },
  {
   "cell_type": "code",
   "execution_count": null,
   "metadata": {
    "ExecuteTime": {
     "end_time": "2019-01-18T16:41:25.802300Z",
     "start_time": "2019-01-18T16:41:25.789028Z"
    }
   },
   "outputs": [],
   "source": [
    "df.loc[df.Age > 25].sample(10)"
   ]
  },
  {
   "cell_type": "markdown",
   "metadata": {},
   "source": [
    "Podemos comprobar como tenemos menos filas tras el filtro"
   ]
  },
  {
   "cell_type": "code",
   "execution_count": null,
   "metadata": {
    "ExecuteTime": {
     "end_time": "2019-01-18T16:42:14.270423Z",
     "start_time": "2019-01-18T16:42:14.266006Z"
    }
   },
   "outputs": [],
   "source": [
    "print(len(df))\n",
    "print(len(df.loc[df.Age > 25]))"
   ]
  },
  {
   "cell_type": "markdown",
   "metadata": {},
   "source": [
    "Otra operación habitual es la de reordenar los datos conforme a los valores de una o varias columnas. Para ello utilizamos `sort_values`, que puede ser ascendente o descendiente."
   ]
  },
  {
   "cell_type": "code",
   "execution_count": null,
   "metadata": {
    "ExecuteTime": {
     "end_time": "2019-01-18T16:42:45.499463Z",
     "start_time": "2019-01-18T16:42:45.484642Z"
    }
   },
   "outputs": [],
   "source": [
    "df.sort_values(['Age', 'PClass'], ascending=[False, True]).head()"
   ]
  },
  {
   "cell_type": "markdown",
   "metadata": {},
   "source": [
    "La gestión de los valores perdidos es muy importante al analizar un DataFrame. Disponemos de dos funciónes muy útiles para filtrar o para rellenar valores perdidos."
   ]
  },
  {
   "cell_type": "code",
   "execution_count": null,
   "metadata": {},
   "outputs": [],
   "source": [
    "# La función isna() detecta cuando un valor es un `na` o no. Se puede usar para filtrar\n",
    "df.loc[df.Age.isna()].head()"
   ]
  },
  {
   "cell_type": "code",
   "execution_count": null,
   "metadata": {},
   "outputs": [],
   "source": [
    "# La función fillna() se utiliza para rellenar los valores perdidos con un determinado valor\n",
    "df[\"Age\"] = df[\"Age\"].fillna(df.Age.mean())\n",
    "df.loc[df.Age.isna()].head()"
   ]
  },
  {
   "cell_type": "markdown",
   "metadata": {},
   "source": [
    "### Agregación\n",
    "\n",
    "Pandas permite agregar los datos de un dataframe para calcular estadísticos descriptivos.\n",
    "\n",
    "Empezaremos por uan operación muy habitual como la media, que como vamos a comprobar solo actua sobre variavbles numéricas."
   ]
  },
  {
   "cell_type": "code",
   "execution_count": null,
   "metadata": {
    "ExecuteTime": {
     "end_time": "2019-01-18T16:44:29.626300Z",
     "start_time": "2019-01-18T16:44:29.605289Z"
    }
   },
   "outputs": [],
   "source": [
    "df.mean()"
   ]
  },
  {
   "cell_type": "markdown",
   "metadata": {},
   "source": [
    "Es importante destacar que el resultado es una serie, es decir, un vector y no un dataframe. Tenemos un gran número de funciones disponibles que actuan distinto en función del tipo de la columna."
   ]
  },
  {
   "cell_type": "code",
   "execution_count": null,
   "metadata": {
    "ExecuteTime": {
     "end_time": "2019-01-18T16:44:34.509763Z",
     "start_time": "2019-01-18T16:44:34.497678Z"
    }
   },
   "outputs": [],
   "source": [
    "# Desviación estandar\n",
    "df.std()"
   ]
  },
  {
   "cell_type": "code",
   "execution_count": null,
   "metadata": {
    "ExecuteTime": {
     "end_time": "2019-01-18T16:44:40.223154Z",
     "start_time": "2019-01-18T16:44:40.216922Z"
    }
   },
   "outputs": [],
   "source": [
    "# Maximo, las string se ordenan alfabeticamente\n",
    "df.max()"
   ]
  },
  {
   "cell_type": "code",
   "execution_count": null,
   "metadata": {
    "ExecuteTime": {
     "end_time": "2019-01-18T16:44:40.626330Z",
     "start_time": "2019-01-18T16:44:40.618129Z"
    }
   },
   "outputs": [],
   "source": [
    "# Suma, las strings se concatenan, sin mucho uso\n",
    "df.sum()"
   ]
  },
  {
   "cell_type": "markdown",
   "metadata": {},
   "source": [
    "### Descripción del data frame y los datos\n",
    "\n",
    "La función `info` ofrece datos sobre el almacenamiento del dataframe y sus columnas."
   ]
  },
  {
   "cell_type": "code",
   "execution_count": null,
   "metadata": {
    "ExecuteTime": {
     "end_time": "2019-01-18T16:44:47.698363Z",
     "start_time": "2019-01-18T16:44:47.690944Z"
    },
    "scrolled": true
   },
   "outputs": [],
   "source": [
    "df.info()"
   ]
  },
  {
   "cell_type": "markdown",
   "metadata": {},
   "source": [
    "Podemos comprobar que los tipos numéricos corresponden con los de numpy. Los tipos object son tipos internos de python, en la mayoría de los casos hacen referencia a tipos `string`.\n",
    "\n",
    "La función `describe()` devuelve diversa información con respecto a las columnas. Esta información varía según el tipo de datos. Además, se puede especificar sobre qué columnas se aplica la función con los parámetros `include` \\ `exclude`.\n",
    "\n",
    "La siguiente llamada incluye todas las columnas. Puede apreciarse que para las numéricas muestra unos datos, y para las no numéricas otros. "
   ]
  },
  {
   "cell_type": "code",
   "execution_count": null,
   "metadata": {
    "ExecuteTime": {
     "end_time": "2019-01-18T16:47:38.100306Z",
     "start_time": "2019-01-18T16:47:38.080323Z"
    }
   },
   "outputs": [],
   "source": [
    "# Por defecto solo muestra numéricas\n",
    "df.describe()"
   ]
  },
  {
   "cell_type": "code",
   "execution_count": null,
   "metadata": {
    "ExecuteTime": {
     "end_time": "2019-01-18T16:47:59.575864Z",
     "start_time": "2019-01-18T16:47:59.556414Z"
    },
    "scrolled": true
   },
   "outputs": [],
   "source": [
    "# Los string tienen otros parámetros descriptivos\n",
    "df.describe(include='object')"
   ]
  },
  {
   "cell_type": "markdown",
   "metadata": {},
   "source": [
    "### Múltiples agregaciones\n",
    "\n",
    "Podemos invocar múltiples agregaciones mediante la función `agg`, pasando una lsita de funciones."
   ]
  },
  {
   "cell_type": "code",
   "execution_count": null,
   "metadata": {
    "ExecuteTime": {
     "end_time": "2019-01-18T16:48:21.874422Z",
     "start_time": "2019-01-18T16:48:21.857694Z"
    }
   },
   "outputs": [],
   "source": [
    "df.agg(['max', 'min'])"
   ]
  },
  {
   "cell_type": "markdown",
   "metadata": {},
   "source": [
    "Podemos especificar operaciones de agregación diferentes para cada columna:"
   ]
  },
  {
   "cell_type": "code",
   "execution_count": null,
   "metadata": {},
   "outputs": [],
   "source": [
    "df.agg({\"Name\": \"nunique\", \"Age\": \"min\", \"Survived\": \"mean\"})"
   ]
  },
  {
   "cell_type": "markdown",
   "metadata": {},
   "source": [
    "## Agrupamiento (groupby)\n",
    "\n",
    "La función `groupby()` permite agrupar los datos del `DataFrame` según valores de su índice o columnas. Esto nos permite calcular agregaciones discriminando por grupos."
   ]
  },
  {
   "cell_type": "code",
   "execution_count": null,
   "metadata": {
    "ExecuteTime": {
     "end_time": "2019-01-18T16:48:43.441313Z",
     "start_time": "2019-01-18T16:48:43.436828Z"
    }
   },
   "outputs": [],
   "source": [
    "df.groupby('Sex')"
   ]
  },
  {
   "cell_type": "markdown",
   "metadata": {},
   "source": [
    "El resultado de un dataframe agrupado es del tipo `DataFrameGroupBy`, un formato no legible pero que agrupara las agregaciones que invoquemos."
   ]
  },
  {
   "cell_type": "code",
   "execution_count": null,
   "metadata": {
    "ExecuteTime": {
     "end_time": "2019-01-18T16:49:03.455088Z",
     "start_time": "2019-01-18T16:49:03.444091Z"
    }
   },
   "outputs": [],
   "source": [
    "df.groupby('Sex').sum()"
   ]
  },
  {
   "cell_type": "markdown",
   "metadata": {},
   "source": [
    "Lo más importante es darnos cuenta de que el índice de la tabla ha cambiado, pasando a ser la variable `Sex`."
   ]
  },
  {
   "cell_type": "markdown",
   "metadata": {},
   "source": [
    "## Combinación de DataFrames\n",
    "\n",
    "La funcionalidad relativa a combinación de `DataFrame` y `Series` es completa y compleja, ya que una de las funcionalidades más potentes de _Pandas_ es la de herramienta para la agregación de datos de distintas fuentes. La documentación oficial de la librería ilustra con ejemplos la mayoría de casos de uso ([documentación](https://pandas.pydata.org/pandas-docs/stable/merging.html)).\n",
    "\n",
    "Para ilustrar los ejemplos, se utilizarán estos tres `DataFrame`. "
   ]
  },
  {
   "cell_type": "code",
   "execution_count": null,
   "metadata": {
    "ExecuteTime": {
     "end_time": "2019-01-18T16:50:55.114512Z",
     "start_time": "2019-01-18T16:50:55.087232Z"
    }
   },
   "outputs": [],
   "source": [
    "pos1_df = pd.DataFrame([{'Nombre': 'Diego Costa', 'Posición': 'Delantero', 'País':'Brasil'},\n",
    "                        {'Nombre': 'Sergio Ramos', 'Posición': 'Defensa', 'País':'España'},\n",
    "                        {'Nombre': 'Gerard Piqué', 'Posición': 'Defensa', 'País':'España'},\n",
    "                        {'Nombre': 'Cristiano Ronaldo', 'Posición': 'Delantero', 'País':'Portugal'}])\n",
    "\n",
    "pos2_df = pd.DataFrame([{'Nombre': 'Leo Messi', 'Posición': 'Delantero', 'País':'Argentina'},\n",
    "                        {'Nombre': 'Luca Modric', 'Posición': 'Centrocampista', 'País':'Croacia'},\n",
    "                        {'Nombre': 'Saúl Ñíguez', 'Posición': 'Centrocampista', 'País':'España'},\n",
    "                        {'Nombre': 'Kareem Benzema', 'Posición': 'Delantero', 'País':'Francia'}])\n",
    "\n",
    "eqp_df = pd.DataFrame([{'Nombre': 'Diego Costa',  'Equipo': 'Atlético de Madrid', 'País':'España'},\n",
    "                       {'Nombre': 'Cristiano Ronaldo','Equipo': 'Juventus', 'País':'Italia'},\n",
    "                       {'Nombre': 'Leo Messi','Equipo': 'FC Barcelona', 'País':'España'},\n",
    "                       {'Nombre': 'Koke','Equipo': 'Atlético de Madrid', 'País':'España'}])\n",
    "\n",
    "display(pos1_df)\n",
    "print()\n",
    "display(pos2_df)\n",
    "print()\n",
    "display(eqp_df)"
   ]
  },
  {
   "cell_type": "markdown",
   "metadata": {},
   "source": [
    "### Concat\n",
    "\n",
    "Es la función más sencilla. Permite añadir a un `DataFrame` las filas de otro u otros `Dataframe`. Como resultado, genera un nuevo `DataFrame`."
   ]
  },
  {
   "cell_type": "code",
   "execution_count": null,
   "metadata": {
    "ExecuteTime": {
     "end_time": "2019-01-18T16:50:59.106513Z",
     "start_time": "2019-01-18T16:50:59.095914Z"
    }
   },
   "outputs": [],
   "source": [
    "pd.concat([pos1_df, pos2_df])"
   ]
  },
  {
   "cell_type": "markdown",
   "metadata": {},
   "source": [
    "También es de gran utilidad a la hora de leer ficheros divididos en secciones (por ejemplo, por fechas)."
   ]
  },
  {
   "cell_type": "code",
   "execution_count": null,
   "metadata": {},
   "outputs": [],
   "source": [
    "# usamos un comprehension list para leer todos los ficheros csv y generar una lista de DataFrames\n",
    "pd.concat([pd.read_csv(f'{year}-baby-names-raw.csv') for year in range(2014, 2016)])"
   ]
  },
  {
   "cell_type": "markdown",
   "metadata": {},
   "source": [
    "### Merge\n",
    "\n",
    "Esta función permite unir las columnas de ___dos___ `DataFrame`.Ppermite especificar el modo en que se lleva a cabo esa unión mediante funcionalidades propias de lenguajes de bases de datos relacionales como SQL. Éstas se caracterizan, a _grosso modo_, por establecer una relación entre los dos conjuntos de datos que es función de una columna (que puede o no ser el índice).\n",
    "\n",
    "La función `merge()` acepta numerosos argumentos ([documentación](https://pandas.pydata.org/pandas-docs/stable/generated/pandas.DataFrame.merge.html)) que rigen la unión. Algunos de los más importantes son:\n",
    "\n",
    "* `left`, `right`. Son argumentos posicionales que se refieren a los dos `DataFrame` que son unidos. \n",
    "* `left_index`, `right_index`. Determinan si los índices respectivos se usan como claves de unión.\n",
    "* `on`, `left_on`, `right_on`. Determinan qué columnas (si no se usan índices) son utilizadas como claves de unión. `on` se utiliza cuando las columnas aparecen en ambos `DataFrame`.\n",
    "* `how`. Determina qué elementos se incluyen en la unión. Puede tomar los valores `left`, `right`, `outer`, e `inner` según se consideren, respectivamente, los índices del primer `DataFrame`, del segundo, la unión, o la intersección de ambos.  \n",
    "\n",
    "Además, admite otros parámetros de utilidad a la hora de presentar el conjunto de datos resultante de la unión.\n",
    "\n",
    "* `suffixes`. Es una lista de `Strings` (dos). Cuando existen columnas comunes en ambos `DataFrame`, y no son utilizadas como clave de unión, permite identificarlas en el `DataFrame` resultante. Para ello, añade cada `String` al nombre de la columna correspondiente según incluya los valores de uno u otro `DataFrame`.  \n",
    "* `indicator`. Añade una columna, denominada `_merge` con información sobre el origen de cada fila (un `DataFrame` concreto o los dos.\n",
    "* `validate`. Es un `String` que permite determinar si se cumple una determinada relación entre las claves de unión. Puede tomar los valores `1:1`, `1:m`, `m:1` y `m:m`.\n",
    "\n",
    "En la siguiente celda se lleva a cabo la unión entre los dos `DataFrame` definidos anteriormente en función del nombre del jugador, y considerando la unión de todas las filas. Como la columna _País_ aparece en ambos `DataFrame`, se añade también un sufijo para determinar la correspondencia en el `DataFrame` resultante."
   ]
  },
  {
   "cell_type": "code",
   "execution_count": null,
   "metadata": {
    "ExecuteTime": {
     "end_time": "2019-01-18T16:54:27.895184Z",
     "start_time": "2019-01-18T16:54:27.868060Z"
    }
   },
   "outputs": [],
   "source": [
    "print('DataFrame izquierdo:')\n",
    "display(pos1_df)\n",
    "\n",
    "print('DataFrame derecho:')\n",
    "display(eqp_df)\n",
    "\n",
    "print('Unión:')\n",
    "pd.merge(pos1_df,eqp_df, how='inner', on='Nombre', suffixes=['_jug','_equ'])  # Equivalente"
   ]
  },
  {
   "cell_type": "code",
   "execution_count": null,
   "metadata": {},
   "outputs": [],
   "source": []
  }
 ],
 "metadata": {
  "kernelspec": {
   "display_name": "Python 3 (ipykernel)",
   "language": "python",
   "name": "python3"
  },
  "language_info": {
   "codemirror_mode": {
    "name": "ipython",
    "version": 3
   },
   "file_extension": ".py",
   "mimetype": "text/x-python",
   "name": "python",
   "nbconvert_exporter": "python",
   "pygments_lexer": "ipython3",
   "version": "3.9.6"
  },
  "toc": {
   "base_numbering": 1,
   "nav_menu": {},
   "number_sections": false,
   "sideBar": true,
   "skip_h1_title": true,
   "title_cell": "Table of Contents",
   "title_sidebar": "Contents",
   "toc_cell": false,
   "toc_position": {},
   "toc_section_display": true,
   "toc_window_display": true
  }
 },
 "nbformat": 4,
 "nbformat_minor": 4
}
